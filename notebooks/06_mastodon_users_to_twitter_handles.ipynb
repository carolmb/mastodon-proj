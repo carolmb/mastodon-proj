{
 "cells": [
  {
   "cell_type": "code",
   "execution_count": 1,
   "metadata": {},
   "outputs": [],
   "source": [
    "import re\n",
    "import glob\n",
    "import pandas as pd\n",
    "import random\n",
    "import datetime\n",
    "\n",
    "today = datetime.date.today()\n"
   ]
  },
  {
   "cell_type": "code",
   "execution_count": 5,
   "metadata": {},
   "outputs": [
    {
     "name": "stderr",
     "output_type": "stream",
     "text": [
      "Skipping line 16: expected 5 fields, saw 6\n",
      "Skipping line 126: expected 5 fields, saw 6\n",
      "\n",
      "Skipping line 971: expected 2 fields, saw 3\n",
      "Skipping line 1003: expected 2 fields, saw 3\n",
      "Skipping line 1009: expected 2 fields, saw 3\n",
      "Skipping line 1023: expected 2 fields, saw 3\n",
      "Skipping line 1031: expected 2 fields, saw 3\n",
      "Skipping line 1037: expected 2 fields, saw 3\n",
      "Skipping line 1041: expected 2 fields, saw 3\n",
      "Skipping line 1047: expected 2 fields, saw 3\n",
      "Skipping line 1051: expected 2 fields, saw 3\n",
      "Skipping line 1067: expected 2 fields, saw 3\n",
      "Skipping line 1075: expected 2 fields, saw 3\n",
      "Skipping line 1077: expected 2 fields, saw 3\n",
      "Skipping line 1083: expected 2 fields, saw 3\n",
      "Skipping line 1095: expected 2 fields, saw 3\n",
      "Skipping line 1097: expected 2 fields, saw 3\n",
      "Skipping line 1101: expected 2 fields, saw 3\n",
      "Skipping line 1103: expected 2 fields, saw 3\n",
      "Skipping line 1105: expected 2 fields, saw 3\n",
      "Skipping line 1107: expected 2 fields, saw 3\n",
      "Skipping line 1121: expected 2 fields, saw 3\n",
      "Skipping line 1125: expected 2 fields, saw 3\n",
      "Skipping line 1129: expected 2 fields, saw 3\n",
      "\n",
      "Skipping line 95: expected 5 fields, saw 6\n",
      "\n",
      "Skipping line 35: expected 5 fields, saw 6\n",
      "\n",
      "Skipping line 487: expected 2 fields, saw 3\n",
      "Skipping line 503: expected 2 fields, saw 3\n",
      "Skipping line 506: expected 2 fields, saw 3\n",
      "Skipping line 511: expected 2 fields, saw 3\n",
      "Skipping line 515: expected 2 fields, saw 3\n",
      "Skipping line 518: expected 2 fields, saw 3\n",
      "Skipping line 520: expected 2 fields, saw 3\n",
      "Skipping line 523: expected 2 fields, saw 3\n",
      "Skipping line 525: expected 2 fields, saw 3\n",
      "Skipping line 533: expected 2 fields, saw 3\n",
      "Skipping line 537: expected 2 fields, saw 3\n",
      "Skipping line 538: expected 2 fields, saw 3\n",
      "Skipping line 541: expected 2 fields, saw 3\n",
      "Skipping line 547: expected 2 fields, saw 3\n",
      "Skipping line 548: expected 2 fields, saw 3\n",
      "Skipping line 550: expected 2 fields, saw 3\n",
      "Skipping line 551: expected 2 fields, saw 3\n",
      "Skipping line 552: expected 2 fields, saw 3\n",
      "Skipping line 553: expected 2 fields, saw 3\n",
      "Skipping line 560: expected 2 fields, saw 3\n",
      "Skipping line 562: expected 2 fields, saw 3\n",
      "Skipping line 564: expected 2 fields, saw 3\n",
      "\n"
     ]
    }
   ],
   "source": [
    "handle = \"twitter\"\n",
    "\n",
    "files = glob.glob(\"csv/*.csv\") + glob.glob(\"csv/others/*.csv\")\n",
    "mastodon_users = dict()\n",
    "twitter = []\n",
    "for file in files:\n",
    "    df = pd.read_csv(file, on_bad_lines=\"warn\")\n",
    "    mastodon_col = \"\"\n",
    "    for col in df.columns:\n",
    "        if \"mastodon\" in col.lower() or \"account\" in col.lower():\n",
    "            mastodon_col = col\n",
    "            break\n",
    "    for col in df.columns:\n",
    "        if handle in col.lower():\n",
    "            scholars = df[[mastodon_col, col]]\n",
    "            scholars = scholars.rename(\n",
    "                columns={mastodon_col: \"mastodon\", col: \"twitter\"}\n",
    "            )\n",
    "            twitter.append(scholars)\n",
    "\n",
    "df = pd.concat(twitter)\n",
    "df = df[df[\"twitter\"] != \"no\"]\n",
    "df = df[df[\"twitter\"] != \"No\"]\n",
    "df = df.dropna()\n",
    "df.to_csv(\"../data/mastodon2twitter_{}.csv\".format(today), sep=\"\\t\", index=False)"
   ]
  },
  {
   "cell_type": "code",
   "execution_count": 4,
   "metadata": {},
   "outputs": [],
   "source": [
    "file = sorted(glob.glob('../data/mastodon2twitter*.csv'))[-1] # select the most recent version\n",
    "df = pd.read_csv(file, sep='\\t', encoding=\"utf8\")\n",
    "df.head()\n",
    "\n",
    "def is_valid_twitter_handler(sequence):\n",
    "    if ' ' in sequence:\n",
    "        return False\n",
    "    match = re.fullmatch('^@(\\w{1,15})$', sequence)\n",
    "    return match\n",
    "\n",
    "twitter_handles = []\n",
    "for row in df['twitter']:\n",
    "    if is_valid_twitter_handler(row):\n",
    "        twitter_handles.append(row)\n",
    "\n",
    "# sample5k = random.sample(twitter_handles, 5000)\n",
    "\n",
    "output = open('../data/valid_twitter_handles_{}_complete.txt'.format(today), 'w', encoding='utf-8')\n",
    "for line in twitter_handles:\n",
    "    output.write(\"{}\\n\".format(line))\n",
    "output.close()"
   ]
  },
  {
   "cell_type": "code",
   "execution_count": null,
   "metadata": {},
   "outputs": [],
   "source": [
    "!wget https://tavern.osome.iu.edu/jobs/2023-05-04/d29d6f7d-7d53-4968-a6b4-09c1c4be4570/ -O "
   ]
  }
 ],
 "metadata": {
  "kernelspec": {
   "display_name": "Python 3 (ipykernel)",
   "language": "python",
   "name": "python3"
  },
  "language_info": {
   "codemirror_mode": {
    "name": "ipython",
    "version": 3
   },
   "file_extension": ".py",
   "mimetype": "text/x-python",
   "name": "python",
   "nbconvert_exporter": "python",
   "pygments_lexer": "ipython3",
   "version": "3.8.3"
  }
 },
 "nbformat": 4,
 "nbformat_minor": 4
}
