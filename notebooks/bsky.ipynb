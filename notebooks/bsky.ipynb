{
 "cells": [
  {
   "cell_type": "code",
   "execution_count": 15,
   "id": "09a835eb-204d-43f6-9d3a-6ea951533fa6",
   "metadata": {
    "execution": {
     "iopub.execute_input": "2024-02-21T07:28:13.393686Z",
     "iopub.status.busy": "2024-02-21T07:28:13.393429Z",
     "iopub.status.idle": "2024-02-21T07:28:13.397616Z",
     "shell.execute_reply": "2024-02-21T07:28:13.396741Z",
     "shell.execute_reply.started": "2024-02-21T07:28:13.393667Z"
    }
   },
   "outputs": [],
   "source": [
    "path = '../../bluesky/archives'"
   ]
  },
  {
   "cell_type": "code",
   "execution_count": 10,
   "id": "73512680-aab9-461e-9c3a-62ececa2cd46",
   "metadata": {
    "execution": {
     "iopub.execute_input": "2024-02-21T07:27:22.163531Z",
     "iopub.status.busy": "2024-02-21T07:27:22.163132Z",
     "iopub.status.idle": "2024-02-21T07:27:22.275726Z",
     "shell.execute_reply": "2024-02-21T07:27:22.274626Z",
     "shell.execute_reply.started": "2024-02-21T07:27:22.163510Z"
    }
   },
   "outputs": [
    {
     "name": "stdout",
     "output_type": "stream",
     "text": [
      "/mnt/e/Ana/mastodon-proj/notebooks\n"
     ]
    }
   ],
   "source": [
    "!pwd"
   ]
  },
  {
   "cell_type": "code",
   "execution_count": 93,
   "id": "1fb93e43-37b1-4e1d-b577-d53e16bb0879",
   "metadata": {
    "execution": {
     "iopub.execute_input": "2024-02-21T09:30:09.925644Z",
     "iopub.status.busy": "2024-02-21T09:30:09.925048Z",
     "iopub.status.idle": "2024-02-21T09:30:09.930357Z",
     "shell.execute_reply": "2024-02-21T09:30:09.929528Z",
     "shell.execute_reply.started": "2024-02-21T09:30:09.925611Z"
    }
   },
   "outputs": [],
   "source": [
    "import json\n",
    "import gzip\n",
    "import glob\n",
    "import datetime\n",
    "import numpy as np\n",
    "import matplotlib.pyplot as plt\n",
    "from collections import defaultdict\n",
    "from matplotlib.dates import MonthLocator"
   ]
  },
  {
   "cell_type": "code",
   "execution_count": 169,
   "id": "2b100f91-15cb-4064-808f-f514160fd650",
   "metadata": {
    "execution": {
     "iopub.execute_input": "2024-02-21T12:46:57.657742Z",
     "iopub.status.busy": "2024-02-21T12:46:57.657417Z",
     "iopub.status.idle": "2024-02-21T12:47:02.081523Z",
     "shell.execute_reply": "2024-02-21T12:47:02.080748Z",
     "shell.execute_reply.started": "2024-02-21T12:46:57.657721Z"
    }
   },
   "outputs": [
    {
     "name": "stdout",
     "output_type": "stream",
     "text": [
      "1\n",
      "[b'{\"time_crawled\": \"2023-09-01 00:01:18.914\", \"name\": \"Benny Nine Cats\", \"account_url\": \"https://bsky.app/profile/teeveeben.bsky.social\", \"id\": \"teeveeben.bsky.social\", \"content\": \"\\\\u21b0Crap! I stayed the night in Lawrence, KS once\", \"content_url\": \"https://bsky.app/profile/teeveeben.bsky.social/post/3k6ckuolb2z2v\", \"avatar\": \"https://av-cdn.bsky.app/img/avatar/plain/did:plc:h5zlvjui3ahdzcpx6frgjatr/bafkreibs2z4urx55xm7cly2c36m2msbor43mc4noys4ogmgpwovc6bbvia@jpeg\"}', b'{\"time_crawled\": \"2023-09-01 00:01:18.914\", \"name\": \"Richard C\", \"account_url\": \"https://bsky.app/profile/richardc.bsky.social\", \"id\": \"richardc.bsky.social\", \"content\": \"\\\\u21b0My gf :)\", \"content_url\": \"https://bsky.app/profile/richardc.bsky.social/post/3k6ckuonhau24\", \"avatar\": \"https://av-cdn.bsky.app/img/avatar/plain/did:plc:hhscblqoho5zp7rgqj22dsiw/bafkreidqpvmjeu3ithc3trzoglrrleyuqwyqgg2cyhzy5pnp6tyfurgroe@jpeg\"}', b'{\"time_crawled\": \"2023-09-01 00:01:18.914\", \"name\": \"horax\", \"account_url\": \"https://bsky.app/profile/horax.bsky.social\", \"id\": \"horax.bsky.social\", \"content\": \"\\\\u21b0deutlich zu fr\\\\u00fch\\\\u2026\", \"content_url\": \"https://bsky.app/profile/horax.bsky.social/post/3k6ckuov5f42o\", \"avatar\": \"https://av-cdn.bsky.app/img/avatar/plain/did:plc:cfhjo3vkbwgyqturwfi5rmm5/bafkreicvttocrohxdodpjopb7hu2rk2d6bafqlupxykqojfxlyqqahp6su@jpeg\"}', b'{\"time_crawled\": \"2023-09-01 00:01:18.914\", \"name\": \"Ethan is going to LA 8/31-9/2\", \"account_url\": \"https://bsky.app/profile/ethanhamm.bsky.social\", \"id\": \"ethanhamm.bsky.social\", \"content\": \"\\\\u21b0The Line!\", \"content_url\": \"https://bsky.app/profile/ethanhamm.bsky.social/post/3k6ckup63i42b\", \"avatar\": \"https://av-cdn.bsky.app/img/avatar/plain/did:plc:m4wftum27o7gwzxlzovf7sgf/bafkreibeymofd3dewh2j62ltpnygzdmtjd53k7nti66vpi2zwznkjingg4@jpeg\"}', b'{\"time_crawled\": \"2023-09-01 00:01:18.914\", \"name\": \"s\\\\u00f3umpassarimazul\", \"account_url\": \"https://bsky.app/profile/passarimazul.bsky.social\", \"id\": \"passarimazul.bsky.social\", \"content\": \"arte do dia - Copper Coins\\\\n\\\\nArte do romance Copper Coins: na imagem o drag\\\\u00e3o Xue Xian e o monge Xuan Min.\\\\n\\\\n[image:Arte do romance Copper Coins: na imagem o drag\\\\u00e3o Xue Xian e o monge Xuan Min. A ilustra\\\\u00e7\\\\u00e3o utiliza o estilo tradicional chin\\\\u00eas para manhua. Os personagens est\\\\u00e3o diante de uma cadeia de montanhas, entre nuvens.]\", \"content_url\": \"https://bsky.app/profile/passarimazul.bsky.social/post/3k6ckup2uy42h\", \"avatar\": \"https://av-cdn.bsky.app/img/avatar/plain/did:plc:rjou76pd4hivl4roluudgjnd/bafkreig3x73lbjafq52cd4xvbfgp644rfneotedhgmsyxvoshum6xrdora@jpeg\"}', b'{\"time_crawled\": \"2023-09-01 00:01:18.914\", \"name\": \"georgiaontap \", \"account_url\": \"https://bsky.app/profile/georgiaontap.bsky.social\", \"id\": \"georgiaontap.bsky.social\", \"content\": \"\\\\u21b0George Pickens\", \"content_url\": \"https://bsky.app/profile/georgiaontap.bsky.social/post/3k6ckuphtze2o\", \"avatar\": \"https://av-cdn.bsky.app/img/avatar/plain/did:plc:okibpc2boskycdb2alswes5j/bafkreianxep4f2iwmojdnicdi2yeunq6m7ssv6f6wranendg25elvsye6i@jpeg\"}', b'{\"time_crawled\": \"2023-09-01 00:01:18.914\", \"name\": \" \\\\ud835\\\\udd80\\\\ud835\\\\udd93\\\\ud835\\\\udd94\\\\ud835\\\\udd97\\\\ud835\\\\udd8e\\\\ud835\\\\udd8c\\\\ud835\\\\udd8e\\\\ud835\\\\udd93\\\\ud835\\\\udd86\\\\ud835\\\\udd91\\\\ud835\\\\udd98\\\\ud835\\\\udd8e\\\\ud835\\\\udd93\", \"account_url\": \"https://bsky.app/profile/unoriginalsinad.bsky.social\", \"id\": \"unoriginalsinad.bsky.social\", \"content\": \"Ruff! I\\'m ready to serve \\\\ud83e\\\\ude77\\\\ud83e\\\\ude77\\\\n\\\\n[image]\", \"content_url\": \"https://bsky.app/profile/unoriginalsinad.bsky.social/post/3k6ckupdv5r2v\", \"avatar\": \"https://av-cdn.bsky.app/img/avatar/plain/did:plc:vu32zylovz5clbrcjdzjcrnm/bafkreiaorytzyzsc533bt6u4xwxab6izif5vc7xrfc3j6gllhccd66jbni@jpeg\"}', b'{\"time_crawled\": \"2023-09-01 00:01:18.914\", \"name\": \"ma\\\\u00eetre de pipettes\", \"account_url\": \"https://bsky.app/profile/davidralin.bsky.social\", \"id\": \"davidralin.bsky.social\", \"content\": \"Arooooooo\", \"content_url\": \"https://bsky.app/profile/davidralin.bsky.social/post/3k6ckupu5ju2b\", \"avatar\": \"https://av-cdn.bsky.app/img/avatar/plain/did:plc:trdtxvgk3n4qmd5kj25lih6p/bafkreigtvcz4dmjwokgpnclpfgavzuwj77w7yau3muh3xwszu6bovixkya@jpeg\"}', b'{\"time_crawled\": \"2023-09-01 00:01:18.914\", \"name\": \"Isao Ninomiya\", \"account_url\": \"https://bsky.app/profile/ninomiya.net\", \"id\": \"ninomiya.net\", \"content\": \"\\\\u21b0\\\\u3053\\\\u306e\\\\u4e16\\\\u306e\\\\u3082\\\\u306e\\\\u3068\\\\u306f\\\\u601d\\\\u3048\\\\u306a\\\\u3044\\\\u307b\\\\u3069\\\\u7f8e\\\\u5473\\\\u3057\\\\u3044\\\\u30ab\\\\u30ad\\\\u30d5\\\\u30e9\\\\u30a4\\\\ud83d\\\\ude0b\\\\n\\\\u3053\\\\u308c\\\\u3067590\\\\u5186\\\\u3060\\\\u306a\\\\u3093\\\\u3066\\\\u3001\\\\u3042\\\\u308a\\\\u304c\\\\u3068\\\\u3046\\\\uff01\\\\n\\\\n[image]\", \"content_url\": \"https://bsky.app/profile/ninomiya.net/post/3k6ckupqfpd25\", \"avatar\": \"https://av-cdn.bsky.app/img/avatar/plain/did:plc:2ylw3g4xx5yjyxseb3notdn2/bafkreial77xzf5gyavufcy45ygv7wo22hlrmipdhfj5w2gwolbotl5udda@jpeg\"}', b'{\"time_crawled\": \"2023-09-01 00:01:18.914\", \"name\": \"zero\", \"account_url\": \"https://bsky.app/profile/zerofinite.bsky.social\", \"id\": \"zerofinite.bsky.social\", \"content\": \"\\\\u21b0tyyy u should see the other forms of him!\", \"content_url\": \"https://bsky.app/profile/zerofinite.bsky.social/post/3k6ckupvik42o\", \"avatar\": \"https://av-cdn.bsky.app/img/avatar/plain/did:plc:hmgbci27d4wr76sdxdwngweq/bafkreidxcgfnzmnfqjbwgnc52heefgg5sh6nergvjljst4ivqvjhec26me@jpeg\"}']\n",
      "514608\n"
     ]
    }
   ],
   "source": [
    "files = glob.glob('../../bluesky/All_2023-08-18.json')\n",
    "print(len(files))\n",
    "with gzip.open(file, 'rb') as f:\n",
    "    content = f.read().split(b'\\n')\n",
    "    print(content[:5])\n",
    "    print(len(content))"
   ]
  },
  {
   "cell_type": "code",
   "execution_count": null,
   "id": "778ec202-c41d-47cb-9fac-542c166a206a",
   "metadata": {},
   "outputs": [],
   "source": []
  },
  {
   "cell_type": "code",
   "execution_count": 146,
   "id": "d8e8b63a-c3b9-4132-9006-e06dedae559d",
   "metadata": {
    "execution": {
     "iopub.execute_input": "2024-02-21T11:13:37.068598Z",
     "iopub.status.busy": "2024-02-21T11:13:37.067936Z",
     "iopub.status.idle": "2024-02-21T11:18:47.258089Z",
     "shell.execute_reply": "2024-02-21T11:18:47.257162Z",
     "shell.execute_reply.started": "2024-02-21T11:13:37.068577Z"
    },
    "scrolled": true
   },
   "outputs": [
    {
     "name": "stdout",
     "output_type": "stream",
     "text": [
      "96\n",
      "../../bluesky/archives/2023-05-25_combined.json.gz\n",
      "../../bluesky/archives/2023-05-26_combined.json.gz\n",
      "../../bluesky/archives/2023-05-27_combined.json.gz\n",
      "../../bluesky/archives/2023-05-28_combined.json.gz\n",
      "../../bluesky/archives/2023-05-29_combined.json.gz\n",
      "../../bluesky/archives/2023-05-30_combined.json.gz\n",
      "../../bluesky/archives/2023-05-31_combined.json.gz\n",
      "../../bluesky/archives/2023-06-01_combined.json.gz\n",
      "../../bluesky/archives/2023-06-02_combined.json.gz\n",
      "../../bluesky/archives/2023-06-03_combined.json.gz\n",
      "../../bluesky/archives/2023-06-04_combined.json.gz\n",
      "../../bluesky/archives/2023-06-05_combined.json.gz\n",
      "../../bluesky/archives/2023-06-06_combined.json.gz\n",
      "../../bluesky/archives/2023-06-07_combined.json.gz\n",
      "../../bluesky/archives/2023-06-08_combined.json.gz\n",
      "../../bluesky/archives/2023-06-09_combined.json.gz\n",
      "../../bluesky/archives/2023-06-10_combined.json.gz\n",
      "../../bluesky/archives/2023-06-11_combined.json.gz\n",
      "../../bluesky/archives/2023-06-12_combined.json.gz\n",
      "../../bluesky/archives/2023-06-13_combined.json.gz\n",
      "../../bluesky/archives/2023-06-14_combined.json.gz\n",
      "../../bluesky/archives/2023-06-15_combined.json.gz\n",
      "../../bluesky/archives/2023-06-16_combined.json.gz\n",
      "../../bluesky/archives/2023-06-17_combined.json.gz\n",
      "../../bluesky/archives/2023-06-18_combined.json.gz\n",
      "../../bluesky/archives/2023-06-19_combined.json.gz\n",
      "../../bluesky/archives/2023-06-20_combined.json.gz\n",
      "../../bluesky/archives/2023-06-21_combined.json.gz\n",
      "../../bluesky/archives/2023-06-22_combined.json.gz\n",
      "../../bluesky/archives/2023-06-23_combined.json.gz\n",
      "../../bluesky/archives/2023-06-24_combined.json.gz\n",
      "../../bluesky/archives/2023-06-25_combined.json.gz\n",
      "../../bluesky/archives/2023-06-26_combined.json.gz\n",
      "../../bluesky/archives/2023-06-27_combined.json.gz\n",
      "../../bluesky/archives/2023-06-28_combined.json.gz\n",
      "../../bluesky/archives/2023-06-29_combined.json.gz\n",
      "../../bluesky/archives/2023-07-02_combined.json.gz\n",
      "../../bluesky/archives/2023-07-03_combined.json.gz\n",
      "../../bluesky/archives/2023-07-04_combined.json.gz\n",
      "../../bluesky/archives/2023-07-05_combined.json.gz\n",
      "../../bluesky/archives/2023-07-06_combined.json.gz\n",
      "../../bluesky/archives/2023-07-07_combined.json.gz\n",
      "../../bluesky/archives/2023-07-09_combined.json.gz\n",
      "../../bluesky/archives/2023-07-10_combined.json.gz\n",
      "../../bluesky/archives/2023-07-11_combined.json.gz\n",
      "../../bluesky/archives/2023-07-12_combined.json.gz\n",
      "../../bluesky/archives/2023-07-13_combined.json.gz\n",
      "../../bluesky/archives/2023-07-14_combined.json.gz\n",
      "../../bluesky/archives/2023-07-15_combined.json.gz\n",
      "../../bluesky/archives/2023-07-16_combined.json.gz\n",
      "../../bluesky/archives/2023-07-17_combined.json.gz\n",
      "../../bluesky/archives/2023-07-18_combined.json.gz\n",
      "../../bluesky/archives/2023-07-19_combined.json.gz\n",
      "../../bluesky/archives/2023-07-20_combined.json.gz\n",
      "../../bluesky/archives/2023-07-21_combined.json.gz\n",
      "../../bluesky/archives/2023-07-22_combined.json.gz\n",
      "../../bluesky/archives/2023-07-23_combined.json.gz\n",
      "../../bluesky/archives/2023-07-24_combined.json.gz\n",
      "../../bluesky/archives/2023-07-25_combined.json.gz\n",
      "../../bluesky/archives/2023-07-26_combined.json.gz\n",
      "../../bluesky/archives/2023-07-27_combined.json.gz\n",
      "../../bluesky/archives/2023-07-28_combined.json.gz\n",
      "../../bluesky/archives/2023-07-29_combined.json.gz\n",
      "../../bluesky/archives/2023-07-30_combined.json.gz\n",
      "../../bluesky/archives/2023-07-31_combined.json.gz\n",
      "../../bluesky/archives/2023-08-01_combined.json.gz\n",
      "../../bluesky/archives/2023-08-02_combined.json.gz\n",
      "../../bluesky/archives/2023-08-03_combined.json.gz\n",
      "../../bluesky/archives/2023-08-04_combined.json.gz\n",
      "../../bluesky/archives/2023-08-05_combined.json.gz\n",
      "../../bluesky/archives/2023-08-06_combined.json.gz\n",
      "../../bluesky/archives/2023-08-07_combined.json.gz\n",
      "../../bluesky/archives/2023-08-08_combined.json.gz\n",
      "../../bluesky/archives/2023-08-09_combined.json.gz\n",
      "../../bluesky/archives/2023-08-10_combined.json.gz\n",
      "../../bluesky/archives/2023-08-11_combined.json.gz\n",
      "../../bluesky/archives/2023-08-12_combined.json.gz\n",
      "../../bluesky/archives/2023-08-13_combined.json.gz\n",
      "../../bluesky/archives/2023-08-14_combined.json.gz\n",
      "../../bluesky/archives/2023-08-15_combined.json.gz\n",
      "../../bluesky/archives/2023-08-16_combined.json.gz\n",
      "../../bluesky/archives/2023-08-17_combined.json.gz\n",
      "../../bluesky/archives/2023-08-18_combined.json.gz\n",
      "../../bluesky/archives/2023-08-19_combined.json.gz\n",
      "../../bluesky/archives/2023-08-21_combined.json.gz\n",
      "../../bluesky/archives/2023-08-22_combined.json.gz\n",
      "../../bluesky/archives/2023-08-23_combined.json.gz\n",
      "../../bluesky/archives/2023-08-24_combined.json.gz\n",
      "../../bluesky/archives/2023-08-25_combined.json.gz\n",
      "../../bluesky/archives/2023-08-26_combined.json.gz\n",
      "../../bluesky/archives/2023-08-27_combined.json.gz\n",
      "../../bluesky/archives/2023-08-28_combined.json.gz\n",
      "../../bluesky/archives/2023-08-29_combined.json.gz\n",
      "../../bluesky/archives/2023-08-30_combined.json.gz\n",
      "../../bluesky/archives/2023-08-31_combined.json.gz\n",
      "../../bluesky/archives/2023-09-01_combined.json.gz\n"
     ]
    }
   ],
   "source": [
    "files = glob.glob(path + '/*.json.gz')\n",
    "print(len(files))\n",
    "\n",
    "users_academics = defaultdict(lambda:defaultdict(lambda:0))\n",
    "posts = []\n",
    "for file in files:\n",
    "    print(file)\n",
    "    with gzip.open(file, 'rb') as f:\n",
    "        contents = f.read().decode('ascii')\n",
    "        contents = contents.split('\\n')\n",
    "        for content in contents[:-1]:\n",
    "            temp = content\n",
    "            post = json.loads(temp)\n",
    "            \n",
    "            if 'account' in post:\n",
    "                user_name = post['account']\n",
    "            elif 'name' in post:\n",
    "                user_name = post['name']\n",
    "\n",
    "            name = user_name.lower()\n",
    "            if 'prof.' in name or 'phd' in name or 'dr.' in name:\n",
    "                user_id = post['id']\n",
    "                date = post['time_crawled'].split()[0]\n",
    "                users_academics[user_id][date] += 1\n",
    "                posts.append(post)\n",
    "    "
   ]
  },
  {
   "cell_type": "code",
   "execution_count": 147,
   "id": "5cce0750-35b6-485b-8e95-c8d94354d51d",
   "metadata": {
    "execution": {
     "iopub.execute_input": "2024-02-21T11:26:48.901392Z",
     "iopub.status.busy": "2024-02-21T11:26:48.901128Z",
     "iopub.status.idle": "2024-02-21T11:26:48.907040Z",
     "shell.execute_reply": "2024-02-21T11:26:48.906130Z",
     "shell.execute_reply.started": "2024-02-21T11:26:48.901372Z"
    }
   },
   "outputs": [
    {
     "data": {
      "text/plain": [
       "83689"
      ]
     },
     "execution_count": 147,
     "metadata": {},
     "output_type": "execute_result"
    }
   ],
   "source": [
    "len(posts)"
   ]
  },
  {
   "cell_type": "code",
   "execution_count": 62,
   "id": "2248372a-0d75-42c1-bf72-d8a5695505fe",
   "metadata": {
    "execution": {
     "iopub.execute_input": "2024-02-21T08:45:04.683564Z",
     "iopub.status.busy": "2024-02-21T08:45:04.683355Z",
     "iopub.status.idle": "2024-02-21T08:45:04.689879Z",
     "shell.execute_reply": "2024-02-21T08:45:04.689018Z",
     "shell.execute_reply.started": "2024-02-21T08:45:04.683545Z"
    }
   },
   "outputs": [
    {
     "data": {
      "text/plain": [
       "530242"
      ]
     },
     "execution_count": 62,
     "metadata": {},
     "output_type": "execute_result"
    }
   ],
   "source": [
    "len(users_hist)"
   ]
  },
  {
   "cell_type": "code",
   "execution_count": 78,
   "id": "ae17cb6d-36cc-48ab-bdf2-c6dde50a7527",
   "metadata": {
    "execution": {
     "iopub.execute_input": "2024-02-21T09:18:19.295135Z",
     "iopub.status.busy": "2024-02-21T09:18:19.294903Z",
     "iopub.status.idle": "2024-02-21T09:18:19.301018Z",
     "shell.execute_reply": "2024-02-21T09:18:19.299977Z",
     "shell.execute_reply.started": "2024-02-21T09:18:19.295115Z"
    },
    "scrolled": true
   },
   "outputs": [
    {
     "data": {
      "text/plain": [
       "1640"
      ]
     },
     "execution_count": 78,
     "metadata": {},
     "output_type": "execute_result"
    }
   ],
   "source": [
    "len(users_academics)"
   ]
  },
  {
   "cell_type": "code",
   "execution_count": 80,
   "id": "c339b049-aebb-4e0f-8781-b4b48d6ed552",
   "metadata": {
    "execution": {
     "iopub.execute_input": "2024-02-21T09:20:17.510111Z",
     "iopub.status.busy": "2024-02-21T09:20:17.509488Z",
     "iopub.status.idle": "2024-02-21T09:20:17.523064Z",
     "shell.execute_reply": "2024-02-21T09:20:17.522089Z",
     "shell.execute_reply.started": "2024-02-21T09:20:17.510088Z"
    },
    "scrolled": true
   },
   "outputs": [
    {
     "data": {
      "text/plain": [
       "343068"
      ]
     },
     "execution_count": 80,
     "metadata": {},
     "output_type": "execute_result"
    }
   ],
   "source": [
    "open('academics_on_bsky.json', 'w').write(json.dumps(users_academics))"
   ]
  },
  {
   "cell_type": "code",
   "execution_count": 118,
   "id": "205497a8-d17b-426d-8bda-6e7f23dde792",
   "metadata": {
    "execution": {
     "iopub.execute_input": "2024-02-21T10:27:26.130079Z",
     "iopub.status.busy": "2024-02-21T10:27:26.129714Z",
     "iopub.status.idle": "2024-02-21T10:27:26.140451Z",
     "shell.execute_reply": "2024-02-21T10:27:26.139588Z",
     "shell.execute_reply.started": "2024-02-21T10:27:26.130056Z"
    }
   },
   "outputs": [],
   "source": [
    "users_academics = json.loads(open('academics_on_bsky.json').read())"
   ]
  },
  {
   "cell_type": "code",
   "execution_count": 88,
   "id": "70ecd9b1-5dac-4598-b4f6-3b00bc5021c6",
   "metadata": {
    "execution": {
     "iopub.execute_input": "2024-02-21T09:29:17.449616Z",
     "iopub.status.busy": "2024-02-21T09:29:17.449351Z",
     "iopub.status.idle": "2024-02-21T09:29:17.465692Z",
     "shell.execute_reply": "2024-02-21T09:29:17.464522Z",
     "shell.execute_reply.started": "2024-02-21T09:29:17.449597Z"
    }
   },
   "outputs": [],
   "source": [
    "X = []\n",
    "for user, hist_post in users_academics.items():\n",
    "    datetime_str = min(hist_post)\n",
    "    datetime_object = datetime.datetime.strptime(datetime_str, '%Y-%m-%d')\n",
    "    X.append(datetime_object)"
   ]
  },
  {
   "cell_type": "code",
   "execution_count": 100,
   "id": "d4eb8609-ffd2-468f-9dc4-3e51221ce3bf",
   "metadata": {
    "execution": {
     "iopub.execute_input": "2024-02-21T09:58:46.401210Z",
     "iopub.status.busy": "2024-02-21T09:58:46.400408Z",
     "iopub.status.idle": "2024-02-21T09:58:46.783231Z",
     "shell.execute_reply": "2024-02-21T09:58:46.782341Z",
     "shell.execute_reply.started": "2024-02-21T09:58:46.401173Z"
    }
   },
   "outputs": [
    {
     "data": {
      "image/png": "[encoded data removed]",
      "text/plain": [
       "<Figure size 1500x400 with 1 Axes>"
      ]
     },
     "metadata": {},
     "output_type": "display_data"
    }
   ],
   "source": [
    "x = X\n",
    "\n",
    "plt.figure(figsize=(15, 4))\n",
    "unique, count = np.unique(x, return_counts=True)\n",
    "plt.hist(x, bins=60)\n",
    "# plt.axvline(x=datetime.date(2022, 10, 22), color='red')\n",
    "\n",
    "ax = plt.gca()\n",
    "ax.xaxis_date()\n",
    "ax.xaxis.set_major_locator(MonthLocator())\n",
    "plt.xticks(rotation=45)\n",
    "# plt.yscale('log')\n",
    "plt.title('bsky accounts first post')\n",
    "plt.tight_layout()\n",
    "plt.savefig('bsky_accounts_first.png')"
   ]
  },
  {
   "cell_type": "code",
   "execution_count": 127,
   "id": "87fc5c7b-ff62-4eb5-a7d5-e9692b79f6ab",
   "metadata": {
    "execution": {
     "iopub.execute_input": "2024-02-21T10:33:25.354497Z",
     "iopub.status.busy": "2024-02-21T10:33:25.354230Z",
     "iopub.status.idle": "2024-02-21T10:33:25.458201Z",
     "shell.execute_reply": "2024-02-21T10:33:25.457356Z",
     "shell.execute_reply.started": "2024-02-21T10:33:25.354478Z"
    }
   },
   "outputs": [],
   "source": [
    "def frequency(toots):\n",
    "    if len(toots) >= 5:\n",
    "        diffs = defaultdict(lambda:0)\n",
    "        temp = toots.keys()\n",
    "        first = datetime.datetime.strptime(min(temp), '%Y-%m-%d')\n",
    "        for current, ntoots in toots.items():\n",
    "            current_date = datetime.datetime.strptime(current, '%Y-%m-%d')\n",
    "            diff = current_date - first\n",
    "            diffs[diff.days//7] += ntoots   \n",
    "        return diffs\n",
    "    else:\n",
    "        return []\n",
    "    \n",
    "for user, values in users_academics.items():\n",
    "    users_frequency_weeks.append(frequency(values))"
   ]
  },
  {
   "cell_type": "code",
   "execution_count": 145,
   "id": "9d3a96fd-6644-4878-a51c-d12eb1410ab0",
   "metadata": {
    "execution": {
     "iopub.execute_input": "2024-02-21T11:00:11.257218Z",
     "iopub.status.busy": "2024-02-21T11:00:11.256550Z",
     "iopub.status.idle": "2024-02-21T11:00:11.522471Z",
     "shell.execute_reply": "2024-02-21T11:00:11.521577Z",
     "shell.execute_reply.started": "2024-02-21T11:00:11.257199Z"
    }
   },
   "outputs": [
    {
     "name": "stdout",
     "output_type": "stream",
     "text": [
      "704\n",
      "14\n"
     ]
    },
    {
     "data": {
      "image/png": "[encoded data removed]",
      "text/plain": [
       "<Figure size 640x480 with 2 Axes>"
      ]
     },
     "metadata": {},
     "output_type": "display_data"
    }
   ],
   "source": [
    "X = []\n",
    "Y = []\n",
    "for row in users_frequency_weeks:\n",
    "    if row == []:\n",
    "        continue\n",
    "    for x,y in row.items():\n",
    "        X.append(x)\n",
    "        Y.append(y)\n",
    "\n",
    "print(max(Y))\n",
    "print(max(X))\n",
    "xbins = np.linspace(1, max(X), 14)\n",
    "ybins = np.linspace(min(Y), 25, 14)\n",
    "\n",
    "ax = plt.gca()\n",
    "ax.set_facecolor(\"black\")\n",
    "im = ax.hist2d(X, Y, bins=(xbins, ybins), cmap='inferno') #vmin=1,vmax=10000))\n",
    "# ax.set_xscale('log')\n",
    "# ax.set_yscale('log')\n",
    "ax.set_xlabel('number of weeks')\n",
    "ax.set_ylabel('number of toots')\n",
    "plt.title('blue sky')\n",
    "plt.colorbar(im[3], ax=ax)\n",
    "plt.savefig('bluesky_freq_weeks.png')"
   ]
  },
  {
   "cell_type": "code",
   "execution_count": 151,
   "id": "9c7ef344-8655-4c1d-abe9-61a012d88f06",
   "metadata": {
    "execution": {
     "iopub.execute_input": "2024-02-21T11:29:19.226165Z",
     "iopub.status.busy": "2024-02-21T11:29:19.225866Z",
     "iopub.status.idle": "2024-02-21T11:29:19.231032Z",
     "shell.execute_reply": "2024-02-21T11:29:19.230038Z",
     "shell.execute_reply.started": "2024-02-21T11:29:19.226145Z"
    }
   },
   "outputs": [
    {
     "name": "stdout",
     "output_type": "stream",
     "text": [
      "↰Sick transit, Gloria\n",
      "↰She’s quite private\n",
      "↰[image:Adele music video singing \"Hello from the other side\"]\n",
      "↰Thank you 😭\n",
      "↰Always the hardest part!\n",
      "↰Design ideas. I’m a doctor/school board trustee, not a designer. Want to print up posters that we can carry in solidarity with students and staff. A design I could then share with trustees across Canada and elsewhere.\n",
      "↰The question that tells them I am Interested in This Job.\n",
      "\n",
      "I paused, quickly running a million scenarios, and then i decided (Dr strange one finger dot gif) and i said\n",
      "\n",
      "\"Is this an anti-racist department?\"\n",
      "↰I can tell you they had not prepped for this!\n",
      "↰FOUR MONTHS LATER i realize what i should have said lolol.\n",
      "↰*double cleanse \n",
      "I just have very moody skin. It’s just like my hedgehog!\n",
      "↰In academia i had to give up fighting for students because i was being treated so terribly for it, it was disgusting.\n",
      "↰The people here are very weird .\n",
      "↰https://bsky.app/profile/m10.bsky.social/post/3jwmaf5gljl2u\n",
      "↰Star Trek is the one where he cuts open a camel thing jn the ice world and sleeps in it, right?\n",
      "↰I'm all for replacement proteins for meat but vegan cheese somehow seems to defeat the point for me. I want my old, dry milk. 🤷\n",
      "↰Nah, Kindles are hard to advise against as ereaders. You have to be a little passionate/weird to go outside that streamlined environment. Kobo and B&N are both good, but Amazon's the 800lb gorilla. \n",
      "\n",
      "That said, Kobo's ereaders ARE good, on par with Kindle hardware.\n",
      "↰(Image via @weirdmedieval.bsky.social on Twitter.)\n",
      "↰Nice! Apparently that was the year to go, because another friend went that year, too!\n",
      "↰PAIGE NO\n",
      "↰[image:A text message exchange.\"Everything's a dildo if you're brave enough.\"The response is a picture of a young woman looking at a phallic cactus.\"PAIGE NO\"]\n",
      "↰That's always stuck in my memory as a response to overly-optimistic attempts.\n",
      "↰♥️♥️♥️\n",
      "↰You have been blessed by the good vibes god. ☺️\n",
      "↰It’s soo weird how people pretend to act like you don’t exist 😳\n",
      "↰Damn, must just be my phone that hates me and doesn’t want to join in the fun. Or I’m being a numpty and not looking properly, which is entirely possible 🤣\n",
      "↰I was being a numpty. I hadn’t refreshed my app update list!\n",
      "↰I was being slow lol. Just managed to get the app to update so I can be with the cool kids now\n",
      "↰Hate that experience for me\n",
      "↰How is Spice NOT popular with friends?\n",
      "↰voter suppression, gerrymandering, and the inherent structure of the senate all conspire to give republicans a major edge in elections--and they have demonstrated themselves committed to destroying our republic when in power--as we can see in their slobbering love of hungary\n",
      "↰Users control their own data. Apps just filter it. They’re basically in a position where a lot of the “normal” ways to do privacy and safety are out the window and need to be rethought. Something like a network of trust for apps/feeds services might help, but… not easy. 2/\n",
      "↰Ugh\n",
      "↰I’m here!!! Find me!! 😆\n",
      "\n",
      "[image]\n",
      "↰Michigander (Ypsilanti)\n",
      "↰That is, the digital environment has to prevent non-marginalized users from “having a good time” or e we what have you because then it can be understood as a wider issue. To be clear, I’m thinking of moderation that proceeds from the assumption of a default user.\n",
      "↰BlueSky is a little odd in this regard because it’s default user skews queer; however, it skews -white- queer which means that the issues of non-white folks may go overlooked because the kind of fascist scum we’re dealing with is the polite kind.\n",
      "↰I didn't read it that way cuz i think it's different joining here in beta than a fully formed Twitter. Having experienced Twitter and had a personal motto it might be jarring to watch what's happening here?\n",
      "↰This, I think, is going to be the biggest problem here: some of these fascists are very nice, very polite, snd they use that niceness, or queerness, or their neurodivergence (hi Alice!) as a shield for their fascism. This makes moderation harder.\n",
      "↰二価ワクチン、4回目までに比べると考えられない位楽でうれしい。before二価ワクチンでは毎回39℃以上出て平熱に戻るのが72時間後という体力的にかなり厳しい試練だったんだけど、前回からは最高38℃、時間経過も48時間くらいで微熱～平熱あたりまで下がる。\n",
      "体感的にかなーり、楽。\n",
      "↰ありがとうございます！\n",
      "↰This makes it harder not just because the fascists are in plain clothes, but because the resources that would make these assholes visible, block and mute lists, are kept as community resources and if you’re not in the community, you don’t see them. You don’t see the history of violence.\n",
      "↰ありがとうございます！\n",
      "犬画像大好きマンなので今朝も癒されてます🐕💙\n",
      "↰It’s a romper! I never wear it because I like being able to pee without getting naked, but it’s SO soft and has pockets!\n",
      "↰And there are good reasons communities keep this shit internal: people just don’t believe us. They don’t care to believe us. They don’t want to believe us because it fucks with the vibe of their hellthread, their bacchanalia, their space. They don’t want the responsibilityfor having let nazis in.\n",
      "↰But y’all are going to have to take responsibility for that shit, you’re going to have to trust us when we say “these fascists are dangerous,” because as soon as you accept the polite nazi in, you’ll let the rest in too. And we’re seeing this in real time.\n",
      "↰Long story short: they thought they could just build new features onto the platform and not include other features and that would fix the problem. \n",
      "\n",
      "They also assumed federation would naturally solve the issue. It did not.\n",
      "↰Haha yeah i mean my memories of tweeting in 2008 are similar to my memories of using MS DOS. But I'm just saying how i read Flowers post, but i could be wrong. Like i assumed Flowers didn't know early Twitter well. 🤷🏿‍♀️ Maybe i should unlike it lol\n",
      "↰Right?? 😭\n",
      "↰「友達だと思ってたのにみきたんは違ったんだね！」からもわかるように距離感違う人はうまくいかないよなあと。10人以上のオフで少し会話しただけ＆当日まで存在も知らなかった人は私の中ではjustツイ友予備軍。\n",
      "↰What I'm waiting for is a Republican politician of relative prominence to come over. That's going to be the real test of this place.\n",
      "↰This also places the burden on marginalized populations for finding the “right” instance, by which I mean an instance that actively protects marginalized users from the fascists. This, again, requires the user to subject themselves to repeated violence until they give uo or find the right instance.\n",
      "↰Further, there’s no guarantee that the instance will survive. As long time mastodonians will note, there are plenty of examples of marginalized instances being harassed out of existence by fascists and the unwillingness of other instances to police their users.\n",
      "↰Federation will not solve this: it might not even be a GOOD solution given the ways in which it can be weaponized to maintain marginalization and to enact violence.\n",
      "↰This is Hermon, I wouldn't go so far as to say he's hateful, but I wouldn't turn my back to him.\n",
      "\n",
      "[image:Single black Angus steer with a mean look on his face and grass hanging out his mouth]\n",
      "↰This is James. He's a loner Dottie, a rebel.\n",
      "\n",
      "[image:Single black Angus steer alone in the distance surrounded by rolling green hills and scattered trees]\n",
      "↰He's not really doing anything, though. I'm talking about the influential types who aggressively spread disinformation and bigotry. Santos is just dicking around and no one cares about him and he is already on his way out.\n"
     ]
    }
   ],
   "source": [
    "for post in posts[:100]:\n",
    "    if '↰' in post['content']:\n",
    "        print(post['content'])"
   ]
  },
  {
   "cell_type": "code",
   "execution_count": null,
   "id": "5bbdd4bc-c0c9-4cf0-a69f-7571c02f6ab0",
   "metadata": {},
   "outputs": [],
   "source": []
  }
 ],
 "metadata": {
  "kernelspec": {
   "display_name": "Python 3 (ipykernel)",
   "language": "python",
   "name": "python3"
  },
  "language_info": {
   "codemirror_mode": {
    "name": "ipython",
    "version": 3
   },
   "file_extension": ".py",
   "mimetype": "text/x-python",
   "name": "python",
   "nbconvert_exporter": "python",
   "pygments_lexer": "ipython3",
   "version": "3.8.10"
  }
 },
 "nbformat": 4,
 "nbformat_minor": 5
}
