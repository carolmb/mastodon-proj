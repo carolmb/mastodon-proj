{
 "cells": [
  {
   "cell_type": "code",
   "execution_count": 1,
   "metadata": {},
   "outputs": [
    {
     "name": "stdout",
     "output_type": "stream",
     "text": [
      "yIWpHMOndVluJVD4oFW2c1ZBeLcyb8eO1ZJpElDXTztWG5SP3z1Timh4XUq6O8caAIZdSaoBTIpW0r22OeqajWxZV1S6RmHLT2baHkTPUzzPfF6FgsRCB4LZdx5SLOwV\n"
     ]
    }
   ],
   "source": [
    "import json\n",
    "import requests\n",
    "\n",
    "url = 'https://instances.social/api/1.0/instances/list'\n",
    "\n",
    "token = open('mastodon-instances-token').read().split('\\n')[-1]\n",
    "print(token)"
   ]
  },
  {
   "cell_type": "code",
   "execution_count": 2,
   "metadata": {},
   "outputs": [],
   "source": [
    "r = requests.get(url, headers={'Authorization': \"Bearer {}\".format(token), 'count': '0', 'include_down': 'false'})"
   ]
  },
  {
   "cell_type": "code",
   "execution_count": 3,
   "metadata": {},
   "outputs": [
    {
     "data": {
      "text/plain": [
       "200"
      ]
     },
     "execution_count": 3,
     "metadata": {},
     "output_type": "execute_result"
    }
   ],
   "source": [
    "r.status_code"
   ]
  },
  {
   "cell_type": "code",
   "execution_count": 4,
   "metadata": {},
   "outputs": [],
   "source": [
    "instances = json.loads(r.text)"
   ]
  },
  {
   "cell_type": "code",
   "execution_count": 5,
   "metadata": {},
   "outputs": [
    {
     "name": "stdout",
     "output_type": "stream",
     "text": [
      "58e10e8d72782604c488bd35 mastodon.xyz None\n",
      "58e113f311c1a56b775b3933 awoo.space None\n",
      "58e11571a0edbc7317b4f531 social.tchncs.de None\n",
      "58e1157fa0edbc7317b4f532 animalliberation.social None\n",
      "58e11af3831c8311929844aa icosahedron.website None\n",
      "58e11ba6831c8311929844ab hostux.social None\n",
      "58e11e0df1318b239b4092ab social.diskseven.com None\n",
      "58e121a624a67c3363064414 social.imirhil.fr None\n",
      "58e1331624a67c3363064416 sdfn-01.ninjawedding.org None\n",
      "58e159e9be0ec66f42e7dab1 aleph.land None\n",
      "58e18d658fc23f4d8fc861d3 social.ballpointcarrot.net None\n",
      "58e209068fc23f4d8fc861e5 share.elouworld.org None\n",
      "58e22b3e8fc23f4d8fc861ee maly.io None\n",
      "58e23f108fc23f4d8fc861f9 mastodon.gougere.fr None\n",
      "58e253bf8fc23f4d8fc86207 social.lkw.tf None\n",
      "58e25d6a8fc23f4d8fc8620e social.wxcafe.net None\n",
      "58e277ff3f67c310eab28cb6 oc.todon.fr None\n",
      "58e2825f31bc4c7299058214 social.apreslanu.it None\n",
      "58e2829598f240743efe1c79 social.tcit.fr None\n",
      "58e2a6b69c99175decef88c7 octodon.social None\n"
     ]
    }
   ],
   "source": [
    "for instance in instances['instances']:\n",
    "    print(instance['id'], instance['name'], instance['added_at'])"
   ]
  },
  {
   "cell_type": "code",
   "execution_count": null,
   "metadata": {},
   "outputs": [],
   "source": []
  },
  {
   "cell_type": "code",
   "execution_count": 8,
   "metadata": {},
   "outputs": [
    {
     "name": "stdout",
     "output_type": "stream",
     "text": [
      "736\r"
     ]
    },
    {
     "ename": "KeyError",
     "evalue": "'next_id'",
     "output_type": "error",
     "traceback": [
      "\u001b[1;31m---------------------------------------------------------------------------\u001b[0m",
      "\u001b[1;31mKeyError\u001b[0m                                  Traceback (most recent call last)",
      "Cell \u001b[1;32mIn[8], line 8\u001b[0m\n\u001b[0;32m      6\u001b[0m test \u001b[39m=\u001b[39m json\u001b[39m.\u001b[39mloads(r\u001b[39m.\u001b[39mtext)\n\u001b[0;32m      7\u001b[0m \u001b[39mnext\u001b[39m \u001b[39m=\u001b[39m test[\u001b[39m'\u001b[39m\u001b[39mpagination\u001b[39m\u001b[39m'\u001b[39m]\n\u001b[1;32m----> 8\u001b[0m next_id \u001b[39m=\u001b[39m \u001b[39mnext\u001b[39;49m[\u001b[39m'\u001b[39;49m\u001b[39mnext_id\u001b[39;49m\u001b[39m'\u001b[39;49m]\n\u001b[0;32m     10\u001b[0m \u001b[39mfor\u001b[39;00m instance \u001b[39min\u001b[39;00m test[\u001b[39m'\u001b[39m\u001b[39minstances\u001b[39m\u001b[39m'\u001b[39m]:\n\u001b[0;32m     11\u001b[0m     instance_list\u001b[39m.\u001b[39mappend((instance[\u001b[39m'\u001b[39m\u001b[39mid\u001b[39m\u001b[39m'\u001b[39m], instance[\u001b[39m'\u001b[39m\u001b[39mname\u001b[39m\u001b[39m'\u001b[39m]))\n",
      "\u001b[1;31mKeyError\u001b[0m: 'next_id'"
     ]
    }
   ],
   "source": [
    "instance_list = []\n",
    "c = 1\n",
    "while True:\n",
    "    c += 1\n",
    "    print(c, end='\\r')\n",
    "    test = json.loads(r.text)\n",
    "\n",
    "    for instance in test['instances']:\n",
    "        instance_list.append((instance['id'], instance['name']))\n",
    "\n",
    "    next = test['pagination']\n",
    "    next_id = next['next_id']\n",
    "\n",
    "    if next_id == None:\n",
    "        break\n",
    "    if c > 900:\n",
    "        print('break with c')\n",
    "        break\n",
    "    r = requests.get(url, headers={'Authorization': \"Bearer {}\".format(token)}, params={'min_id': next_id})"
   ]
  },
  {
   "cell_type": "code",
   "execution_count": 9,
   "metadata": {},
   "outputs": [],
   "source": [
    "# for instance in test['instances']:\n",
    "#     instance_list.append((instance['id'], instance['name']))"
   ]
  },
  {
   "cell_type": "code",
   "execution_count": 10,
   "metadata": {},
   "outputs": [
    {
     "data": {
      "text/plain": [
       "14682"
      ]
     },
     "execution_count": 10,
     "metadata": {},
     "output_type": "execute_result"
    }
   ],
   "source": [
    "len(instance_list)"
   ]
  },
  {
   "cell_type": "code",
   "execution_count": 12,
   "metadata": {},
   "outputs": [],
   "source": [
    "out = open('instance_list.tsv', 'w', encoding='utf-8')\n",
    "for instance in instance_list:\n",
    "    out.write(\"{}\\t{}\\n\".format(*instance))\n",
    "out.close()    "
   ]
  },
  {
   "cell_type": "code",
   "execution_count": null,
   "metadata": {},
   "outputs": [],
   "source": []
  }
 ],
 "metadata": {
  "kernelspec": {
   "display_name": "Python 3 (ipykernel)",
   "language": "python",
   "name": "python3"
  },
  "language_info": {
   "codemirror_mode": {
    "name": "ipython",
    "version": 3
   },
   "file_extension": ".py",
   "mimetype": "text/x-python",
   "name": "python",
   "nbconvert_exporter": "python",
   "pygments_lexer": "ipython3",
   "version": "3.8.10"
  }
 },
 "nbformat": 4,
 "nbformat_minor": 4
}
