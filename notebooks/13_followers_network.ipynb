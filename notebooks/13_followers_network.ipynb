{
 "cells": [
  {
   "cell_type": "code",
   "execution_count": 54,
   "metadata": {},
   "outputs": [],
   "source": [
    "import ast\n",
    "import glob\n",
    "import pandas as pd\n",
    "from mastodon import Mastodon"
   ]
  },
  {
   "cell_type": "code",
   "execution_count": null,
   "metadata": {},
   "outputs": [],
   "source": [
    "!pip install Mastodon.py"
   ]
  },
  {
   "cell_type": "code",
   "execution_count": 41,
   "metadata": {},
   "outputs": [],
   "source": [
    "files = glob.glob('toots_from_sciencemastodon.com_*.tsv')"
   ]
  },
  {
   "cell_type": "code",
   "execution_count": 7,
   "metadata": {},
   "outputs": [],
   "source": [
    "# timeline https://mastodonpy.readthedocs.io/en/stable/07_timelines.html"
   ]
  },
  {
   "cell_type": "code",
   "execution_count": 38,
   "metadata": {},
   "outputs": [
    {
     "data": {
      "text/plain": [
       "90"
      ]
     },
     "execution_count": 38,
     "metadata": {},
     "output_type": "execute_result"
    }
   ],
   "source": [
    "len(timeline)"
   ]
  },
  {
   "cell_type": "code",
   "execution_count": 45,
   "metadata": {},
   "outputs": [
    {
     "name": "stdout",
     "output_type": "stream",
     "text": [
      "90\n",
      "15\n",
      "14\n",
      "13\n",
      "12\n",
      "11\n",
      "10\n",
      "9\n"
     ]
    }
   ],
   "source": [
    "users = []\n",
    "fields = ['id', 'username', 'acct', 'created_at', 'following_count', 'followers_count']\n",
    "\n",
    "for file in files:\n",
    "    timeline = pd.read_csv(file, sep='\\t')\n",
    "    print(len(timeline))\n",
    "    for row in timeline['account']:\n",
    "        row = ast.literal_eval(row)\n",
    "        user = []\n",
    "        for field in fields:\n",
    "            user.append(row[field])\n",
    "        users.append(tuple(user))\n",
    "\n",
    "users_timeline = pd.DataFrame(users)\n",
    "users_timeline.to_csv('users_timeline_sciencemastodon.com.tsv', sep='\\t')"
   ]
  },
  {
   "cell_type": "code",
   "execution_count": 52,
   "metadata": {},
   "outputs": [],
   "source": [
    "mastodon_app = \"acmbrito_app_python_secret\"\n",
    "client_id, client_secret, access_token, api_base_url = open(mastodon_app).read().split()\n",
    "api1 = Mastodon(\n",
    "    client_id=client_id,\n",
    "    client_secret=client_secret,\n",
    "    access_token=access_token,\n",
    "    api_base_url=api_base_url\n",
    ")\n",
    "\n",
    "def get_userfollowers(user_id):\n",
    "    followers = api1.account_followers(user_id)\n",
    "    followers_id = []\n",
    "    count = 0\n",
    "    while followers:\n",
    "        count += 1\n",
    "        if count > 5:\n",
    "            break\n",
    "        for f in followers:\n",
    "            followers_id.append(f['id'])\n",
    "        followers = api1.fetch_next(followers)\n",
    "\n",
    "    return followers_id"
   ]
  },
  {
   "cell_type": "code",
   "execution_count": null,
   "metadata": {},
   "outputs": [],
   "source": [
    "def get_userid(handle):\n",
    "    try:\n",
    "        user_profile = api1.account_lookup(handle)\n",
    "        return user_profile[\"id\"]\n",
    "    except Exception as error:\n",
    "        print(error)\n",
    "        return None\n",
    "    \n",
    "def get_users(user_id):\n",
    "    followers = get_userfollowers(user_id)\n",
    "    if followers:\n",
    "        followers = set(followers)\n",
    "        return followers\n",
    "    else:\n",
    "        return set()\n",
    "\n",
    "for idx, row in users_timeline.iterrows():\n",
    "    user_id = get_userid(row[2])\n",
    "    test = get_users(user_id)\n",
    "    "
   ]
  },
  {
   "cell_type": "code",
   "execution_count": null,
   "metadata": {},
   "outputs": [],
   "source": []
  }
 ],
 "metadata": {
  "kernelspec": {
   "display_name": "Python 3 (ipykernel)",
   "language": "python",
   "name": "python3"
  },
  "language_info": {
   "codemirror_mode": {
    "name": "ipython",
    "version": 3
   },
   "file_extension": ".py",
   "mimetype": "text/x-python",
   "name": "python",
   "nbconvert_exporter": "python",
   "pygments_lexer": "ipython3",
   "version": "3.8.10"
  }
 },
 "nbformat": 4,
 "nbformat_minor": 4
}
