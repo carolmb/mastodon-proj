{
 "cells": [
  {
   "cell_type": "code",
   "execution_count": 1,
   "metadata": {},
   "outputs": [
    {
     "name": "stdout",
     "output_type": "stream",
     "text": [
      "Collecting parse\n",
      "  Using cached parse-1.19.0.tar.gz (30 kB)\n",
      "  Installing build dependencies: started\n",
      "  Installing build dependencies: finished with status 'done'\n",
      "  Getting requirements to build wheel: started\n",
      "  Getting requirements to build wheel: finished with status 'done'\n",
      "  Preparing metadata (pyproject.toml): started\n",
      "  Preparing metadata (pyproject.toml): finished with status 'done'\n",
      "Building wheels for collected packages: parse\n",
      "  Building wheel for parse (pyproject.toml): started\n",
      "  Building wheel for parse (pyproject.toml): finished with status 'done'\n",
      "  Created wheel for parse: filename=parse-1.19.0-py3-none-any.whl size=24636 sha256=5a5e7b0e556497221ca63c939c9b4de49e93e159f645100c2dc6197aa7dca70e\n",
      "  Stored in directory: c:\\users\\a_car\\appdata\\local\\pip\\cache\\wheels\\4c\\da\\8b\\cb89583bfac7d6e962fca5223e5d1b7b5941861b2951760d34\n",
      "Successfully built parse\n",
      "Installing collected packages: parse\n",
      "Successfully installed parse-1.19.0\n",
      "Note: you may need to restart the kernel to use updated packages.\n",
      "Collecting GitPython\n",
      "  Using cached GitPython-3.1.31-py3-none-any.whl (184 kB)\n",
      "Collecting gitdb<5,>=4.0.1 (from GitPython)\n",
      "  Using cached gitdb-4.0.10-py3-none-any.whl (62 kB)\n",
      "Collecting smmap<6,>=3.0.1 (from gitdb<5,>=4.0.1->GitPython)\n",
      "  Using cached smmap-5.0.0-py3-none-any.whl (24 kB)\n",
      "Installing collected packages: smmap, gitdb, GitPython\n",
      "Successfully installed GitPython-3.1.31 gitdb-4.0.10 smmap-5.0.0\n",
      "Note: you may need to restart the kernel to use updated packages.\n"
     ]
    }
   ],
   "source": [
    "%pip install parse\n",
    "%pip install GitPython"
   ]
  },
  {
   "cell_type": "code",
   "execution_count": 5,
   "metadata": {},
   "outputs": [
    {
     "name": "stdout",
     "output_type": "stream",
     "text": [
      "Requirement already satisfied: requests in d:\\documentos\\yy-projects\\mastodon-proj\\.venv\\lib\\site-packages (2.28.2)\n",
      "Requirement already satisfied: charset-normalizer<4,>=2 in d:\\documentos\\yy-projects\\mastodon-proj\\.venv\\lib\\site-packages (from requests) (3.1.0)\n",
      "Requirement already satisfied: idna<4,>=2.5 in d:\\documentos\\yy-projects\\mastodon-proj\\.venv\\lib\\site-packages (from requests) (3.4)\n",
      "Requirement already satisfied: urllib3<1.27,>=1.21.1 in d:\\documentos\\yy-projects\\mastodon-proj\\.venv\\lib\\site-packages (from requests) (1.26.15)\n",
      "Requirement already satisfied: certifi>=2017.4.17 in d:\\documentos\\yy-projects\\mastodon-proj\\.venv\\lib\\site-packages (from requests) (2022.12.7)\n",
      "Note: you may need to restart the kernel to use updated packages.\n",
      "Collecting pandas\n",
      "  Downloading pandas-2.0.0-cp311-cp311-win_amd64.whl (11.2 MB)\n",
      "                                              0.0/11.2 MB ? eta -:--:--\n",
      "                                              0.1/11.2 MB 3.3 MB/s eta 0:00:04\n",
      "     -                                        0.5/11.2 MB 5.9 MB/s eta 0:00:02\n",
      "     ----                                     1.2/11.2 MB 9.3 MB/s eta 0:00:02\n",
      "     --------                                 2.5/11.2 MB 14.5 MB/s eta 0:00:01\n",
      "     --------------                           4.1/11.2 MB 18.6 MB/s eta 0:00:01\n",
      "     -------------------                      5.6/11.2 MB 21.0 MB/s eta 0:00:01\n",
      "     ------------------------                 6.9/11.2 MB 21.9 MB/s eta 0:00:01\n",
      "     -------------------------                7.0/11.2 MB 20.5 MB/s eta 0:00:01\n",
      "     ----------------------------             7.9/11.2 MB 19.3 MB/s eta 0:00:01\n",
      "     --------------------------------         9.0/11.2 MB 19.9 MB/s eta 0:00:01\n",
      "     -----------------------------------      9.8/11.2 MB 20.2 MB/s eta 0:00:01\n",
      "     --------------------------------------  10.9/11.2 MB 22.5 MB/s eta 0:00:01\n",
      "     --------------------------------------- 11.2/11.2 MB 21.1 MB/s eta 0:00:00\n",
      "Requirement already satisfied: python-dateutil>=2.8.2 in d:\\documentos\\yy-projects\\mastodon-proj\\.venv\\lib\\site-packages (from pandas) (2.8.2)\n",
      "Collecting pytz>=2020.1 (from pandas)\n",
      "  Downloading pytz-2023.3-py2.py3-none-any.whl (502 kB)\n",
      "                                              0.0/502.3 kB ? eta -:--:--\n",
      "     ------------------------------------- 502.3/502.3 kB 15.4 MB/s eta 0:00:00\n",
      "Collecting tzdata>=2022.1 (from pandas)\n",
      "  Downloading tzdata-2023.3-py2.py3-none-any.whl (341 kB)\n",
      "                                              0.0/341.8 kB ? eta -:--:--\n",
      "     ------------------------------------- 341.8/341.8 kB 22.1 MB/s eta 0:00:00\n",
      "Collecting numpy>=1.21.0 (from pandas)\n",
      "  Downloading numpy-1.24.2-cp311-cp311-win_amd64.whl (14.8 MB)\n",
      "                                              0.0/14.8 MB ? eta -:--:--\n",
      "     --                                       0.8/14.8 MB 16.6 MB/s eta 0:00:01\n",
      "     ----                                     1.6/14.8 MB 20.2 MB/s eta 0:00:01\n",
      "     ------                                   2.5/14.8 MB 17.8 MB/s eta 0:00:01\n",
      "     ---------                                3.5/14.8 MB 18.5 MB/s eta 0:00:01\n",
      "     -----------                              4.2/14.8 MB 18.0 MB/s eta 0:00:01\n",
      "     -------------                            5.2/14.8 MB 18.4 MB/s eta 0:00:01\n",
      "     ----------------                         6.1/14.8 MB 18.7 MB/s eta 0:00:01\n",
      "     -------------------                      7.2/14.8 MB 19.2 MB/s eta 0:00:01\n",
      "     ----------------------                   8.2/14.8 MB 19.4 MB/s eta 0:00:01\n",
      "     ------------------------                 9.2/14.8 MB 19.7 MB/s eta 0:00:01\n",
      "     ---------------------------             10.3/14.8 MB 19.9 MB/s eta 0:00:01\n",
      "     -----------------------------           11.3/14.8 MB 20.5 MB/s eta 0:00:01\n",
      "     --------------------------------        12.4/14.8 MB 21.1 MB/s eta 0:00:01\n",
      "     -----------------------------------     13.5/14.8 MB 21.1 MB/s eta 0:00:01\n",
      "     --------------------------------------  14.5/14.8 MB 21.8 MB/s eta 0:00:01\n",
      "     --------------------------------------  14.8/14.8 MB 21.9 MB/s eta 0:00:01\n",
      "     --------------------------------------- 14.8/14.8 MB 20.4 MB/s eta 0:00:00\n",
      "Requirement already satisfied: six>=1.5 in d:\\documentos\\yy-projects\\mastodon-proj\\.venv\\lib\\site-packages (from python-dateutil>=2.8.2->pandas) (1.16.0)\n",
      "Installing collected packages: pytz, tzdata, numpy, pandas\n",
      "Successfully installed numpy-1.24.2 pandas-2.0.0 pytz-2023.3 tzdata-2023.3\n",
      "Note: you may need to restart the kernel to use updated packages.\n"
     ]
    }
   ],
   "source": [
    "%pip install requests\n",
    "%pip install pandas"
   ]
  },
  {
   "cell_type": "code",
   "execution_count": 27,
   "metadata": {},
   "outputs": [
    {
     "name": "stdout",
     "output_type": "stream",
     "text": [
      "Collecting Office365-REST-Python-ClientNote: you may need to restart the kernel to use updated packages.\n",
      "\n",
      "  Downloading Office365_REST_Python_Client-2.4.0-py3-none-any.whl (820 kB)\n",
      "                                              0.0/820.4 kB ? eta -:--:--\n",
      "     --------                               184.3/820.4 kB 5.6 MB/s eta 0:00:01\n",
      "     --------------------                   450.6/820.4 kB 5.6 MB/s eta 0:00:01\n",
      "     -------------------------------------  809.0/820.4 kB 6.4 MB/s eta 0:00:01\n",
      "     -------------------------------------- 820.4/820.4 kB 5.7 MB/s eta 0:00:00\n",
      "Requirement already satisfied: requests in d:\\documentos\\yy-projects\\mastodon-proj\\.venv\\lib\\site-packages (from Office365-REST-Python-Client) (2.28.2)\n",
      "Collecting msal (from Office365-REST-Python-Client)\n",
      "  Downloading msal-1.22.0-py2.py3-none-any.whl (90 kB)\n",
      "                                              0.0/90.0 kB ? eta -:--:--\n",
      "     ---------------------------------------- 90.0/90.0 kB ? eta 0:00:00\n",
      "Requirement already satisfied: pytz in d:\\documentos\\yy-projects\\mastodon-proj\\.venv\\lib\\site-packages (from Office365-REST-Python-Client) (2023.3)\n",
      "Collecting PyJWT[crypto]<3,>=1.0.0 (from msal->Office365-REST-Python-Client)\n",
      "  Downloading PyJWT-2.6.0-py3-none-any.whl (20 kB)\n",
      "Collecting cryptography<43,>=0.6 (from msal->Office365-REST-Python-Client)\n",
      "  Downloading cryptography-40.0.2-cp36-abi3-win_amd64.whl (2.6 MB)\n",
      "                                              0.0/2.6 MB ? eta -:--:--\n",
      "     ----                                     0.3/2.6 MB 9.3 MB/s eta 0:00:01\n",
      "     ------------                             0.8/2.6 MB 10.0 MB/s eta 0:00:01\n",
      "     --------------------                     1.3/2.6 MB 10.5 MB/s eta 0:00:01\n",
      "     ------------------------------           2.0/2.6 MB 11.5 MB/s eta 0:00:01\n",
      "     ---------------------------------------  2.6/2.6 MB 11.9 MB/s eta 0:00:01\n",
      "     ---------------------------------------- 2.6/2.6 MB 11.1 MB/s eta 0:00:00\n",
      "Requirement already satisfied: charset-normalizer<4,>=2 in d:\\documentos\\yy-projects\\mastodon-proj\\.venv\\lib\\site-packages (from requests->Office365-REST-Python-Client) (3.1.0)\n",
      "Requirement already satisfied: idna<4,>=2.5 in d:\\documentos\\yy-projects\\mastodon-proj\\.venv\\lib\\site-packages (from requests->Office365-REST-Python-Client) (3.4)\n",
      "Requirement already satisfied: urllib3<1.27,>=1.21.1 in d:\\documentos\\yy-projects\\mastodon-proj\\.venv\\lib\\site-packages (from requests->Office365-REST-Python-Client) (1.26.15)\n",
      "Requirement already satisfied: certifi>=2017.4.17 in d:\\documentos\\yy-projects\\mastodon-proj\\.venv\\lib\\site-packages (from requests->Office365-REST-Python-Client) (2022.12.7)\n",
      "Collecting cffi>=1.12 (from cryptography<43,>=0.6->msal->Office365-REST-Python-Client)\n",
      "  Downloading cffi-1.15.1-cp311-cp311-win_amd64.whl (179 kB)\n",
      "                                              0.0/179.0 kB ? eta -:--:--\n",
      "     ---------------------------------------- 179.0/179.0 kB ? eta 0:00:00\n",
      "Collecting pycparser (from cffi>=1.12->cryptography<43,>=0.6->msal->Office365-REST-Python-Client)\n",
      "  Downloading pycparser-2.21-py2.py3-none-any.whl (118 kB)\n",
      "                                              0.0/118.7 kB ? eta -:--:--\n",
      "     ---------------------------------------- 118.7/118.7 kB ? eta 0:00:00\n",
      "Installing collected packages: PyJWT, pycparser, cffi, cryptography, msal, Office365-REST-Python-Client\n",
      "Successfully installed Office365-REST-Python-Client-2.4.0 PyJWT-2.6.0 cffi-1.15.1 cryptography-40.0.2 msal-1.22.0 pycparser-2.21\n"
     ]
    }
   ],
   "source": [
    "%pip install Office365-REST-Python-Client"
   ]
  },
  {
   "cell_type": "code",
   "execution_count": 33,
   "metadata": {},
   "outputs": [
    {
     "name": "stdout",
     "output_type": "stream",
     "text": [
      "Collecting beautifulsoup4\n",
      "  Downloading beautifulsoup4-4.12.2-py3-none-any.whl (142 kB)\n",
      "                                              0.0/143.0 kB ? eta -:--:--\n",
      "     -------------------------------------- 143.0/143.0 kB 4.3 MB/s eta 0:00:00\n",
      "Collecting soupsieve>1.2 (from beautifulsoup4)\n",
      "  Downloading soupsieve-2.4.1-py3-none-any.whl (36 kB)\n",
      "Installing collected packages: soupsieve, beautifulsoup4\n",
      "Successfully installed beautifulsoup4-4.12.2 soupsieve-2.4.1\n",
      "Note: you may need to restart the kernel to use updated packages.\n"
     ]
    }
   ],
   "source": [
    "%pip install beautifulsoup4"
   ]
  },
  {
   "cell_type": "code",
   "execution_count": 2,
   "metadata": {},
   "outputs": [],
   "source": [
    "import os\n",
    "import glob\n",
    "import parse\n",
    "import shutil\n",
    "import requests\n",
    "import pandas as pd\n",
    "from git import Repo\n",
    "from git import GitError\n",
    "from io import StringIO"
   ]
  },
  {
   "cell_type": "code",
   "execution_count": 6,
   "metadata": {},
   "outputs": [],
   "source": [
    "source = \"https://github.com/nathanlesage/academics-on-mastodon/blob/main/README.md\"\n"
   ]
  },
  {
   "cell_type": "code",
   "execution_count": 7,
   "metadata": {},
   "outputs": [
    {
     "name": "stdout",
     "output_type": "stream",
     "text": [
      "Will not apply HSTS. The HSTS database must be a regular and non-world-writable file.\n",
      "ERROR: could not open HSTS store at '/home/carol_mb/.wget-hsts'. HSTS will be disabled.\n",
      "--2023-04-13 13:15:50--  https://raw.githubusercontent.com/nathanlesage/academics-on-mastodon/main/README.md\n",
      "Resolving raw.githubusercontent.com (raw.githubusercontent.com)... 185.199.111.133, 185.199.109.133, 185.199.108.133, ...\n",
      "Connecting to raw.githubusercontent.com (raw.githubusercontent.com)|185.199.111.133|:443... connected.\n",
      "HTTP request sent, awaiting response... 200 OK\n",
      "Length: 23525 (23K) [text/plain]\n",
      "Saving to: ‘academics-source.md’\n",
      "\n",
      "academics-source.md 100%[===================>]  22.97K  --.-KB/s    in 0.007s  \n",
      "\n",
      "2023-04-13 13:15:51 (3.31 MB/s) - ‘academics-source.md’ saved [23525/23525]\n",
      "\n"
     ]
    }
   ],
   "source": [
    "!wget https://raw.githubusercontent.com/nathanlesage/academics-on-mastodon/main/README.md -O 'academics-source.md'"
   ]
  },
  {
   "cell_type": "code",
   "execution_count": 3,
   "metadata": {},
   "outputs": [],
   "source": [
    "file = open(\"academics-source.md\").readlines()\n"
   ]
  },
  {
   "cell_type": "code",
   "execution_count": 4,
   "metadata": {
    "scrolled": false
   },
   "outputs": [],
   "source": [
    "format_string = \"- [{}]({}){}\"\n",
    "sources = []\n",
    "\n",
    "islist = False\n",
    "for line in file:\n",
    "    if line == \"## Curated Account Lists\\n\":\n",
    "        islist = True\n",
    "    elif islist and line[:2] == \"##\":\n",
    "        islist = False\n",
    "    if islist and line[0] == \"-\":\n",
    "        parsed = parse.parse(format_string, line)\n",
    "        field_csv = (parsed[0], parsed[1])\n",
    "        sources.append(field_csv)\n"
   ]
  },
  {
   "cell_type": "code",
   "execution_count": null,
   "metadata": {},
   "outputs": [],
   "source": [
    "def get_csv(txt):\n",
    "    output = []\n",
    "    for line in txt.split('\\n'):\n",
    "        if line.startswith('@') and len(line) > 2:\n",
    "            parsed = line[:-2].split(' (') #redo\n",
    "            if len(parsed) > 1:\n",
    "                output.append((parsed[0], parsed[1]))\n",
    "    return output\n",
    "\n",
    "\n",
    "def get_drive_file(source):\n",
    "    field = source[0]\n",
    "    url = source[1]\n",
    "    str_format = \"https://docs.google.com/{}/d/{}/{:z}\"\n",
    "    parsed = parse.parse(str_format, url, {\"z\": zero_or_more_string})\n",
    "    doc_type = parsed[0]\n",
    "    code = parsed[1]\n",
    "\n",
    "    if doc_type == \"spreadsheets\":\n",
    "        result = requests.get(\n",
    "            \"https://docs.google.com/{}/d/{}/export?format=csv\".format(\n",
    "                doc_type, code\n",
    "            )\n",
    "        )\n",
    "        csv_string = result.text\n",
    "        \n",
    "    elif doc_type == \"document\":\n",
    "        export_url = \"https://docs.google.com/{}/d/{}/export?format=txt\".format(\n",
    "            doc_type, code\n",
    "        )\n",
    "        result = requests.get(export_url)\n",
    "        csv_string = result.text\n",
    "        \n",
    "    return csv_string\n",
    "\n",
    "\n",
    "def get_github_file(source):\n",
    "\n",
    "    field = source[0]\n",
    "\n",
    "    str_format = 'https://{}.github.io/{}/'\n",
    "    parsed = parse.parse(str_format, source[1])\n",
    "    user_git = parsed[0]\n",
    "    repo_name = parsed[1]\n",
    "\n",
    "    path_file = 'temp/' + repo_name + '_copy'\n",
    "    if not os.path.isdir(path_file):\n",
    "        try:\n",
    "            Repo.clone_from('https://github.com/{}/{}'.format(user_git, repo_name), path_file)\n",
    "        except GitError as error:\n",
    "            print(\"Error:\\n user: {}, repo: {}, msg: {}\".format(user_git, repo_name, error))\n",
    "            return None\n",
    "    \n",
    "\n",
    "    files = glob.glob(path_file + '/resources/*.csv')\n",
    "    csv_str = ''\n",
    "    for file in files:\n",
    "        csv_str += open(file, encoding=\"utf8\").read() + '\\n\\n'\n",
    "\n",
    "    '''\n",
    "    try:\n",
    "        shutil.rmtree(path_file)\n",
    "    except:\n",
    "        print('permission denied to del folder temp/{}'.format(repo_name))\n",
    "    \n",
    "    '''\n",
    "    return csv_str\n",
    "\n",
    "\n",
    "def zero_or_more_string(text):\n",
    "    return text\n",
    "\n",
    "\n",
    "zero_or_more_string.pattern = r\".*\"\n",
    "\n",
    "\n",
    "data = []\n",
    "for source in sources:\n",
    "    field = source[0].replace(\"/\", \" \")\n",
    "    if \"docs.google.com\" in source[1]:\n",
    "        txt = get_drive_file(source)\n",
    "        data.append((field, txt))\n",
    "    elif \"sharepoint\" in source[1]:\n",
    "        #         https://faun.pub/quick-etl-with-python-part-1-download-files-from-sharepoint-online-40bf23711662\n",
    "        pass\n",
    "        \n",
    "    elif \"github\" in source[1]:\n",
    "        txt = get_github_file(source)\n",
    "        if df != None:\n",
    "            data.append((field, txt))\n",
    "    \n"
   ]
  },
  {
   "cell_type": "code",
   "execution_count": 22,
   "metadata": {},
   "outputs": [],
   "source": [
    "for field, field_csv in data:\n",
    "    if field_csv:\n",
    "        output = open('csv/scholars_{}.csv'.format(field), \"w\", encoding=\"utf-8\")\n",
    "        output.write(field_csv)\n",
    "        output.close()"
   ]
  },
  {
   "cell_type": "code",
   "execution_count": null,
   "metadata": {},
   "outputs": [],
   "source": [
    "https://github.com/fivestone/fedi-anthropologists/archive/refs/heads/main.zip\n",
    "    \n",
    "    git@github.com:fivestone/fedi-anthropologists.git"
   ]
  }
 ],
 "metadata": {
  "kernelspec": {
   "display_name": "Python 3",
   "language": "python",
   "name": "python3"
  },
  "language_info": {
   "codemirror_mode": {
    "name": "ipython",
    "version": 3
   },
   "file_extension": ".py",
   "mimetype": "text/x-python",
   "name": "python",
   "nbconvert_exporter": "python",
   "pygments_lexer": "ipython3",
   "version": "3.11.3"
  }
 },
 "nbformat": 4,
 "nbformat_minor": 4
}
