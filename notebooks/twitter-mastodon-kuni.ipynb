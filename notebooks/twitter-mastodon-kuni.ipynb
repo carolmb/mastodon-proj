{
 "cells": [
  {
   "cell_type": "code",
   "execution_count": 1,
   "metadata": {},
   "outputs": [],
   "source": [
    "import datetime\n",
    "import pandas as pd"
   ]
  },
  {
   "cell_type": "code",
   "execution_count": 23,
   "metadata": {},
   "outputs": [
    {
     "name": "stdout",
     "output_type": "stream",
     "text": [
      "155031\n",
      "   Unnamed: 0                  id                created_at   \n",
      "0           0  110547928364675842  2023-06-15T11:12:00.221Z  \\\n",
      "1           1  109865077222212213  2023-02-14T20:53:58.680Z   \n",
      "2           2  109865065540782373  2023-02-14T20:51:00.433Z   \n",
      "3           3  109822086288418991  2023-02-07T06:40:49.087Z   \n",
      "4           4  109806613521430505  2023-02-04T13:05:53.396Z   \n",
      "..        ...                 ...                       ...   \n",
      "95          8  110245392988703458  2023-04-23T00:53:16.726Z   \n",
      "96          9  110245384475140543  2023-04-23T00:51:06.824Z   \n",
      "97         10  110226281409769780  2023-04-19T15:52:57.180Z   \n",
      "98         11  110219920746185570  2023-04-18T12:55:21.155Z   \n",
      "99         12  110197507276343942  2023-04-14T13:55:18.749Z   \n",
      "\n",
      "   in_reply_to_account_id                                                uri   \n",
      "0                     NaN  https://mastodon.green/users/DrAnaQueiros/stat...  \\\n",
      "1                     NaN  https://mastodon.green/users/DrAnaQueiros/stat...   \n",
      "2                     NaN  https://mastodon.green/users/DrAnaQueiros/stat...   \n",
      "3                     NaN  https://mastodon.green/users/DrAnaQueiros/stat...   \n",
      "4                     NaN  https://mastodon.green/users/DrAnaQueiros/stat...   \n",
      "..                    ...                                                ...   \n",
      "95                    NaN  https://mas.to/users/ykhong/statuses/110245392...   \n",
      "96                    NaN  https://mas.to/users/ykhong/statuses/110245384...   \n",
      "97                    NaN  https://mas.to/users/ykhong/statuses/110226281...   \n",
      "98                    NaN  https://mas.to/users/ykhong/statuses/110219920...   \n",
      "99                    NaN  https://mas.to/users/ykhong/statuses/110197507...   \n",
      "\n",
      "   replies_count reblogs_count favourites_count   \n",
      "0            0.0           0.0              0.0  \\\n",
      "1            0.0           0.0              0.0   \n",
      "2            0.0           0.0              0.0   \n",
      "3            0.0           0.0              0.0   \n",
      "4            0.0           0.0              0.0   \n",
      "..           ...           ...              ...   \n",
      "95           1.0           5.0              7.0   \n",
      "96           0.0          10.0             14.0   \n",
      "97           0.0           2.0              7.0   \n",
      "98           0.0           0.0              1.0   \n",
      "99           0.0           3.0              5.0   \n",
      "\n",
      "                                              content   \n",
      "0                                                 NaN  \\\n",
      "1                                                 NaN   \n",
      "2                                                 NaN   \n",
      "3                                                 NaN   \n",
      "4                                                 NaN   \n",
      "..                                                ...   \n",
      "95  <p>Samsung workers used the standard version o...   \n",
      "96  <p>LandBack is how we all live.</p><p><a href=...   \n",
      "97  <p>The doctor took a look at baby you and made...   \n",
      "98  <p>It should not, cannot, and must not take wh...   \n",
      "99  <p>Remember that your boundaries are yours, de...   \n",
      "\n",
      "                  mastodon_name  \n",
      "0   DrAnaQueiros@mastodon.green  \n",
      "1   DrAnaQueiros@mastodon.green  \n",
      "2   DrAnaQueiros@mastodon.green  \n",
      "3   DrAnaQueiros@mastodon.green  \n",
      "4   DrAnaQueiros@mastodon.green  \n",
      "..                          ...  \n",
      "95                ykhong@mas.to  \n",
      "96                ykhong@mas.to  \n",
      "97                ykhong@mas.to  \n",
      "98                ykhong@mas.to  \n",
      "99                ykhong@mas.to  \n",
      "\n",
      "[100 rows x 10 columns]\n"
     ]
    }
   ],
   "source": [
    "toots = pd.read_csv('toots_kuni_list.tsv', sep='\\t', dtype=object)\n",
    "print(len(toots))\n",
    "print(toots.head(100))"
   ]
  },
  {
   "cell_type": "code",
   "execution_count": 3,
   "metadata": {},
   "outputs": [
    {
     "data": {
      "text/plain": [
       "1334"
      ]
     },
     "execution_count": 3,
     "metadata": {},
     "output_type": "execute_result"
    }
   ],
   "source": [
    "len(toots['mastodon_name'].unique())"
   ]
  },
  {
   "cell_type": "code",
   "execution_count": 4,
   "metadata": {},
   "outputs": [
    {
     "data": {
      "text/html": [
       "<div>\n",
       "<style scoped>\n",
       "    .dataframe tbody tr th:only-of-type {\n",
       "        vertical-align: middle;\n",
       "    }\n",
       "\n",
       "    .dataframe tbody tr th {\n",
       "        vertical-align: top;\n",
       "    }\n",
       "\n",
       "    .dataframe thead th {\n",
       "        text-align: right;\n",
       "    }\n",
       "</style>\n",
       "<table border=\"1\" class=\"dataframe\">\n",
       "  <thead>\n",
       "    <tr style=\"text-align: right;\">\n",
       "      <th></th>\n",
       "      <th>Unnamed: 0</th>\n",
       "      <th>user</th>\n",
       "      <th>instance</th>\n",
       "      <th>user_id</th>\n",
       "      <th>mastodon_name</th>\n",
       "    </tr>\n",
       "  </thead>\n",
       "  <tbody>\n",
       "    <tr>\n",
       "      <th>0</th>\n",
       "      <td>0</td>\n",
       "      <td>HelmutBuergmann</td>\n",
       "      <td>mstdn.science</td>\n",
       "      <td>109290116551935157</td>\n",
       "      <td>HelmutBuergmann@mstdn.science</td>\n",
       "    </tr>\n",
       "    <tr>\n",
       "      <th>1</th>\n",
       "      <td>1</td>\n",
       "      <td>boshek</td>\n",
       "      <td>fosstodon.org</td>\n",
       "      <td>109314764090379220</td>\n",
       "      <td>boshek@fosstodon.org</td>\n",
       "    </tr>\n",
       "    <tr>\n",
       "      <th>2</th>\n",
       "      <td>2</td>\n",
       "      <td>DenisDuboule</td>\n",
       "      <td>mas.to</td>\n",
       "      <td>109258593858933399</td>\n",
       "      <td>DenisDuboule@mas.to</td>\n",
       "    </tr>\n",
       "    <tr>\n",
       "      <th>3</th>\n",
       "      <td>3</td>\n",
       "      <td>paulgkeil</td>\n",
       "      <td>mastodon.world</td>\n",
       "      <td>109500238977329432</td>\n",
       "      <td>paulgkeil@mastodon.world</td>\n",
       "    </tr>\n",
       "    <tr>\n",
       "      <th>4</th>\n",
       "      <td>4</td>\n",
       "      <td>rider_jon</td>\n",
       "      <td>zirk.us</td>\n",
       "      <td>109365280591812662</td>\n",
       "      <td>rider_jon@zirk.us</td>\n",
       "    </tr>\n",
       "  </tbody>\n",
       "</table>\n",
       "</div>"
      ],
      "text/plain": [
       "   Unnamed: 0             user        instance             user_id   \n",
       "0           0  HelmutBuergmann   mstdn.science  109290116551935157  \\\n",
       "1           1           boshek   fosstodon.org  109314764090379220   \n",
       "2           2     DenisDuboule          mas.to  109258593858933399   \n",
       "3           3        paulgkeil  mastodon.world  109500238977329432   \n",
       "4           4        rider_jon         zirk.us  109365280591812662   \n",
       "\n",
       "                   mastodon_name  \n",
       "0  HelmutBuergmann@mstdn.science  \n",
       "1           boshek@fosstodon.org  \n",
       "2            DenisDuboule@mas.to  \n",
       "3       paulgkeil@mastodon.world  \n",
       "4              rider_jon@zirk.us  "
      ]
     },
     "execution_count": 4,
     "metadata": {},
     "output_type": "execute_result"
    }
   ],
   "source": [
    "user_id_map = pd.read_csv('user111_id_list_kunilist_2023-06-30.tsv', sep='\\t')\n",
    "user_id_map = user_id_map.drop_duplicates(subset=['user', 'instance'])\n",
    "user_id_map = user_id_map.dropna()\n",
    "\n",
    "user_id_map['mastodon_name'] = user_id_map.apply(lambda row: \"{}@{}\".format(row['user'], row['instance']), axis = 1)\n",
    "user_id_map.head()"
   ]
  },
  {
   "cell_type": "code",
   "execution_count": 5,
   "metadata": {},
   "outputs": [],
   "source": [
    "toots = toots.merge(user_id_map, on='mastodon_name')"
   ]
  },
  {
   "cell_type": "code",
   "execution_count": 6,
   "metadata": {},
   "outputs": [
    {
     "data": {
      "text/html": [
       "<div>\n",
       "<style scoped>\n",
       "    .dataframe tbody tr th:only-of-type {\n",
       "        vertical-align: middle;\n",
       "    }\n",
       "\n",
       "    .dataframe tbody tr th {\n",
       "        vertical-align: top;\n",
       "    }\n",
       "\n",
       "    .dataframe thead th {\n",
       "        text-align: right;\n",
       "    }\n",
       "</style>\n",
       "<table border=\"1\" class=\"dataframe\">\n",
       "  <thead>\n",
       "    <tr style=\"text-align: right;\">\n",
       "      <th></th>\n",
       "      <th>Unnamed: 0_x</th>\n",
       "      <th>id</th>\n",
       "      <th>created_at</th>\n",
       "      <th>in_reply_to_account_id</th>\n",
       "      <th>uri</th>\n",
       "      <th>replies_count</th>\n",
       "      <th>reblogs_count</th>\n",
       "      <th>favourites_count</th>\n",
       "      <th>content</th>\n",
       "      <th>mastodon_name</th>\n",
       "      <th>Unnamed: 0_y</th>\n",
       "      <th>user</th>\n",
       "      <th>instance</th>\n",
       "      <th>user_id</th>\n",
       "    </tr>\n",
       "  </thead>\n",
       "  <tbody>\n",
       "    <tr>\n",
       "      <th>0</th>\n",
       "      <td>0</td>\n",
       "      <td>110547928364675842</td>\n",
       "      <td>2023-06-15T11:12:00.221Z</td>\n",
       "      <td>NaN</td>\n",
       "      <td>https://mastodon.green/users/DrAnaQueiros/stat...</td>\n",
       "      <td>0.0</td>\n",
       "      <td>0.0</td>\n",
       "      <td>0.0</td>\n",
       "      <td>NaN</td>\n",
       "      <td>DrAnaQueiros@mastodon.green</td>\n",
       "      <td>1290</td>\n",
       "      <td>DrAnaQueiros</td>\n",
       "      <td>mastodon.green</td>\n",
       "      <td>109296055170074546</td>\n",
       "    </tr>\n",
       "    <tr>\n",
       "      <th>1</th>\n",
       "      <td>1</td>\n",
       "      <td>109865077222212213</td>\n",
       "      <td>2023-02-14T20:53:58.680Z</td>\n",
       "      <td>NaN</td>\n",
       "      <td>https://mastodon.green/users/DrAnaQueiros/stat...</td>\n",
       "      <td>0.0</td>\n",
       "      <td>0.0</td>\n",
       "      <td>0.0</td>\n",
       "      <td>NaN</td>\n",
       "      <td>DrAnaQueiros@mastodon.green</td>\n",
       "      <td>1290</td>\n",
       "      <td>DrAnaQueiros</td>\n",
       "      <td>mastodon.green</td>\n",
       "      <td>109296055170074546</td>\n",
       "    </tr>\n",
       "    <tr>\n",
       "      <th>2</th>\n",
       "      <td>2</td>\n",
       "      <td>109865065540782373</td>\n",
       "      <td>2023-02-14T20:51:00.433Z</td>\n",
       "      <td>NaN</td>\n",
       "      <td>https://mastodon.green/users/DrAnaQueiros/stat...</td>\n",
       "      <td>0.0</td>\n",
       "      <td>0.0</td>\n",
       "      <td>0.0</td>\n",
       "      <td>NaN</td>\n",
       "      <td>DrAnaQueiros@mastodon.green</td>\n",
       "      <td>1290</td>\n",
       "      <td>DrAnaQueiros</td>\n",
       "      <td>mastodon.green</td>\n",
       "      <td>109296055170074546</td>\n",
       "    </tr>\n",
       "    <tr>\n",
       "      <th>3</th>\n",
       "      <td>3</td>\n",
       "      <td>109822086288418991</td>\n",
       "      <td>2023-02-07T06:40:49.087Z</td>\n",
       "      <td>NaN</td>\n",
       "      <td>https://mastodon.green/users/DrAnaQueiros/stat...</td>\n",
       "      <td>0.0</td>\n",
       "      <td>0.0</td>\n",
       "      <td>0.0</td>\n",
       "      <td>NaN</td>\n",
       "      <td>DrAnaQueiros@mastodon.green</td>\n",
       "      <td>1290</td>\n",
       "      <td>DrAnaQueiros</td>\n",
       "      <td>mastodon.green</td>\n",
       "      <td>109296055170074546</td>\n",
       "    </tr>\n",
       "    <tr>\n",
       "      <th>4</th>\n",
       "      <td>4</td>\n",
       "      <td>109806613521430505</td>\n",
       "      <td>2023-02-04T13:05:53.396Z</td>\n",
       "      <td>NaN</td>\n",
       "      <td>https://mastodon.green/users/DrAnaQueiros/stat...</td>\n",
       "      <td>0.0</td>\n",
       "      <td>0.0</td>\n",
       "      <td>0.0</td>\n",
       "      <td>NaN</td>\n",
       "      <td>DrAnaQueiros@mastodon.green</td>\n",
       "      <td>1290</td>\n",
       "      <td>DrAnaQueiros</td>\n",
       "      <td>mastodon.green</td>\n",
       "      <td>109296055170074546</td>\n",
       "    </tr>\n",
       "  </tbody>\n",
       "</table>\n",
       "</div>"
      ],
      "text/plain": [
       "  Unnamed: 0_x                  id                created_at   \n",
       "0            0  110547928364675842  2023-06-15T11:12:00.221Z  \\\n",
       "1            1  109865077222212213  2023-02-14T20:53:58.680Z   \n",
       "2            2  109865065540782373  2023-02-14T20:51:00.433Z   \n",
       "3            3  109822086288418991  2023-02-07T06:40:49.087Z   \n",
       "4            4  109806613521430505  2023-02-04T13:05:53.396Z   \n",
       "\n",
       "  in_reply_to_account_id                                                uri   \n",
       "0                    NaN  https://mastodon.green/users/DrAnaQueiros/stat...  \\\n",
       "1                    NaN  https://mastodon.green/users/DrAnaQueiros/stat...   \n",
       "2                    NaN  https://mastodon.green/users/DrAnaQueiros/stat...   \n",
       "3                    NaN  https://mastodon.green/users/DrAnaQueiros/stat...   \n",
       "4                    NaN  https://mastodon.green/users/DrAnaQueiros/stat...   \n",
       "\n",
       "  replies_count reblogs_count favourites_count content   \n",
       "0           0.0           0.0              0.0     NaN  \\\n",
       "1           0.0           0.0              0.0     NaN   \n",
       "2           0.0           0.0              0.0     NaN   \n",
       "3           0.0           0.0              0.0     NaN   \n",
       "4           0.0           0.0              0.0     NaN   \n",
       "\n",
       "                 mastodon_name  Unnamed: 0_y          user        instance   \n",
       "0  DrAnaQueiros@mastodon.green          1290  DrAnaQueiros  mastodon.green  \\\n",
       "1  DrAnaQueiros@mastodon.green          1290  DrAnaQueiros  mastodon.green   \n",
       "2  DrAnaQueiros@mastodon.green          1290  DrAnaQueiros  mastodon.green   \n",
       "3  DrAnaQueiros@mastodon.green          1290  DrAnaQueiros  mastodon.green   \n",
       "4  DrAnaQueiros@mastodon.green          1290  DrAnaQueiros  mastodon.green   \n",
       "\n",
       "              user_id  \n",
       "0  109296055170074546  \n",
       "1  109296055170074546  \n",
       "2  109296055170074546  \n",
       "3  109296055170074546  \n",
       "4  109296055170074546  "
      ]
     },
     "execution_count": 6,
     "metadata": {},
     "output_type": "execute_result"
    }
   ],
   "source": [
    "toots.head()"
   ]
  },
  {
   "attachments": {},
   "cell_type": "markdown",
   "metadata": {},
   "source": [
    "Total of toots (Kuni list from Twitter): 186,941\n",
    "\n",
    "Number of mastodon users (Kuni list from Twitter): 4311"
   ]
  },
  {
   "cell_type": "code",
   "execution_count": 7,
   "metadata": {},
   "outputs": [
    {
     "name": "stdout",
     "output_type": "stream",
     "text": [
      "155031\n",
      "4311\n"
     ]
    }
   ],
   "source": [
    "print(len(toots))\n",
    "print(len(user_id_map))"
   ]
  },
  {
   "attachments": {},
   "cell_type": "markdown",
   "metadata": {},
   "source": [
    "Number of active users: 1392 of 4311"
   ]
  },
  {
   "cell_type": "code",
   "execution_count": 8,
   "metadata": {},
   "outputs": [
    {
     "name": "stdout",
     "output_type": "stream",
     "text": [
      "1334\n"
     ]
    }
   ],
   "source": [
    "print(len(toots['user_id'].unique()))"
   ]
  },
  {
   "cell_type": "code",
   "execution_count": 9,
   "metadata": {},
   "outputs": [
    {
     "data": {
      "text/html": [
       "<div>\n",
       "<style scoped>\n",
       "    .dataframe tbody tr th:only-of-type {\n",
       "        vertical-align: middle;\n",
       "    }\n",
       "\n",
       "    .dataframe tbody tr th {\n",
       "        vertical-align: top;\n",
       "    }\n",
       "\n",
       "    .dataframe thead th {\n",
       "        text-align: right;\n",
       "    }\n",
       "</style>\n",
       "<table border=\"1\" class=\"dataframe\">\n",
       "  <thead>\n",
       "    <tr style=\"text-align: right;\">\n",
       "      <th></th>\n",
       "      <th>Unnamed: 0</th>\n",
       "      <th>mastodon_name</th>\n",
       "      <th>OpenAlex_account</th>\n",
       "      <th>x_concepts</th>\n",
       "      <th>id_str</th>\n",
       "    </tr>\n",
       "  </thead>\n",
       "  <tbody>\n",
       "    <tr>\n",
       "      <th>0</th>\n",
       "      <td>74</td>\n",
       "      <td>@HelmutBuergmann@mstdn.science</td>\n",
       "      <td>https://openalex.org/A2076598371</td>\n",
       "      <td>[{'id': 'https://openalex.org/C86803240', 'wik...</td>\n",
       "      <td>806806433404620800</td>\n",
       "    </tr>\n",
       "    <tr>\n",
       "      <th>1</th>\n",
       "      <td>170</td>\n",
       "      <td>@boshek@fosstodon.org</td>\n",
       "      <td>https://openalex.org/A2114692991</td>\n",
       "      <td>[{'id': 'https://openalex.org/C86803240', 'wik...</td>\n",
       "      <td>1317009122</td>\n",
       "    </tr>\n",
       "    <tr>\n",
       "      <th>2</th>\n",
       "      <td>219</td>\n",
       "      <td>@DenisDuboule@mas.to</td>\n",
       "      <td>https://openalex.org/A295410851</td>\n",
       "      <td>[{'id': 'https://openalex.org/C54355233', 'wik...</td>\n",
       "      <td>1376641550</td>\n",
       "    </tr>\n",
       "    <tr>\n",
       "      <th>3</th>\n",
       "      <td>266</td>\n",
       "      <td>@paulgkeil@mastodon.world</td>\n",
       "      <td>https://openalex.org/A2061685470</td>\n",
       "      <td>[{'id': 'https://openalex.org/C15744967', 'wik...</td>\n",
       "      <td>359880812</td>\n",
       "    </tr>\n",
       "    <tr>\n",
       "      <th>4</th>\n",
       "      <td>299</td>\n",
       "      <td>@rider_jon@zirk.us</td>\n",
       "      <td>https://openalex.org/A2646935175</td>\n",
       "      <td>[{'id': 'https://openalex.org/C142362112', 'wi...</td>\n",
       "      <td>890826954</td>\n",
       "    </tr>\n",
       "  </tbody>\n",
       "</table>\n",
       "</div>"
      ],
      "text/plain": [
       "   Unnamed: 0                   mastodon_name   \n",
       "0          74  @HelmutBuergmann@mstdn.science  \\\n",
       "1         170           @boshek@fosstodon.org   \n",
       "2         219            @DenisDuboule@mas.to   \n",
       "3         266       @paulgkeil@mastodon.world   \n",
       "4         299              @rider_jon@zirk.us   \n",
       "\n",
       "                   OpenAlex_account   \n",
       "0  https://openalex.org/A2076598371  \\\n",
       "1  https://openalex.org/A2114692991   \n",
       "2   https://openalex.org/A295410851   \n",
       "3  https://openalex.org/A2061685470   \n",
       "4  https://openalex.org/A2646935175   \n",
       "\n",
       "                                          x_concepts              id_str  \n",
       "0  [{'id': 'https://openalex.org/C86803240', 'wik...  806806433404620800  \n",
       "1  [{'id': 'https://openalex.org/C86803240', 'wik...          1317009122  \n",
       "2  [{'id': 'https://openalex.org/C54355233', 'wik...          1376641550  \n",
       "3  [{'id': 'https://openalex.org/C15744967', 'wik...           359880812  \n",
       "4  [{'id': 'https://openalex.org/C142362112', 'wi...           890826954  "
      ]
     },
     "execution_count": 9,
     "metadata": {},
     "output_type": "execute_result"
    }
   ],
   "source": [
    "fields_of_study = pd.read_csv('mastodon_users_wOpenAlex2.csv')\n",
    "fields_of_study.head()"
   ]
  },
  {
   "cell_type": "code",
   "execution_count": 10,
   "metadata": {},
   "outputs": [],
   "source": [
    "import ast\n",
    "from collections import defaultdict\n",
    "\n",
    "fields_of_study = fields_of_study.dropna()\n",
    "\n",
    "field2author = defaultdict(lambda:[])\n",
    "for _, author in fields_of_study.iterrows():\n",
    "    fields = ast.literal_eval(author['x_concepts'])\n",
    "    # fields = json.loads(concepts_string)\n",
    "    for subfield in fields:\n",
    "        if subfield['level'] == 0 and subfield['score'] >= 50:\n",
    "            field2author[subfield['display_name']].append(author['mastodon_name'][1:])"
   ]
  },
  {
   "cell_type": "code",
   "execution_count": 11,
   "metadata": {},
   "outputs": [
    {
     "data": {
      "text/plain": [
       "19"
      ]
     },
     "execution_count": 11,
     "metadata": {},
     "output_type": "execute_result"
    }
   ],
   "source": [
    "field2author = dict(sorted(field2author.items(), key=lambda item: -len(item[1])))\n",
    "len(field2author.keys())"
   ]
  },
  {
   "cell_type": "code",
   "execution_count": 12,
   "metadata": {},
   "outputs": [
    {
     "name": "stdout",
     "output_type": "stream",
     "text": [
      "[('Biology', 2743, 75864), ('Computer science', 2224, 78600), ('Medicine', 1850, 42509)]\n"
     ]
    }
   ],
   "source": [
    "field_toots_count = []\n",
    "for field, authors in field2author.items():\n",
    "    authors = set(authors)\n",
    "    toots_field = toots[toots['mastodon_name'].isin(authors)]\n",
    "    field_toots_count.append((field, len(authors), len(toots_field)))\n",
    "\n",
    "print(field_toots_count[:3])\n"
   ]
  },
  {
   "attachments": {},
   "cell_type": "markdown",
   "metadata": {},
   "source": [
    "## number of toots by field of study"
   ]
  },
  {
   "cell_type": "code",
   "execution_count": 13,
   "metadata": {},
   "outputs": [
    {
     "data": {
      "text/plain": [
       "[('Computer science', 2224, 78600),\n",
       " ('Biology', 2743, 75864),\n",
       " ('Political science', 1284, 61139),\n",
       " ('Sociology', 1025, 49690),\n",
       " ('Physics', 1254, 45653),\n",
       " ('Medicine', 1850, 42509),\n",
       " ('Geography', 707, 38799),\n",
       " ('Philosophy', 1033, 35143),\n",
       " ('Mathematics', 1044, 34862),\n",
       " ('History', 517, 34320),\n",
       " ('Engineering', 907, 34093),\n",
       " ('Psychology', 1390, 33255),\n",
       " ('Chemistry', 1264, 31645),\n",
       " ('Economics', 844, 26575),\n",
       " ('Geology', 841, 24651),\n",
       " ('Business', 419, 19284),\n",
       " ('Art', 312, 16591),\n",
       " ('Environmental science', 328, 12988),\n",
       " ('Materials science', 249, 4784)]"
      ]
     },
     "execution_count": 13,
     "metadata": {},
     "output_type": "execute_result"
    }
   ],
   "source": [
    "sorted(field_toots_count, key=lambda row: -row[-1])"
   ]
  },
  {
   "attachments": {},
   "cell_type": "markdown",
   "metadata": {},
   "source": [
    "## number of inactive users by field of study"
   ]
  },
  {
   "cell_type": "code",
   "execution_count": 14,
   "metadata": {},
   "outputs": [
    {
     "name": "stdout",
     "output_type": "stream",
     "text": [
      "['DrAnaQueiros@mastodon.green' 'macaskillaf@fediscience.org'\n",
      " 'mayrl@sciences.social' 'ykhong@mas.to' 'DylanPare@mastodon.social'\n",
      " 'sophieduroy@fediscience.org' 'jhi@mstdn.social'\n",
      " 'EmilyOGorman@mastodon.world' 'CathleenCrudden@mstdn.social'\n",
      " 'Dmcampbellwsu@hcommons.social']\n"
     ]
    }
   ],
   "source": [
    "active_users = toots['mastodon_name'].unique()\n",
    "print(active_users[:10])\n",
    "# TODO trocar por user_instance\n",
    "\n",
    "inactive_users = defaultdict(lambda:[])\n",
    "for field, authors in field2author.items():\n",
    "    for author in authors:\n",
    "        if not author in active_users:\n",
    "            inactive_users[field].append(author)"
   ]
  },
  {
   "cell_type": "code",
   "execution_count": 15,
   "metadata": {},
   "outputs": [
    {
     "name": "stdout",
     "output_type": "stream",
     "text": [
      "Biology 2044 2743\n",
      "Computer science 1585 2226\n",
      "Medicine 1368 1851\n",
      "Psychology 933 1392\n",
      "Political science 816 1286\n",
      "Chemistry 980 1264\n",
      "Physics 902 1255\n",
      "Mathematics 739 1046\n",
      "Philosophy 665 1034\n",
      "Sociology 683 1027\n",
      "Engineering 655 909\n",
      "Economics 557 845\n",
      "Geology 617 841\n",
      "Geography 493 707\n",
      "History 342 517\n",
      "Business 272 420\n",
      "Environmental science 232 328\n",
      "Art 199 312\n",
      "Materials science 179 249\n"
     ]
    }
   ],
   "source": [
    "for field, authors in inactive_users.items():\n",
    "    print(field, len(authors), len(field2author[field]))"
   ]
  },
  {
   "cell_type": "code",
   "execution_count": 28,
   "metadata": {},
   "outputs": [],
   "source": [
    "## quantidade de toots na linha do tempo, quem continua ativo? quem não?\n",
    "\n",
    "## olhar a data de criação do perfil como 0 e contar as semanas a partir disso\n",
    "\n",
    "import util\n",
    "\n",
    "def get_userprofile(user_name, user_server):\n",
    "    token_access = util.get_instance_token(user_server)\n",
    "    user_profile = util.get_user_lookup(user_name, user_server, token_access)\n",
    "    try:\n",
    "        tt_user = \"\"\n",
    "        for field in user_profile[\"fields\"]:\n",
    "            if field[\"name\"] == \"Twitter\":\n",
    "                tt_user = field[\"value\"]\n",
    "\n",
    "        bio = user_profile[\"note\"]\n",
    "        created = user_profile[\"created_at\"]\n",
    "        display_name = user_profile[\"display_name\"]\n",
    "        followers = user_profile[\"followers_count\"]\n",
    "        following = user_profile[\"following_count\"]\n",
    "        return (\n",
    "            user_name,\n",
    "            user_server,\n",
    "            display_name,\n",
    "            tt_user,\n",
    "            followers,\n",
    "            following,\n",
    "            created,\n",
    "            bio.replace(\"\\t\", \" \"),\n",
    "        )\n",
    "    except:\n",
    "        print(user_profile)\n",
    "        return None\n",
    "    "
   ]
  },
  {
   "cell_type": "code",
   "execution_count": 29,
   "metadata": {},
   "outputs": [
    {
     "name": "stdout",
     "output_type": "stream",
     "text": [
      "{'error': 'Too many requests'}\n"
     ]
    }
   ],
   "source": [
    "today = datetime.datetime.today().strftime('%m-%d-%Y')\n",
    "kuni_users_mastodon = []\n",
    "for idx, row in user_id_map.iterrows():\n",
    "    user = get_userprofile(row['user'], row['instance'])\n",
    "    if user != None:\n",
    "        kuni_users_mastodon.append(user)\n",
    "\n",
    "kuni_df = pd.DataFrame(kuni_users_mastodon)\n",
    "kuni_df.to_csv('user_profiles_kuni_{}.tsv'.format(today), sep='\\t')"
   ]
  },
  {
   "cell_type": "code",
   "execution_count": null,
   "metadata": {},
   "outputs": [],
   "source": []
  },
  {
   "cell_type": "code",
   "execution_count": null,
   "metadata": {},
   "outputs": [],
   "source": []
  }
 ],
 "metadata": {
  "kernelspec": {
   "display_name": ".venv",
   "language": "python",
   "name": "python3"
  },
  "language_info": {
   "codemirror_mode": {
    "name": "ipython",
    "version": 3
   },
   "file_extension": ".py",
   "mimetype": "text/x-python",
   "name": "python",
   "nbconvert_exporter": "python",
   "pygments_lexer": "ipython3",
   "version": "3.11.3"
  },
  "orig_nbformat": 4
 },
 "nbformat": 4,
 "nbformat_minor": 2
}
