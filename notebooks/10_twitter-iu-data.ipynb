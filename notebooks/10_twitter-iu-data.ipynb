{
 "cells": [
  {
   "cell_type": "markdown",
   "metadata": {},
   "source": [
    "# Mastodon users on Twitter (IU data)\n",
    "\n",
    "Total of tweets collected: 720,125 (since 09/2022)\n",
    "\n",
    "Total of users: 4,026 (we also have their mastodon usernames/instances) (original sample 5K users, 270 invalid)\n",
    "~700 users with 0 tweets"
   ]
  },
  {
   "cell_type": "markdown",
   "metadata": {},
   "source": [
    " wget --recursive --no-parent https://tavern.osome.iu.edu/jobs/2023-05-04/"
   ]
  },
  {
   "cell_type": "code",
   "execution_count": 1,
   "metadata": {},
   "outputs": [],
   "source": [
    "path = '../data/twitter-iu/2023-05-04/tweetContent'"
   ]
  },
  {
   "cell_type": "code",
   "execution_count": 9,
   "metadata": {},
   "outputs": [
    {
     "name": "stdout",
     "output_type": "stream",
     "text": [
      "Collecting matplotlib\n",
      "  Downloading matplotlib-3.7.1-cp311-cp311-win_amd64.whl (7.6 MB)\n",
      "                                              0.0/7.6 MB ? eta -:--:--\n",
      "     -                                        0.2/7.6 MB 4.8 MB/s eta 0:00:02\n",
      "     --------                                 1.6/7.6 MB 16.4 MB/s eta 0:00:01\n",
      "     ---------------------                    4.1/7.6 MB 29.3 MB/s eta 0:00:01\n",
      "     --------------------------               5.1/7.6 MB 29.6 MB/s eta 0:00:01\n",
      "     -----------------------------------      6.8/7.6 MB 29.0 MB/s eta 0:00:01\n",
      "     ---------------------------------------  7.6/7.6 MB 28.6 MB/s eta 0:00:01\n",
      "     ---------------------------------------- 7.6/7.6 MB 27.1 MB/s eta 0:00:00\n",
      "Collecting contourpy>=1.0.1 (from matplotlib)\n",
      "  Downloading contourpy-1.0.7-cp311-cp311-win_amd64.whl (162 kB)\n",
      "                                              0.0/163.0 kB ? eta -:--:--\n",
      "     -------------------------------------- 163.0/163.0 kB 9.5 MB/s eta 0:00:00\n",
      "Collecting cycler>=0.10 (from matplotlib)\n",
      "  Downloading cycler-0.11.0-py3-none-any.whl (6.4 kB)\n",
      "Collecting fonttools>=4.22.0 (from matplotlib)\n",
      "  Downloading fonttools-4.39.4-py3-none-any.whl (1.0 MB)\n",
      "                                              0.0/1.0 MB ? eta -:--:--\n",
      "     ---------------------------------------- 1.0/1.0 MB 32.3 MB/s eta 0:00:00\n",
      "Collecting kiwisolver>=1.0.1 (from matplotlib)\n",
      "  Downloading kiwisolver-1.4.4-cp311-cp311-win_amd64.whl (55 kB)\n",
      "                                              0.0/55.4 kB ? eta -:--:--\n",
      "     ---------------------------------------- 55.4/55.4 kB ? eta 0:00:00\n",
      "Requirement already satisfied: numpy>=1.20 in d:\\documentos\\yy-projects\\mastodon-proj\\.venv\\lib\\site-packages (from matplotlib) (1.24.2)\n",
      "Requirement already satisfied: packaging>=20.0 in d:\\documentos\\yy-projects\\mastodon-proj\\.venv\\lib\\site-packages (from matplotlib) (23.1)\n",
      "Collecting pillow>=6.2.0 (from matplotlib)\n",
      "  Downloading Pillow-9.5.0-cp311-cp311-win_amd64.whl (2.5 MB)\n",
      "                                              0.0/2.5 MB ? eta -:--:--\n",
      "     ------------------------------------     2.3/2.5 MB 48.4 MB/s eta 0:00:01\n",
      "     ---------------------------------------- 2.5/2.5 MB 40.3 MB/s eta 0:00:00\n",
      "Collecting pyparsing>=2.3.1 (from matplotlib)\n",
      "  Downloading pyparsing-3.0.9-py3-none-any.whl (98 kB)\n",
      "                                              0.0/98.3 kB ? eta -:--:--\n",
      "     ---------------------------------------- 98.3/98.3 kB 5.5 MB/s eta 0:00:00\n",
      "Requirement already satisfied: python-dateutil>=2.7 in d:\\documentos\\yy-projects\\mastodon-proj\\.venv\\lib\\site-packages (from matplotlib) (2.8.2)\n",
      "Requirement already satisfied: six>=1.5 in d:\\documentos\\yy-projects\\mastodon-proj\\.venv\\lib\\site-packages (from python-dateutil>=2.7->matplotlib) (1.16.0)\n",
      "Installing collected packages: pyparsing, pillow, kiwisolver, fonttools, cycler, contourpy, matplotlib\n",
      "Successfully installed contourpy-1.0.7 cycler-0.11.0 fonttools-4.39.4 kiwisolver-1.4.4 matplotlib-3.7.1 pillow-9.5.0 pyparsing-3.0.9\n"
     ]
    }
   ],
   "source": [
    "!python -m pip install -U matplotlib"
   ]
  },
  {
   "cell_type": "code",
   "execution_count": 1,
   "metadata": {},
   "outputs": [],
   "source": [
    "import glob\n",
    "import gzip\n",
    "import json\n",
    "import pandas as pd\n",
    "\n",
    "from  datetime import date\n",
    "from email.utils import parsedate_tz\n",
    "from datetime import datetime, timedelta\n"
   ]
  },
  {
   "cell_type": "code",
   "execution_count": 2,
   "metadata": {},
   "outputs": [
    {
     "name": "stdout",
     "output_type": "stream",
     "text": [
      "['../data/twitter-iu/2023-05-04/tweetContent\\\\part-m-00000.gz', '../data/twitter-iu/2023-05-04/tweetContent\\\\part-m-00001.gz', '../data/twitter-iu/2023-05-04/tweetContent\\\\part-m-00002.gz', '../data/twitter-iu/2023-05-04/tweetContent\\\\part-m-00003.gz', '../data/twitter-iu/2023-05-04/tweetContent\\\\part-m-00004.gz', '../data/twitter-iu/2023-05-04/tweetContent\\\\part-m-00005.gz', '../data/twitter-iu/2023-05-04/tweetContent\\\\part-m-00006.gz', '../data/twitter-iu/2023-05-04/tweetContent\\\\part-m-00007.gz', '../data/twitter-iu/2023-05-04/tweetContent\\\\part-m-00008.gz', '../data/twitter-iu/2023-05-04/tweetContent\\\\part-m-00009.gz']\n"
     ]
    }
   ],
   "source": [
    "path = '../data/twitter-iu/2023-05-04/tweetContent/'\n",
    "files = glob.glob(path + '/*.gz')\n",
    "print(files[:10])"
   ]
  },
  {
   "cell_type": "code",
   "execution_count": 4,
   "metadata": {},
   "outputs": [
    {
     "name": "stdout",
     "output_type": "stream",
     "text": [
      "\n"
     ]
    }
   ],
   "source": [
    "'''\n",
    "for file in files: \n",
    "    with gzip.open(file, mode='rb') as f:\n",
    "        file_content = f.read().decode(\"utf-8\") \n",
    "        \n",
    "        outfile = open(file[:-3] + '.txt', 'w', encoding='utf-8')\n",
    "        outfile.write(file_content)\n",
    "        outfile.close()\n",
    "'''\n",
    "print()"
   ]
  },
  {
   "cell_type": "code",
   "execution_count": 3,
   "metadata": {},
   "outputs": [],
   "source": [
    "tweets = []\n",
    "unique_users = set()\n",
    "for file in files:\n",
    "    file_txt = file[:-3] + '.txt'\n",
    "    for line in open(file_txt, 'r', encoding='utf-8'):\n",
    "        tweet = json.loads(line)\n",
    "        user_id = tweet['user']['screen_name']\n",
    "        tweets.append(tweet)\n",
    "        unique_users.add(user_id)\n"
   ]
  },
  {
   "cell_type": "code",
   "execution_count": 4,
   "metadata": {},
   "outputs": [
    {
     "name": "stdout",
     "output_type": "stream",
     "text": [
      "720125\n",
      "4026\n"
     ]
    }
   ],
   "source": [
    "print(len(tweets))\n",
    "print(len(unique_users))"
   ]
  },
  {
   "cell_type": "code",
   "execution_count": 5,
   "metadata": {},
   "outputs": [
    {
     "name": "stdout",
     "output_type": "stream",
     "text": [
      "3996\n"
     ]
    }
   ],
   "source": [
    "unique_users = set()\n",
    "for tweet in tweets:\n",
    "    user = tweet['user']['id_str']\n",
    "    unique_users.add(user)\n",
    "    \n",
    "print(len(unique_users))"
   ]
  },
  {
   "cell_type": "code",
   "execution_count": 6,
   "metadata": {},
   "outputs": [
    {
     "name": "stdout",
     "output_type": "stream",
     "text": [
      "               0\n",
      "0       @anaivas\n",
      "1     @agarregui\n",
      "2       @Annet81\n",
      "3  @Anthrobirder\n",
      "4     @anthroetc\n"
     ]
    }
   ],
   "source": [
    "all_users = pd.read_csv('../data/valid_twitter_handles_2023-06-06_complete.txt', sep='\\t', header=None)\n",
    "\n",
    "print(all_users.head())\n",
    "\n",
    "all_users = set([handler[1:] for handler in all_users[0].values])"
   ]
  },
  {
   "cell_type": "markdown",
   "metadata": {},
   "source": [
    "270 invalid entries"
   ]
  },
  {
   "cell_type": "code",
   "execution_count": null,
   "metadata": {},
   "outputs": [],
   "source": [
    "missing = all_users - unique_users\n",
    "print(missing)\n",
    "print(len(missing))"
   ]
  },
  {
   "cell_type": "code",
   "execution_count": 29,
   "metadata": {},
   "outputs": [],
   "source": [
    "today = date.today()\n",
    "missing_profiles = open('../data/twitter_handles_missing_{}.txt'.format(today), 'w', encoding='utf-8')\n",
    "for handler in missing:\n",
    "    missing_profiles.write(\"{}\\n\".format(handler))\n",
    "missing_profiles.close()\n"
   ]
  },
  {
   "cell_type": "code",
   "execution_count": 7,
   "metadata": {},
   "outputs": [],
   "source": [
    "mastodon_topic = []\n",
    "nonmastodon_topic = []\n",
    "for tweet in tweets:\n",
    "    text = tweet['text'].lower()\n",
    "    if 'mastodon' in text:\n",
    "        created_at = tweet['created_at']\n",
    "        user = tweet['user']\n",
    "        mastodon_topic.append((text, created_at, user))\n",
    "    else:\n",
    "        created_at = tweet['created_at']\n",
    "        user = tweet['user']\n",
    "        nonmastodon_topic.append((text, created_at, user))\n"
   ]
  },
  {
   "cell_type": "code",
   "execution_count": 8,
   "metadata": {},
   "outputs": [
    {
     "name": "stdout",
     "output_type": "stream",
     "text": [
      "3526\n",
      "716599\n"
     ]
    }
   ],
   "source": [
    "print(len(mastodon_topic))\n",
    "print(len(nonmastodon_topic))"
   ]
  },
  {
   "cell_type": "code",
   "execution_count": 30,
   "metadata": {},
   "outputs": [],
   "source": [
    "import calendar\n",
    "import numpy as np\n",
    "calendar.setfirstweekday(6)\n",
    "\n",
    "def get_week_of_month(year, month, day):\n",
    "    x = np.array(calendar.monthcalendar(year, month))\n",
    "    week_of_month = np.where(x==day)[0][0]\n",
    "    return(week_of_month)\n",
    "\n",
    "\n",
    "def to_datetime(datestring):\n",
    "    time_tuple = parsedate_tz(datestring.strip())\n",
    "    dt = datetime(*time_tuple[:6])\n",
    "    return dt - timedelta(seconds=time_tuple[-1])\n",
    "\n",
    "x = []\n",
    "for tweet in mastodon_topic:\n",
    "    d = to_datetime(tweet[1])\n",
    "    month = d.month \n",
    "    year = d.year\n",
    "    week = get_week_of_month(d.year, d.month, d.day)\n",
    "    x.append(\"{}-{}-{}\".format(year, month, week))\n",
    "\n",
    "nonx = []\n",
    "for tweet in nonmastodon_topic:\n",
    "    d = to_datetime(tweet[1])\n",
    "    month = d.month \n",
    "    year = d.year\n",
    "    week = get_week_of_month(d.year, d.month, d.day)\n",
    "    nonx.append(\"{}-{}-{}\".format(year, month, week))\n"
   ]
  },
  {
   "cell_type": "markdown",
   "metadata": {},
   "source": [
    "Tweets with occurence of word \"mastodon\":"
   ]
  },
  {
   "cell_type": "code",
   "execution_count": 31,
   "metadata": {},
   "outputs": [
    {
     "name": "stdout",
     "output_type": "stream",
     "text": [
      "['2022-10-1' '2022-10-3' '2022-10-4' '2022-10-5' '2022-11-0' '2022-11-1'\n",
      " '2022-11-2' '2022-11-3' '2022-11-4' '2022-12-0' '2022-12-1' '2022-12-2'\n",
      " '2022-12-3' '2022-12-4' '2022-8-4' '2022-9-2' '2023-1-0' '2023-1-1'\n",
      " '2023-1-2' '2023-1-3' '2023-1-4' '2023-2-0' '2023-2-1' '2023-2-2'\n",
      " '2023-2-3' '2023-2-4' '2023-3-0' '2023-3-1' '2023-3-2' '2023-3-3'\n",
      " '2023-3-4' '2023-4-0' '2023-4-1' '2023-4-2' '2023-4-3' '2023-4-4'\n",
      " '2023-4-5' '2023-5-0']\n"
     ]
    },
    {
     "data": {
      "image/png": "[encoded data removed]",
      "text/plain": [
       "<Figure size 640x480 with 1 Axes>"
      ]
     },
     "metadata": {},
     "output_type": "display_data"
    }
   ],
   "source": [
    "import numpy as np\n",
    "import matplotlib.pyplot as plt\n",
    "\n",
    "u1, c1 = np.unique(x, return_counts=True)\n",
    "\n",
    "print(u1)\n",
    "\n",
    "mast_map = dict()\n",
    "for a,b in zip(u1, c1):\n",
    "    mast_map[a] = b\n",
    "\n",
    "_ = plt.bar(u1, c1)\n",
    "_ = plt.xticks(rotation=90)"
   ]
  },
  {
   "cell_type": "code",
   "execution_count": 32,
   "metadata": {},
   "outputs": [
    {
     "data": {
      "image/png": "[encoded data removed]",
      "text/plain": [
       "<Figure size 640x480 with 1 Axes>"
      ]
     },
     "metadata": {},
     "output_type": "display_data"
    }
   ],
   "source": [
    "import numpy as np\n",
    "import matplotlib.pyplot as plt\n",
    "\n",
    "u2, c2 = np.unique(nonx, return_counts=True)\n",
    "\n",
    "nonmast_map = dict()\n",
    "for a,b in zip(u2, c2):\n",
    "    nonmast_map[a] = b\n",
    "\n",
    "_ = plt.bar(u2, c2)\n",
    "_ = plt.xticks(rotation=90)"
   ]
  },
  {
   "cell_type": "code",
   "execution_count": 45,
   "metadata": {},
   "outputs": [
    {
     "name": "stdout",
     "output_type": "stream",
     "text": [
      "dict_keys(['2022-10-0', '2022-10-1', '2022-10-2', '2022-10-3', '2022-10-4', '2022-10-5', '2022-11-0', '2022-11-1', '2022-11-2', '2022-11-3', '2022-11-4', '2022-12-0', '2022-12-1', '2022-12-2', '2022-12-3', '2022-12-4', '2022-8-0', '2022-8-1', '2022-8-2', '2022-8-3', '2022-8-4', '2022-9-0', '2022-9-1', '2022-9-2', '2022-9-3', '2022-9-4', '2023-1-0', '2023-1-1', '2023-1-2', '2023-1-3', '2023-1-4', '2023-2-0', '2023-2-1', '2023-2-2', '2023-2-3', '2023-2-4', '2023-3-0', '2023-3-1', '2023-3-2', '2023-3-3', '2023-3-4', '2023-4-0', '2023-4-1', '2023-4-2', '2023-4-3', '2023-4-4', '2023-4-5', '2023-5-0'])\n"
     ]
    }
   ],
   "source": [
    "print(nonmast_map.keys())\n",
    "X = []\n",
    "Y_total = []\n",
    "Y_x = []\n",
    "Y_nonx = []\n",
    "for month_year in ['2022-10', '2022-11', '2022-12', '2023-1', '2023-2', '2023-3', '2023-4', '2023-5']:\n",
    "    for week in range(1, 5):\n",
    "        yyyy_mm_dd = \"{}-{}\".format(month_year, week)\n",
    "        X.append(yyyy_mm_dd)\n",
    "        total = 0\n",
    "        if yyyy_mm_dd in nonmast_map:\n",
    "            Y_nonx.append(nonmast_map[yyyy_mm_dd])\n",
    "            total += nonmast_map[yyyy_mm_dd]\n",
    "        else:\n",
    "            Y_nonx.append(0)\n",
    "\n",
    "        if yyyy_mm_dd in mast_map:\n",
    "            Y_x.append(mast_map[yyyy_mm_dd])\n",
    "            total += mast_map[yyyy_mm_dd]\n",
    "        else:\n",
    "            Y_x.append(0)\n",
    "\n",
    "        Y_total.append(total)"
   ]
  },
  {
   "cell_type": "code",
   "execution_count": 46,
   "metadata": {},
   "outputs": [
    {
     "data": {
      "text/plain": [
       "['2022-10-1',\n",
       " '2022-10-2',\n",
       " '2022-10-3',\n",
       " '2022-10-4',\n",
       " '2022-11-1',\n",
       " '2022-11-2',\n",
       " '2022-11-3',\n",
       " '2022-11-4',\n",
       " '2022-12-1',\n",
       " '2022-12-2',\n",
       " '2022-12-3',\n",
       " '2022-12-4',\n",
       " '2023-1-1',\n",
       " '2023-1-2',\n",
       " '2023-1-3',\n",
       " '2023-1-4',\n",
       " '2023-2-1',\n",
       " '2023-2-2',\n",
       " '2023-2-3',\n",
       " '2023-2-4',\n",
       " '2023-3-1',\n",
       " '2023-3-2',\n",
       " '2023-3-3',\n",
       " '2023-3-4',\n",
       " '2023-4-1',\n",
       " '2023-4-2',\n",
       " '2023-4-3',\n",
       " '2023-4-4',\n",
       " '2023-5-1',\n",
       " '2023-5-2',\n",
       " '2023-5-3',\n",
       " '2023-5-4']"
      ]
     },
     "execution_count": 46,
     "metadata": {},
     "output_type": "execute_result"
    }
   ],
   "source": [
    "\n",
    "X"
   ]
  },
  {
   "cell_type": "code",
   "execution_count": 61,
   "metadata": {},
   "outputs": [
    {
     "data": {
      "image/png": "[encoded data removed]",
      "text/plain": [
       "<Figure size 640x480 with 1 Axes>"
      ]
     },
     "metadata": {},
     "output_type": "display_data"
    }
   ],
   "source": [
    "xperc = []\n",
    "nonperc = []\n",
    "x_nonzero = []\n",
    "for x, non,mast,total in zip(X, Y_nonx, Y_x, Y_total):\n",
    "    if total == 0:\n",
    "        continue\n",
    "    x_nonzero.append(x)\n",
    "    xperc.append(100*mast/total)\n",
    "    nonperc.append(100*non/total)\n",
    "\n",
    "# plt.plot(X, Y_total, label='total')\n",
    "plt.plot(x_nonzero, nonperc, label='no mastodon')\n",
    "plt.plot(x_nonzero, xperc, label='mastodon')\n",
    "plt.ylabel('%')\n",
    "plt.legend()\n",
    "_ = plt.xticks(rotation=90)\n",
    "plt.savefig('tweets-mastodon.png',bbox_inches=\"tight\")"
   ]
  },
  {
   "cell_type": "code",
   "execution_count": null,
   "metadata": {},
   "outputs": [],
   "source": []
  }
 ],
 "metadata": {
  "kernelspec": {
   "display_name": "Python 3 (ipykernel)",
   "language": "python",
   "name": "python3"
  },
  "language_info": {
   "codemirror_mode": {
    "name": "ipython",
    "version": 3
   },
   "file_extension": ".py",
   "mimetype": "text/x-python",
   "name": "python",
   "nbconvert_exporter": "python",
   "pygments_lexer": "ipython3",
   "version": "3.8.3"
  }
 },
 "nbformat": 4,
 "nbformat_minor": 4
}
