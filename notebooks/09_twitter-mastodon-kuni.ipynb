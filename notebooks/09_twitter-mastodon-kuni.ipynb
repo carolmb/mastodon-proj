{
 "cells": [
  {
   "cell_type": "code",
   "execution_count": 16,
   "metadata": {},
   "outputs": [],
   "source": [
    "import datetime\n",
    "import numpy as np\n",
    "import pandas as pd\n",
    "import matplotlib.pyplot as plt"
   ]
  },
  {
   "cell_type": "code",
   "execution_count": 80,
   "metadata": {},
   "outputs": [
    {
     "name": "stdout",
     "output_type": "stream",
     "text": [
      "155031\n",
      "154949\n"
     ]
    },
    {
     "data": {
      "text/plain": [
       "Unnamed: 0                                                                0\n",
       "id                                                       109632025981742226\n",
       "created_at                                         2023-01-04T17:05:58.949Z\n",
       "in_reply_to_account_id                                                  NaN\n",
       "uri                       https://fediscience.org/users/sophieduroy/stat...\n",
       "replies_count                                                           0.0\n",
       "reblogs_count                                                           0.0\n",
       "favourites_count                                                        0.0\n",
       "content                   <p>Join us next week Thu (Jan. 12) at 4 pm CET...\n",
       "mastodon_name                                   sophieduroy@fediscience.org\n",
       "Name: 215, dtype: object"
      ]
     },
     "execution_count": 80,
     "metadata": {},
     "output_type": "execute_result"
    }
   ],
   "source": [
    "toots = pd.read_csv('toots_kuni_list.tsv', sep='\\t', dtype=object) ## 10/07/2023\n",
    "print(len(toots))\n",
    "toots = toots.dropna(subset='id')\n",
    "print(len(toots))"
   ]
  },
  {
   "cell_type": "code",
   "execution_count": 64,
   "metadata": {},
   "outputs": [
    {
     "data": {
      "text/plain": [
       "'2023-02-07T21:23:54.331Z'"
      ]
     },
     "execution_count": 64,
     "metadata": {},
     "output_type": "execute_result"
    }
   ],
   "source": [
    "temp['created_at']"
   ]
  },
  {
   "cell_type": "code",
   "execution_count": 3,
   "metadata": {},
   "outputs": [
    {
     "data": {
      "text/plain": [
       "1334"
      ]
     },
     "execution_count": 3,
     "metadata": {},
     "output_type": "execute_result"
    }
   ],
   "source": [
    "len(toots['mastodon_name'].unique())"
   ]
  },
  {
   "cell_type": "code",
   "execution_count": 4,
   "metadata": {},
   "outputs": [
    {
     "data": {
      "text/html": [
       "<div>\n",
       "<style scoped>\n",
       "    .dataframe tbody tr th:only-of-type {\n",
       "        vertical-align: middle;\n",
       "    }\n",
       "\n",
       "    .dataframe tbody tr th {\n",
       "        vertical-align: top;\n",
       "    }\n",
       "\n",
       "    .dataframe thead th {\n",
       "        text-align: right;\n",
       "    }\n",
       "</style>\n",
       "<table border=\"1\" class=\"dataframe\">\n",
       "  <thead>\n",
       "    <tr style=\"text-align: right;\">\n",
       "      <th></th>\n",
       "      <th>Unnamed: 0</th>\n",
       "      <th>user</th>\n",
       "      <th>instance</th>\n",
       "      <th>user_id</th>\n",
       "      <th>mastodon_name</th>\n",
       "    </tr>\n",
       "  </thead>\n",
       "  <tbody>\n",
       "    <tr>\n",
       "      <th>0</th>\n",
       "      <td>0</td>\n",
       "      <td>HelmutBuergmann</td>\n",
       "      <td>mstdn.science</td>\n",
       "      <td>109290116551935157</td>\n",
       "      <td>HelmutBuergmann@mstdn.science</td>\n",
       "    </tr>\n",
       "    <tr>\n",
       "      <th>1</th>\n",
       "      <td>1</td>\n",
       "      <td>boshek</td>\n",
       "      <td>fosstodon.org</td>\n",
       "      <td>109314764090379220</td>\n",
       "      <td>boshek@fosstodon.org</td>\n",
       "    </tr>\n",
       "    <tr>\n",
       "      <th>2</th>\n",
       "      <td>2</td>\n",
       "      <td>DenisDuboule</td>\n",
       "      <td>mas.to</td>\n",
       "      <td>109258593858933399</td>\n",
       "      <td>DenisDuboule@mas.to</td>\n",
       "    </tr>\n",
       "    <tr>\n",
       "      <th>3</th>\n",
       "      <td>3</td>\n",
       "      <td>paulgkeil</td>\n",
       "      <td>mastodon.world</td>\n",
       "      <td>109500238977329432</td>\n",
       "      <td>paulgkeil@mastodon.world</td>\n",
       "    </tr>\n",
       "    <tr>\n",
       "      <th>4</th>\n",
       "      <td>4</td>\n",
       "      <td>rider_jon</td>\n",
       "      <td>zirk.us</td>\n",
       "      <td>109365280591812662</td>\n",
       "      <td>rider_jon@zirk.us</td>\n",
       "    </tr>\n",
       "  </tbody>\n",
       "</table>\n",
       "</div>"
      ],
      "text/plain": [
       "   Unnamed: 0             user        instance             user_id   \n",
       "0           0  HelmutBuergmann   mstdn.science  109290116551935157  \\\n",
       "1           1           boshek   fosstodon.org  109314764090379220   \n",
       "2           2     DenisDuboule          mas.to  109258593858933399   \n",
       "3           3        paulgkeil  mastodon.world  109500238977329432   \n",
       "4           4        rider_jon         zirk.us  109365280591812662   \n",
       "\n",
       "                   mastodon_name  \n",
       "0  HelmutBuergmann@mstdn.science  \n",
       "1           boshek@fosstodon.org  \n",
       "2            DenisDuboule@mas.to  \n",
       "3       paulgkeil@mastodon.world  \n",
       "4              rider_jon@zirk.us  "
      ]
     },
     "execution_count": 4,
     "metadata": {},
     "output_type": "execute_result"
    }
   ],
   "source": [
    "user_id_map = pd.read_csv('user111_id_list_kunilist_2023-06-30.tsv', sep='\\t')\n",
    "user_id_map = user_id_map.drop_duplicates(subset=['user', 'instance'])\n",
    "user_id_map = user_id_map.dropna()\n",
    "\n",
    "user_id_map['mastodon_name'] = user_id_map.apply(lambda row: \"{}@{}\".format(row['user'], row['instance']), axis = 1)\n",
    "user_id_map.head()"
   ]
  },
  {
   "cell_type": "code",
   "execution_count": 5,
   "metadata": {},
   "outputs": [],
   "source": [
    "toots = toots.merge(user_id_map, on='mastodon_name')"
   ]
  },
  {
   "cell_type": "code",
   "execution_count": 6,
   "metadata": {},
   "outputs": [
    {
     "data": {
      "text/html": [
       "<div>\n",
       "<style scoped>\n",
       "    .dataframe tbody tr th:only-of-type {\n",
       "        vertical-align: middle;\n",
       "    }\n",
       "\n",
       "    .dataframe tbody tr th {\n",
       "        vertical-align: top;\n",
       "    }\n",
       "\n",
       "    .dataframe thead th {\n",
       "        text-align: right;\n",
       "    }\n",
       "</style>\n",
       "<table border=\"1\" class=\"dataframe\">\n",
       "  <thead>\n",
       "    <tr style=\"text-align: right;\">\n",
       "      <th></th>\n",
       "      <th>Unnamed: 0_x</th>\n",
       "      <th>id</th>\n",
       "      <th>created_at</th>\n",
       "      <th>in_reply_to_account_id</th>\n",
       "      <th>uri</th>\n",
       "      <th>replies_count</th>\n",
       "      <th>reblogs_count</th>\n",
       "      <th>favourites_count</th>\n",
       "      <th>content</th>\n",
       "      <th>mastodon_name</th>\n",
       "      <th>Unnamed: 0_y</th>\n",
       "      <th>user</th>\n",
       "      <th>instance</th>\n",
       "      <th>user_id</th>\n",
       "    </tr>\n",
       "  </thead>\n",
       "  <tbody>\n",
       "    <tr>\n",
       "      <th>0</th>\n",
       "      <td>0</td>\n",
       "      <td>110547928364675842</td>\n",
       "      <td>2023-06-15T11:12:00.221Z</td>\n",
       "      <td>NaN</td>\n",
       "      <td>https://mastodon.green/users/DrAnaQueiros/stat...</td>\n",
       "      <td>0.0</td>\n",
       "      <td>0.0</td>\n",
       "      <td>0.0</td>\n",
       "      <td>NaN</td>\n",
       "      <td>DrAnaQueiros@mastodon.green</td>\n",
       "      <td>1290</td>\n",
       "      <td>DrAnaQueiros</td>\n",
       "      <td>mastodon.green</td>\n",
       "      <td>109296055170074546</td>\n",
       "    </tr>\n",
       "    <tr>\n",
       "      <th>1</th>\n",
       "      <td>1</td>\n",
       "      <td>109865077222212213</td>\n",
       "      <td>2023-02-14T20:53:58.680Z</td>\n",
       "      <td>NaN</td>\n",
       "      <td>https://mastodon.green/users/DrAnaQueiros/stat...</td>\n",
       "      <td>0.0</td>\n",
       "      <td>0.0</td>\n",
       "      <td>0.0</td>\n",
       "      <td>NaN</td>\n",
       "      <td>DrAnaQueiros@mastodon.green</td>\n",
       "      <td>1290</td>\n",
       "      <td>DrAnaQueiros</td>\n",
       "      <td>mastodon.green</td>\n",
       "      <td>109296055170074546</td>\n",
       "    </tr>\n",
       "    <tr>\n",
       "      <th>2</th>\n",
       "      <td>2</td>\n",
       "      <td>109865065540782373</td>\n",
       "      <td>2023-02-14T20:51:00.433Z</td>\n",
       "      <td>NaN</td>\n",
       "      <td>https://mastodon.green/users/DrAnaQueiros/stat...</td>\n",
       "      <td>0.0</td>\n",
       "      <td>0.0</td>\n",
       "      <td>0.0</td>\n",
       "      <td>NaN</td>\n",
       "      <td>DrAnaQueiros@mastodon.green</td>\n",
       "      <td>1290</td>\n",
       "      <td>DrAnaQueiros</td>\n",
       "      <td>mastodon.green</td>\n",
       "      <td>109296055170074546</td>\n",
       "    </tr>\n",
       "    <tr>\n",
       "      <th>3</th>\n",
       "      <td>3</td>\n",
       "      <td>109822086288418991</td>\n",
       "      <td>2023-02-07T06:40:49.087Z</td>\n",
       "      <td>NaN</td>\n",
       "      <td>https://mastodon.green/users/DrAnaQueiros/stat...</td>\n",
       "      <td>0.0</td>\n",
       "      <td>0.0</td>\n",
       "      <td>0.0</td>\n",
       "      <td>NaN</td>\n",
       "      <td>DrAnaQueiros@mastodon.green</td>\n",
       "      <td>1290</td>\n",
       "      <td>DrAnaQueiros</td>\n",
       "      <td>mastodon.green</td>\n",
       "      <td>109296055170074546</td>\n",
       "    </tr>\n",
       "    <tr>\n",
       "      <th>4</th>\n",
       "      <td>4</td>\n",
       "      <td>109806613521430505</td>\n",
       "      <td>2023-02-04T13:05:53.396Z</td>\n",
       "      <td>NaN</td>\n",
       "      <td>https://mastodon.green/users/DrAnaQueiros/stat...</td>\n",
       "      <td>0.0</td>\n",
       "      <td>0.0</td>\n",
       "      <td>0.0</td>\n",
       "      <td>NaN</td>\n",
       "      <td>DrAnaQueiros@mastodon.green</td>\n",
       "      <td>1290</td>\n",
       "      <td>DrAnaQueiros</td>\n",
       "      <td>mastodon.green</td>\n",
       "      <td>109296055170074546</td>\n",
       "    </tr>\n",
       "  </tbody>\n",
       "</table>\n",
       "</div>"
      ],
      "text/plain": [
       "  Unnamed: 0_x                  id                created_at   \n",
       "0            0  110547928364675842  2023-06-15T11:12:00.221Z  \\\n",
       "1            1  109865077222212213  2023-02-14T20:53:58.680Z   \n",
       "2            2  109865065540782373  2023-02-14T20:51:00.433Z   \n",
       "3            3  109822086288418991  2023-02-07T06:40:49.087Z   \n",
       "4            4  109806613521430505  2023-02-04T13:05:53.396Z   \n",
       "\n",
       "  in_reply_to_account_id                                                uri   \n",
       "0                    NaN  https://mastodon.green/users/DrAnaQueiros/stat...  \\\n",
       "1                    NaN  https://mastodon.green/users/DrAnaQueiros/stat...   \n",
       "2                    NaN  https://mastodon.green/users/DrAnaQueiros/stat...   \n",
       "3                    NaN  https://mastodon.green/users/DrAnaQueiros/stat...   \n",
       "4                    NaN  https://mastodon.green/users/DrAnaQueiros/stat...   \n",
       "\n",
       "  replies_count reblogs_count favourites_count content   \n",
       "0           0.0           0.0              0.0     NaN  \\\n",
       "1           0.0           0.0              0.0     NaN   \n",
       "2           0.0           0.0              0.0     NaN   \n",
       "3           0.0           0.0              0.0     NaN   \n",
       "4           0.0           0.0              0.0     NaN   \n",
       "\n",
       "                 mastodon_name  Unnamed: 0_y          user        instance   \n",
       "0  DrAnaQueiros@mastodon.green          1290  DrAnaQueiros  mastodon.green  \\\n",
       "1  DrAnaQueiros@mastodon.green          1290  DrAnaQueiros  mastodon.green   \n",
       "2  DrAnaQueiros@mastodon.green          1290  DrAnaQueiros  mastodon.green   \n",
       "3  DrAnaQueiros@mastodon.green          1290  DrAnaQueiros  mastodon.green   \n",
       "4  DrAnaQueiros@mastodon.green          1290  DrAnaQueiros  mastodon.green   \n",
       "\n",
       "              user_id  \n",
       "0  109296055170074546  \n",
       "1  109296055170074546  \n",
       "2  109296055170074546  \n",
       "3  109296055170074546  \n",
       "4  109296055170074546  "
      ]
     },
     "execution_count": 6,
     "metadata": {},
     "output_type": "execute_result"
    }
   ],
   "source": [
    "toots.head()"
   ]
  },
  {
   "cell_type": "markdown",
   "metadata": {},
   "source": [
    "Total of toots (Kuni list from Twitter): 186,941\n",
    "\n",
    "Number of mastodon users (Kuni list from Twitter): 4311"
   ]
  },
  {
   "cell_type": "code",
   "execution_count": 7,
   "metadata": {},
   "outputs": [
    {
     "name": "stdout",
     "output_type": "stream",
     "text": [
      "155031\n",
      "4311\n"
     ]
    }
   ],
   "source": [
    "print(len(toots))\n",
    "print(len(user_id_map))"
   ]
  },
  {
   "cell_type": "markdown",
   "metadata": {},
   "source": [
    "Number of active users: 1392 of 4311"
   ]
  },
  {
   "cell_type": "code",
   "execution_count": 8,
   "metadata": {},
   "outputs": [
    {
     "name": "stdout",
     "output_type": "stream",
     "text": [
      "1334\n"
     ]
    }
   ],
   "source": [
    "print(len(toots['user_id'].unique()))"
   ]
  },
  {
   "cell_type": "code",
   "execution_count": 186,
   "metadata": {},
   "outputs": [
    {
     "data": {
      "text/html": [
       "<div>\n",
       "<style scoped>\n",
       "    .dataframe tbody tr th:only-of-type {\n",
       "        vertical-align: middle;\n",
       "    }\n",
       "\n",
       "    .dataframe tbody tr th {\n",
       "        vertical-align: top;\n",
       "    }\n",
       "\n",
       "    .dataframe thead th {\n",
       "        text-align: right;\n",
       "    }\n",
       "</style>\n",
       "<table border=\"1\" class=\"dataframe\">\n",
       "  <thead>\n",
       "    <tr style=\"text-align: right;\">\n",
       "      <th></th>\n",
       "      <th>Unnamed: 0</th>\n",
       "      <th>mastodon_name</th>\n",
       "      <th>OpenAlex_account</th>\n",
       "      <th>x_concepts</th>\n",
       "      <th>id_str</th>\n",
       "    </tr>\n",
       "  </thead>\n",
       "  <tbody>\n",
       "    <tr>\n",
       "      <th>0</th>\n",
       "      <td>74</td>\n",
       "      <td>@HelmutBuergmann@mstdn.science</td>\n",
       "      <td>https://openalex.org/A2076598371</td>\n",
       "      <td>[{'id': 'https://openalex.org/C86803240', 'wik...</td>\n",
       "      <td>806806433404620800</td>\n",
       "    </tr>\n",
       "    <tr>\n",
       "      <th>1</th>\n",
       "      <td>170</td>\n",
       "      <td>@boshek@fosstodon.org</td>\n",
       "      <td>https://openalex.org/A2114692991</td>\n",
       "      <td>[{'id': 'https://openalex.org/C86803240', 'wik...</td>\n",
       "      <td>1317009122</td>\n",
       "    </tr>\n",
       "    <tr>\n",
       "      <th>2</th>\n",
       "      <td>219</td>\n",
       "      <td>@DenisDuboule@mas.to</td>\n",
       "      <td>https://openalex.org/A295410851</td>\n",
       "      <td>[{'id': 'https://openalex.org/C54355233', 'wik...</td>\n",
       "      <td>1376641550</td>\n",
       "    </tr>\n",
       "    <tr>\n",
       "      <th>3</th>\n",
       "      <td>266</td>\n",
       "      <td>@paulgkeil@mastodon.world</td>\n",
       "      <td>https://openalex.org/A2061685470</td>\n",
       "      <td>[{'id': 'https://openalex.org/C15744967', 'wik...</td>\n",
       "      <td>359880812</td>\n",
       "    </tr>\n",
       "    <tr>\n",
       "      <th>4</th>\n",
       "      <td>299</td>\n",
       "      <td>@rider_jon@zirk.us</td>\n",
       "      <td>https://openalex.org/A2646935175</td>\n",
       "      <td>[{'id': 'https://openalex.org/C142362112', 'wi...</td>\n",
       "      <td>890826954</td>\n",
       "    </tr>\n",
       "  </tbody>\n",
       "</table>\n",
       "</div>"
      ],
      "text/plain": [
       "   Unnamed: 0                   mastodon_name  \\\n",
       "0          74  @HelmutBuergmann@mstdn.science   \n",
       "1         170           @boshek@fosstodon.org   \n",
       "2         219            @DenisDuboule@mas.to   \n",
       "3         266       @paulgkeil@mastodon.world   \n",
       "4         299              @rider_jon@zirk.us   \n",
       "\n",
       "                   OpenAlex_account  \\\n",
       "0  https://openalex.org/A2076598371   \n",
       "1  https://openalex.org/A2114692991   \n",
       "2   https://openalex.org/A295410851   \n",
       "3  https://openalex.org/A2061685470   \n",
       "4  https://openalex.org/A2646935175   \n",
       "\n",
       "                                          x_concepts              id_str  \n",
       "0  [{'id': 'https://openalex.org/C86803240', 'wik...  806806433404620800  \n",
       "1  [{'id': 'https://openalex.org/C86803240', 'wik...          1317009122  \n",
       "2  [{'id': 'https://openalex.org/C54355233', 'wik...          1376641550  \n",
       "3  [{'id': 'https://openalex.org/C15744967', 'wik...           359880812  \n",
       "4  [{'id': 'https://openalex.org/C142362112', 'wi...           890826954  "
      ]
     },
     "execution_count": 186,
     "metadata": {},
     "output_type": "execute_result"
    }
   ],
   "source": [
    "fields_of_study = pd.read_csv('mastodon_users_wOpenAlex2.csv')\n",
    "fields_of_study.head()"
   ]
  },
  {
   "cell_type": "code",
   "execution_count": 189,
   "metadata": {},
   "outputs": [
    {
     "data": {
      "text/plain": [
       "4677"
      ]
     },
     "execution_count": 189,
     "metadata": {},
     "output_type": "execute_result"
    }
   ],
   "source": [
    "len(fields_of_study['mastodon_name'].unique())\n",
    "4680"
   ]
  },
  {
   "cell_type": "code",
   "execution_count": 10,
   "metadata": {},
   "outputs": [],
   "source": [
    "import ast\n",
    "from collections import defaultdict\n",
    "\n",
    "fields_of_study = fields_of_study.dropna()\n",
    "\n",
    "field2author = defaultdict(lambda:[])\n",
    "for _, author in fields_of_study.iterrows():\n",
    "    fields = ast.literal_eval(author['x_concepts'])\n",
    "    # fields = json.loads(concepts_string)\n",
    "    for subfield in fields:\n",
    "        if subfield['level'] == 0 and subfield['score'] >= 50:\n",
    "            field2author[subfield['display_name']].append(author['mastodon_name'][1:])"
   ]
  },
  {
   "cell_type": "code",
   "execution_count": 11,
   "metadata": {},
   "outputs": [
    {
     "data": {
      "text/plain": [
       "19"
      ]
     },
     "execution_count": 11,
     "metadata": {},
     "output_type": "execute_result"
    }
   ],
   "source": [
    "field2author = dict(sorted(field2author.items(), key=lambda item: -len(item[1])))\n",
    "len(field2author.keys())"
   ]
  },
  {
   "cell_type": "code",
   "execution_count": 12,
   "metadata": {},
   "outputs": [
    {
     "name": "stdout",
     "output_type": "stream",
     "text": [
      "[('Biology', 2743, 75864), ('Computer science', 2224, 78600), ('Medicine', 1850, 42509)]\n"
     ]
    }
   ],
   "source": [
    "field_toots_count = []\n",
    "for field, authors in field2author.items():\n",
    "    authors = set(authors)\n",
    "    toots_field = toots[toots['mastodon_name'].isin(authors)]\n",
    "    field_toots_count.append((field, len(authors), len(toots_field)))\n",
    "\n",
    "print(field_toots_count[:3])\n"
   ]
  },
  {
   "cell_type": "markdown",
   "metadata": {},
   "source": [
    "## number of toots by field of study"
   ]
  },
  {
   "cell_type": "code",
   "execution_count": 13,
   "metadata": {},
   "outputs": [
    {
     "data": {
      "text/plain": [
       "[('Computer science', 2224, 78600),\n",
       " ('Biology', 2743, 75864),\n",
       " ('Political science', 1284, 61139),\n",
       " ('Sociology', 1025, 49690),\n",
       " ('Physics', 1254, 45653),\n",
       " ('Medicine', 1850, 42509),\n",
       " ('Geography', 707, 38799),\n",
       " ('Philosophy', 1033, 35143),\n",
       " ('Mathematics', 1044, 34862),\n",
       " ('History', 517, 34320),\n",
       " ('Engineering', 907, 34093),\n",
       " ('Psychology', 1390, 33255),\n",
       " ('Chemistry', 1264, 31645),\n",
       " ('Economics', 844, 26575),\n",
       " ('Geology', 841, 24651),\n",
       " ('Business', 419, 19284),\n",
       " ('Art', 312, 16591),\n",
       " ('Environmental science', 328, 12988),\n",
       " ('Materials science', 249, 4784)]"
      ]
     },
     "execution_count": 13,
     "metadata": {},
     "output_type": "execute_result"
    }
   ],
   "source": [
    "sorted(field_toots_count, key=lambda row: -row[-1])"
   ]
  },
  {
   "cell_type": "markdown",
   "metadata": {},
   "source": [
    "## number of inactive users by field of study"
   ]
  },
  {
   "cell_type": "code",
   "execution_count": 14,
   "metadata": {},
   "outputs": [
    {
     "name": "stdout",
     "output_type": "stream",
     "text": [
      "['DrAnaQueiros@mastodon.green' 'macaskillaf@fediscience.org'\n",
      " 'mayrl@sciences.social' 'ykhong@mas.to' 'DylanPare@mastodon.social'\n",
      " 'sophieduroy@fediscience.org' 'jhi@mstdn.social'\n",
      " 'EmilyOGorman@mastodon.world' 'CathleenCrudden@mstdn.social'\n",
      " 'Dmcampbellwsu@hcommons.social']\n"
     ]
    }
   ],
   "source": [
    "active_users = toots['mastodon_name'].unique()\n",
    "print(active_users[:10])\n",
    "# TODO trocar por user_instance\n",
    "\n",
    "inactive_users = defaultdict(lambda:[])\n",
    "for field, authors in field2author.items():\n",
    "    for author in authors:\n",
    "        if not author in active_users:\n",
    "            inactive_users[field].append(author)"
   ]
  },
  {
   "cell_type": "code",
   "execution_count": 15,
   "metadata": {},
   "outputs": [
    {
     "name": "stdout",
     "output_type": "stream",
     "text": [
      "Biology 2044 2743\n",
      "Computer science 1585 2226\n",
      "Medicine 1368 1851\n",
      "Psychology 933 1392\n",
      "Political science 816 1286\n",
      "Chemistry 980 1264\n",
      "Physics 902 1255\n",
      "Mathematics 739 1046\n",
      "Philosophy 665 1034\n",
      "Sociology 683 1027\n",
      "Engineering 655 909\n",
      "Economics 557 845\n",
      "Geology 617 841\n",
      "Geography 493 707\n",
      "History 342 517\n",
      "Business 272 420\n",
      "Environmental science 232 328\n",
      "Art 199 312\n",
      "Materials science 179 249\n"
     ]
    }
   ],
   "source": [
    "for field, authors in inactive_users.items():\n",
    "    print(field, len(authors), len(field2author[field]))"
   ]
  },
  {
   "cell_type": "code",
   "execution_count": 28,
   "metadata": {},
   "outputs": [],
   "source": [
    "## quantidade de toots na linha do tempo, quem continua ativo? quem não?\n",
    "\n",
    "## olhar a data de criação do perfil como 0 e contar as semanas a partir disso\n",
    "\n",
    "import util\n",
    "\n",
    "def get_userprofile(user_name, user_server):\n",
    "    token_access = util.get_instance_token(user_server)\n",
    "    user_profile = util.get_user_lookup(user_name, user_server, token_access)\n",
    "    try:\n",
    "        tt_user = \"\"\n",
    "        for field in user_profile[\"fields\"]:\n",
    "            if field[\"name\"] == \"Twitter\":\n",
    "                tt_user = field[\"value\"]\n",
    "\n",
    "        bio = user_profile[\"note\"]\n",
    "        created = user_profile[\"created_at\"]\n",
    "        display_name = user_profile[\"display_name\"]\n",
    "        followers = user_profile[\"followers_count\"]\n",
    "        following = user_profile[\"following_count\"]\n",
    "        return (\n",
    "            user_name,\n",
    "            user_server,\n",
    "            display_name,\n",
    "            tt_user,\n",
    "            followers,\n",
    "            following,\n",
    "            created,\n",
    "            bio.replace(\"\\t\", \" \"),\n",
    "        )\n",
    "    except:\n",
    "        print(user_profile)\n",
    "        return None\n",
    "    "
   ]
  },
  {
   "cell_type": "code",
   "execution_count": 29,
   "metadata": {},
   "outputs": [
    {
     "name": "stdout",
     "output_type": "stream",
     "text": [
      "{'error': 'Too many requests'}\n"
     ]
    }
   ],
   "source": [
    "today = datetime.datetime.today().strftime('%m-%d-%Y')\n",
    "kuni_users_mastodon = []\n",
    "for idx, row in user_id_map.iterrows():\n",
    "    user = get_userprofile(row['user'], row['instance'])\n",
    "    if user != None:\n",
    "        kuni_users_mastodon.append(user)\n",
    "\n",
    "kuni_df = pd.DataFrame(kuni_users_mastodon)\n",
    "kuni_df.to_csv('user_profiles_kuni_{}.tsv'.format(today), sep='\\t') ## 12/07/2023"
   ]
  },
  {
   "cell_type": "code",
   "execution_count": null,
   "metadata": {},
   "outputs": [],
   "source": [
    "# data inicial de criação do perfil do usuario\n",
    "# historico de publicações "
   ]
  },
  {
   "cell_type": "code",
   "execution_count": 7,
   "metadata": {},
   "outputs": [
    {
     "data": {
      "text/html": [
       "<div>\n",
       "<style scoped>\n",
       "    .dataframe tbody tr th:only-of-type {\n",
       "        vertical-align: middle;\n",
       "    }\n",
       "\n",
       "    .dataframe tbody tr th {\n",
       "        vertical-align: top;\n",
       "    }\n",
       "\n",
       "    .dataframe thead th {\n",
       "        text-align: right;\n",
       "    }\n",
       "</style>\n",
       "<table border=\"1\" class=\"dataframe\">\n",
       "  <thead>\n",
       "    <tr style=\"text-align: right;\">\n",
       "      <th></th>\n",
       "      <th>index</th>\n",
       "      <th>username</th>\n",
       "      <th>instance</th>\n",
       "      <th>displayname</th>\n",
       "      <th>twitterhandler</th>\n",
       "      <th>followers</th>\n",
       "      <th>following</th>\n",
       "      <th>created</th>\n",
       "      <th>bio</th>\n",
       "    </tr>\n",
       "  </thead>\n",
       "  <tbody>\n",
       "    <tr>\n",
       "      <th>0</th>\n",
       "      <td>0</td>\n",
       "      <td>HelmutBuergmann</td>\n",
       "      <td>mstdn.science</td>\n",
       "      <td>Helmut Bürgmann</td>\n",
       "      <td>NaN</td>\n",
       "      <td>74</td>\n",
       "      <td>74</td>\n",
       "      <td>2022-11-05T00:00:00.000Z</td>\n",
       "      <td>&lt;p&gt;Aquatic Microbial Ecologist at Eawag - Surf...</td>\n",
       "    </tr>\n",
       "    <tr>\n",
       "      <th>1</th>\n",
       "      <td>1</td>\n",
       "      <td>boshek</td>\n",
       "      <td>fosstodon.org</td>\n",
       "      <td>Sam Albers</td>\n",
       "      <td>NaN</td>\n",
       "      <td>59</td>\n",
       "      <td>45</td>\n",
       "      <td>2022-11-09T00:00:00.000Z</td>\n",
       "      <td>&lt;p&gt;Data Scientist with VoltronData&lt;br /&gt;. Used...</td>\n",
       "    </tr>\n",
       "    <tr>\n",
       "      <th>2</th>\n",
       "      <td>2</td>\n",
       "      <td>DenisDuboule</td>\n",
       "      <td>mas.to</td>\n",
       "      <td>Denis Duboule</td>\n",
       "      <td>NaN</td>\n",
       "      <td>342</td>\n",
       "      <td>66</td>\n",
       "      <td>2022-10-30T00:00:00.000Z</td>\n",
       "      <td>&lt;p&gt;Geneticist in transit. Collège de France/EP...</td>\n",
       "    </tr>\n",
       "    <tr>\n",
       "      <th>3</th>\n",
       "      <td>3</td>\n",
       "      <td>paulgkeil</td>\n",
       "      <td>mastodon.world</td>\n",
       "      <td>PaulGKeil</td>\n",
       "      <td>NaN</td>\n",
       "      <td>12</td>\n",
       "      <td>10</td>\n",
       "      <td>2022-12-12T00:00:00.000Z</td>\n",
       "      <td>NaN</td>\n",
       "    </tr>\n",
       "    <tr>\n",
       "      <th>4</th>\n",
       "      <td>4</td>\n",
       "      <td>rider_jon</td>\n",
       "      <td>zirk.us</td>\n",
       "      <td>Jon Hughes</td>\n",
       "      <td>&lt;span class=\"h-card\"&gt;&lt;a href=\"https://zirk.us/...</td>\n",
       "      <td>402</td>\n",
       "      <td>842</td>\n",
       "      <td>2022-11-18T00:00:00.000Z</td>\n",
       "      <td>&lt;p&gt;Academic (Reader in German/Cultural Studies...</td>\n",
       "    </tr>\n",
       "  </tbody>\n",
       "</table>\n",
       "</div>"
      ],
      "text/plain": [
       "   index         username        instance      displayname  \\\n",
       "0      0  HelmutBuergmann   mstdn.science  Helmut Bürgmann   \n",
       "1      1           boshek   fosstodon.org       Sam Albers   \n",
       "2      2     DenisDuboule          mas.to    Denis Duboule   \n",
       "3      3        paulgkeil  mastodon.world        PaulGKeil   \n",
       "4      4        rider_jon         zirk.us       Jon Hughes   \n",
       "\n",
       "                                      twitterhandler  followers  following  \\\n",
       "0                                                NaN         74         74   \n",
       "1                                                NaN         59         45   \n",
       "2                                                NaN        342         66   \n",
       "3                                                NaN         12         10   \n",
       "4  <span class=\"h-card\"><a href=\"https://zirk.us/...        402        842   \n",
       "\n",
       "                    created                                                bio  \n",
       "0  2022-11-05T00:00:00.000Z  <p>Aquatic Microbial Ecologist at Eawag - Surf...  \n",
       "1  2022-11-09T00:00:00.000Z  <p>Data Scientist with VoltronData<br />. Used...  \n",
       "2  2022-10-30T00:00:00.000Z  <p>Geneticist in transit. Collège de France/EP...  \n",
       "3  2022-12-12T00:00:00.000Z                                                NaN  \n",
       "4  2022-11-18T00:00:00.000Z  <p>Academic (Reader in German/Cultural Studies...  "
      ]
     },
     "execution_count": 7,
     "metadata": {},
     "output_type": "execute_result"
    }
   ],
   "source": [
    "kuni_users_profiles = pd.read_csv('user_profiles_kuni_07-11-2023.tsv', sep='\\t')\n",
    "kuni_users_profiles.columns = ['index', 'username', 'instance', 'displayname', 'twitterhandler', 'followers', 'following', 'created', 'bio']\n",
    "kuni_users_profiles.head()"
   ]
  },
  {
   "cell_type": "code",
   "execution_count": 9,
   "metadata": {},
   "outputs": [
    {
     "data": {
      "text/plain": [
       "datetime.datetime(2022, 11, 5, 0, 0)"
      ]
     },
     "execution_count": 9,
     "metadata": {},
     "output_type": "execute_result"
    }
   ],
   "source": []
  },
  {
   "cell_type": "code",
   "execution_count": 45,
   "metadata": {},
   "outputs": [],
   "source": []
  },
  {
   "cell_type": "code",
   "execution_count": 177,
   "metadata": {},
   "outputs": [
    {
     "data": {
      "image/png": "[encoded data removed]",
      "text/plain": [
       "<Figure size 1500x400 with 1 Axes>"
      ]
     },
     "metadata": {},
     "output_type": "display_data"
    }
   ],
   "source": [
    "from matplotlib.dates import MonthLocator\n",
    "\n",
    "## monthly\n",
    "x = datetime_created\n",
    "\n",
    "plt.figure(figsize=(15, 4))\n",
    "unique, count = np.unique(x, return_counts=True)\n",
    "plt.hist(x, bins=60)\n",
    "\n",
    "ax = plt.gca()\n",
    "ax.xaxis_date()\n",
    "ax.xaxis.set_major_locator(MonthLocator())\n",
    "plt.xticks(rotation=90)\n",
    "plt.yscale('log')\n",
    "plt.show()"
   ]
  },
  {
   "cell_type": "code",
   "execution_count": 85,
   "metadata": {},
   "outputs": [],
   "source": [
    "def mstdn_handler(x):\n",
    "    return '{}@{}'.format(x['username'], x['instance'])\n",
    "\n",
    "kuni_users_profiles['mastodon_name'] = kuni_users_profiles.apply(mstdn_handler, axis=1)"
   ]
  },
  {
   "cell_type": "code",
   "execution_count": 82,
   "metadata": {},
   "outputs": [],
   "source": [
    "toot_created = []\n",
    "i = 0\n",
    "datetime_str = ''\n",
    "for str_date in toots['created_at'].values:\n",
    "    obj = datetime.datetime.strptime(str_date[:-4], '%Y-%m-%dT%H:%M:%S.')\n",
    "    toot_created.append(obj)\n",
    "toots['created_datetime'] = toot_created"
   ]
  },
  {
   "cell_type": "code",
   "execution_count": 86,
   "metadata": {},
   "outputs": [],
   "source": [
    "toots = toots.merge(kuni_users_profiles, on='mastodon_name')"
   ]
  },
  {
   "cell_type": "code",
   "execution_count": 87,
   "metadata": {},
   "outputs": [
    {
     "data": {
      "text/html": [
       "<div>\n",
       "<style scoped>\n",
       "    .dataframe tbody tr th:only-of-type {\n",
       "        vertical-align: middle;\n",
       "    }\n",
       "\n",
       "    .dataframe tbody tr th {\n",
       "        vertical-align: top;\n",
       "    }\n",
       "\n",
       "    .dataframe thead th {\n",
       "        text-align: right;\n",
       "    }\n",
       "</style>\n",
       "<table border=\"1\" class=\"dataframe\">\n",
       "  <thead>\n",
       "    <tr style=\"text-align: right;\">\n",
       "      <th></th>\n",
       "      <th>Unnamed: 0</th>\n",
       "      <th>id</th>\n",
       "      <th>created_at</th>\n",
       "      <th>in_reply_to_account_id</th>\n",
       "      <th>uri</th>\n",
       "      <th>replies_count</th>\n",
       "      <th>reblogs_count</th>\n",
       "      <th>favourites_count</th>\n",
       "      <th>content</th>\n",
       "      <th>mastodon_name</th>\n",
       "      <th>...</th>\n",
       "      <th>index</th>\n",
       "      <th>username</th>\n",
       "      <th>instance</th>\n",
       "      <th>displayname</th>\n",
       "      <th>twitterhandler</th>\n",
       "      <th>followers</th>\n",
       "      <th>following</th>\n",
       "      <th>created</th>\n",
       "      <th>bio</th>\n",
       "      <th>created_datetime_y</th>\n",
       "    </tr>\n",
       "  </thead>\n",
       "  <tbody>\n",
       "    <tr>\n",
       "      <th>0</th>\n",
       "      <td>0</td>\n",
       "      <td>110547928364675842</td>\n",
       "      <td>2023-06-15T11:12:00.221Z</td>\n",
       "      <td>NaN</td>\n",
       "      <td>https://mastodon.green/users/DrAnaQueiros/stat...</td>\n",
       "      <td>0.0</td>\n",
       "      <td>0.0</td>\n",
       "      <td>0.0</td>\n",
       "      <td>NaN</td>\n",
       "      <td>DrAnaQueiros@mastodon.green</td>\n",
       "      <td>...</td>\n",
       "      <td>1217</td>\n",
       "      <td>DrAnaQueiros</td>\n",
       "      <td>mastodon.green</td>\n",
       "      <td>DrAnaQueiros</td>\n",
       "      <td>NaN</td>\n",
       "      <td>222</td>\n",
       "      <td>80</td>\n",
       "      <td>2022-11-06T00:00:00.000Z</td>\n",
       "      <td>&lt;p&gt;Mum &amp;amp; benthic and climate change ecolog...</td>\n",
       "      <td>2022-11-06</td>\n",
       "    </tr>\n",
       "    <tr>\n",
       "      <th>1</th>\n",
       "      <td>1</td>\n",
       "      <td>109865077222212213</td>\n",
       "      <td>2023-02-14T20:53:58.680Z</td>\n",
       "      <td>NaN</td>\n",
       "      <td>https://mastodon.green/users/DrAnaQueiros/stat...</td>\n",
       "      <td>0.0</td>\n",
       "      <td>0.0</td>\n",
       "      <td>0.0</td>\n",
       "      <td>NaN</td>\n",
       "      <td>DrAnaQueiros@mastodon.green</td>\n",
       "      <td>...</td>\n",
       "      <td>1217</td>\n",
       "      <td>DrAnaQueiros</td>\n",
       "      <td>mastodon.green</td>\n",
       "      <td>DrAnaQueiros</td>\n",
       "      <td>NaN</td>\n",
       "      <td>222</td>\n",
       "      <td>80</td>\n",
       "      <td>2022-11-06T00:00:00.000Z</td>\n",
       "      <td>&lt;p&gt;Mum &amp;amp; benthic and climate change ecolog...</td>\n",
       "      <td>2022-11-06</td>\n",
       "    </tr>\n",
       "    <tr>\n",
       "      <th>2</th>\n",
       "      <td>2</td>\n",
       "      <td>109865065540782373</td>\n",
       "      <td>2023-02-14T20:51:00.433Z</td>\n",
       "      <td>NaN</td>\n",
       "      <td>https://mastodon.green/users/DrAnaQueiros/stat...</td>\n",
       "      <td>0.0</td>\n",
       "      <td>0.0</td>\n",
       "      <td>0.0</td>\n",
       "      <td>NaN</td>\n",
       "      <td>DrAnaQueiros@mastodon.green</td>\n",
       "      <td>...</td>\n",
       "      <td>1217</td>\n",
       "      <td>DrAnaQueiros</td>\n",
       "      <td>mastodon.green</td>\n",
       "      <td>DrAnaQueiros</td>\n",
       "      <td>NaN</td>\n",
       "      <td>222</td>\n",
       "      <td>80</td>\n",
       "      <td>2022-11-06T00:00:00.000Z</td>\n",
       "      <td>&lt;p&gt;Mum &amp;amp; benthic and climate change ecolog...</td>\n",
       "      <td>2022-11-06</td>\n",
       "    </tr>\n",
       "    <tr>\n",
       "      <th>3</th>\n",
       "      <td>3</td>\n",
       "      <td>109822086288418991</td>\n",
       "      <td>2023-02-07T06:40:49.087Z</td>\n",
       "      <td>NaN</td>\n",
       "      <td>https://mastodon.green/users/DrAnaQueiros/stat...</td>\n",
       "      <td>0.0</td>\n",
       "      <td>0.0</td>\n",
       "      <td>0.0</td>\n",
       "      <td>NaN</td>\n",
       "      <td>DrAnaQueiros@mastodon.green</td>\n",
       "      <td>...</td>\n",
       "      <td>1217</td>\n",
       "      <td>DrAnaQueiros</td>\n",
       "      <td>mastodon.green</td>\n",
       "      <td>DrAnaQueiros</td>\n",
       "      <td>NaN</td>\n",
       "      <td>222</td>\n",
       "      <td>80</td>\n",
       "      <td>2022-11-06T00:00:00.000Z</td>\n",
       "      <td>&lt;p&gt;Mum &amp;amp; benthic and climate change ecolog...</td>\n",
       "      <td>2022-11-06</td>\n",
       "    </tr>\n",
       "    <tr>\n",
       "      <th>4</th>\n",
       "      <td>4</td>\n",
       "      <td>109806613521430505</td>\n",
       "      <td>2023-02-04T13:05:53.396Z</td>\n",
       "      <td>NaN</td>\n",
       "      <td>https://mastodon.green/users/DrAnaQueiros/stat...</td>\n",
       "      <td>0.0</td>\n",
       "      <td>0.0</td>\n",
       "      <td>0.0</td>\n",
       "      <td>NaN</td>\n",
       "      <td>DrAnaQueiros@mastodon.green</td>\n",
       "      <td>...</td>\n",
       "      <td>1217</td>\n",
       "      <td>DrAnaQueiros</td>\n",
       "      <td>mastodon.green</td>\n",
       "      <td>DrAnaQueiros</td>\n",
       "      <td>NaN</td>\n",
       "      <td>222</td>\n",
       "      <td>80</td>\n",
       "      <td>2022-11-06T00:00:00.000Z</td>\n",
       "      <td>&lt;p&gt;Mum &amp;amp; benthic and climate change ecolog...</td>\n",
       "      <td>2022-11-06</td>\n",
       "    </tr>\n",
       "  </tbody>\n",
       "</table>\n",
       "<p>5 rows × 21 columns</p>\n",
       "</div>"
      ],
      "text/plain": [
       "  Unnamed: 0                  id                created_at  \\\n",
       "0          0  110547928364675842  2023-06-15T11:12:00.221Z   \n",
       "1          1  109865077222212213  2023-02-14T20:53:58.680Z   \n",
       "2          2  109865065540782373  2023-02-14T20:51:00.433Z   \n",
       "3          3  109822086288418991  2023-02-07T06:40:49.087Z   \n",
       "4          4  109806613521430505  2023-02-04T13:05:53.396Z   \n",
       "\n",
       "  in_reply_to_account_id                                                uri  \\\n",
       "0                    NaN  https://mastodon.green/users/DrAnaQueiros/stat...   \n",
       "1                    NaN  https://mastodon.green/users/DrAnaQueiros/stat...   \n",
       "2                    NaN  https://mastodon.green/users/DrAnaQueiros/stat...   \n",
       "3                    NaN  https://mastodon.green/users/DrAnaQueiros/stat...   \n",
       "4                    NaN  https://mastodon.green/users/DrAnaQueiros/stat...   \n",
       "\n",
       "  replies_count reblogs_count favourites_count content  \\\n",
       "0           0.0           0.0              0.0     NaN   \n",
       "1           0.0           0.0              0.0     NaN   \n",
       "2           0.0           0.0              0.0     NaN   \n",
       "3           0.0           0.0              0.0     NaN   \n",
       "4           0.0           0.0              0.0     NaN   \n",
       "\n",
       "                 mastodon_name  ... index      username        instance  \\\n",
       "0  DrAnaQueiros@mastodon.green  ...  1217  DrAnaQueiros  mastodon.green   \n",
       "1  DrAnaQueiros@mastodon.green  ...  1217  DrAnaQueiros  mastodon.green   \n",
       "2  DrAnaQueiros@mastodon.green  ...  1217  DrAnaQueiros  mastodon.green   \n",
       "3  DrAnaQueiros@mastodon.green  ...  1217  DrAnaQueiros  mastodon.green   \n",
       "4  DrAnaQueiros@mastodon.green  ...  1217  DrAnaQueiros  mastodon.green   \n",
       "\n",
       "    displayname twitterhandler followers  following                   created  \\\n",
       "0  DrAnaQueiros            NaN       222         80  2022-11-06T00:00:00.000Z   \n",
       "1  DrAnaQueiros            NaN       222         80  2022-11-06T00:00:00.000Z   \n",
       "2  DrAnaQueiros            NaN       222         80  2022-11-06T00:00:00.000Z   \n",
       "3  DrAnaQueiros            NaN       222         80  2022-11-06T00:00:00.000Z   \n",
       "4  DrAnaQueiros            NaN       222         80  2022-11-06T00:00:00.000Z   \n",
       "\n",
       "                                                 bio created_datetime_y  \n",
       "0  <p>Mum &amp; benthic and climate change ecolog...         2022-11-06  \n",
       "1  <p>Mum &amp; benthic and climate change ecolog...         2022-11-06  \n",
       "2  <p>Mum &amp; benthic and climate change ecolog...         2022-11-06  \n",
       "3  <p>Mum &amp; benthic and climate change ecolog...         2022-11-06  \n",
       "4  <p>Mum &amp; benthic and climate change ecolog...         2022-11-06  \n",
       "\n",
       "[5 rows x 21 columns]"
      ]
     },
     "execution_count": 87,
     "metadata": {},
     "output_type": "execute_result"
    }
   ],
   "source": [
    "toots.head()"
   ]
  },
  {
   "cell_type": "code",
   "execution_count": 93,
   "metadata": {},
   "outputs": [],
   "source": [
    "def diff(row):\n",
    "    return row['created_datetime_x'] - row['created_datetime_y']\n",
    "    \n",
    "toots['day_diff'] = toots.apply(diff, axis=1)"
   ]
  },
  {
   "cell_type": "code",
   "execution_count": 102,
   "metadata": {},
   "outputs": [
    {
     "data": {
      "text/plain": [
       "385"
      ]
     },
     "execution_count": 102,
     "metadata": {},
     "output_type": "execute_result"
    }
   ],
   "source": [
    "toots[toots['day_diff'] <= datetime.timedelta(days=1)]['mastodon_name'].unique().size"
   ]
  },
  {
   "cell_type": "code",
   "execution_count": 103,
   "metadata": {},
   "outputs": [
    {
     "data": {
      "text/plain": [
       "819"
      ]
     },
     "execution_count": 103,
     "metadata": {},
     "output_type": "execute_result"
    }
   ],
   "source": [
    "toots[toots['day_diff'] >= datetime.timedelta(days=7)]['mastodon_name'].unique().size"
   ]
  },
  {
   "cell_type": "code",
   "execution_count": 107,
   "metadata": {},
   "outputs": [
    {
     "data": {
      "text/plain": [
       "1229"
      ]
     },
     "execution_count": 107,
     "metadata": {},
     "output_type": "execute_result"
    }
   ],
   "source": [
    "toots[toots['day_diff'] >= datetime.timedelta(days=15)]['mastodon_name'].unique().size"
   ]
  },
  {
   "cell_type": "code",
   "execution_count": 108,
   "metadata": {},
   "outputs": [
    {
     "data": {
      "text/plain": [
       "1154"
      ]
     },
     "execution_count": 108,
     "metadata": {},
     "output_type": "execute_result"
    }
   ],
   "source": [
    "toots[toots['day_diff'] >= datetime.timedelta(days=30)]['mastodon_name'].unique().size"
   ]
  },
  {
   "cell_type": "code",
   "execution_count": 113,
   "metadata": {},
   "outputs": [],
   "source": [
    "ntoots = toots.groupby('mastodon_name')['id'].count()"
   ]
  },
  {
   "cell_type": "code",
   "execution_count": 117,
   "metadata": {},
   "outputs": [],
   "source": [
    "kuni_users_profiles = kuni_users_profiles.merge(ntoots, on='mastodon_name')"
   ]
  },
  {
   "cell_type": "code",
   "execution_count": 185,
   "metadata": {},
   "outputs": [],
   "source": [
    "temp = kuni_users_profiles\n",
    "cols = ['username', 'instance', 'id']\n",
    "temp = temp[cols]\n",
    "temp = temp.rename(columns={'id': 'ntoots'})\n",
    "temp['mastodon_name'] = temp.apply(lambda row: \"{}@{}\".format(row['username'], row['instance']), axis=1)\n",
    "temp = temp.drop(columns=['username', 'instance'], axis=1)\n",
    "temp.head()\n",
    "temp.to_csv('kuni_ntoots.tsv', sep='\\t', index=None)"
   ]
  },
  {
   "cell_type": "code",
   "execution_count": 136,
   "metadata": {},
   "outputs": [
    {
     "data": {
      "text/plain": [
       "<matplotlib.colorbar.Colorbar at 0x7fdcbada8040>"
      ]
     },
     "execution_count": 136,
     "metadata": {},
     "output_type": "execute_result"
    },
    {
     "data": {
      "image/png": "[encoded data removed]",
      "text/plain": [
       "<Figure size 640x480 with 2 Axes>"
      ]
     },
     "metadata": {},
     "output_type": "display_data"
    }
   ],
   "source": [
    "from matplotlib.colors import LogNorm\n",
    "\n",
    "x = kuni_users_profiles['followers']\n",
    "y = kuni_users_profiles['id']\n",
    "\n",
    "xbins = np.logspace(np.log10(min(x)+1), np.log10(max(x)+1), 10)\n",
    "ybins = np.logspace(np.log10(min(y)), np.log10(max(y)+1), 10)\n",
    "\n",
    "ax = plt.gca()\n",
    "ax.set_facecolor(\"black\")\n",
    "im = ax.hist2d(x, y, bins=(xbins, ybins), cmap='inferno') #vmin=1,vmax=10000))\n",
    "ax.set_xscale('log')\n",
    "ax.set_yscale('log')\n",
    "ax.set_xlabel('number of followers (+1)')\n",
    "ax.set_ylabel('number of toots')\n",
    "plt.colorbar(im[3], ax=ax)"
   ]
  },
  {
   "cell_type": "code",
   "execution_count": 128,
   "metadata": {},
   "outputs": [],
   "source": [
    "plt.show()"
   ]
  },
  {
   "cell_type": "code",
   "execution_count": 157,
   "metadata": {},
   "outputs": [],
   "source": [
    "# olhar idade academica dos autores\n",
    "# olhar quantidade de citações\n",
    "# conferir o que o kuni fez para não fazer igual\n",
    "\n",
    "authors_fos = pd.read_csv('mastodon_users_wOpenAlex2.csv')\n",
    "authors_fos['mastodon_name'] = authors_fos.apply(lambda row: row['mastodon_name'][1:], axis=1)"
   ]
  },
  {
   "cell_type": "code",
   "execution_count": 158,
   "metadata": {},
   "outputs": [
    {
     "data": {
      "text/html": [
       "<div>\n",
       "<style scoped>\n",
       "    .dataframe tbody tr th:only-of-type {\n",
       "        vertical-align: middle;\n",
       "    }\n",
       "\n",
       "    .dataframe tbody tr th {\n",
       "        vertical-align: top;\n",
       "    }\n",
       "\n",
       "    .dataframe thead th {\n",
       "        text-align: right;\n",
       "    }\n",
       "</style>\n",
       "<table border=\"1\" class=\"dataframe\">\n",
       "  <thead>\n",
       "    <tr style=\"text-align: right;\">\n",
       "      <th></th>\n",
       "      <th>Unnamed: 0</th>\n",
       "      <th>mastodon_name</th>\n",
       "      <th>OpenAlex_account</th>\n",
       "      <th>x_concepts</th>\n",
       "      <th>id_str</th>\n",
       "    </tr>\n",
       "  </thead>\n",
       "  <tbody>\n",
       "    <tr>\n",
       "      <th>0</th>\n",
       "      <td>74</td>\n",
       "      <td>HelmutBuergmann@mstdn.science</td>\n",
       "      <td>https://openalex.org/A2076598371</td>\n",
       "      <td>[{'id': 'https://openalex.org/C86803240', 'wik...</td>\n",
       "      <td>806806433404620800</td>\n",
       "    </tr>\n",
       "    <tr>\n",
       "      <th>1</th>\n",
       "      <td>170</td>\n",
       "      <td>boshek@fosstodon.org</td>\n",
       "      <td>https://openalex.org/A2114692991</td>\n",
       "      <td>[{'id': 'https://openalex.org/C86803240', 'wik...</td>\n",
       "      <td>1317009122</td>\n",
       "    </tr>\n",
       "    <tr>\n",
       "      <th>2</th>\n",
       "      <td>219</td>\n",
       "      <td>DenisDuboule@mas.to</td>\n",
       "      <td>https://openalex.org/A295410851</td>\n",
       "      <td>[{'id': 'https://openalex.org/C54355233', 'wik...</td>\n",
       "      <td>1376641550</td>\n",
       "    </tr>\n",
       "    <tr>\n",
       "      <th>3</th>\n",
       "      <td>266</td>\n",
       "      <td>paulgkeil@mastodon.world</td>\n",
       "      <td>https://openalex.org/A2061685470</td>\n",
       "      <td>[{'id': 'https://openalex.org/C15744967', 'wik...</td>\n",
       "      <td>359880812</td>\n",
       "    </tr>\n",
       "    <tr>\n",
       "      <th>4</th>\n",
       "      <td>299</td>\n",
       "      <td>rider_jon@zirk.us</td>\n",
       "      <td>https://openalex.org/A2646935175</td>\n",
       "      <td>[{'id': 'https://openalex.org/C142362112', 'wi...</td>\n",
       "      <td>890826954</td>\n",
       "    </tr>\n",
       "    <tr>\n",
       "      <th>...</th>\n",
       "      <td>...</td>\n",
       "      <td>...</td>\n",
       "      <td>...</td>\n",
       "      <td>...</td>\n",
       "      <td>...</td>\n",
       "    </tr>\n",
       "    <tr>\n",
       "      <th>4675</th>\n",
       "      <td>71044</td>\n",
       "      <td>gbonillarosso@ecoevo.social</td>\n",
       "      <td>https://openalex.org/A1983618755</td>\n",
       "      <td>[{'id': 'https://openalex.org/C18903297', 'wik...</td>\n",
       "      <td>3761010562</td>\n",
       "    </tr>\n",
       "    <tr>\n",
       "      <th>4676</th>\n",
       "      <td>71118</td>\n",
       "      <td>_dim_ma_@scholar.social</td>\n",
       "      <td>https://openalex.org/A3029061224</td>\n",
       "      <td>[{'id': 'https://openalex.org/C121332964', 'wi...</td>\n",
       "      <td>405154732</td>\n",
       "    </tr>\n",
       "    <tr>\n",
       "      <th>4677</th>\n",
       "      <td>71212</td>\n",
       "      <td>scott_newey@fediscience.org</td>\n",
       "      <td>https://openalex.org/A2059749855</td>\n",
       "      <td>[{'id': 'https://openalex.org/C18903297', 'wik...</td>\n",
       "      <td>196489143</td>\n",
       "    </tr>\n",
       "    <tr>\n",
       "      <th>4678</th>\n",
       "      <td>71334</td>\n",
       "      <td>joshuaiglaser@neuromatch.social</td>\n",
       "      <td>https://openalex.org/A2131887774</td>\n",
       "      <td>[{'id': 'https://openalex.org/C15744967', 'wik...</td>\n",
       "      <td>979566622728998912</td>\n",
       "    </tr>\n",
       "    <tr>\n",
       "      <th>4679</th>\n",
       "      <td>71488</td>\n",
       "      <td>tedvallance@mastodon.world.</td>\n",
       "      <td>https://openalex.org/A1898613509</td>\n",
       "      <td>[{'id': 'https://openalex.org/C95457728', 'wik...</td>\n",
       "      <td>456557920</td>\n",
       "    </tr>\n",
       "  </tbody>\n",
       "</table>\n",
       "<p>4680 rows × 5 columns</p>\n",
       "</div>"
      ],
      "text/plain": [
       "      Unnamed: 0                    mastodon_name  \\\n",
       "0             74    HelmutBuergmann@mstdn.science   \n",
       "1            170             boshek@fosstodon.org   \n",
       "2            219              DenisDuboule@mas.to   \n",
       "3            266         paulgkeil@mastodon.world   \n",
       "4            299                rider_jon@zirk.us   \n",
       "...          ...                              ...   \n",
       "4675       71044      gbonillarosso@ecoevo.social   \n",
       "4676       71118          _dim_ma_@scholar.social   \n",
       "4677       71212      scott_newey@fediscience.org   \n",
       "4678       71334  joshuaiglaser@neuromatch.social   \n",
       "4679       71488      tedvallance@mastodon.world.   \n",
       "\n",
       "                      OpenAlex_account  \\\n",
       "0     https://openalex.org/A2076598371   \n",
       "1     https://openalex.org/A2114692991   \n",
       "2      https://openalex.org/A295410851   \n",
       "3     https://openalex.org/A2061685470   \n",
       "4     https://openalex.org/A2646935175   \n",
       "...                                ...   \n",
       "4675  https://openalex.org/A1983618755   \n",
       "4676  https://openalex.org/A3029061224   \n",
       "4677  https://openalex.org/A2059749855   \n",
       "4678  https://openalex.org/A2131887774   \n",
       "4679  https://openalex.org/A1898613509   \n",
       "\n",
       "                                             x_concepts              id_str  \n",
       "0     [{'id': 'https://openalex.org/C86803240', 'wik...  806806433404620800  \n",
       "1     [{'id': 'https://openalex.org/C86803240', 'wik...          1317009122  \n",
       "2     [{'id': 'https://openalex.org/C54355233', 'wik...          1376641550  \n",
       "3     [{'id': 'https://openalex.org/C15744967', 'wik...           359880812  \n",
       "4     [{'id': 'https://openalex.org/C142362112', 'wi...           890826954  \n",
       "...                                                 ...                 ...  \n",
       "4675  [{'id': 'https://openalex.org/C18903297', 'wik...          3761010562  \n",
       "4676  [{'id': 'https://openalex.org/C121332964', 'wi...           405154732  \n",
       "4677  [{'id': 'https://openalex.org/C18903297', 'wik...           196489143  \n",
       "4678  [{'id': 'https://openalex.org/C15744967', 'wik...  979566622728998912  \n",
       "4679  [{'id': 'https://openalex.org/C95457728', 'wik...           456557920  \n",
       "\n",
       "[4680 rows x 5 columns]"
      ]
     },
     "execution_count": 158,
     "metadata": {},
     "output_type": "execute_result"
    }
   ],
   "source": [
    "authors_fos"
   ]
  },
  {
   "cell_type": "code",
   "execution_count": 144,
   "metadata": {},
   "outputs": [
    {
     "data": {
      "text/html": [
       "<div>\n",
       "<style scoped>\n",
       "    .dataframe tbody tr th:only-of-type {\n",
       "        vertical-align: middle;\n",
       "    }\n",
       "\n",
       "    .dataframe tbody tr th {\n",
       "        vertical-align: top;\n",
       "    }\n",
       "\n",
       "    .dataframe thead th {\n",
       "        text-align: right;\n",
       "    }\n",
       "</style>\n",
       "<table border=\"1\" class=\"dataframe\">\n",
       "  <thead>\n",
       "    <tr style=\"text-align: right;\">\n",
       "      <th></th>\n",
       "      <th>id</th>\n",
       "      <th>orcid</th>\n",
       "      <th>display_name</th>\n",
       "      <th>display_name_alternatives</th>\n",
       "      <th>works_count</th>\n",
       "      <th>cited_by_count</th>\n",
       "      <th>most_cited_work</th>\n",
       "      <th>summary_stats</th>\n",
       "      <th>ids</th>\n",
       "      <th>last_known_institution</th>\n",
       "      <th>counts_by_year</th>\n",
       "      <th>x_concepts</th>\n",
       "      <th>works_api_url</th>\n",
       "      <th>updated_date</th>\n",
       "      <th>created_date</th>\n",
       "    </tr>\n",
       "  </thead>\n",
       "  <tbody>\n",
       "    <tr>\n",
       "      <th>0</th>\n",
       "      <td>https://openalex.org/A3104016845</td>\n",
       "      <td>NaN</td>\n",
       "      <td>Catherine M Abbott</td>\n",
       "      <td>[]</td>\n",
       "      <td>1</td>\n",
       "      <td>6</td>\n",
       "      <td>The Cajal Embroidery Project: celebrating neur...</td>\n",
       "      <td>{'2yr_mean_citedness': 0, 'h_index': 1, 'i10_i...</td>\n",
       "      <td>{'openalex': 'https://openalex.org/A3104016845...</td>\n",
       "      <td>NaN</td>\n",
       "      <td>[{'year': 2021, 'works_count': 0, 'oa_works_co...</td>\n",
       "      <td>[{'id': 'https://openalex.org/C11171543', 'wik...</td>\n",
       "      <td>https://api.openalex.org/works?filter=author.i...</td>\n",
       "      <td>2023-04-18T23:48:47.138844</td>\n",
       "      <td>2020-11-23</td>\n",
       "    </tr>\n",
       "    <tr>\n",
       "      <th>1</th>\n",
       "      <td>https://openalex.org/A2668442008</td>\n",
       "      <td>NaN</td>\n",
       "      <td>Aidan Doyle</td>\n",
       "      <td>[]</td>\n",
       "      <td>1</td>\n",
       "      <td>0</td>\n",
       "      <td>Galactic Empire Management Consulting: lessons...</td>\n",
       "      <td>{'2yr_mean_citedness': 0, 'h_index': 0, 'i10_i...</td>\n",
       "      <td>{'openalex': 'https://openalex.org/A2668442008...</td>\n",
       "      <td>NaN</td>\n",
       "      <td>[{'year': 2016, 'works_count': 1, 'oa_works_co...</td>\n",
       "      <td>[{'id': 'https://openalex.org/C17744445', 'wik...</td>\n",
       "      <td>https://api.openalex.org/works?filter=author.i...</td>\n",
       "      <td>2023-04-19T04:19:11.128451</td>\n",
       "      <td>2017-06-30</td>\n",
       "    </tr>\n",
       "    <tr>\n",
       "      <th>2</th>\n",
       "      <td>https://openalex.org/A3000559921</td>\n",
       "      <td>NaN</td>\n",
       "      <td>Zoë Turner</td>\n",
       "      <td>[]</td>\n",
       "      <td>1</td>\n",
       "      <td>3</td>\n",
       "      <td>Ethnic disparity in access to the memory asses...</td>\n",
       "      <td>{'2yr_mean_citedness': 0, 'h_index': 1, 'i10_i...</td>\n",
       "      <td>{'openalex': 'https://openalex.org/A3000559921...</td>\n",
       "      <td>{'id': 'https://openalex.org/I2802381302', 'ro...</td>\n",
       "      <td>[{'year': 2021, 'works_count': 0, 'oa_works_co...</td>\n",
       "      <td>[{'id': 'https://openalex.org/C15744967', 'wik...</td>\n",
       "      <td>https://api.openalex.org/works?filter=author.i...</td>\n",
       "      <td>2023-04-19T11:59:25.063187</td>\n",
       "      <td>2020-01-23</td>\n",
       "    </tr>\n",
       "    <tr>\n",
       "      <th>3</th>\n",
       "      <td>https://openalex.org/A2264054764</td>\n",
       "      <td>NaN</td>\n",
       "      <td>Lilly Evans</td>\n",
       "      <td>[]</td>\n",
       "      <td>1</td>\n",
       "      <td>1</td>\n",
       "      <td>Using value networks to boost construction per...</td>\n",
       "      <td>{'2yr_mean_citedness': 0, 'h_index': 1, 'i10_i...</td>\n",
       "      <td>{'openalex': 'https://openalex.org/A2264054764...</td>\n",
       "      <td>NaN</td>\n",
       "      <td>[{'year': 2012, 'works_count': 1, 'oa_works_co...</td>\n",
       "      <td>[{'id': 'https://openalex.org/C11012388', 'wik...</td>\n",
       "      <td>https://api.openalex.org/works?filter=author.i...</td>\n",
       "      <td>2023-04-19T01:50:29.687984</td>\n",
       "      <td>2016-06-24</td>\n",
       "    </tr>\n",
       "    <tr>\n",
       "      <th>4</th>\n",
       "      <td>https://openalex.org/A3150670573</td>\n",
       "      <td>NaN</td>\n",
       "      <td>Emily Beauparlant</td>\n",
       "      <td>[]</td>\n",
       "      <td>1</td>\n",
       "      <td>0</td>\n",
       "      <td>Women do not shy away from competition: Compet...</td>\n",
       "      <td>{'2yr_mean_citedness': 0, 'h_index': 0, 'i10_i...</td>\n",
       "      <td>{'openalex': 'https://openalex.org/A3150670573...</td>\n",
       "      <td>{'id': 'https://openalex.org/I100633361', 'ror...</td>\n",
       "      <td>[{'year': 2021, 'works_count': 1, 'oa_works_co...</td>\n",
       "      <td>[{'id': 'https://openalex.org/C15744967', 'wik...</td>\n",
       "      <td>https://api.openalex.org/works?filter=author.i...</td>\n",
       "      <td>2023-04-19T21:37:34.265841</td>\n",
       "      <td>2021-04-13</td>\n",
       "    </tr>\n",
       "  </tbody>\n",
       "</table>\n",
       "</div>"
      ],
      "text/plain": [
       "                                 id orcid        display_name  \\\n",
       "0  https://openalex.org/A3104016845   NaN  Catherine M Abbott   \n",
       "1  https://openalex.org/A2668442008   NaN         Aidan Doyle   \n",
       "2  https://openalex.org/A3000559921   NaN          Zoë Turner   \n",
       "3  https://openalex.org/A2264054764   NaN         Lilly Evans   \n",
       "4  https://openalex.org/A3150670573   NaN   Emily Beauparlant   \n",
       "\n",
       "  display_name_alternatives  works_count  cited_by_count  \\\n",
       "0                        []            1               6   \n",
       "1                        []            1               0   \n",
       "2                        []            1               3   \n",
       "3                        []            1               1   \n",
       "4                        []            1               0   \n",
       "\n",
       "                                     most_cited_work  \\\n",
       "0  The Cajal Embroidery Project: celebrating neur...   \n",
       "1  Galactic Empire Management Consulting: lessons...   \n",
       "2  Ethnic disparity in access to the memory asses...   \n",
       "3  Using value networks to boost construction per...   \n",
       "4  Women do not shy away from competition: Compet...   \n",
       "\n",
       "                                       summary_stats  \\\n",
       "0  {'2yr_mean_citedness': 0, 'h_index': 1, 'i10_i...   \n",
       "1  {'2yr_mean_citedness': 0, 'h_index': 0, 'i10_i...   \n",
       "2  {'2yr_mean_citedness': 0, 'h_index': 1, 'i10_i...   \n",
       "3  {'2yr_mean_citedness': 0, 'h_index': 1, 'i10_i...   \n",
       "4  {'2yr_mean_citedness': 0, 'h_index': 0, 'i10_i...   \n",
       "\n",
       "                                                 ids  \\\n",
       "0  {'openalex': 'https://openalex.org/A3104016845...   \n",
       "1  {'openalex': 'https://openalex.org/A2668442008...   \n",
       "2  {'openalex': 'https://openalex.org/A3000559921...   \n",
       "3  {'openalex': 'https://openalex.org/A2264054764...   \n",
       "4  {'openalex': 'https://openalex.org/A3150670573...   \n",
       "\n",
       "                              last_known_institution  \\\n",
       "0                                                NaN   \n",
       "1                                                NaN   \n",
       "2  {'id': 'https://openalex.org/I2802381302', 'ro...   \n",
       "3                                                NaN   \n",
       "4  {'id': 'https://openalex.org/I100633361', 'ror...   \n",
       "\n",
       "                                      counts_by_year  \\\n",
       "0  [{'year': 2021, 'works_count': 0, 'oa_works_co...   \n",
       "1  [{'year': 2016, 'works_count': 1, 'oa_works_co...   \n",
       "2  [{'year': 2021, 'works_count': 0, 'oa_works_co...   \n",
       "3  [{'year': 2012, 'works_count': 1, 'oa_works_co...   \n",
       "4  [{'year': 2021, 'works_count': 1, 'oa_works_co...   \n",
       "\n",
       "                                          x_concepts  \\\n",
       "0  [{'id': 'https://openalex.org/C11171543', 'wik...   \n",
       "1  [{'id': 'https://openalex.org/C17744445', 'wik...   \n",
       "2  [{'id': 'https://openalex.org/C15744967', 'wik...   \n",
       "3  [{'id': 'https://openalex.org/C11012388', 'wik...   \n",
       "4  [{'id': 'https://openalex.org/C15744967', 'wik...   \n",
       "\n",
       "                                       works_api_url  \\\n",
       "0  https://api.openalex.org/works?filter=author.i...   \n",
       "1  https://api.openalex.org/works?filter=author.i...   \n",
       "2  https://api.openalex.org/works?filter=author.i...   \n",
       "3  https://api.openalex.org/works?filter=author.i...   \n",
       "4  https://api.openalex.org/works?filter=author.i...   \n",
       "\n",
       "                 updated_date created_date  \n",
       "0  2023-04-18T23:48:47.138844   2020-11-23  \n",
       "1  2023-04-19T04:19:11.128451   2017-06-30  \n",
       "2  2023-04-19T11:59:25.063187   2020-01-23  \n",
       "3  2023-04-19T01:50:29.687984   2016-06-24  \n",
       "4  2023-04-19T21:37:34.265841   2021-04-13  "
      ]
     },
     "execution_count": 144,
     "metadata": {},
     "output_type": "execute_result"
    }
   ],
   "source": [
    "openalex_mastodon = pd.read_csv('authors_mastodon_07-18-2023.tsv', sep='\\t')\n",
    "openalex_mastodon.head()"
   ]
  },
  {
   "cell_type": "code",
   "execution_count": 150,
   "metadata": {},
   "outputs": [],
   "source": [
    "# to_remove = ['last_known_institution', 'works_api_url', 'updated_date', 'created_date', 'display_name_alternatives', 'orcid']\n",
    "# openalex_mastodon = openalex_mastodon.drop(axis=1, columns=to_remove)"
   ]
  },
  {
   "cell_type": "code",
   "execution_count": 151,
   "metadata": {},
   "outputs": [
    {
     "data": {
      "text/html": [
       "<div>\n",
       "<style scoped>\n",
       "    .dataframe tbody tr th:only-of-type {\n",
       "        vertical-align: middle;\n",
       "    }\n",
       "\n",
       "    .dataframe tbody tr th {\n",
       "        vertical-align: top;\n",
       "    }\n",
       "\n",
       "    .dataframe thead th {\n",
       "        text-align: right;\n",
       "    }\n",
       "</style>\n",
       "<table border=\"1\" class=\"dataframe\">\n",
       "  <thead>\n",
       "    <tr style=\"text-align: right;\">\n",
       "      <th></th>\n",
       "      <th>id</th>\n",
       "      <th>display_name</th>\n",
       "      <th>works_count</th>\n",
       "      <th>cited_by_count</th>\n",
       "      <th>most_cited_work</th>\n",
       "      <th>summary_stats</th>\n",
       "      <th>ids</th>\n",
       "      <th>counts_by_year</th>\n",
       "      <th>x_concepts</th>\n",
       "    </tr>\n",
       "  </thead>\n",
       "  <tbody>\n",
       "    <tr>\n",
       "      <th>0</th>\n",
       "      <td>https://openalex.org/A3104016845</td>\n",
       "      <td>Catherine M Abbott</td>\n",
       "      <td>1</td>\n",
       "      <td>6</td>\n",
       "      <td>The Cajal Embroidery Project: celebrating neur...</td>\n",
       "      <td>{'2yr_mean_citedness': 0, 'h_index': 1, 'i10_i...</td>\n",
       "      <td>{'openalex': 'https://openalex.org/A3104016845...</td>\n",
       "      <td>[{'year': 2021, 'works_count': 0, 'oa_works_co...</td>\n",
       "      <td>[{'id': 'https://openalex.org/C11171543', 'wik...</td>\n",
       "    </tr>\n",
       "    <tr>\n",
       "      <th>1</th>\n",
       "      <td>https://openalex.org/A2668442008</td>\n",
       "      <td>Aidan Doyle</td>\n",
       "      <td>1</td>\n",
       "      <td>0</td>\n",
       "      <td>Galactic Empire Management Consulting: lessons...</td>\n",
       "      <td>{'2yr_mean_citedness': 0, 'h_index': 0, 'i10_i...</td>\n",
       "      <td>{'openalex': 'https://openalex.org/A2668442008...</td>\n",
       "      <td>[{'year': 2016, 'works_count': 1, 'oa_works_co...</td>\n",
       "      <td>[{'id': 'https://openalex.org/C17744445', 'wik...</td>\n",
       "    </tr>\n",
       "    <tr>\n",
       "      <th>2</th>\n",
       "      <td>https://openalex.org/A3000559921</td>\n",
       "      <td>Zoë Turner</td>\n",
       "      <td>1</td>\n",
       "      <td>3</td>\n",
       "      <td>Ethnic disparity in access to the memory asses...</td>\n",
       "      <td>{'2yr_mean_citedness': 0, 'h_index': 1, 'i10_i...</td>\n",
       "      <td>{'openalex': 'https://openalex.org/A3000559921...</td>\n",
       "      <td>[{'year': 2021, 'works_count': 0, 'oa_works_co...</td>\n",
       "      <td>[{'id': 'https://openalex.org/C15744967', 'wik...</td>\n",
       "    </tr>\n",
       "    <tr>\n",
       "      <th>3</th>\n",
       "      <td>https://openalex.org/A2264054764</td>\n",
       "      <td>Lilly Evans</td>\n",
       "      <td>1</td>\n",
       "      <td>1</td>\n",
       "      <td>Using value networks to boost construction per...</td>\n",
       "      <td>{'2yr_mean_citedness': 0, 'h_index': 1, 'i10_i...</td>\n",
       "      <td>{'openalex': 'https://openalex.org/A2264054764...</td>\n",
       "      <td>[{'year': 2012, 'works_count': 1, 'oa_works_co...</td>\n",
       "      <td>[{'id': 'https://openalex.org/C11012388', 'wik...</td>\n",
       "    </tr>\n",
       "    <tr>\n",
       "      <th>4</th>\n",
       "      <td>https://openalex.org/A3150670573</td>\n",
       "      <td>Emily Beauparlant</td>\n",
       "      <td>1</td>\n",
       "      <td>0</td>\n",
       "      <td>Women do not shy away from competition: Compet...</td>\n",
       "      <td>{'2yr_mean_citedness': 0, 'h_index': 0, 'i10_i...</td>\n",
       "      <td>{'openalex': 'https://openalex.org/A3150670573...</td>\n",
       "      <td>[{'year': 2021, 'works_count': 1, 'oa_works_co...</td>\n",
       "      <td>[{'id': 'https://openalex.org/C15744967', 'wik...</td>\n",
       "    </tr>\n",
       "  </tbody>\n",
       "</table>\n",
       "</div>"
      ],
      "text/plain": [
       "                                 id        display_name  works_count  \\\n",
       "0  https://openalex.org/A3104016845  Catherine M Abbott            1   \n",
       "1  https://openalex.org/A2668442008         Aidan Doyle            1   \n",
       "2  https://openalex.org/A3000559921          Zoë Turner            1   \n",
       "3  https://openalex.org/A2264054764         Lilly Evans            1   \n",
       "4  https://openalex.org/A3150670573   Emily Beauparlant            1   \n",
       "\n",
       "   cited_by_count                                    most_cited_work  \\\n",
       "0               6  The Cajal Embroidery Project: celebrating neur...   \n",
       "1               0  Galactic Empire Management Consulting: lessons...   \n",
       "2               3  Ethnic disparity in access to the memory asses...   \n",
       "3               1  Using value networks to boost construction per...   \n",
       "4               0  Women do not shy away from competition: Compet...   \n",
       "\n",
       "                                       summary_stats  \\\n",
       "0  {'2yr_mean_citedness': 0, 'h_index': 1, 'i10_i...   \n",
       "1  {'2yr_mean_citedness': 0, 'h_index': 0, 'i10_i...   \n",
       "2  {'2yr_mean_citedness': 0, 'h_index': 1, 'i10_i...   \n",
       "3  {'2yr_mean_citedness': 0, 'h_index': 1, 'i10_i...   \n",
       "4  {'2yr_mean_citedness': 0, 'h_index': 0, 'i10_i...   \n",
       "\n",
       "                                                 ids  \\\n",
       "0  {'openalex': 'https://openalex.org/A3104016845...   \n",
       "1  {'openalex': 'https://openalex.org/A2668442008...   \n",
       "2  {'openalex': 'https://openalex.org/A3000559921...   \n",
       "3  {'openalex': 'https://openalex.org/A2264054764...   \n",
       "4  {'openalex': 'https://openalex.org/A3150670573...   \n",
       "\n",
       "                                      counts_by_year  \\\n",
       "0  [{'year': 2021, 'works_count': 0, 'oa_works_co...   \n",
       "1  [{'year': 2016, 'works_count': 1, 'oa_works_co...   \n",
       "2  [{'year': 2021, 'works_count': 0, 'oa_works_co...   \n",
       "3  [{'year': 2012, 'works_count': 1, 'oa_works_co...   \n",
       "4  [{'year': 2021, 'works_count': 1, 'oa_works_co...   \n",
       "\n",
       "                                          x_concepts  \n",
       "0  [{'id': 'https://openalex.org/C11171543', 'wik...  \n",
       "1  [{'id': 'https://openalex.org/C17744445', 'wik...  \n",
       "2  [{'id': 'https://openalex.org/C15744967', 'wik...  \n",
       "3  [{'id': 'https://openalex.org/C11012388', 'wik...  \n",
       "4  [{'id': 'https://openalex.org/C15744967', 'wik...  "
      ]
     },
     "execution_count": 151,
     "metadata": {},
     "output_type": "execute_result"
    }
   ],
   "source": [
    "openalex_mastodon.head()"
   ]
  },
  {
   "cell_type": "code",
   "execution_count": 166,
   "metadata": {},
   "outputs": [
    {
     "data": {
      "text/html": [
       "<div>\n",
       "<style scoped>\n",
       "    .dataframe tbody tr th:only-of-type {\n",
       "        vertical-align: middle;\n",
       "    }\n",
       "\n",
       "    .dataframe tbody tr th {\n",
       "        vertical-align: top;\n",
       "    }\n",
       "\n",
       "    .dataframe thead th {\n",
       "        text-align: right;\n",
       "    }\n",
       "</style>\n",
       "<table border=\"1\" class=\"dataframe\">\n",
       "  <thead>\n",
       "    <tr style=\"text-align: right;\">\n",
       "      <th></th>\n",
       "      <th>displayname</th>\n",
       "      <th>twitterhandler</th>\n",
       "      <th>followers</th>\n",
       "      <th>following</th>\n",
       "      <th>bio</th>\n",
       "      <th>mastodon_name</th>\n",
       "      <th>OpenAlex_account</th>\n",
       "      <th>x_concepts</th>\n",
       "    </tr>\n",
       "  </thead>\n",
       "  <tbody>\n",
       "    <tr>\n",
       "      <th>0</th>\n",
       "      <td>Denis Duboule</td>\n",
       "      <td>NaN</td>\n",
       "      <td>342</td>\n",
       "      <td>66</td>\n",
       "      <td>&lt;p&gt;Geneticist in transit. Collège de France/EP...</td>\n",
       "      <td>DenisDuboule@mas.to</td>\n",
       "      <td>https://openalex.org/A295410851</td>\n",
       "      <td>[{'id': 'https://openalex.org/C54355233', 'wik...</td>\n",
       "    </tr>\n",
       "    <tr>\n",
       "      <th>1</th>\n",
       "      <td>Jon Hughes</td>\n",
       "      <td>&lt;span class=\"h-card\"&gt;&lt;a href=\"https://zirk.us/...</td>\n",
       "      <td>402</td>\n",
       "      <td>842</td>\n",
       "      <td>&lt;p&gt;Academic (Reader in German/Cultural Studies...</td>\n",
       "      <td>rider_jon@zirk.us</td>\n",
       "      <td>https://openalex.org/A2646935175</td>\n",
       "      <td>[{'id': 'https://openalex.org/C142362112', 'wi...</td>\n",
       "    </tr>\n",
       "    <tr>\n",
       "      <th>2</th>\n",
       "      <td>Magnus Palmblad</td>\n",
       "      <td>&lt;a href=\"https://twitter.com/MagnusPalmblad\" t...</td>\n",
       "      <td>141</td>\n",
       "      <td>119</td>\n",
       "      <td>&lt;p&gt;Scientist. Skeptic. Swede. Not the vegetabl...</td>\n",
       "      <td>magnuspalmblad@fediscience.org</td>\n",
       "      <td>https://openalex.org/A2058370087</td>\n",
       "      <td>[{'id': 'https://openalex.org/C86803240', 'wik...</td>\n",
       "    </tr>\n",
       "    <tr>\n",
       "      <th>3</th>\n",
       "      <td>João Ohara</td>\n",
       "      <td>NaN</td>\n",
       "      <td>224</td>\n",
       "      <td>147</td>\n",
       "      <td>&lt;p&gt;Theory and Philosophy of History @ Federal ...</td>\n",
       "      <td>ohara@hcommons.social</td>\n",
       "      <td>https://openalex.org/A2284742525</td>\n",
       "      <td>[{'id': 'https://openalex.org/C138885662', 'wi...</td>\n",
       "    </tr>\n",
       "    <tr>\n",
       "      <th>4</th>\n",
       "      <td>Neil Wright</td>\n",
       "      <td>NaN</td>\n",
       "      <td>56</td>\n",
       "      <td>106</td>\n",
       "      <td>&lt;p&gt;Medical Statistician. Topology and geometry...</td>\n",
       "      <td>neilstats@fediscience.org</td>\n",
       "      <td>https://openalex.org/A2576451780</td>\n",
       "      <td>[{'id': 'https://openalex.org/C15744967', 'wik...</td>\n",
       "    </tr>\n",
       "  </tbody>\n",
       "</table>\n",
       "</div>"
      ],
      "text/plain": [
       "       displayname                                     twitterhandler  \\\n",
       "0    Denis Duboule                                                NaN   \n",
       "1       Jon Hughes  <span class=\"h-card\"><a href=\"https://zirk.us/...   \n",
       "2  Magnus Palmblad  <a href=\"https://twitter.com/MagnusPalmblad\" t...   \n",
       "3       João Ohara                                                NaN   \n",
       "4      Neil Wright                                                NaN   \n",
       "\n",
       "   followers  following                                                bio  \\\n",
       "0        342         66  <p>Geneticist in transit. Collège de France/EP...   \n",
       "1        402        842  <p>Academic (Reader in German/Cultural Studies...   \n",
       "2        141        119  <p>Scientist. Skeptic. Swede. Not the vegetabl...   \n",
       "3        224        147  <p>Theory and Philosophy of History @ Federal ...   \n",
       "4         56        106  <p>Medical Statistician. Topology and geometry...   \n",
       "\n",
       "                    mastodon_name                  OpenAlex_account  \\\n",
       "0             DenisDuboule@mas.to   https://openalex.org/A295410851   \n",
       "1               rider_jon@zirk.us  https://openalex.org/A2646935175   \n",
       "2  magnuspalmblad@fediscience.org  https://openalex.org/A2058370087   \n",
       "3           ohara@hcommons.social  https://openalex.org/A2284742525   \n",
       "4       neilstats@fediscience.org  https://openalex.org/A2576451780   \n",
       "\n",
       "                                          x_concepts  \n",
       "0  [{'id': 'https://openalex.org/C54355233', 'wik...  \n",
       "1  [{'id': 'https://openalex.org/C142362112', 'wi...  \n",
       "2  [{'id': 'https://openalex.org/C86803240', 'wik...  \n",
       "3  [{'id': 'https://openalex.org/C138885662', 'wi...  \n",
       "4  [{'id': 'https://openalex.org/C15744967', 'wik...  "
      ]
     },
     "execution_count": 166,
     "metadata": {},
     "output_type": "execute_result"
    }
   ],
   "source": [
    "# print(kuni_users_profiles.columns)\n",
    "# print(authors_fos.columns)\n",
    "to_remove = ['created_datetime', 'id', 'Unnamed: 0', 'id_str', 'username', 'instance', 'created', 'index']\n",
    "\n",
    "mstd_tt_users = kuni_users_profiles.merge(authors_fos, on=['mastodon_name'])\n",
    "mstd_tt_users = mstd_tt_users.drop(columns = to_remove, axis=1)\n",
    "\n",
    "mstd_tt_users.head()"
   ]
  },
  {
   "cell_type": "code",
   "execution_count": 170,
   "metadata": {},
   "outputs": [],
   "source": [
    "mstd_combined = mstd_tt_users.merge(openalex_mastodon, left_on='OpenAlex_account', right_on='id')\n",
    "to_remove = ['id', 'ids', 'x_concepts_y', 'twitterhandler', 'display_name']\n",
    "mstd_combined = mstd_combined.drop(columns=to_remove, axis=1)"
   ]
  },
  {
   "cell_type": "code",
   "execution_count": 172,
   "metadata": {},
   "outputs": [],
   "source": [
    "mstd_combined.head()\n",
    "mstd_combined.to_csv('kuni_twitter_open_alex_mstd_07-18-2023.tsv', sep='\\t')"
   ]
  },
  {
   "cell_type": "code",
   "execution_count": null,
   "metadata": {},
   "outputs": [],
   "source": []
  }
 ],
 "metadata": {
  "kernelspec": {
   "display_name": "Python 3 (ipykernel)",
   "language": "python",
   "name": "python3"
  },
  "language_info": {
   "codemirror_mode": {
    "name": "ipython",
    "version": 3
   },
   "file_extension": ".py",
   "mimetype": "text/x-python",
   "name": "python",
   "nbconvert_exporter": "python",
   "pygments_lexer": "ipython3",
   "version": "3.8.3"
  }
 },
 "nbformat": 4,
 "nbformat_minor": 4
}
