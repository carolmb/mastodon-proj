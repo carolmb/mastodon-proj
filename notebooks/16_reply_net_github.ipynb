{
 "cells": [
  {
   "cell_type": "code",
   "execution_count": 34,
   "metadata": {},
   "outputs": [],
   "source": [
    "import glob\n",
    "import pandas as pd"
   ]
  },
  {
   "cell_type": "code",
   "execution_count": 44,
   "metadata": {},
   "outputs": [],
   "source": [
    "user_id_map = pd.read_csv('user_github_id_list.tsv', sep='\\t', dtype='object').dropna()\n",
    "user_id_map = user_id_map.drop_duplicates(subset=['user_instance', 'user_id'])"
   ]
  },
  {
   "cell_type": "code",
   "execution_count": 45,
   "metadata": {},
   "outputs": [
    {
     "data": {
      "text/html": [
       "<div>\n",
       "<style scoped>\n",
       "    .dataframe tbody tr th:only-of-type {\n",
       "        vertical-align: middle;\n",
       "    }\n",
       "\n",
       "    .dataframe tbody tr th {\n",
       "        vertical-align: top;\n",
       "    }\n",
       "\n",
       "    .dataframe thead th {\n",
       "        text-align: right;\n",
       "    }\n",
       "</style>\n",
       "<table border=\"1\" class=\"dataframe\">\n",
       "  <thead>\n",
       "    <tr style=\"text-align: right;\">\n",
       "      <th></th>\n",
       "      <th>Unnamed: 0</th>\n",
       "      <th>user_instance</th>\n",
       "      <th>user_id</th>\n",
       "    </tr>\n",
       "  </thead>\n",
       "  <tbody>\n",
       "    <tr>\n",
       "      <th>0</th>\n",
       "      <td>0</td>\n",
       "      <td>rheinze@assemblag.es</td>\n",
       "      <td>109287555889598271</td>\n",
       "    </tr>\n",
       "    <tr>\n",
       "      <th>1</th>\n",
       "      <td>1</td>\n",
       "      <td>BrianJAP@mastodon.world</td>\n",
       "      <td>109376150646500709</td>\n",
       "    </tr>\n",
       "    <tr>\n",
       "      <th>2</th>\n",
       "      <td>2</td>\n",
       "      <td>joelglasman@fediscience.org</td>\n",
       "      <td>109285335069156233</td>\n",
       "    </tr>\n",
       "    <tr>\n",
       "      <th>3</th>\n",
       "      <td>3</td>\n",
       "      <td>brenton_peterson@sciences.social</td>\n",
       "      <td>109269805703778449</td>\n",
       "    </tr>\n",
       "    <tr>\n",
       "      <th>4</th>\n",
       "      <td>4</td>\n",
       "      <td>keremd@social.anoxinon.de</td>\n",
       "      <td>108194974464772153</td>\n",
       "    </tr>\n",
       "  </tbody>\n",
       "</table>\n",
       "</div>"
      ],
      "text/plain": [
       "  Unnamed: 0                     user_instance             user_id\n",
       "0          0              rheinze@assemblag.es  109287555889598271\n",
       "1          1           BrianJAP@mastodon.world  109376150646500709\n",
       "2          2       joelglasman@fediscience.org  109285335069156233\n",
       "3          3  brenton_peterson@sciences.social  109269805703778449\n",
       "4          4         keremd@social.anoxinon.de  108194974464772153"
      ]
     },
     "execution_count": 45,
     "metadata": {},
     "output_type": "execute_result"
    }
   ],
   "source": [
    "user_id_map.head()"
   ]
  },
  {
   "cell_type": "code",
   "execution_count": 11,
   "metadata": {},
   "outputs": [],
   "source": [
    "import numpy as np\n",
    "\n",
    "u,c = np.unique(user_id_map['user_id'].values, return_counts=True)"
   ]
  },
  {
   "cell_type": "code",
   "execution_count": 4,
   "metadata": {},
   "outputs": [
    {
     "data": {
      "text/plain": [
       "10595"
      ]
     },
     "execution_count": 4,
     "metadata": {},
     "output_type": "execute_result"
    }
   ],
   "source": [
    "len(user_id_map)"
   ]
  },
  {
   "cell_type": "code",
   "execution_count": 32,
   "metadata": {},
   "outputs": [
    {
     "data": {
      "text/html": [
       "<div>\n",
       "<style scoped>\n",
       "    .dataframe tbody tr th:only-of-type {\n",
       "        vertical-align: middle;\n",
       "    }\n",
       "\n",
       "    .dataframe tbody tr th {\n",
       "        vertical-align: top;\n",
       "    }\n",
       "\n",
       "    .dataframe thead th {\n",
       "        text-align: right;\n",
       "    }\n",
       "</style>\n",
       "<table border=\"1\" class=\"dataframe\">\n",
       "  <thead>\n",
       "    <tr style=\"text-align: right;\">\n",
       "      <th></th>\n",
       "      <th>Unnamed: 0</th>\n",
       "      <th>user_instance</th>\n",
       "      <th>user_id</th>\n",
       "    </tr>\n",
       "  </thead>\n",
       "  <tbody>\n",
       "    <tr>\n",
       "      <th>4299</th>\n",
       "      <td>4299</td>\n",
       "      <td>Jradin@mas.to</td>\n",
       "      <td>109321922930929886</td>\n",
       "    </tr>\n",
       "    <tr>\n",
       "      <th>10101</th>\n",
       "      <td>10101</td>\n",
       "      <td>jradin@mas.to</td>\n",
       "      <td>109321922930929886</td>\n",
       "    </tr>\n",
       "  </tbody>\n",
       "</table>\n",
       "</div>"
      ],
      "text/plain": [
       "       Unnamed: 0  user_instance             user_id\n",
       "4299         4299  Jradin@mas.to  109321922930929886\n",
       "10101       10101  jradin@mas.to  109321922930929886"
      ]
     },
     "execution_count": 32,
     "metadata": {},
     "output_type": "execute_result"
    }
   ],
   "source": [
    "user_id_map[user_id_map['user_id'] == '109321922930929886']"
   ]
  },
  {
   "cell_type": "code",
   "execution_count": 35,
   "metadata": {},
   "outputs": [],
   "source": [
    "files = glob.glob(\"temp/users_toots_github_*.tsv\")"
   ]
  },
  {
   "cell_type": "code",
   "execution_count": 36,
   "metadata": {},
   "outputs": [
    {
     "data": {
      "text/plain": [
       "63"
      ]
     },
     "execution_count": 36,
     "metadata": {},
     "output_type": "execute_result"
    }
   ],
   "source": [
    "len(files)"
   ]
  },
  {
   "cell_type": "code",
   "execution_count": 47,
   "metadata": {},
   "outputs": [],
   "source": [
    "all_data = []\n",
    "for file in files:\n",
    "    data = pd.read_csv(file, sep='\\t', dtype='object')\n",
    "    all_data.append(data)\n",
    "    \n",
    "data = pd.concat(all_data)"
   ]
  },
  {
   "cell_type": "code",
   "execution_count": 48,
   "metadata": {},
   "outputs": [
    {
     "data": {
      "text/plain": [
       "Index(['Unnamed: 0', 'id', 'created_at', 'in_reply_to_account_id', 'uri',\n",
       "       'replies_count', 'reblogs_count', 'favourites_count', 'content',\n",
       "       'user_id'],\n",
       "      dtype='object')"
      ]
     },
     "execution_count": 48,
     "metadata": {},
     "output_type": "execute_result"
    }
   ],
   "source": [
    "data.columns"
   ]
  },
  {
   "cell_type": "code",
   "execution_count": 49,
   "metadata": {},
   "outputs": [],
   "source": [
    "data_with_id = data.merge(user_id_map, on='user_id')"
   ]
  },
  {
   "cell_type": "code",
   "execution_count": 51,
   "metadata": {},
   "outputs": [
    {
     "data": {
      "text/html": [
       "<div>\n",
       "<style scoped>\n",
       "    .dataframe tbody tr th:only-of-type {\n",
       "        vertical-align: middle;\n",
       "    }\n",
       "\n",
       "    .dataframe tbody tr th {\n",
       "        vertical-align: top;\n",
       "    }\n",
       "\n",
       "    .dataframe thead th {\n",
       "        text-align: right;\n",
       "    }\n",
       "</style>\n",
       "<table border=\"1\" class=\"dataframe\">\n",
       "  <thead>\n",
       "    <tr style=\"text-align: right;\">\n",
       "      <th></th>\n",
       "      <th>id</th>\n",
       "      <th>created_at</th>\n",
       "      <th>in_reply_to_account_id</th>\n",
       "      <th>uri</th>\n",
       "      <th>replies_count</th>\n",
       "      <th>reblogs_count</th>\n",
       "      <th>favourites_count</th>\n",
       "      <th>content</th>\n",
       "      <th>user_id</th>\n",
       "      <th>user_instance</th>\n",
       "    </tr>\n",
       "  </thead>\n",
       "  <tbody>\n",
       "    <tr>\n",
       "      <th>0</th>\n",
       "      <td>110791111995168546</td>\n",
       "      <td>2023-07-28T09:56:47.934Z</td>\n",
       "      <td>NaN</td>\n",
       "      <td>https://assemblag.es/users/rheinze/statuses/11...</td>\n",
       "      <td>0</td>\n",
       "      <td>0</td>\n",
       "      <td>4</td>\n",
       "      <td>&lt;p&gt;This looks promising, a French biography of...</td>\n",
       "      <td>109287555889598271</td>\n",
       "      <td>rheinze@assemblag.es</td>\n",
       "    </tr>\n",
       "    <tr>\n",
       "      <th>1</th>\n",
       "      <td>110790744739166267</td>\n",
       "      <td>2023-07-28T08:23:24.055Z</td>\n",
       "      <td>NaN</td>\n",
       "      <td>https://assemblag.es/users/rheinze/statuses/11...</td>\n",
       "      <td>0</td>\n",
       "      <td>0</td>\n",
       "      <td>0</td>\n",
       "      <td>NaN</td>\n",
       "      <td>109287555889598271</td>\n",
       "      <td>rheinze@assemblag.es</td>\n",
       "    </tr>\n",
       "    <tr>\n",
       "      <th>2</th>\n",
       "      <td>110782162098943816</td>\n",
       "      <td>2023-07-26T20:00:43.356Z</td>\n",
       "      <td>NaN</td>\n",
       "      <td>https://assemblag.es/users/rheinze/statuses/11...</td>\n",
       "      <td>0</td>\n",
       "      <td>0</td>\n",
       "      <td>0</td>\n",
       "      <td>NaN</td>\n",
       "      <td>109287555889598271</td>\n",
       "      <td>rheinze@assemblag.es</td>\n",
       "    </tr>\n",
       "    <tr>\n",
       "      <th>3</th>\n",
       "      <td>110780019145721406</td>\n",
       "      <td>2023-07-26T10:55:44.486Z</td>\n",
       "      <td>NaN</td>\n",
       "      <td>https://assemblag.es/users/rheinze/statuses/11...</td>\n",
       "      <td>0</td>\n",
       "      <td>0</td>\n",
       "      <td>0</td>\n",
       "      <td>NaN</td>\n",
       "      <td>109287555889598271</td>\n",
       "      <td>rheinze@assemblag.es</td>\n",
       "    </tr>\n",
       "    <tr>\n",
       "      <th>4</th>\n",
       "      <td>110779723869922193</td>\n",
       "      <td>2023-07-26T09:40:38.934Z</td>\n",
       "      <td>NaN</td>\n",
       "      <td>https://assemblag.es/users/rheinze/statuses/11...</td>\n",
       "      <td>0</td>\n",
       "      <td>0</td>\n",
       "      <td>0</td>\n",
       "      <td>NaN</td>\n",
       "      <td>109287555889598271</td>\n",
       "      <td>rheinze@assemblag.es</td>\n",
       "    </tr>\n",
       "  </tbody>\n",
       "</table>\n",
       "</div>"
      ],
      "text/plain": [
       "                   id                created_at in_reply_to_account_id  \\\n",
       "0  110791111995168546  2023-07-28T09:56:47.934Z                    NaN   \n",
       "1  110790744739166267  2023-07-28T08:23:24.055Z                    NaN   \n",
       "2  110782162098943816  2023-07-26T20:00:43.356Z                    NaN   \n",
       "3  110780019145721406  2023-07-26T10:55:44.486Z                    NaN   \n",
       "4  110779723869922193  2023-07-26T09:40:38.934Z                    NaN   \n",
       "\n",
       "                                                 uri replies_count  \\\n",
       "0  https://assemblag.es/users/rheinze/statuses/11...             0   \n",
       "1  https://assemblag.es/users/rheinze/statuses/11...             0   \n",
       "2  https://assemblag.es/users/rheinze/statuses/11...             0   \n",
       "3  https://assemblag.es/users/rheinze/statuses/11...             0   \n",
       "4  https://assemblag.es/users/rheinze/statuses/11...             0   \n",
       "\n",
       "  reblogs_count favourites_count  \\\n",
       "0             0                4   \n",
       "1             0                0   \n",
       "2             0                0   \n",
       "3             0                0   \n",
       "4             0                0   \n",
       "\n",
       "                                             content             user_id  \\\n",
       "0  <p>This looks promising, a French biography of...  109287555889598271   \n",
       "1                                                NaN  109287555889598271   \n",
       "2                                                NaN  109287555889598271   \n",
       "3                                                NaN  109287555889598271   \n",
       "4                                                NaN  109287555889598271   \n",
       "\n",
       "          user_instance  \n",
       "0  rheinze@assemblag.es  \n",
       "1  rheinze@assemblag.es  \n",
       "2  rheinze@assemblag.es  \n",
       "3  rheinze@assemblag.es  \n",
       "4  rheinze@assemblag.es  "
      ]
     },
     "execution_count": 51,
     "metadata": {},
     "output_type": "execute_result"
    }
   ],
   "source": [
    "data_with_id = data_with_id.drop(columns=['Unnamed: 0_x', 'Unnamed: 0_y'])\n",
    "data_with_id.head()"
   ]
  },
  {
   "cell_type": "code",
   "execution_count": 73,
   "metadata": {},
   "outputs": [
    {
     "name": "stdout",
     "output_type": "stream",
     "text": [
      "                 user_instance      display_name twitter  followers following  \\\n",
      "0         rheinze@assemblag.es     Robert Heinze     NaN     1041.0       245   \n",
      "1         rheinze@assemblag.es     Robert Heinze     NaN     1041.0       245   \n",
      "2      BrianJAP@mastodon.world  Brian J Peterson     NaN      232.0       239   \n",
      "3  joelglasman@fediscience.org      Joël Glasman     NaN      864.0      1303   \n",
      "4  joelglasman@fediscience.org      Joël Glasman     NaN      864.0      1303   \n",
      "\n",
      "                  created_at  \\\n",
      "0  2022-11-04 00:00:00+00:00   \n",
      "1  2022-11-04 00:00:00+00:00   \n",
      "2  2022-11-20 00:00:00+00:00   \n",
      "3  2022-11-04 00:00:00+00:00   \n",
      "4  2022-11-04 00:00:00+00:00   \n",
      "\n",
      "                                                 bio  \\\n",
      "0  <p>Historian, Deutsches Historisches Institut ...   \n",
      "1  <p>Historian, Deutsches Historisches Institut ...   \n",
      "2  <p>Historian and professor at Union College in...   \n",
      "3  <p>historian. global history, humanitarianism,...   \n",
      "4  <p>historian. global history, humanitarianism,...   \n",
      "\n",
      "                                          field_file  \n",
      "0                   csv/scholars_African Studies.csv  \n",
      "1                           csv/scholars_History.csv  \n",
      "2                   csv/scholars_African Studies.csv  \n",
      "3                   csv/scholars_African Studies.csv  \n",
      "4  csv/scholars_Historians of Science, Medicine, ...  \n"
     ]
    }
   ],
   "source": [
    "github_users = pd.read_csv('mastodon_profiles_github.tsv', sep='\\t')\n",
    "github_users.columns = ['index', 'user_instance', 'display_name', 'twitter', 'followers', 'following', 'created_at', 'bio', 'field']\n",
    "github_users = github_users.drop(columns=['field', 'index'])\n",
    "\n",
    "fields_users = pd.read_csv('mastodon_profiles_fields.tsv', sep='\\t')\n",
    "fields_users.columns = ['index', 'user_instance', 'field_file']\n",
    "fields_users = fields_users.drop(columns=['index'])\n",
    "\n",
    "github_users = github_users.merge(fields_users, on='user_instance', how='left')\n",
    "github_users = github_users.dropna(subset='field_file')\n",
    "\n",
    "print(github_users.head())"
   ]
  },
  {
   "cell_type": "code",
   "execution_count": 76,
   "metadata": {},
   "outputs": [
    {
     "data": {
      "text/html": [
       "<div>\n",
       "<style scoped>\n",
       "    .dataframe tbody tr th:only-of-type {\n",
       "        vertical-align: middle;\n",
       "    }\n",
       "\n",
       "    .dataframe tbody tr th {\n",
       "        vertical-align: top;\n",
       "    }\n",
       "\n",
       "    .dataframe thead th {\n",
       "        text-align: right;\n",
       "    }\n",
       "</style>\n",
       "<table border=\"1\" class=\"dataframe\">\n",
       "  <thead>\n",
       "    <tr style=\"text-align: right;\">\n",
       "      <th></th>\n",
       "      <th>idx</th>\n",
       "      <th>level0</th>\n",
       "      <th>subtopic</th>\n",
       "    </tr>\n",
       "  </thead>\n",
       "  <tbody>\n",
       "    <tr>\n",
       "      <th>0</th>\n",
       "      <td>0</td>\n",
       "      <td>sociology</td>\n",
       "      <td>qualitative research</td>\n",
       "    </tr>\n",
       "    <tr>\n",
       "      <th>1</th>\n",
       "      <td>1</td>\n",
       "      <td>sociology</td>\n",
       "      <td>technology policy</td>\n",
       "    </tr>\n",
       "    <tr>\n",
       "      <th>2</th>\n",
       "      <td>2</td>\n",
       "      <td>sociology</td>\n",
       "      <td>journalism</td>\n",
       "    </tr>\n",
       "    <tr>\n",
       "      <th>3</th>\n",
       "      <td>3</td>\n",
       "      <td>sociology</td>\n",
       "      <td>anthropology</td>\n",
       "    </tr>\n",
       "    <tr>\n",
       "      <th>4</th>\n",
       "      <td>4</td>\n",
       "      <td>sociology</td>\n",
       "      <td>criminology</td>\n",
       "    </tr>\n",
       "  </tbody>\n",
       "</table>\n",
       "</div>"
      ],
      "text/plain": [
       "   idx     level0              subtopic\n",
       "0    0  sociology  qualitative research\n",
       "1    1  sociology     technology policy\n",
       "2    2  sociology            journalism\n",
       "3    3  sociology          anthropology\n",
       "4    4  sociology           criminology"
      ]
     },
     "execution_count": 76,
     "metadata": {},
     "output_type": "execute_result"
    }
   ],
   "source": [
    "subtopics_map = pd.read_csv('topic2subtopic.csv')\n",
    "subtopics_map.columns = ['idx', 'level0', 'subtopic']\n",
    "subtopics_map.head()"
   ]
  },
  {
   "cell_type": "code",
   "execution_count": 60,
   "metadata": {},
   "outputs": [],
   "source": [
    "content = open('concepts_unification.txt').read().split('\\n\\n')\n",
    "mapconcepts = dict()\n",
    "for row in content:\n",
    "    temp = row.split('\\n')\n",
    "    temp2 = []\n",
    "    for item in temp:\n",
    "        temp2.append(item.split(\" (\")[0])\n",
    "\n",
    "    mapconcepts[temp[0]] = tuple(temp2[1:])"
   ]
  },
  {
   "cell_type": "code",
   "execution_count": 74,
   "metadata": {},
   "outputs": [],
   "source": [
    "fields_unification = []\n",
    "for idx, row in github_users.iterrows():\n",
    "    temp = mapconcepts[row['field_file']]\n",
    "    fields_unification.append(temp)"
   ]
  },
  {
   "cell_type": "code",
   "execution_count": 77,
   "metadata": {},
   "outputs": [
    {
     "data": {
      "text/plain": [
       "[('african studies',),\n",
       " ('history',),\n",
       " ('african studies',),\n",
       " ('african studies',),\n",
       " ('history of science and technology',)]"
      ]
     },
     "execution_count": 77,
     "metadata": {},
     "output_type": "execute_result"
    }
   ],
   "source": [
    "fields_unification[:5]"
   ]
  },
  {
   "cell_type": "code",
   "execution_count": 82,
   "metadata": {},
   "outputs": [],
   "source": [
    "users_fields = []\n",
    "for field in fields_unification:\n",
    "    field = field[0]\n",
    "    temp = subtopics_map[subtopics_map['subtopic'] == field].iloc[0]['level0']\n",
    "    users_fields.append(temp)\n",
    "    #como lidar com mais de uma área?"
   ]
  },
  {
   "cell_type": "code",
   "execution_count": 85,
   "metadata": {},
   "outputs": [],
   "source": [
    "github_users['field_level0'] = users_fields"
   ]
  },
  {
   "cell_type": "code",
   "execution_count": 88,
   "metadata": {},
   "outputs": [],
   "source": [
    "mentions = pd.read_csv('github_users_mentions.tsv', sep='\\t')"
   ]
  },
  {
   "cell_type": "code",
   "execution_count": 89,
   "metadata": {},
   "outputs": [
    {
     "data": {
      "text/plain": [
       "Index(['Unnamed: 0.1', 'Unnamed: 0', 'toot_author', 'mentioned_user',\n",
       "       'toot_id', 'uri', 'content', 'mentioned_user_instance'],\n",
       "      dtype='object')"
      ]
     },
     "execution_count": 89,
     "metadata": {},
     "output_type": "execute_result"
    }
   ],
   "source": [
    "mentions.columns"
   ]
  },
  {
   "cell_type": "code",
   "execution_count": 92,
   "metadata": {},
   "outputs": [],
   "source": [
    "nodes = set()\n",
    "edges = []\n",
    "for idx, row in mentions.iterrows():\n",
    "    source = row['toot_author']\n",
    "    target = row['mentioned_user_instance']\n",
    "    edges.append((source, target))\n",
    "    nodes.add(source)\n",
    "    nodes.add(target)"
   ]
  },
  {
   "cell_type": "code",
   "execution_count": 94,
   "metadata": {},
   "outputs": [
    {
     "data": {
      "text/plain": [
       "(46748, 235768)"
      ]
     },
     "execution_count": 94,
     "metadata": {},
     "output_type": "execute_result"
    }
   ],
   "source": [
    "len(nodes),len(edges)"
   ]
  },
  {
   "cell_type": "code",
   "execution_count": 95,
   "metadata": {},
   "outputs": [],
   "source": [
    "nodes = list(nodes)\n",
    "instances = [node.split('@')[1] for node in nodes]"
   ]
  },
  {
   "cell_type": "code",
   "execution_count": 109,
   "metadata": {},
   "outputs": [],
   "source": [
    "import igraph as ig\n",
    "g_mentions = ig.Graph(directed=True)"
   ]
  },
  {
   "cell_type": "code",
   "execution_count": 110,
   "metadata": {},
   "outputs": [
    {
     "data": {
      "text/plain": [
       "<igraph.Graph at 0x7f95fdf5aa90>"
      ]
     },
     "execution_count": 110,
     "metadata": {},
     "output_type": "execute_result"
    }
   ],
   "source": [
    "g_mentions.add_vertices(len(nodes))\n",
    "g_mentions.vs['name'] = nodes\n",
    "g_mentions.vs['instance'] = instances\n",
    "g_mentions.add_edges(edges)\n",
    "g_mentions.simplify()"
   ]
  },
  {
   "cell_type": "code",
   "execution_count": 111,
   "metadata": {},
   "outputs": [],
   "source": [
    "fields = []\n",
    "for node in nodes:\n",
    "    temp = github_users[github_users['user_instance'] == node]\n",
    "    if len(temp) > 0:\n",
    "        f = temp.iloc[0]['field_level0']\n",
    "    else:\n",
    "        f = 'unknown'\n",
    "    fields.append(f)"
   ]
  },
  {
   "cell_type": "code",
   "execution_count": 112,
   "metadata": {},
   "outputs": [],
   "source": [
    "g_mentions.vs['field'] = fields"
   ]
  },
  {
   "cell_type": "code",
   "execution_count": 113,
   "metadata": {},
   "outputs": [],
   "source": [
    "g_mentions.vs['in_degree'] = g_mentions.degree(mode='IN')"
   ]
  },
  {
   "cell_type": "code",
   "execution_count": 114,
   "metadata": {},
   "outputs": [],
   "source": [
    "import xnetwork as xnet"
   ]
  },
  {
   "cell_type": "code",
   "execution_count": 115,
   "metadata": {},
   "outputs": [],
   "source": [
    "xnet.igraph2xnet(g_mentions, 'g_mentions_github_simplify.xnet')"
   ]
  },
  {
   "cell_type": "code",
   "execution_count": 116,
   "metadata": {},
   "outputs": [
    {
     "data": {
      "text/plain": [
       "106895"
      ]
     },
     "execution_count": 116,
     "metadata": {},
     "output_type": "execute_result"
    }
   ],
   "source": [
    "len(set(edges))"
   ]
  },
  {
   "cell_type": "code",
   "execution_count": 117,
   "metadata": {},
   "outputs": [
    {
     "data": {
      "text/plain": [
       "106642"
      ]
     },
     "execution_count": 117,
     "metadata": {},
     "output_type": "execute_result"
    }
   ],
   "source": [
    "g_mentions.ecount()"
   ]
  },
  {
   "cell_type": "code",
   "execution_count": null,
   "metadata": {},
   "outputs": [],
   "source": []
  }
 ],
 "metadata": {
  "kernelspec": {
   "display_name": "Python 3 (ipykernel)",
   "language": "python",
   "name": "python3"
  },
  "language_info": {
   "codemirror_mode": {
    "name": "ipython",
    "version": 3
   },
   "file_extension": ".py",
   "mimetype": "text/x-python",
   "name": "python",
   "nbconvert_exporter": "python",
   "pygments_lexer": "ipython3",
   "version": "3.8.3"
  }
 },
 "nbformat": 4,
 "nbformat_minor": 4
}
