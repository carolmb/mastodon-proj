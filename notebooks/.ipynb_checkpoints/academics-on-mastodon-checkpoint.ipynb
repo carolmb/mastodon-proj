{
 "cells": [
  {
   "cell_type": "code",
   "execution_count": 46,
   "metadata": {},
   "outputs": [
    {
     "name": "stdout",
     "output_type": "stream",
     "text": [
      "Requirement already satisfied: parse in /home/carol_mb/anaconda3/lib/python3.8/site-packages (1.19.0)\n",
      "Collecting GitPython\n",
      "  Downloading GitPython-3.1.31-py3-none-any.whl (184 kB)\n",
      "\u001b[K     |████████████████████████████████| 184 kB 3.7 MB/s eta 0:00:01\n",
      "\u001b[?25hCollecting gitdb<5,>=4.0.1\n",
      "  Downloading gitdb-4.0.10-py3-none-any.whl (62 kB)\n",
      "\u001b[K     |████████████████████████████████| 62 kB 2.1 MB/s  eta 0:00:01\n",
      "\u001b[?25hCollecting smmap<6,>=3.0.1\n",
      "  Downloading smmap-5.0.0-py3-none-any.whl (24 kB)\n",
      "Installing collected packages: smmap, gitdb, GitPython\n",
      "Successfully installed GitPython-3.1.31 gitdb-4.0.10 smmap-5.0.0\n"
     ]
    }
   ],
   "source": [
    "!pip install parse\n",
    "!pip install GitPython"
   ]
  },
  {
   "cell_type": "code",
   "execution_count": 91,
   "metadata": {},
   "outputs": [],
   "source": [
    "import os\n",
    "import glob\n",
    "import parse\n",
    "import shutil \n",
    "import requests\n",
    "import pandas as pd\n",
    "from git import Repo\n",
    "from io import StringIO"
   ]
  },
  {
   "cell_type": "code",
   "execution_count": 1,
   "metadata": {},
   "outputs": [],
   "source": [
    "source = 'https://github.com/nathanlesage/academics-on-mastodon/blob/main/README.md'"
   ]
  },
  {
   "cell_type": "code",
   "execution_count": 7,
   "metadata": {},
   "outputs": [
    {
     "name": "stdout",
     "output_type": "stream",
     "text": [
      "Will not apply HSTS. The HSTS database must be a regular and non-world-writable file.\n",
      "ERROR: could not open HSTS store at '/home/carol_mb/.wget-hsts'. HSTS will be disabled.\n",
      "--2023-04-13 13:15:50--  https://raw.githubusercontent.com/nathanlesage/academics-on-mastodon/main/README.md\n",
      "Resolving raw.githubusercontent.com (raw.githubusercontent.com)... 185.199.111.133, 185.199.109.133, 185.199.108.133, ...\n",
      "Connecting to raw.githubusercontent.com (raw.githubusercontent.com)|185.199.111.133|:443... connected.\n",
      "HTTP request sent, awaiting response... 200 OK\n",
      "Length: 23525 (23K) [text/plain]\n",
      "Saving to: ‘academics-source.md’\n",
      "\n",
      "academics-source.md 100%[===================>]  22.97K  --.-KB/s    in 0.007s  \n",
      "\n",
      "2023-04-13 13:15:51 (3.31 MB/s) - ‘academics-source.md’ saved [23525/23525]\n",
      "\n"
     ]
    }
   ],
   "source": [
    "!wget https://raw.githubusercontent.com/nathanlesage/academics-on-mastodon/main/README.md -O 'academics-source.md'"
   ]
  },
  {
   "cell_type": "code",
   "execution_count": 3,
   "metadata": {},
   "outputs": [],
   "source": [
    "file = open('academics-source.md').readlines()"
   ]
  },
  {
   "cell_type": "code",
   "execution_count": 26,
   "metadata": {
    "scrolled": false
   },
   "outputs": [],
   "source": [
    "format_string = '- [{}]({}){}'\n",
    "sources = []\n",
    "\n",
    "islist = False\n",
    "for line in file:\n",
    "    if line == '## Curated Account Lists\\n':\n",
    "        islist = True\n",
    "    elif islist and line[:2] == '##':\n",
    "        islist = False\n",
    "    if islist and line[0] == '-':\n",
    "        parsed = parse.parse(format_string, line)\n",
    "        field_csv = (parsed[0], parsed[1])\n",
    "        sources.append(field_csv)"
   ]
  },
  {
   "cell_type": "code",
   "execution_count": 96,
   "metadata": {},
   "outputs": [
    {
     "name": "stdout",
     "output_type": "stream",
     "text": [
      "https://docs.google.com/document/d/1vFWP_eBXrjeDqDkmT6PEbxnsZ_QFC4OgEgUHTrJWhhQ/export?format=txt\n",
      "﻿#commodon\n",
      "A Partial List of Researchers on Mastodon in Communication, Media Studies, and Adjacent Fields\n",
      "\n",
      "\n",
      "Maintainer’s Note: This list is opt-in. To request that your account be added, contact one of the maintainers (Josh Braun or Bethany Klein) or suggest a change directly to the Google Doc f\n"
     ]
    }
   ],
   "source": [
    "def get_csv(txt):\n",
    "    return txt\n",
    "    \n",
    "def zero_or_more_string(text):\n",
    "    return text\n",
    "\n",
    "zero_or_more_string.pattern = r\".*\"\n",
    "        \n",
    "        \n",
    "data = []\n",
    "for source in sources:\n",
    "    if 'docs.google.com' in source[1]:\n",
    "        field = source[0]\n",
    "        url = source[1]\n",
    "        str_format = 'https://docs.google.com/{}/d/{}/{:z}'\n",
    "        parsed = parse.parse(str_format, url, {'z':zero_or_more_string})\n",
    "        doc_type = parsed[0]\n",
    "        code = parsed[1]\n",
    "        \n",
    "        if doc_type == 'spreadsheets':\n",
    "            result = requests.get('https://docs.google.com/{}/d/{}/export?format=csv'.format(doc_type,code))\n",
    "            csv_string = result.text\n",
    "        \n",
    "            csvStringIO = StringIO(csv_string)\n",
    "            df = [pd.read_csv(csvStringIO)]\n",
    "            data.append((field, df))\n",
    "        elif doc_type == 'document':\n",
    "            export_url = 'https://docs.google.com/{}/d/{}/export?format=txt'.format(doc_type,code)\n",
    "            print(export_url)\n",
    "            result = requests.get(export_url)\n",
    "            csv_string = get_csv(result.text)\n",
    "            csvStringIO = StringIO(csv_string)\n",
    "            df = [pd.read_csv(csvStringIO)]\n",
    "            data.append((field,df))\n",
    "        \n",
    "    elif 'sharepoint' in source[1]:\n",
    "#         https://faun.pub/quick-etl-with-python-part-1-download-files-from-sharepoint-online-40bf23711662\n",
    "        pass\n",
    "    else:\n",
    "        '''\n",
    "        field = source[0]\n",
    "        \n",
    "        str_format = 'https://{}.github.io/{}/'\n",
    "        parsed = parse.parse(str_format, source[1])\n",
    "        user_git = parsed[0]\n",
    "        repo_name = parsed[1]\n",
    "\n",
    "        Repo.clone_from('https://github.com/{}/{}'.format(user_git, repo_name), repo_name + '_copy')\n",
    "        \n",
    "        files = glob.glob(repo_name + '_copy/resources/*.csv')\n",
    "        results = []\n",
    "        for file in files:\n",
    "            df = pd.read_csv(file)\n",
    "            results.append(df)\n",
    "        shutil.rmtree(repo_name + '_copy')\n",
    "        data.append((field, results))\n",
    "        '''\n",
    "        "
   ]
  },
  {
   "cell_type": "code",
   "execution_count": null,
   "metadata": {},
   "outputs": [],
   "source": [
    "https://github.com/fivestone/fedi-anthropologists/archive/refs/heads/main.zip\n",
    "    \n",
    "    git@github.com:fivestone/fedi-anthropologists.git"
   ]
  }
 ],
 "metadata": {
  "kernelspec": {
   "display_name": "Python 3",
   "language": "python",
   "name": "python3"
  },
  "language_info": {
   "codemirror_mode": {
    "name": "ipython",
    "version": 3
   },
   "file_extension": ".py",
   "mimetype": "text/x-python",
   "name": "python",
   "nbconvert_exporter": "python",
   "pygments_lexer": "ipython3",
   "version": "3.8.8"
  }
 },
 "nbformat": 4,
 "nbformat_minor": 4
}
