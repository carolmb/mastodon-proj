{
 "cells": [
  {
   "cell_type": "code",
   "execution_count": 1,
   "metadata": {},
   "outputs": [],
   "source": [
    "import time\n",
    "import glob\n",
    "import json\n",
    "import os.path\n",
    "import requests\n",
    "import pandas as pd\n",
    "from  datetime import date"
   ]
  },
  {
   "cell_type": "code",
   "execution_count": 2,
   "metadata": {},
   "outputs": [],
   "source": [
    "today = date.today()"
   ]
  },
  {
   "cell_type": "code",
   "execution_count": 4,
   "metadata": {},
   "outputs": [
    {
     "name": "stderr",
     "output_type": "stream",
     "text": [
      "Skipping line 50: expected 4 fields, saw 5\n",
      "\n"
     ]
    },
    {
     "name": "stdout",
     "output_type": "stream",
     "text": [
      "               user            instance   \n",
      "0           rheinze        assemblag.es  \\\n",
      "1          BrianJAP      mastodon.world   \n",
      "2       joelglasman     fediscience.org   \n",
      "3  brenton_peterson     sciences.social   \n",
      "4            keremd  social.anoxinon.de   \n",
      "\n",
      "                                           followers            field  \n",
      "0  [109417147220906349, 109243458234695495, 10924...  African Studies  \n",
      "1  [1302832, 110023631275744313, 1099309840163259...  African Studies  \n",
      "2                                                 []  African Studies  \n",
      "3  [107192220324249637, 109354941450990518, 10951...  African Studies  \n",
      "4  [1302832, 109212672053987101, 1092459114371518...  African Studies  \n"
     ]
    }
   ],
   "source": [
    "files = glob.glob('../data/users_followers_*_2023-05-02.csv')\n",
    "all_users = []\n",
    "for file in files:\n",
    "    users = pd.read_csv(file, sep='\\t', names=['user', 'instance', 'followers', 'field'], encoding_errors='replace', on_bad_lines='warn')\n",
    "    all_users.append(users)\n",
    "\n",
    "all_users = pd.concat(all_users)\n",
    "print(all_users.head())"
   ]
  },
  {
   "cell_type": "code",
   "execution_count": 5,
   "metadata": {},
   "outputs": [],
   "source": [
    "import requests\n",
    "from requests.adapters import HTTPAdapter\n",
    "from urllib3.util.retry import Retry\n",
    "\n",
    "session = requests.Session()\n",
    "retry = Retry(connect=3, backoff_factor=0.5)\n",
    "adapter = HTTPAdapter(max_retries=retry)\n",
    "session.mount('http://', adapter)\n",
    "session.mount('https://', adapter)\n",
    "\n",
    "\n",
    "def get_userid(user_name, user_server, token_access):\n",
    "    try:\n",
    "        url = 'https://{}/api/v1/accounts/lookup/'.format(user_server)\n",
    "        headers = {\n",
    "            'Authorization' : 'Bearer {}'.format(token_access)\n",
    "        }\n",
    "        params = {\n",
    "            'acct' : '{}@{}'.format(user_name, user_server)\n",
    "        }\n",
    "        r = session.get(url, headers=headers, params=params)\n",
    "\n",
    "        user = json.loads(r.text)\n",
    "        if 'id' in user:\n",
    "            return user[\"id\"]\n",
    "        elif 'user' in user:\n",
    "            return user[\"user\"]\n",
    "    except Exception as error:\n",
    "        print(error)\n",
    "        return None"
   ]
  },
  {
   "cell_type": "code",
   "execution_count": 8,
   "metadata": {},
   "outputs": [],
   "source": [
    "# mastodon_app = \"acmbrito_app_python_secret\"\n",
    "# client_id, client_secret, access_token, api_base_url = open(mastodon_app).read().split()"
   ]
  },
  {
   "cell_type": "code",
   "execution_count": 6,
   "metadata": {},
   "outputs": [],
   "source": [
    "date_limit = date(2022, 9, 1)"
   ]
  },
  {
   "cell_type": "code",
   "execution_count": 7,
   "metadata": {},
   "outputs": [],
   "source": [
    "import util\n",
    "def get_instance_token(instance):\n",
    "    return util.get_instance_token(instance)"
   ]
  },
  {
   "cell_type": "code",
   "execution_count": 13,
   "metadata": {},
   "outputs": [],
   "source": [
    "# toots\n",
    "\n",
    "# source to collect user toots: https://jrashford.com/2023/02/13/how-to-scrape-mastodon-timelines-using-python-and-pandas/\n",
    "# API code: https://mastodonpy.readthedocs.io/en/1.8.1/_modules/mastodon/timeline.html?highlight=users%20in%20a%20given%20list\n",
    "# https://docs.joinmastodon.org/methods/search/#v1\n",
    "\n",
    "def user_toots(instance, user_id, access_token):\n",
    "    URL = 'https://{}/api/v1/accounts/{}/statuses'.format(instance, user_id)\n",
    "    user_toots = []\n",
    "    if access_token:\n",
    "        headers = {\n",
    "            'Authorization' : 'Bearer {}'.format(access_token)\n",
    "        }\n",
    "        \n",
    "        user_toots = []\n",
    "        params = {}\n",
    "        while True:\n",
    "            #time.sleep(1)\n",
    "            r = requests.get(URL, headers=headers, params=params, timeout=60)\n",
    "            toots = json.loads(r.text)\n",
    "            user_toots += toots\n",
    "            if len(toots) == 0:\n",
    "                break\n",
    "            if 'error' in toots:\n",
    "                print(user_id, toots)\n",
    "                break\n",
    "            max_id = toots[-1]['id']\n",
    "            params = {'max_id' : max_id}\n",
    "            \n",
    "            date_str = toots[-1]['created_at'].split('T')[0]\n",
    "            last_date = date.fromisoformat(date_str)\n",
    "            if last_date < date_limit:\n",
    "                break\n",
    "\n",
    "    return user_toots"
   ]
  },
  {
   "cell_type": "code",
   "execution_count": 8,
   "metadata": {},
   "outputs": [],
   "source": [
    "valid_fields = ['id',\n",
    "'created_at',\n",
    "'in_reply_to_account_id',\n",
    "'uri',\n",
    "'replies_count',\n",
    "'reblogs_count',\n",
    "'favourites_count',\n",
    "'content'\n",
    "]"
   ]
  },
  {
   "cell_type": "code",
   "execution_count": null,
   "metadata": {},
   "outputs": [],
   "source": [
    "files = glob.glob('temp/users_toots_2023-0*.tsv')\n",
    "users_already_collected = []\n",
    "invalid_users = set()\n",
    "for file in files:\n",
    "    invalid_users |= set(pd.read_csv(file, sep='\\t')['user_id'])\n",
    "\n",
    "print(len(invalid_users))"
   ]
  },
  {
   "cell_type": "code",
   "execution_count": null,
   "metadata": {},
   "outputs": [],
   "source": [
    "outputs = []\n",
    "size = 0\n",
    "user_id_map = pd.read_csv('user_id_list.tsv', sep='\\t')\n",
    "user_id_map = user_id_map.drop_duplicates(subset=['user', 'instance'])\n",
    "user_id_map = user_id_map.dropna()\n",
    "\n",
    "for _, user in all_users.iterrows():\n",
    "    \n",
    "    user_id = user_id_map[(user_id_map['user'] == user['user']) & (user_id_map['instance'] == user['instance'])]\n",
    "    if len(user_id) >= 1:\n",
    "        user_id = user_id['user_id'].values[0]\n",
    "    \n",
    "    else:\n",
    "        continue\n",
    "\n",
    "    if not user_id:\n",
    "        print(user)\n",
    "        continue\n",
    "\n",
    "    if not user_id.isnumeric():\n",
    "        continue\n",
    "\n",
    "    if int(user_id) in invalid_users:\n",
    "        continue\n",
    "    \n",
    "    instance_token = get_instance_token(user['instance'])\n",
    "    if not instance_token:\n",
    "        continue\n",
    "\n",
    "    toots = user_toots(user['instance'], user_id, instance_token)\n",
    "    if len(toots) > 0:\n",
    "        toots_pd = pd.json_normalize(toots)\n",
    "        toots_pd = toots_pd.loc[:, valid_fields]\n",
    "        toots_pd['user_id'] = user_id\n",
    "        size += len(toots_pd)\n",
    "        outputs.append(toots_pd)\n",
    "\n",
    "    if size > 10000:\n",
    "        data_toots = pd.concat(outputs)\n",
    "        data_toots.to_csv('temp/users_toots_{}_{}.tsv'.format(today, user_id), sep='\\t')\n",
    "        outputs = []\n",
    "        size = 0\n",
    "\n",
    "data_toots = pd.concat(outputs)\n",
    "data_toots.to_csv('temp/users_toots_{}_{}.tsv'.format(today, user_id), sep='\\t')"
   ]
  },
  {
   "cell_type": "code",
   "execution_count": null,
   "metadata": {},
   "outputs": [],
   "source": [
    "#TODO to select instances related to scholars/science\n",
    "#questions: search for scholars on mastodon.social? (the \"main\" instance)\n",
    "\n",
    "# o tamanho de um subconjunto para selecionar?????\n",
    "# fediscience (onde todos os usuarios sao academicos) como primeiro subset\n",
    "# como expandir isso para o mais instancias?\n",
    "# "
   ]
  },
  {
   "cell_type": "code",
   "execution_count": null,
   "metadata": {},
   "outputs": [],
   "source": [
    "ids = []\n",
    "i = 0\n",
    "'''\n",
    "for _, user in all_users.iterrows():\n",
    "    instance_token = get_instance_token(user['instance'])\n",
    "    user_id = get_userid(user['user'], user['instance'], instance_token)\n",
    "    ids.append((user['user'], user['instance'], user_id))\n",
    "    i += 1\n",
    "    if i % 300 == 0:\n",
    "        print(i, end='\\r')\n",
    "        pd.DataFrame(ids, columns=['user', 'instance', 'user_id']).to_csv('user_id_list.tsv', sep='\\t')\n",
    "'''\n"
   ]
  },
  {
   "cell_type": "code",
   "execution_count": 10,
   "metadata": {},
   "outputs": [
    {
     "name": "stdout",
     "output_type": "stream",
     "text": [
      "Index(['Unnamed: 0', 'mastodon_name'], dtype='object')\n",
      "4677\n"
     ]
    },
    {
     "data": {
      "text/html": [
       "<div>\n",
       "<style scoped>\n",
       "    .dataframe tbody tr th:only-of-type {\n",
       "        vertical-align: middle;\n",
       "    }\n",
       "\n",
       "    .dataframe tbody tr th {\n",
       "        vertical-align: top;\n",
       "    }\n",
       "\n",
       "    .dataframe thead th {\n",
       "        text-align: right;\n",
       "    }\n",
       "</style>\n",
       "<table border=\"1\" class=\"dataframe\">\n",
       "  <thead>\n",
       "    <tr style=\"text-align: right;\">\n",
       "      <th></th>\n",
       "      <th>mastodon_name</th>\n",
       "    </tr>\n",
       "  </thead>\n",
       "  <tbody>\n",
       "    <tr>\n",
       "      <th>0</th>\n",
       "      <td>@HelmutBuergmann@mstdn.science</td>\n",
       "    </tr>\n",
       "    <tr>\n",
       "      <th>1</th>\n",
       "      <td>@boshek@fosstodon.org</td>\n",
       "    </tr>\n",
       "    <tr>\n",
       "      <th>2</th>\n",
       "      <td>@DenisDuboule@mas.to</td>\n",
       "    </tr>\n",
       "    <tr>\n",
       "      <th>3</th>\n",
       "      <td>@paulgkeil@mastodon.world</td>\n",
       "    </tr>\n",
       "    <tr>\n",
       "      <th>4</th>\n",
       "      <td>@rider_jon@zirk.us</td>\n",
       "    </tr>\n",
       "  </tbody>\n",
       "</table>\n",
       "</div>"
      ],
      "text/plain": [
       "                    mastodon_name\n",
       "0  @HelmutBuergmann@mstdn.science\n",
       "1           @boshek@fosstodon.org\n",
       "2            @DenisDuboule@mas.to\n",
       "3       @paulgkeil@mastodon.world\n",
       "4              @rider_jon@zirk.us"
      ]
     },
     "execution_count": 10,
     "metadata": {},
     "output_type": "execute_result"
    }
   ],
   "source": [
    "filename = '../data/mastodon_users_wOpenAlex.csv'\n",
    "openalex_masto = pd.read_csv(filename, sep=',')\n",
    "print(openalex_masto.columns)\n",
    "openalex_masto = openalex_masto.drop(columns='Unnamed: 0').drop_duplicates()\n",
    "print(openalex_masto.size)\n",
    "openalex_masto.head()"
   ]
  },
  {
   "cell_type": "code",
   "execution_count": null,
   "metadata": {},
   "outputs": [],
   "source": [
    "ids = []\n",
    "i = 0\n",
    "\n",
    "for _, user in openalex_masto.iterrows():\n",
    "    mastodon_name = user['mastodon_name'].split(\"@\")[1:]\n",
    "    user_name = mastodon_name[0]\n",
    "    instance_name = mastodon_name[1]\n",
    "    instance_token = get_instance_token(instance_name)\n",
    "    user_id = get_userid(user_name, instance_name, instance_token)\n",
    "    ids.append((user_name, instance_name, user_id))\n",
    "    i += 1\n",
    "    if i % 100 == 0:\n",
    "        print(i, end='\\r')\n",
    "        pd.DataFrame(ids, columns=['user', 'instance', 'user_id']).to_csv('user111_id_list_kunilist_{}.tsv'.format(today), sep='\\t')\n"
   ]
  },
  {
   "cell_type": "code",
   "execution_count": null,
   "metadata": {},
   "outputs": [],
   "source": [
    "## kuni list of users -> toots collected in 09-07-2023 (dd/mm/yyyy)\n",
    "\n",
    "outputs = []\n",
    "size = 0\n",
    "user_id_map = pd.read_csv('user111_id_list_kunilist_2023-06-30.tsv', sep='\\t', dtype=object)\n",
    "user_id_map = user_id_map.drop_duplicates(subset=['user', 'instance'])\n",
    "user_id_map = user_id_map.dropna()\n",
    "#user_id_map = user_id_map.astype({'user_id':'int'})\n",
    "print(user_id_map.head())\n",
    "\n",
    "for _, user in user_id_map.iterrows():\n",
    "    '''print(user)\n",
    "    item = user['mastodon_name'].split('@')\n",
    "    \n",
    "    user = {\n",
    "        'user': item[1],\n",
    "        'instance': item[2]\n",
    "    }'''\n",
    "\n",
    "    user_id = user_id_map[(user_id_map['user'] == user['user']) & (user_id_map['instance'] == user['instance'])]\n",
    "    if len(user_id) >= 1:\n",
    "        user_id = user_id['user_id'].values[0]\n",
    "    else:\n",
    "        continue\n",
    "\n",
    "    if not user_id:\n",
    "        print(user)\n",
    "        continue\n",
    "\n",
    "    if not user_id.isnumeric():\n",
    "        continue\n",
    "\n",
    "    # if int(user_id) in invalid_users:\n",
    "    #    continue\n",
    "    \n",
    "    instance_token = get_instance_token(user['instance'])\n",
    "    if not instance_token:\n",
    "        continue\n",
    "\n",
    "    toots = user_toots(user['instance'], user_id, instance_token)\n",
    "    if len(toots) > 0:\n",
    "        toots_pd = pd.json_normalize(toots)\n",
    "        toots_pd = toots_pd.loc[:, valid_fields]\n",
    "        toots_pd['mastodon_name'] = \"{}@{}\".format(user['user'], user['instance']) \n",
    "        size += len(toots_pd)\n",
    "        outputs.append(toots_pd)\n",
    "\n",
    "    if size > 10000:\n",
    "        data_toots = pd.concat(outputs)\n",
    "        data_toots.to_csv('temp/users_toots_{}_{}.tsv'.format(today, user_id), sep='\\t')\n",
    "        outputs = []\n",
    "        size = 0\n",
    "\n",
    "data_toots = pd.concat(outputs)\n",
    "data_toots.to_csv('temp/users_toots_{}_{}.tsv'.format(today, user_id), sep='\\t')"
   ]
  },
  {
   "cell_type": "code",
   "execution_count": null,
   "metadata": {},
   "outputs": [],
   "source": [
    "## kuni list of users -> toots collected in 09-07-2023 (dd/mm/yyyy)"
   ]
  }
 ],
 "metadata": {
  "kernelspec": {
   "display_name": "Python 3 (ipykernel)",
   "language": "python",
   "name": "python3"
  },
  "language_info": {
   "codemirror_mode": {
    "name": "ipython",
    "version": 3
   },
   "file_extension": ".py",
   "mimetype": "text/x-python",
   "name": "python",
   "nbconvert_exporter": "python",
   "pygments_lexer": "ipython3",
   "version": "3.8.3"
  }
 },
 "nbformat": 4,
 "nbformat_minor": 4
}
