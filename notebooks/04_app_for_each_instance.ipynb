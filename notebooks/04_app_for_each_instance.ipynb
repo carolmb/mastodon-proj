{
 "cells": [
  {
   "cell_type": "code",
   "execution_count": 1,
   "metadata": {},
   "outputs": [],
   "source": [
    "import glob\n",
    "import time\n",
    "import pandas as pd\n",
    "from mastodon import Mastodon\n"
   ]
  },
  {
   "cell_type": "code",
   "execution_count": 2,
   "metadata": {},
   "outputs": [
    {
     "name": "stderr",
     "output_type": "stream",
     "text": [
      "Skipping line 50: expected 4 fields, saw 5\n",
      "\n"
     ]
    }
   ],
   "source": [
    "files = glob.glob('../data/users_followers_*_2023-05-02.csv')\n",
    "all_users = []\n",
    "for file in files:\n",
    "    users = pd.read_csv(file, sep='\\t', names=['user', 'instance', 'followers', 'field'], encoding_errors='replace', on_bad_lines='warn')\n",
    "    all_users.append(users)\n",
    "\n",
    "all_users = pd.concat(all_users)"
   ]
  },
  {
   "cell_type": "code",
   "execution_count": 3,
   "metadata": {},
   "outputs": [],
   "source": [
    "instances = users['instance'].unique()"
   ]
  },
  {
   "cell_type": "code",
   "execution_count": 4,
   "metadata": {},
   "outputs": [
    {
     "name": "stdout",
     "output_type": "stream",
     "text": [
      "a.gup.pe\n",
      "kirche.social\n",
      "toot.community\n",
      "climatejustice.social\n",
      "mastodonapp.uk\n",
      "mastodon.online\n",
      "writing.exchange \n",
      "ohai.social\n",
      "mas.to \n",
      "Techhub.social\n",
      "Mastodonapp.uk\n",
      "scholar.social\n",
      "bibly.com\n",
      "witches.live\n",
      "mastodon.scot \n",
      "zirk.us\n",
      "mastodon.ie\n",
      "mastodon.world\n",
      "mstdn.social \n",
      "masto.ai \n",
      "social.anoxinon.de\n",
      "toot.community \n",
      "religion.masto.host\n",
      "masto.ai\n",
      "mindly.social\n",
      "mastodon.online \n",
      "vivaldi.net\n"
     ]
    }
   ],
   "source": [
    "instances_valids = open('instance_list.tsv', encoding='utf-8').read()\n",
    "def isinstance(name):\n",
    "    return name in instances_valids\n",
    "\n",
    "for instance_name in instances:\n",
    "\n",
    "    if not isinstance(instance_name):\n",
    "        print(instance_name)\n",
    "        continue\n",
    "\n",
    "    Mastodon.create_app(\n",
    "        'pytooterapp',\n",
    "        api_base_url = 'https://{}'.format(instance_name),\n",
    "        to_file = 'temp/mastodon_app_key_{}.secret'.format(instance_name)\n",
    "    )\n",
    "    time.sleep(3)\n"
   ]
  },
  {
   "cell_type": "code",
   "execution_count": null,
   "metadata": {},
   "outputs": [],
   "source": []
  }
 ],
 "metadata": {
  "kernelspec": {
   "display_name": "Python 3 (ipykernel)",
   "language": "python",
   "name": "python3"
  },
  "language_info": {
   "codemirror_mode": {
    "name": "ipython",
    "version": 3
   },
   "file_extension": ".py",
   "mimetype": "text/x-python",
   "name": "python",
   "nbconvert_exporter": "python",
   "pygments_lexer": "ipython3",
   "version": "3.8.10"
  }
 },
 "nbformat": 4,
 "nbformat_minor": 4
}
