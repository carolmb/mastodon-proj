{
 "cells": [
  {
   "cell_type": "code",
   "execution_count": 11,
   "metadata": {},
   "outputs": [],
   "source": [
    "import ast\n",
    "import glob\n",
    "import numpy as np\n",
    "import pandas as pd"
   ]
  },
  {
   "cell_type": "code",
   "execution_count": 2,
   "metadata": {},
   "outputs": [],
   "source": [
    "files = glob.glob('temp/mastodon_users_papers_*.tsv')"
   ]
  },
  {
   "cell_type": "code",
   "execution_count": 3,
   "metadata": {},
   "outputs": [
    {
     "data": {
      "text/plain": [
       "['temp/mastodon_users_papers_2023-08-05 02:04:54.290566.tsv',\n",
       " 'temp/mastodon_users_papers_2023-08-05 02:33:59.793183.tsv',\n",
       " 'temp/mastodon_users_papers_2023-08-05 02:51:33.621818.tsv']"
      ]
     },
     "execution_count": 3,
     "metadata": {},
     "output_type": "execute_result"
    }
   ],
   "source": [
    "files[:3]"
   ]
  },
  {
   "cell_type": "code",
   "execution_count": 4,
   "metadata": {},
   "outputs": [
    {
     "data": {
      "text/plain": [
       "13"
      ]
     },
     "execution_count": 4,
     "metadata": {},
     "output_type": "execute_result"
    }
   ],
   "source": [
    "len(files)"
   ]
  },
  {
   "cell_type": "code",
   "execution_count": 5,
   "metadata": {},
   "outputs": [],
   "source": [
    "data = []\n",
    "for file in files:\n",
    "    data.append(pd.read_csv(file, sep='\\t'))\n",
    "    \n",
    "data = pd.concat(data)"
   ]
  },
  {
   "cell_type": "code",
   "execution_count": 6,
   "metadata": {},
   "outputs": [
    {
     "data": {
      "text/plain": [
       "123007"
      ]
     },
     "execution_count": 6,
     "metadata": {},
     "output_type": "execute_result"
    }
   ],
   "source": [
    "len(data)"
   ]
  },
  {
   "cell_type": "code",
   "execution_count": 10,
   "metadata": {},
   "outputs": [
    {
     "data": {
      "text/html": [
       "<div>\n",
       "<style scoped>\n",
       "    .dataframe tbody tr th:only-of-type {\n",
       "        vertical-align: middle;\n",
       "    }\n",
       "\n",
       "    .dataframe tbody tr th {\n",
       "        vertical-align: top;\n",
       "    }\n",
       "\n",
       "    .dataframe thead th {\n",
       "        text-align: right;\n",
       "    }\n",
       "</style>\n",
       "<table border=\"1\" class=\"dataframe\">\n",
       "  <thead>\n",
       "    <tr style=\"text-align: right;\">\n",
       "      <th></th>\n",
       "      <th>id</th>\n",
       "      <th>authorships:author:id</th>\n",
       "      <th>publication_year</th>\n",
       "      <th>referenced_works</th>\n",
       "    </tr>\n",
       "  </thead>\n",
       "  <tbody>\n",
       "    <tr>\n",
       "      <th>0</th>\n",
       "      <td>2239417385</td>\n",
       "      <td>[4355774393, 4355684289, 2123179122]</td>\n",
       "      <td>2015</td>\n",
       "      <td>[]</td>\n",
       "    </tr>\n",
       "    <tr>\n",
       "      <th>1</th>\n",
       "      <td>1507194541</td>\n",
       "      <td>[4358415098, 4357563902, 4342583151, 174528948...</td>\n",
       "      <td>2009</td>\n",
       "      <td>[]</td>\n",
       "    </tr>\n",
       "    <tr>\n",
       "      <th>2</th>\n",
       "      <td>78935132</td>\n",
       "      <td>[112741616]</td>\n",
       "      <td>1988</td>\n",
       "      <td>[]</td>\n",
       "    </tr>\n",
       "    <tr>\n",
       "      <th>3</th>\n",
       "      <td>2130771758</td>\n",
       "      <td>[77456698, 1980551004]</td>\n",
       "      <td>2010</td>\n",
       "      <td>[7641444,9210600,10541243,12276110,15429805,27...</td>\n",
       "    </tr>\n",
       "    <tr>\n",
       "      <th>4</th>\n",
       "      <td>3134907177</td>\n",
       "      <td>[2156773890]</td>\n",
       "      <td>2017</td>\n",
       "      <td>[]</td>\n",
       "    </tr>\n",
       "  </tbody>\n",
       "</table>\n",
       "</div>"
      ],
      "text/plain": [
       "           id                              authorships:author:id  \\\n",
       "0  2239417385               [4355774393, 4355684289, 2123179122]   \n",
       "1  1507194541  [4358415098, 4357563902, 4342583151, 174528948...   \n",
       "2    78935132                                        [112741616]   \n",
       "3  2130771758                             [77456698, 1980551004]   \n",
       "4  3134907177                                       [2156773890]   \n",
       "\n",
       "   publication_year                                   referenced_works  \n",
       "0              2015                                                 []  \n",
       "1              2009                                                 []  \n",
       "2              1988                                                 []  \n",
       "3              2010  [7641444,9210600,10541243,12276110,15429805,27...  \n",
       "4              2017                                                 []  "
      ]
     },
     "execution_count": 10,
     "metadata": {},
     "output_type": "execute_result"
    }
   ],
   "source": [
    "data = data.drop('Unnamed: 0', axis=1)\n",
    "data.head()"
   ]
  },
  {
   "cell_type": "code",
   "execution_count": 17,
   "metadata": {},
   "outputs": [],
   "source": [
    "from collections import defaultdict\n",
    "\n",
    "authors_year = defaultdict(lambda:[])\n",
    "for idx, row in data.iterrows():\n",
    "    authors = ast.literal_eval(row['authorships:author:id'])\n",
    "    year = row['publication_year']\n",
    "    for author in authors:\n",
    "        authors_year[author].append(year)"
   ]
  },
  {
   "cell_type": "code",
   "execution_count": 18,
   "metadata": {},
   "outputs": [
    {
     "data": {
      "text/plain": [
       "399414"
      ]
     },
     "execution_count": 18,
     "metadata": {},
     "output_type": "execute_result"
    }
   ],
   "source": [
    "len(authors_year)"
   ]
  },
  {
   "cell_type": "code",
   "execution_count": 20,
   "metadata": {},
   "outputs": [
    {
     "data": {
      "text/html": [
       "<div>\n",
       "<style scoped>\n",
       "    .dataframe tbody tr th:only-of-type {\n",
       "        vertical-align: middle;\n",
       "    }\n",
       "\n",
       "    .dataframe tbody tr th {\n",
       "        vertical-align: top;\n",
       "    }\n",
       "\n",
       "    .dataframe thead th {\n",
       "        text-align: right;\n",
       "    }\n",
       "</style>\n",
       "<table border=\"1\" class=\"dataframe\">\n",
       "  <thead>\n",
       "    <tr style=\"text-align: right;\">\n",
       "      <th></th>\n",
       "      <th>displayname</th>\n",
       "      <th>followers</th>\n",
       "      <th>following</th>\n",
       "      <th>bio</th>\n",
       "      <th>mastodon_name</th>\n",
       "      <th>OpenAlex_account</th>\n",
       "      <th>x_concepts_x</th>\n",
       "      <th>works_count</th>\n",
       "      <th>cited_by_count</th>\n",
       "      <th>most_cited_work</th>\n",
       "      <th>summary_stats</th>\n",
       "      <th>counts_by_year</th>\n",
       "    </tr>\n",
       "  </thead>\n",
       "  <tbody>\n",
       "    <tr>\n",
       "      <th>0</th>\n",
       "      <td>Denis Duboule</td>\n",
       "      <td>342</td>\n",
       "      <td>66</td>\n",
       "      <td>&lt;p&gt;Geneticist in transit. Collège de France/EP...</td>\n",
       "      <td>DenisDuboule@mas.to</td>\n",
       "      <td>https://openalex.org/A295410851</td>\n",
       "      <td>[{'id': 'https://openalex.org/C54355233', 'wik...</td>\n",
       "      <td>2</td>\n",
       "      <td>154</td>\n",
       "      <td>Engineering chromosomes in mice through target...</td>\n",
       "      <td>{'2yr_mean_citedness': 0, 'h_index': 1, 'i10_i...</td>\n",
       "      <td>[{'year': 2023, 'works_count': 1, 'oa_works_co...</td>\n",
       "    </tr>\n",
       "    <tr>\n",
       "      <th>1</th>\n",
       "      <td>Jon Hughes</td>\n",
       "      <td>402</td>\n",
       "      <td>842</td>\n",
       "      <td>&lt;p&gt;Academic (Reader in German/Cultural Studies...</td>\n",
       "      <td>rider_jon@zirk.us</td>\n",
       "      <td>https://openalex.org/A2646935175</td>\n",
       "      <td>[{'id': 'https://openalex.org/C142362112', 'wi...</td>\n",
       "      <td>2</td>\n",
       "      <td>0</td>\n",
       "      <td>Weltfabrik Berlin: Eine Metropole als Sujet de...</td>\n",
       "      <td>{'2yr_mean_citedness': 0, 'h_index': 0, 'i10_i...</td>\n",
       "      <td>[]</td>\n",
       "    </tr>\n",
       "    <tr>\n",
       "      <th>2</th>\n",
       "      <td>Magnus Palmblad</td>\n",
       "      <td>141</td>\n",
       "      <td>119</td>\n",
       "      <td>&lt;p&gt;Scientist. Skeptic. Swede. Not the vegetabl...</td>\n",
       "      <td>magnuspalmblad@fediscience.org</td>\n",
       "      <td>https://openalex.org/A2058370087</td>\n",
       "      <td>[{'id': 'https://openalex.org/C86803240', 'wik...</td>\n",
       "      <td>11</td>\n",
       "      <td>7</td>\n",
       "      <td>Identification and Characterization of Peptide...</td>\n",
       "      <td>{'2yr_mean_citedness': 0, 'h_index': 2, 'i10_i...</td>\n",
       "      <td>[{'year': 2023, 'works_count': 2, 'oa_works_co...</td>\n",
       "    </tr>\n",
       "    <tr>\n",
       "      <th>3</th>\n",
       "      <td>João Ohara</td>\n",
       "      <td>224</td>\n",
       "      <td>147</td>\n",
       "      <td>&lt;p&gt;Theory and Philosophy of History @ Federal ...</td>\n",
       "      <td>ohara@hcommons.social</td>\n",
       "      <td>https://openalex.org/A2284742525</td>\n",
       "      <td>[{'id': 'https://openalex.org/C138885662', 'wi...</td>\n",
       "      <td>24</td>\n",
       "      <td>7</td>\n",
       "      <td>Virtudes Epistêmicas na Prática do Historiador...</td>\n",
       "      <td>{'2yr_mean_citedness': 1.0, 'h_index': 2, 'i10...</td>\n",
       "      <td>[{'year': 2022, 'works_count': 0, 'oa_works_co...</td>\n",
       "    </tr>\n",
       "    <tr>\n",
       "      <th>4</th>\n",
       "      <td>Neil Wright</td>\n",
       "      <td>56</td>\n",
       "      <td>106</td>\n",
       "      <td>&lt;p&gt;Medical Statistician. Topology and geometry...</td>\n",
       "      <td>neilstats@fediscience.org</td>\n",
       "      <td>https://openalex.org/A2576451780</td>\n",
       "      <td>[{'id': 'https://openalex.org/C15744967', 'wik...</td>\n",
       "      <td>1</td>\n",
       "      <td>1</td>\n",
       "      <td>The role of cluster size and intra-cluster cor...</td>\n",
       "      <td>{'2yr_mean_citedness': 0, 'h_index': 1, 'i10_i...</td>\n",
       "      <td>[{'year': 2022, 'works_count': 0, 'oa_works_co...</td>\n",
       "    </tr>\n",
       "  </tbody>\n",
       "</table>\n",
       "</div>"
      ],
      "text/plain": [
       "       displayname  followers  following  \\\n",
       "0    Denis Duboule        342         66   \n",
       "1       Jon Hughes        402        842   \n",
       "2  Magnus Palmblad        141        119   \n",
       "3       João Ohara        224        147   \n",
       "4      Neil Wright         56        106   \n",
       "\n",
       "                                                 bio  \\\n",
       "0  <p>Geneticist in transit. Collège de France/EP...   \n",
       "1  <p>Academic (Reader in German/Cultural Studies...   \n",
       "2  <p>Scientist. Skeptic. Swede. Not the vegetabl...   \n",
       "3  <p>Theory and Philosophy of History @ Federal ...   \n",
       "4  <p>Medical Statistician. Topology and geometry...   \n",
       "\n",
       "                    mastodon_name                  OpenAlex_account  \\\n",
       "0             DenisDuboule@mas.to   https://openalex.org/A295410851   \n",
       "1               rider_jon@zirk.us  https://openalex.org/A2646935175   \n",
       "2  magnuspalmblad@fediscience.org  https://openalex.org/A2058370087   \n",
       "3           ohara@hcommons.social  https://openalex.org/A2284742525   \n",
       "4       neilstats@fediscience.org  https://openalex.org/A2576451780   \n",
       "\n",
       "                                        x_concepts_x  works_count  \\\n",
       "0  [{'id': 'https://openalex.org/C54355233', 'wik...            2   \n",
       "1  [{'id': 'https://openalex.org/C142362112', 'wi...            2   \n",
       "2  [{'id': 'https://openalex.org/C86803240', 'wik...           11   \n",
       "3  [{'id': 'https://openalex.org/C138885662', 'wi...           24   \n",
       "4  [{'id': 'https://openalex.org/C15744967', 'wik...            1   \n",
       "\n",
       "   cited_by_count                                    most_cited_work  \\\n",
       "0             154  Engineering chromosomes in mice through target...   \n",
       "1               0  Weltfabrik Berlin: Eine Metropole als Sujet de...   \n",
       "2               7  Identification and Characterization of Peptide...   \n",
       "3               7  Virtudes Epistêmicas na Prática do Historiador...   \n",
       "4               1  The role of cluster size and intra-cluster cor...   \n",
       "\n",
       "                                       summary_stats  \\\n",
       "0  {'2yr_mean_citedness': 0, 'h_index': 1, 'i10_i...   \n",
       "1  {'2yr_mean_citedness': 0, 'h_index': 0, 'i10_i...   \n",
       "2  {'2yr_mean_citedness': 0, 'h_index': 2, 'i10_i...   \n",
       "3  {'2yr_mean_citedness': 1.0, 'h_index': 2, 'i10...   \n",
       "4  {'2yr_mean_citedness': 0, 'h_index': 1, 'i10_i...   \n",
       "\n",
       "                                      counts_by_year  \n",
       "0  [{'year': 2023, 'works_count': 1, 'oa_works_co...  \n",
       "1                                                 []  \n",
       "2  [{'year': 2023, 'works_count': 2, 'oa_works_co...  \n",
       "3  [{'year': 2022, 'works_count': 0, 'oa_works_co...  \n",
       "4  [{'year': 2022, 'works_count': 0, 'oa_works_co...  "
      ]
     },
     "execution_count": 20,
     "metadata": {},
     "output_type": "execute_result"
    }
   ],
   "source": [
    "data = pd.read_csv('kuni_twitter_open_alex_mstd_07-18-2023.tsv', sep='\\t')\n",
    "data = data.drop(columns=['Unnamed: 0'], axis=1)\n",
    "\n",
    "# ntoots = pd.read_csv('kuni_ntoots.tsv', sep='\\t')\n",
    "# data = data.merge(ntoots, on='mastodon_name')\n",
    "data.head()"
   ]
  },
  {
   "cell_type": "code",
   "execution_count": 32,
   "metadata": {},
   "outputs": [],
   "source": [
    "BIRTH = []\n",
    "NPAPERS = []\n",
    "for idx, row in data.iterrows():\n",
    "    author_openalex_id = int(row['OpenAlex_account'][22:])\n",
    "    papers = authors_year[author_openalex_id]\n",
    "    if len(papers) > 0:\n",
    "        birth = min(papers)\n",
    "        npapers = len(papers)\n",
    "    else:\n",
    "        birth = None\n",
    "        npapers = None\n",
    "    \n",
    "    BIRTH.append(birth)\n",
    "    NPAPERS.append(npapers)\n",
    "\n",
    "data['birth_openalex'] = BIRTH\n",
    "data['npapers_openalex'] = NPAPERS"
   ]
  },
  {
   "cell_type": "code",
   "execution_count": null,
   "metadata": {},
   "outputs": [],
   "source": [
    "for k,v in authors_year.items():\n",
    "    print(k, v)"
   ]
  },
  {
   "cell_type": "code",
   "execution_count": 34,
   "metadata": {},
   "outputs": [],
   "source": [
    "data.to_csv('kuni_authors_with_open_alex.tsv', sep='\\t')"
   ]
  },
  {
   "cell_type": "code",
   "execution_count": null,
   "metadata": {},
   "outputs": [],
   "source": []
  }
 ],
 "metadata": {
  "kernelspec": {
   "display_name": "Python 3 (ipykernel)",
   "language": "python",
   "name": "python3"
  },
  "language_info": {
   "codemirror_mode": {
    "name": "ipython",
    "version": 3
   },
   "file_extension": ".py",
   "mimetype": "text/x-python",
   "name": "python",
   "nbconvert_exporter": "python",
   "pygments_lexer": "ipython3",
   "version": "3.8.10"
  }
 },
 "nbformat": 4,
 "nbformat_minor": 4
}
