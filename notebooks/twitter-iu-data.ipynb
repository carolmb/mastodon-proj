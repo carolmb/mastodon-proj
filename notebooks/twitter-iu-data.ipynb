{
 "cells": [
  {
   "attachments": {},
   "cell_type": "markdown",
   "metadata": {},
   "source": [
    " wget --recursive --no-parent https://tavern.osome.iu.edu/jobs/2023-05-04/"
   ]
  },
  {
   "cell_type": "code",
   "execution_count": 1,
   "metadata": {},
   "outputs": [],
   "source": [
    "path = '../data/twitter-iu/2023-05-04/tweetContent'"
   ]
  },
  {
   "cell_type": "code",
   "execution_count": 9,
   "metadata": {},
   "outputs": [
    {
     "name": "stdout",
     "output_type": "stream",
     "text": [
      "Collecting matplotlib\n",
      "  Downloading matplotlib-3.7.1-cp311-cp311-win_amd64.whl (7.6 MB)\n",
      "                                              0.0/7.6 MB ? eta -:--:--\n",
      "     -                                        0.2/7.6 MB 4.8 MB/s eta 0:00:02\n",
      "     --------                                 1.6/7.6 MB 16.4 MB/s eta 0:00:01\n",
      "     ---------------------                    4.1/7.6 MB 29.3 MB/s eta 0:00:01\n",
      "     --------------------------               5.1/7.6 MB 29.6 MB/s eta 0:00:01\n",
      "     -----------------------------------      6.8/7.6 MB 29.0 MB/s eta 0:00:01\n",
      "     ---------------------------------------  7.6/7.6 MB 28.6 MB/s eta 0:00:01\n",
      "     ---------------------------------------- 7.6/7.6 MB 27.1 MB/s eta 0:00:00\n",
      "Collecting contourpy>=1.0.1 (from matplotlib)\n",
      "  Downloading contourpy-1.0.7-cp311-cp311-win_amd64.whl (162 kB)\n",
      "                                              0.0/163.0 kB ? eta -:--:--\n",
      "     -------------------------------------- 163.0/163.0 kB 9.5 MB/s eta 0:00:00\n",
      "Collecting cycler>=0.10 (from matplotlib)\n",
      "  Downloading cycler-0.11.0-py3-none-any.whl (6.4 kB)\n",
      "Collecting fonttools>=4.22.0 (from matplotlib)\n",
      "  Downloading fonttools-4.39.4-py3-none-any.whl (1.0 MB)\n",
      "                                              0.0/1.0 MB ? eta -:--:--\n",
      "     ---------------------------------------- 1.0/1.0 MB 32.3 MB/s eta 0:00:00\n",
      "Collecting kiwisolver>=1.0.1 (from matplotlib)\n",
      "  Downloading kiwisolver-1.4.4-cp311-cp311-win_amd64.whl (55 kB)\n",
      "                                              0.0/55.4 kB ? eta -:--:--\n",
      "     ---------------------------------------- 55.4/55.4 kB ? eta 0:00:00\n",
      "Requirement already satisfied: numpy>=1.20 in d:\\documentos\\yy-projects\\mastodon-proj\\.venv\\lib\\site-packages (from matplotlib) (1.24.2)\n",
      "Requirement already satisfied: packaging>=20.0 in d:\\documentos\\yy-projects\\mastodon-proj\\.venv\\lib\\site-packages (from matplotlib) (23.1)\n",
      "Collecting pillow>=6.2.0 (from matplotlib)\n",
      "  Downloading Pillow-9.5.0-cp311-cp311-win_amd64.whl (2.5 MB)\n",
      "                                              0.0/2.5 MB ? eta -:--:--\n",
      "     ------------------------------------     2.3/2.5 MB 48.4 MB/s eta 0:00:01\n",
      "     ---------------------------------------- 2.5/2.5 MB 40.3 MB/s eta 0:00:00\n",
      "Collecting pyparsing>=2.3.1 (from matplotlib)\n",
      "  Downloading pyparsing-3.0.9-py3-none-any.whl (98 kB)\n",
      "                                              0.0/98.3 kB ? eta -:--:--\n",
      "     ---------------------------------------- 98.3/98.3 kB 5.5 MB/s eta 0:00:00\n",
      "Requirement already satisfied: python-dateutil>=2.7 in d:\\documentos\\yy-projects\\mastodon-proj\\.venv\\lib\\site-packages (from matplotlib) (2.8.2)\n",
      "Requirement already satisfied: six>=1.5 in d:\\documentos\\yy-projects\\mastodon-proj\\.venv\\lib\\site-packages (from python-dateutil>=2.7->matplotlib) (1.16.0)\n",
      "Installing collected packages: pyparsing, pillow, kiwisolver, fonttools, cycler, contourpy, matplotlib\n",
      "Successfully installed contourpy-1.0.7 cycler-0.11.0 fonttools-4.39.4 kiwisolver-1.4.4 matplotlib-3.7.1 pillow-9.5.0 pyparsing-3.0.9\n"
     ]
    }
   ],
   "source": [
    "!python -m pip install -U matplotlib"
   ]
  },
  {
   "cell_type": "code",
   "execution_count": 16,
   "metadata": {},
   "outputs": [],
   "source": [
    "import glob\n",
    "import gzip\n",
    "import json\n",
    "import pandas as pd\n",
    "\n",
    "from  datetime import date\n",
    "from email.utils import parsedate_tz\n",
    "from datetime import datetime, timedelta\n"
   ]
  },
  {
   "cell_type": "code",
   "execution_count": 3,
   "metadata": {},
   "outputs": [
    {
     "name": "stdout",
     "output_type": "stream",
     "text": [
      "['../data/twitter-iu/2023-05-04/tweetContent\\\\part-m-00000.gz', '../data/twitter-iu/2023-05-04/tweetContent\\\\part-m-00001.gz', '../data/twitter-iu/2023-05-04/tweetContent\\\\part-m-00002.gz', '../data/twitter-iu/2023-05-04/tweetContent\\\\part-m-00003.gz', '../data/twitter-iu/2023-05-04/tweetContent\\\\part-m-00004.gz', '../data/twitter-iu/2023-05-04/tweetContent\\\\part-m-00005.gz', '../data/twitter-iu/2023-05-04/tweetContent\\\\part-m-00006.gz', '../data/twitter-iu/2023-05-04/tweetContent\\\\part-m-00007.gz', '../data/twitter-iu/2023-05-04/tweetContent\\\\part-m-00008.gz', '../data/twitter-iu/2023-05-04/tweetContent\\\\part-m-00009.gz']\n"
     ]
    }
   ],
   "source": [
    "path = '../data/twitter-iu/2023-05-04/tweetContent/'\n",
    "files = glob.glob(path + '/*.gz')\n",
    "print(files[:10])"
   ]
  },
  {
   "cell_type": "code",
   "execution_count": 4,
   "metadata": {},
   "outputs": [
    {
     "data": {
      "text/plain": [
       "'\\nfor file in files: \\n    with gzip.open(file, mode=\\'rb\\') as f:\\n        file_content = f.read().decode(\"utf-8\") \\n        \\n        outfile = open(file[:-3] + \\'.txt\\', \\'w\\', encoding=\\'utf-8\\')\\n        outfile.write(file_content)\\n        outfile.close()\\n'"
      ]
     },
     "execution_count": 4,
     "metadata": {},
     "output_type": "execute_result"
    }
   ],
   "source": [
    "'''\n",
    "for file in files: \n",
    "    with gzip.open(file, mode='rb') as f:\n",
    "        file_content = f.read().decode(\"utf-8\") \n",
    "        \n",
    "        outfile = open(file[:-3] + '.txt', 'w', encoding='utf-8')\n",
    "        outfile.write(file_content)\n",
    "        outfile.close()\n",
    "'''"
   ]
  },
  {
   "cell_type": "code",
   "execution_count": 7,
   "metadata": {},
   "outputs": [],
   "source": [
    "tweets = []\n",
    "unique_users = set()\n",
    "for file in files:\n",
    "    file_txt = file[:-3] + '.txt'\n",
    "    for line in open(file_txt, 'r', encoding='utf-8'):\n",
    "        tweet = json.loads(line)\n",
    "        user_id = tweet['user']['screen_name']\n",
    "        #tweets.append(tweet)\n",
    "        unique_users.add(user_id)\n",
    "\n",
    "# unique users + aqueles que deram errado + passar os demais pro kuno"
   ]
  },
  {
   "cell_type": "code",
   "execution_count": null,
   "metadata": {},
   "outputs": [],
   "source": [
    "unique_users = set()\n",
    "for tweet in tweets:\n",
    "    user = tweet['user']['id_str']\n",
    "    unique_users.add(user)\n",
    "    \n",
    "print(len(unique_users))"
   ]
  },
  {
   "cell_type": "code",
   "execution_count": 27,
   "metadata": {},
   "outputs": [
    {
     "name": "stdout",
     "output_type": "stream",
     "text": [
      "               0\n",
      "0       @anaivas\n",
      "1     @agarregui\n",
      "2       @Annet81\n",
      "3  @Anthrobirder\n",
      "4     @anthroetc\n"
     ]
    }
   ],
   "source": [
    "all_users = pd.read_csv('../data/valid_twitter_handles_2023-06-06_complete.txt', sep='\\t', header=None)\n",
    "\n",
    "print(all_users.head())\n",
    "\n",
    "all_users = set([handler[1:] for handler in all_users[0].values])"
   ]
  },
  {
   "cell_type": "code",
   "execution_count": 28,
   "metadata": {},
   "outputs": [
    {
     "name": "stdout",
     "output_type": "stream",
     "text": [
      "{'arthijayaraman', 'arozenshtein', 'smurphstweets', 'CharlRWalker', 'philsolis', 'cassandrafree17', 'vickstar79', 'SilversteinProf', 'mosuleye', 'conchagn', 'lankian', 'benforado', 'NKennedyNeil', 'kevinlevin', 'griomanjen', 'wendylyon', 'cjslaby', 'Austinburkeswx', 'c_brandtner', 'boardman_claire', 'cliffordcolby', 'c_caseys', 'JamesHumbers', 'alanyliu', '_sarahannadams', 'RaffaellaRosina', 'aditi_muses', 'sarahcrgr', 'katmckatniss', 'noaasm_', 'navermuseum', 'oliejd', 'ioantrifu', 'clolecoz', 'robheverly', 'toriaclaire', 'GeoffRockwell', 'donovantann', 'akqmet5', 'NickPoole1', 'chriskridler', 'AlexSanz', 'johandewittnl', '_k_crosby_', 'pazjimenez', 'WhiteheadKrista', 'vss31', 'jenniebatchelor', 'preetiraghunath', 'mannegerell', 'rossa', 'ISayIAmWoman', 'No_Little_Plans', 'DerGuenther', 'kvhuntley', 'nicknoltewx', 'lexlanham', 'JohannesSkov', 'herzldad', 'poisonchallis', 'jennystephens52', 'JustinMCarville', 'netopiaEU', 'redegelde', 'yezitried', 'Jgob', 'glycojones', 'Kasselimnetz', 'contentnow', 'jtthei', 'kelseashanty', 'hps_vanessa', 'dougaschu', 'joaoisindc', 'jonpainterphoto', 'ltestai', 'csymrl', 'matthewafrost', 'wxliz', 'HeleneMSantoro', 'law_rich', 'miquelsola', 'katiefield4', 'Z669_E9', 'Joanne_Paul_', 'FarahColette', 'p_junginger', 'nicholasbednar', 'joshclarkdavis', 'Chron', 'madridiowawx', 'wyattBeth', 'jegrant3', 'aamperalta', 'DrRianneLord', 'j0_0n', 'Zhichang_Liu', 'kiraaislinn', 'hanelizqui', 'liassur', 'kboehlert', 'elrhodes96', 'sourdoughchef', 'treeeggs', 'DMohaghegh', 'carrideen', 'ingalls', 'HenricoWxGeek', 'AnnaStrhan', 'garnethenderson', 'sgellioty', 'RodHissong', 'zinzendorf4u', 'dustcirclenews', 'DrKerryS', 'lseegert', 'fidge', 'thatdavidharper', 'researchdogbody', 'ange_cass', 'blogsofwar', 'crideaukikuchi', 'gashergalicia', 'dapperhistorian', 'steveczimmerman', 'judeenright', 'SusanJoseph1786', 'MisteurLapointe', 'andyengelson', 'joannastern', 'FrancesLee37', 'mapto', 'Wynkenhimself', 'patrickdehahn', 'dansquizzero', 'stanweddle', 'frueheneuzeit', 'visionsbyvicky', 'snonsumr', 'dimocat_iqcc', 'zinelib', 'jonblatho', 'OxMedGradConf', 'petersterne', 'awsamuel', 'Mledgerlomas', 'edwardhilton', 'Delemottelab', 'kyleclark', 'KamatlabND', 'JohnTaylorChem', 'LabRat10', 'cartivist', 'drjudystone', 'polymerreaction', 'BrentN', 'UCLATech', 'wendysiegelman', 'laurengoode', 'matthewrmoore', 'archivfraumusik', 'revkin', 'Suswatibasu', 'simonkatterl', 'KLChemistry', 'goodcooltommy', 'chris_tanguay', 'ogreporter', 'wightbear', 'rosamunde_vb', 'hanleywill', 'kamiyano', 'julienmich80', 'brilwil', 'LauraSDeLuca', 'wendympatterson', 'chemscrapes', 'L_Marhoefer', 'VirginiaPrimary', 'stwajda', 'nelsonhist', 'upstaterica', 'tianochem', 'tamara_hverdeja', 'Jeff_scoggins', 'markcheathem', 'PJSobkowski', 'EszterMelitta', 'DragonsNThings', 'selllisrev', 'arosha', 'Sharon_L_Smith', 'AlisonMcNab', 'dialalluna', 'slw_washington', 'msmagaryphysics', 'lhst_epfl', 'suetonius_', 'atwittya', 'YaelRimer', 'etho10041', 'siobhanleachman', 'atgarciasosa', 'rhetoricked', 'Framatophe', 'pencechp', 'theJoshMeister', 'susaneisrael', 'fatherhilarious', 'siueiris', 'davidjfryman', 'Fataru_bole', 'moleculardynamo', 'Missionlatte', 'TheHartleyLab', 'tbpoulsen', 'AncestorDigger', 'carlapedret', 'starbuckery', 'horbal', 'jkuhnhenn', 'PrestatG', 'abekaori_xz', 'KirstenLeng', 'beiioso', 'brianlfrye', 'rohangrey', 'loisparshley', 'carolynownbey', 'popculturpriest', 'danielschuman', 'juan_josemedina', 'Nicbudd77', 'profnumeric', 'KatinSATIX', 'mrrichardbird', 'fiona_chembot', 'maurocapocci', 'debrawexler_', 'Wiki_nlw', 'MothsInTheFog', 'mxtiessen', 'davidlmcelroy', 'timothynoah1', 'michellenmeyer', 'postfilm', 'matthewdux', 'DianeMarieAmann', 'Trujillo_Group', 'michaelmanangu', 'zingerlearns', 'JAaronLandau', 'rwwmike', 'jclerch', 'lightsnsound2u', 'A_N_Hill', 'leonkazakos', 'ForecasterJGG', 'canklin56', 'elyseea', 'FloraEllis', 'mekdelamaskal', 'melinabuns', 'mirakamdar', 'bramvanleuveren', 'msignorile', 'Jenny_Conserv', 'writingfactoiy', 'badbirchbotanic', 'postwarhist', 'mikedrago', 'Steepaniehill', 'Crankyoldbiddy', 'VancleaveAnna', 'spatial_history', 'TLECBath', 'dankotliar', 'tryingbiology', 'chrodos', 'mmjulkowska', 'suhaunah', 'jamessmithies', 'stevenjambot', 'michaelrdrguez', 'MRB0SBACH', 'chemepi', 'mssprovenance', 'batizlazo', 'samiammikes', 'genesblog', 'wd_clarke', 'Geniaus', 'uwuttke', 'PatrinaC', 'lesleyjones', 'desederata', 'kerileighmerrit', 'bioscilibrarian', 'fibeamac', 'nataniabarron', 'Julie_Gfamily', 'PoorFrankRaw', 'kelley_kreitz', 'elisaTelisa', 'diessebi', 'mrswdigital', 'forplants', 'oxleyio', 'hacp81', 'Wendytrakes', 'sethcotlar', 'izaromanowska', 'tnlnyc', 'tylerh', 'allanjvestal', 'JeanetteCastle', 'caeliambulator', 'amyfeldman', 'nmr_chemist', 'thatpodcastchap', 'Saruzza', 'emily_m_arndt', 'akrazia', 'ToniVA', 'HelenaDanielson', 'JeffreyButts', 'przemekpalka', 'mandaclosier', 'thebethocracy', 'azenner', 'gilliancalder', 'momeara', 'profmle', 'LefrancJu', 'paulettrobert', 'rob_w_ward', 'ramyologist', 'jchhats', 'mr_d_clark', 'histosaurusbex', 'elizabethics', 'daelnorwood', 'JuliaFoulkes1', 'mckenziefunk', 'nicnguyen', 'D_J_Nathanson', 'TheTartanCon', 'janhorstmannn', 'acookiecrumbles', 'KLaveant', 'emily_woodruff_', 'jasongoroncy', 'upstateNYwxguy', 'barristerabi', 'pmlogan', '20hz20khz', 's_schwinghamer', 'Dietrichucation', 'mmekathleen', 'danwuori', 'lawzag', 'ahimmelrath', 'JosBernaer', 'JWreckChem', 'KrisRenn', 'Exhaust_Fumes', 'stormsellwx', 'd_g_robertson', 'KyleGpearce', 'stampedinblind', 'therealboogini', 'FrankPasquale', 'macmahon_paul', 'teresalchin', 'brett_hoover_wx', 'CaesarEkya', 'adresscomptoir', 'aordover', 'adamhdomby', 'EdTechTexan', 'jason_m_kelly', 'ned_potter', 'mattcropp', 'ChrsWr', 'rdmond', 'AndyGuid', 'KELLYWEILL', 'gaby__goldstein', 'adamonzon', 'joycewhitevance', 'todddigby', 'SuzanneDufresne', '_narellano', 'techielibgrl', 'mauvaismurder', 'AaronDilday', 'rGrabosch', 'cloemmo', 'llawson3967', 'pracishabitus', 'schlittenhardtm', 'AndyBurtEEX', 'drhettie2017', 'angelomassar0', 'chandra_rums', 'benyehudapress', 'textaural', 'therealjimlove', 'katbhave', 'r2gf_', 'laminda', 'waltshaub', 'melissabalough', 'alicemercer', 'kyledgooch', 'naomishatz', 'amosmagliocco', 'wxbrain', 'iebert', 'ebolaphone', 'cmarneros', 'matthiaseberl', 'jamesmacknight', 'ElaineJackson12', 'nicucalcea', 'CambeiroChem', 'SToddBrown2', 'ljbriggsLaura', 'byzantineprof', 'kobzaruns', 'karenkeiller', 'daphnaorenm', 'michaelsalfino', 'sauliloquy1', 'janna_tay', 'stzeitouni', 'BenM_anderson', 'bobbisue', 'chris_waudby', 'inglisj', 'NSagePranchere', 'Optimapress', 'mattie_burkert', '0xTFT', 'its_raining_jen', 'sspellmancann', 'jamesahand', 'SkylarPrimm', 'rubiales46', 'JennElizabethJ', 'Weather_West', 'suzanherself', 'RevBurrowsStone', 'JMGinNYC', 'genealogyadvent', 'jnthnwwlsn', 'perthmuseum', 'teganlcohen', 'boydroid', 'Kozycanuck', 'alanschenkel', 'TonyWinton', 'ryanbaxter', 'MdmeNette', 'Milhist_Lee', 'B_Moorhouse', 'EmilyAPrifogle', 'globalplantGPC', 'litteracarolina', 'stormdig', 'FGloecklhofer', 'DNAlawyer', 'moncur_d', 'vermamamta2', 'gkountourides', 'pappersfriskola', 'anneoalbert', 'sonyje', '_jimmylawrence', 'jonahknobler', 'dogtrax', 'MiriamIngeson', 'aemacdougall', 'JudyLepoma', 'z_rossnthal', 'profbinkovitz', 'Sultanka1968', 'drannematthew', 'rinald', 'Discant_X', 'LeighJKBoerner', 'ljbeil', 'comesimien', 'bsb1945', 'ArribaSellier', 'gardenswartz', 'Bnovreske', 'sarawasson_1', 'oregonmiles', 'Chapja', 'KuerstenAndreas', 'endresdo', 'bodhidave3', 'Anthrobirder', 'TorsaG', 'mattewmuses', 'pmcgonagleEDU', 'Jolanwuyts', 'josepgesti', 'chadmbriggs', 'BirteFoerster', 'ilsepit', 'BlairWilliams26', 'R_vanderHave1', 'muuranker', 'jbricha1', 'jeffgreenelearn', 'DanielBShinkle', 'libskrat', 'LifeCataloger', 'cindyaweinstein', 'byrontau', 'egpayne', 'laurafo', 'goesbyjuniper', 'mandisbarnard', 'LynnCorrigan', 'peterjwoodsphd', 'coldwarpod', 'danitacobble', 'ME_Moret', 'emadelrosso', 'cernach', 'annathenaeum', 'meeri_kim', 'bhuva_at_UTS', 'ohmygasch0', 'mrtipslaw', 'MarinKLevy', 'wilibraries', 'johannavarner', 'thaliena_nimsaj', 'KathrynBollman', 'winnipegnews', 'Jedishropshire', 'jhwreporter', 'EduCroupe', 'clsinfra', 'arianewilkinson', 'archivalobjects', 'sioflynn', 'learngenealogy', 'obsidianwing', 'jschechterlexny', 'lschiff', 'campbell_kang', 'mikeyslezak', 'BucksFHS', 'tjowens', 'ShamrockGen', 'mjarlec', 'lekiare', 'jorgenwadum', 'M_Castelletti', 'zacharybennettt', 'Dr_Curieosity', 'LeahatWhatPrice', 'fryed', 'jbiswriting', 'hagman', 'Glasmanjo', 'saramcdougall2', 'mrofheart', 'Tabitha_Ross', 'emmertlab', 'petercoliver', 'nbarreyre', 'joonatanitkonen', 'JessieBregant', 'dnakath', 'plausistory', 'g_healy_', 'drwieben', 'cariouK', 'ryanstraight', 'BoronChem', 'stormorknot', 'AllenShotwell', 'QuelleKelsey', 'anitabrenner', 'TrippHudgins', 'Bibliolology', 'aspiringluddite', 'craigmcrews', 'crimtonyk', 'ashponders', 'phdinprogress17', 'CabrioA', 'hannah_redler', 'jenniferbarnett', 'tyndale_house', 'jayreding', 'xtalgrrl', 'Sujung_Kim_SF', 'stefarchvist', 'geo_gavalda', 'rarebooks4ever', 'raehodge', 'lauramoy', 'bauerstefan', 'gilliankane87', 'jp_asher', 'livestormchaser', 'katenh', 'manxomemia', 'jgomezgaleno', 'kjbd', 'sandersandrew22', 'ScottMStedman', 'narayananjya', 'kellyology', 'MedievalAcadem', 'meghan_', 'anewshack', 'esmichelson', 'jasonpettigrove', 'pawelloewe', 'ross_caputi', 'michelgravel6', 'CarolynBick', 'johentsch', 'doctaj', 'kathrineitel', 'queeringcaitlin', 'kwameopam', 'willrich45', 'sabinaleonelli', 'darianwoods', 'Szembrzycki', 'YiGUevie', 'b00kish', 'rvaweatherwatch', 'richmchugh', 'amandakhurley', 'drugdiscov_DKFZ', 'RoojinHabibi', 'CathleenSarti', 'multied', 'michaelaldenfl', 'BurtonLisa', 'Rebleber', 'lmmonti', 'taneya', 'DHN_HD', 'gcnewsman', 'faresdamien', 'wordstospill', 'mrsmuccio', 'Meyer_Resende', 'lisastull28', 'V_saggiomo', 'ari_schneider', 'rio_girl', 'ak_blankenship', 'boslkim', 'doubleemmartin', 'NENJwx', 'Kevin_D_Tennent', 'jacibrant', 'ustornadoes', 'infolitgroup', 'loislanersvl', 'marcydeluna', 'jenniferbillock', 'markianwallace', 'therronwelstead', '40Tech', 'BookishEmma', 'Lgamad_m', 'lizellisphd', 'weathermatrix', 'craigawelch', 'jessicashurson', 'oniromanie', 'kdnawrotzki', 'wjeffreybrown', 'vidigalgeraldo', 'alexnboyd', 'gavfunky', 'RickMarshall', 'musebrarian', 'barry_para', '_JAStockdale', 'ehenak', 'annabower', 'hannahcknox', 'AntheJanssen', 'wwiphd', '_maargentino', 'drdawes', 'mgbsaysthings', 'gegez1963', 'thmstein', 'tristinbrynn', 'thinksamuel', 'dyanilewis', 'annamarieroos3', 'catherinemmunro', 'msdrury', 'Ptrfsr', 'Dylandulberg', 'StefanALWeber', 'RachelAPOly', 'leadlingtech', 'anupamchander', 'historyjack', 'brndnpink', 'RoshwaldAviel', 'thomasmeadnz', 'sudasana', 'CescaAntonelli', 'johnlorinc', 'chrisbennettedu', 'mariinyrop', 'kansaswriter', 'wolmanj', 'lathropd', 'Doctor_Episcopa', 'rmkarras', 'gabekahn', 'ValentinJeutner', 'rantoniomg', 'davidhooper', 'fgbjr', 'john_doneson', 'benjaminefrati', 'malloriesullivn', 'iRobyn', 'preater', 'mollyquell', 'sallyjmckee', 'marcorizzi83', 'FobbeSean', 'editrixcaroline', 'briancors', 'cattaylorwx', 'LeahEmary', 'ClaireClarkPhD', 'smilingheretic', 'Gvaughnjoy', 'beakwx', 'rrgould', 'notequal2', 'thefashionlaw', 'thatsaltytexan', 'angiebergeson', 'janetfew', 'ScrivenerSmith', 'w7voa', 'kate4barker', 'derekcrim', 'evewrites', 'openlinkartdata', 'GeraintJMorgan1', 'lisafdavis', 'anthropomonde', 'stemcoding', 'AlexHenderson00', 'may_gun', 'BertrandCaron', 'jennywoodley', 'Tfr68', 'AshlynSummer19', 'davidlohner', 'adamjtucker', 'samjane52', 'RobBrunnnerDC', 'wxtiffanyr', 'matthewharrison', 'cindyhoward', 'dianajspencer', 'GeorgKleine', 'n_vonwolff', 'Bryanwx', 'strategizers', 'evavonschaper', 'air101blog', 'drtolunoah', 'dennybuoy', 'jocornish4', 'adzebill', 'mattbensonlaw', 'shuyioei', 'chasing_my_tale', 'schoolingdiana', 'michaelehayden', 'niamhccvs', 'cpt_canadia', 'weinbergrrrrr', 'intransitive', 'docsst', 'SivaThambisetty', 'BJMendelson', 'meeratweets', 'jillipopkin', 'bestonetx', 'derrick_snyder', 'kildunn', 'scoutblum', 'ericbrasiln', 'robtaber', 'alisonhappening', 'ehaswell', 'gassensmith', 'elizabethadill', 'christmanngroup', 'DebraStellato', 'cyberlaw', 'alexgulotta', 'FuchterMatt', 'jackgillum', 'chembellenie', 'ekinnajay', 'Fran_allen1', 'carinadourado', 'dinoray', 'eranzelnik', 'stevenlevy', 'stuckjes', 'ldburnett', 'adria_enriquez', 'gonzalobaptist2', 'JamesFallows', 'torynski', 'johntrendler', 'paulallison', 'Davlinnews', 'lareinatormenta', 'mopennock', 'RA_Robbins', 'Japan_prof_john', 'saguynes', 'kristhurston', 'rdkirwan', 'ktetch', 'jillio', 'BoydstonLaw', 'steventdennis', 'ilkayholt', 'wiebkowitz', 'sfeirlab', 'sophiecouchman', 'tibudelmar', 'kjroberts', 'JessicaMooreWx', 'rosatroupe', 'charliegermano', 'tkparker', 'ProfDCotton', 'abigailleigh', 'sakhr', 'wiwxmn', 'aileenfyfe', 'proenzacoles', 'suka_hiroaki', 'RichardHoney', 'mathew_oakes', 'kesavacherukuri', 'CairelleCrow', 'JDDelle_Luche', 'DrCDArmstrong', 'erik_kwakkel', 'learnertools', 'JennyPAndrews', 'carolinerpitt', 'Thomas_renkert', 'elizahilton2', 'popehat', 'matthew_shadle', 'david_slotnick', 'anhsyhuyle', 'ejpcollins', 'heidikitrosser', 'gazetteancetres', 'th_schmid', 'ain_ani9', 'BiblioTechGal', 'jblxdesign', 'timstahmer', 'erinkappeler', 'miranda_writes1', 'stevenwagner85', 'karlsteel', 'marcfarrior', 'kanarinka', 'bibliovirtual', 'ahouckinfrance', 'kzrt', 'dennisf', '_yomikoreadman', 'marthegoudsmit', 'zozietropes', 'journoscholar', 'ostrovdoktora', 'davidzipper', 'AlisonHappening', 'a_weatherall', 'PumpLane', 'Palinstrophy', 'zoejbush', 'annanosthoff', 'rickbrannan', 'leonidobusch', 'nicola_beer', 'jasonvermes', 'nadagordon', 'jqheywood', 'martijnlinssen', 'obyrska', 'JrnJacobsen2', 'marquetand', 'jkconservation', 'andykroll', 'Haldbeg', 'kiwiPeterKelly', 'bobbystilwelltv', 'nate_ela', 'MichaellPetch', 'bkkgreg', 'valenchiof3', 'caco3cz', 'jbprestel', 'newrambler', 'SharronAFirzGe1', 'bethrabbitt', 'savvyliterate', 'medSoz_DE', 'BradyDale', 'chaokangtai', 'BenGMartin', 'S_R_Hamilton', 'RenssGreene', 'laurapaccini', 'mattontech', 'ititb_blog', 'djvanness', 'max_long', 'nfrecon', 'jeroenputtevils', 'AlonsoRosasH', 'Thaoeatworld', 'eczoldan', 'glynmoody', 'lmbd1418', 'mirzabuljubasix', 'frnnr', 'paulftremlett', 'chris4short_', 'anna_rothschild', 'andrew_seal', 'jrbprof', 'nrchtct', 'dtrilling', 'jjablair', 'Gab_gagnon', 'DeliaCabe', 'DocCG78', 'Krzyzanowska_k', 'Jreineron7', 'MarksStevenG', 'AWhitTwit', 'wxbecks', 'alexanderlasch', 'grant_marek', 'richharidy', 'benfulford1', 'jhuntington', 'roddmontoya', 'wxstelten', 'blaine_5', 'leighmurrell', 'Romanbatt', 'lenascameo', 'fussjohannes', 'tracynicholrose', 'jasonpoe', 'serenissimaj', 'PaulKnightly', 'smhearty', 'rickhasen', 'kKLeechie', 'meheller', 'Prof4Russia', 'hoffprof', 'shannonpareil', 'zrilicjure', 'tiamdawson', 'menain', 'ximenaka', 'mysteriousdrbex', 'alexlowe30', 'History_Will', 'glasmanjo', 'tiennusmarcus', 'philnel', 'lisahafey', 'geoffcain', 'ProfFerrous', 'simon_hammann', 'jenniferpete', 'LaraDodds', 'cmbaldwin', 'itsrosebutcher', 'FPalazzesi22', 'PaoloViscardi', 'mjgn92', 'notbencarter', 'ahynes1', 'lavonneroberts', 'SimonJMccloskey', 'robynelyse', 'gerbenzaagsma', 'donvarner1_don', 'yael_rice', 'simonwlewis', 'aimee_pohl', 'drmeghunter', 'Zeb_Larson', 'KatherineFlorey', 'Caitlinest', 'DavidSug', 'roblancefield', 'moodlefairy', 'traviseross', 'TheGreenebj', 'jstncrwfrd', 'SusanaLGallardo', 'fabienbp', 'sarah_stierch', 'mymblemum', 'McrMuseum', 'jayhawkmommy', 'FKlemstein', 'ludothexplorer', 'DrEllisCrawford', 'adchillman', 'kellylyons24', 'koji_hist', 'mc80york', 'mathewi', 'cferra1227', 'AI_drugs', 'SpaceSilk', 'magpie', 'ellyfromoz', 'elibietti', 'dnazarian', 'dirkings', 'sebchan', 'DrAliceCorble', 'ChrWachter', 'guy_who_reads', 'noisyastronomer', 'martino_adamo', 'MrsAudiac', 'RachelMordecai', 'dianegreco', 'braunteaches', 'millannialprof', 'hlseward', 'mrlaulearning', 'Olihammond', 'davidrliu', 'botanyRNG', 'rivaquiroga', 'stormcoolio', 'praise_thor', 'JamesStAndre', 'FredaWorkey', 'MariaJuko', 'rflaggert', 'dra_m_a', 'thisrunninglife', 'sharnwhite', 'twitter', 'CritsInAction', 'zumbulka', 'luoshanji', 'Joe_Diner', 'enogden', 'merryarchive', 'readdanwrite', 'stephaniejowett', 'digitaldante', 'zetasole', 'notesjor', 'DavidKuchenbuch', 'MBresalier', 'justcodeculture', 'Poorfrankraw', 'slevelt', 'charlie3', 'PaolaMinoia3', 'davebrarian', 'MaybellRomero', 'knittyphd', 'IvanOzai', 'siskin_j', 'elnif', 'sebdaso', 'Tupp_ed', 'GrrlScientist', 'vayhi', 'm_f_rose', 'bjarman_', 'pathh1', 'Kh_woodhead', 'schimpfwortbuch', 'mayer_iras', 'justin_ling', 'MeijaJuris', 'PatrickLearyVIC', 'winterflipflops', 'blakereid', '_godiegogo21', 'gavinjackson', 'NevenJovanovic2', 'ethanmarkleiden', 'gbhnews', '1000plateaus', 'nkgabay1', 'wfkars', 'DrHistoryBrad', 'JBElsner', 'Daftpunkydisco', 'marieloulaprise', 'fmaschewski', 'davidknuffke', 'enbrown', 'Maria_Munir', 'tprice504', 'michaelkgilson', 'ShonaCS_', 'PeterOrlowicz', 'dumelelab', 'DavidBordewyk', 'biancanogrady', 'thefordon', 'AdamJMosley', 'greenskyvai', 'carolinepennock', 'librarychampion', 'frogsandstars', 'marco_radi', 'oonahathaway', 'PPLplantarum', 'melaniesill', 'historianess', 'nwekechijindu', 'JoeKrulder', 'mrhoganela', '_mattshaw', 'ArchiveAngel', 'ProPublica', 'aiucd', 'matt_teachmaths', 'adriancoakley', 'politicscurator', 'matteomoschella', 'MHoppenheit', 'anneaschenbrenn', 'srhelicity', 'sanasbouai', 'qsteenhuis', 'StoicViper', 'anaivas', 'IvoVegter', 'shaynenuesca', 'BiblioEll', 'hollywooddfpd', 'joanna22c', 'leighlo', 'coleraine12065', 'alexislitvine', 'cwesthuizen', 'PubliusOrPerish', 'charlesroopwctv', 'guidingliteracy', 'cartulaire21', 'jesperdramsch', 'sramsay_unl', 'RamsiWoodcock', 'Boston1775', 'DanaBlankenhorn', 'drmjcwarren', 'Andy8chi', 'danielnazer', 'LisaBonnice', 'SabrinaMcCubbin', 'rsdoiel', 'ericbrignac', 'JenniferAHarri2', 'alexjkane', 'jbcamps', 'alivelshi', 'JLGittinger', 'jolyonbt', 'raboorstein', 'monrodriguez', 'bykriscampbell', 'theodorajewell', 'TinaMCasey', 'mollytaft', 'museumsound', 'beccaquon', 'montsepallas', 'maximum_bird', 'DrDil', 'susandamussen', 'dannyn516', 'kacytillman', 'thejenniwren', 'Proteinmagnus', 'u2katrina', 'nemopeeters', 'JesseAbe', 'kristimeeuwse', 'usuhistorienne', 'sturmdon', 'rachelshelden', 'DemirbasIzel1', 'Emily_Sijie_Yu', 'thecraigday', 'GeorgeShields', 'motherworldlyuk', 'MLISrevenge', 'pbulsink', 'RickSmolan', 'seanjoneskc', 'A_S_Williams', 'yangesq', 'philipschwyzer', 'Tech_Litig8or', 'AnneVaten', 'jfpohl', 'seckhard', 'JLaDue', 'alicetmcgrath', 'mellyteaches', 'bernicecbc', 'tarallyons', 'profemmakowal', 'micahcarlsonunt', 'thatadityaiyer', 'leahatwhatprice', 'aliversluis', 'simonrdg', 'karnjitparmar', 'FrankFerraiuolo', 'queenmab87', 'AndreaLoew1', 'jpaltin', 'cbhopkins', 'miket_32', 'tedilta', 'Mnjorgensen', 'kimlanelaw', 'algernonwrites', 'blazej_kaucz', 'ThenJenniSaid', 'rebeccaee', 'MelRootsNWrites', 'profchrismjones', 'PhDhurtbrain', 'EvolBiochemist', 'kmalandruccolo', 'emmajourno', 'mollytack', 'simonlucas', 'FabianEndemann', 'sara_peltola', 'matthewteague', 'SLS_UK', 'KaffeePiraten', 'stemxicaned', 'luiseborek', 'ianliviephd', 'jinho_king', 'RealDCunningham', 'alayne_moody', 'helpingmedia', 'PYMundGenealogy', 'HillbrookGeneal', 'meDHieval', 'LelaNargi', 'paoloshmaolo', 'MrDeBoyace', 'smorvansmith', 'etreharne', 'kleefe', 'johnwest', 'jessamyn', 'jwheydon', 'jamespblloyd', 'tricialbarton', 'WendytheDH', 'PodcastSteve', 'Grubstreetsteve', 'drkyliesmith', 'AmazingMeagen', 'mkbolin', 'VirginiaJungOSB', 'bairbreflood', 'genealonet', 'ThatLibraryMan', 'proftilburg', 'GabyRobilliard', 'BarkerLab', 'JaneElRoberts', 'AlexPintoGroup', 'boomsandleather', 'Stuckius', 'srsinger', 'DrCSneddon', 'K_Leonard_PhD', 'Morgan_forde_', 'dellcam', 'schmidtpolylab', 'richardmoorhead', 'cliotex', 'CRGMurray', 'miningthepast', 'richardalbert', 'elmcitytree', 'bordenbathory', 'CesarePastorino', 'edtechnic', 'ChemProfCramer', 'fierengraw', 'sonipaul', 'vtfeatures', 'schwanksta', 'Wlerik', 'Pillrabbit', '_alice_evans', 'rafael_andugar', 'raedear1', 'curatedjenny', 'sitasteckel', 'TheDEWLine', 'cmrisko', 'CGYaudes_PhD', 'story645', 'chbaars', 'seulblee', 'petertubbs', 'ymiller419', 'pratikmpawar', 'katyrawdon', 'schesnel', 'corinneblalock', 'lhaasis', 'sarahnrogers', 'doctormoffett', 'MilenaKLey', 'Anarchy_How', 'Cornt00th', 'mattlibrarian', 'sally_holloway', 'andrew_weather', 'gustavoturnerx', 'PattyHankins', 'mattpotter', 'ben_whitford', 'paola5373', 'Fan_Idee', 'scivil_flanders', 'arvindiy', 'anthrofi', 'marissarothkopf', 'lby3', 'ghowa', 'libbyj1853', 'seatradelaw', 'devillesy', 'sonaliroy_', 'g_laudadio', 'letsshall', 'lyonelkaufmann', 'bigideasinedu', 'michelrickhaus', 'isabelmyp', 'matthewpulis', 'CollinLeonard_', 'shawntesalabert', 'dainybernstein', 'jrad_', 'jesseabe', 'seeshespeak', 'ilanahorn', 'HussProf', 'jennyhawran', 'kellyewroskam', 'mme_price', 'davesnider', 'electrostani', 'Kraemer_HB', 'jamesmmmsom', 'punk_knitter', 'dramyhimes', 'brandon_sward', 'DainyBernstein', 'MAD57935854', 'annacpage', 'radicalanthro', 'jackyan', 'MikeDiGirolamo', 'sastef', 'marnier', 'Carsten_Werner', 'philshapiro', 'elisalehrer', 'JasonStiff', 'vfmcneill', 'alexip718', 'Trabernlaw', 'journotopia', 'wirereporter', 'NETOPIAEU', 'HannadeLange1', 'HPSWarburgian', 'joypress', 'aechallu', 'kathiiberens', 'Sgtgary', 'RakiaDhaoui', 'MaryAnnFuduric', 'NEtopiaEU', 'canzonett', 'ethanklapper', 'mfioretti_en', 'Flowerpower', 'tmcgriffin', 'iongueras', 'staceylantagne', 'bcnjake', 'eliasdoesdna', 'samlemonick', 'bjmacnevin', 'juliezebrak', 'ThadHarroun', 'canterrain', 'cjeffersonhall', 'janinezacharia', 'BetschartLeo', 'jimenezvirosta', 'KarimBai', 'undercoverhist', 'tinamreynolds', 'vitodabisch', 'darling_sammy', 'confkeep', 'nell_sci_npr', 'jpquintais', 'mcallister_lab', 'cbirebbi', 'rhystevenjones', 'chemfunman', 'marinarobb', 'thedavidmurphy', 'therealnikbindi', 'photuris5', 'delaruef', 'fragmentariumMS', 'terrortola', 'jeremygahagan', 'kevincollier', 'slapointechem', 'coppertapestry', 'scooke', 'FagAshLilith', 'MrsAdamsTech', 'shookademia', 'kygustafWX', 'jamiefolsom', 'gabiwong', 'helenasheehan', 'tansyhoskins', 'teina', 'drchawz', 'peterbroks', 'j_davies_66', 'joeyfishkin', 'rainliivoja', 'KimDiane7', 'spectracular', 'ianrosewrites', 'Dr_S_Thompson', 'kulinowski', 'physics_ange', 'liesbetvdgrift', 'profmiola', 'stewartvarner', 'fossilhistory', 'vmantouvalou', 'aimsduke', 'kehindeogunsin1', 'Mattlanza', 'karacarlson2', 'joeoharadcu', 'simonhead', 'larryferlazzo', 'accessrrisd', 'timolueke', 'hilaryblum', 'voooos', 'petergray47', 'sam_bruzzese', 'chaco_arch', 'EvidencePolicy', 'socialkimly', 'archivesgeek', 'matorinlaw', 'endtimeplural', 'apmweber', 'joern_reinhardt', 'LynneeLue', 'bigdataJJ', 'iainthomson', 'ConorMcCormick', 'MichelleGrant', 'kathbalcones', 'ProfGrantPetty', 'scottjshapiro', 'larswienand', 'fedorakindexing', 'BairdCampbell', 'm_j_suriano', 'shakespearenut', 'meghara', 'AlaskaWx', 'dekgenealogy', 'easteuromutt', 'VirtualGenAssoc', 'debramhaak', 'byars_jana', 'evantownsend', 'escapeartistes', 'tehshikyoon', 'intrepidudettes', 'chrissievmierlo', 'CraigofWaffles', 'DeanWallraff', 'rjmcdonald24', 'janisthiessen', 'lottiejohn1', 'jtownend', 'DamoMurtagh', 'schraubd', 'josephlouthan', 'rmsalzberg', 'BleinThomas', 'deniseflorez', 'ehchalus', 'GuilleMonrealS', 'treebra44061473', 'janetbell', 'raboofje', 'allenpg', 'sblconnect', 'Laurie_Snyder', 'AnastasiaSci', 'IndieStacks', 'twocoats', 'bethnosworthy', 'miss_amandamae', 'SelenaKillick', 'caseyj_edu', 'wxmann', 'rcpmwx', 'libcolleen', 'mazg76', 'shawnaford1', 'sekleinman', 'JADubin5', 'jameeljaffer', 'christofjaeger', 'ReadCarlos', 'offenenetze', 'ip_paralegal', 'Leithlinkz', 'elisecutts', 'drjessbeck', 'heroicendeavour', 'ictedu', 'dewanpandora', 'kevinmyattwx', 'textandhubris', 'primafacile', 'MKarhulahti', 'Marphurius', 'marijke_roosen', 'JeffStone500', 'kra2104', 'dwbwriter', 'zwhitehistory', 'tr2120', 'daniel_barnett', 'ninawildflower', 'SaraMaric20', 'DrJaneGarner', 'cassmob', 'davidallengreen', 'fausto_sterling', 'rbissio', 'TammyPeru', 'markusstockTO', 'crimelinelaw', 'dlwespresso', 'craggs_lab', 'Fuzheado', 'josenja', 'kylealspach', 'BenGMartinHist', 'rwwh', 'annevelink_ad', 'csammells', '_omr', 'coreyryung', 'shlakeuva', 'KevQwx', 'sarahthestan', 'janineveazue', 'Kjm4', 'Tyler_Takemoto', 'dtcampbe', 'morgrugyn', 'johannawinant', 'ferryprins', 'BarfussAK', 'jamesrleighjr', 'Phlogiston1', 'JulieLG_Pline', 'elenawicker', 'drdanielturner', 'andybechtel', 'measeybold', 'DoctorWafflePhD', 'gurwitt', 'schotthappens', 'lisasarro', 'clevelandkimchi', 'pat_wx', 'staceydowswell', 'jonathanwyrtzen', 'MrDavolaTech', 'Canadian_errant', 'dsilverman', 'RoyceRk2', 'msdixon', 'LiamElphick_', 'whatthetrigmath', 'dmirams', 'arroganthair', 'HiringLib', 'jojophysicsgirl', 'anne_rowlands', 'CeesHeere', 'RebeccaJShapiro', 'deglassco', 'Jessenlab', 'LouisaMcKenzie', 'willitslab', 'olanmcgowan', 'ClimateDude23', 'verfassungsblog', 'gabrielhankins', 'VarennaD', 'vscharff', 'mimclab', 'irerodsa', 'juzgenbai', 'TomislavRovis', 'jamesgallen', 'bethwilensky', 'danielleganza', 'murphtrials', 'SasanianShah', 'Brian_M_Miller', 'songsforhorses', 'composer_lawyer', 'DeliaMilliron', 'ndloubere', 'FLGatorDon', 'bienenhistorie', 'vhobbs5', 'Lab_Ani_Trans', 'ianmacallen', 'SarangBerkeley', 'greenw00d', 'paregorios', 'SaraMorrison', 'justingage', 'sewellchan', 'CassCookson', 'brittanylwong', 'nicophile', 'joix', 'kasselimnetz', 'keenanshionalyn', 'katinalynn', 'flavio_azevedo_', 'DaniellaZsJ', 'romainburrel', 'MrAlexLester', 'juddlegum', 't_streinz', 'ronaldchennault', 'stevechiger', 'estelleszmidt', 'lyndelleg', 'cameron_lamp', 'abbistani', 'pravenj', 'vonschwaben', 'sangomahanty', 'jvagle', 'ParisSpiesGans', 'pkennepohl', 'drkarrschmidt', 'dangerousbard', 'cassagood', 'rigard', 'juddsneirson', 'genealogymisc', 'PavelRatmanov', 'mettebruinsma', 'MalickGhachem', 'ErmalIsmalaj', 'jonatansteller', 'karenleick', 'pernajl', 'germanhistorian', 'marylandwx', 'hermanslab', 'orionkidder', 'aniketalam', 'lizcwhite', 'Prof_Mirdoch', 'paulblizzard', 'drntasler', 'ITdisputes', 'drjoyzhang', 'drakealyson', 'JesseAGarrison', 'mutedviscera', 'mareike2405', 'anna_danzi_halp', 'laurasikstrom', 'reframerefine', 'k8_bowers', 'drpaulkleiman', 'AlbertoJourno', 'shoul_b_workin', 'matthewkeyslive', 'eileend', 'germilhistory', 'Aperzanowski', 'clairey_ross', 'IdeasDoneDaily', 'bardmital', 'WX_JPTracey', 'ericjlevitt', 'DempseyPaul', 'maria_h_murphy', 'DerekKMiller', 'fkrougman', 'natalieroxburgh', 'lukeealexander', 'rsegalman', 'scott_wortley', 'LarryChicago', 'junotane', 'michael_lapides', 'dopplerchase', 'kathrynbollman', 'realtimeedu', 'ianhillmedia', 'idiosynchrone', 'gvogeler', 'limbfun', 'wychwoodnz', 'Clare_Rice_', 'Oldbooksandwine', 'adane_v', 'HannahPalsa', 'ejonesimhotep', 'fredrikalbritt1', 'lparisi', 'elisatomat', 'dearmyrtle', 'kenyonjoanne', 'mat_frenette', 'michaelwellstax', 'MicahTrue', 'AnnabelleDoher2', 'TrishHepworth', 'helenmaryh', 'jackiegardina', 'Beaudodson', 'AJFitz_Chem', 'anindita', 'skarsok', 'eric_stach', 'kendraserra', 'john_hitt', 'lektoren', 'jmwleeds', 'IanBeeby', 'jacyanthis', 'taylorlorenz', 'milanzupunski', 'Andrewcshear', 'ElenowitzHess', 'wordsbybennett', 'kidwellj', 'elizabethtingle', 'houseofstairs', 'Wx_Goddess', 'bridgetobarrett', 'marcorospocher', 'SaronikB', 'james_tangen', 'CarolGrose4', 'drdavidgolding', 'ZwijCompChem', 'drjpersian', 'GaryLoveHistory', 'sarahczerny', 'mjmcoomber', 'jamiebroadnax', 'weemelter', 'davidbkonrad', 'AmandaReillyNZ', 'lynettephyfe', 'drdonnayates', 'fheimburger', 'mtenhoor', 'sreedevkkumar', 'drlindseyfitz', 'ggalvezbehar', 'Just_me_gi', 'sohanci', 'krizanovich', 'simondoubleday', 'mahmud_writer', 'alankotok', 'Srmullens', 'mollyscanopy', 'JakeOrlowitz', 'craftykraken', 'heidilifeldman', 'catalinagoanta', 'DMitterauer', 'drsueoosthuizen', 'Wxguy95', 'sheribiesen', 'ewan', 'steve_katz', 'historiator', 'tomSadler', 'grahamattwell', 'oldnorthroad', 'crimepsychblog', 'decongela', 'LindorffLarsen', 'jenniferbazar', 'douggay', 'MarpleCat', 'ehonorio', 'MelissaLBennett', 'MrsMBowes', 'rakonteuse', 'sl007', 'CarolynChernoff', 'fredericl', 'josiefraser', 'mpsd_sabia', 'TM_Truskett', 'seldonmoore', 'sinolit', 'stephstephking', 'TheFrameBlogMag', 'Davvi_davina', 'AkEthnoGirl', 'shakespeerie', 'raphv', 'vero_augustyn', 'd0g3n', 'dr_norb', 'praxeas', 'calrbs', 'Stephan_Hammer', 'frontierviews', 'jliedl', 'SheilaRFoster', 'samfdz', 'ria4983', 'EmployeeRights', 'deanjoanna', 'Tamer_Nawar', 'BuistBunch', 'pk_kraus', 'claudiaeberger', 'RedkarAmey', 'willcurtis', 'privacat', 'jaredkalr', 'lenlacara', 'Iainjmoore', 'labspeceth', 'RupertCocke', 'kfecclestone', 'doughertyjack', 'Freilich_ANU', 'jomc', 'northiemum', 'abstorylab', 'MattAgius', 'chris_levesque_', 'f_frontini', 'melissalebata', 'Give_a_dam', 'dakolkman', 'HulyaAvci', 'Mrs_emma_magic', 'vmramos', 'krishagel', 'Friede', 'ichatterjea', 'GemmaCSolomon', 'hellmanmd', 'henrikjochum', 'AWidenerCEN', 'nicolascs', 'Ecainer', 'jmpcronin', 'Rebecca_fachner', 'ewerdt', 'MariliecOdd', 'RobinCorey1', 'chris_manias', 'Sabrinakir84', 'loukas_doula', 'PhineasJFR', 'kgarrahan', 'mafarrace', 'MOFsoton', 'M_Quirouette', 'gregornovak', 'nakedgenealogy', 'eneswald1', 'coasterbgw', 'yellacatranch', 'Skzingales', 'purduesos', 'jeremybassetti', 'limnori', 'oakmorr', 'krisnelson', 'detig', 'drandrewforde', 'hilarydoda', 'benfeltondef', 'hackingbutlegal', 'biblioscholar', 'MD51394190', 'mstoneman', 'eneswald', 'robrakove', 'chemed2023', 'Citizenwald', 'john_ryan_f', 'gulovsen', 'larryloeb', 'danpullinger', 'mrmclaughlin', 'hmcinorganic', 'EarthMechanic', 'pedroaguerr', 'andiibowsher', 'AngelaBetts7', 'devinwxchase', 'hodanthro', 'inactinique', 'nemoore_', 'kbgraubart', 'nsj', 'Mamiddau', 'alexcsiszar', 'ericjryanlaw', 'babylegaleagle', 'BotanicalJim', 'HenryWX', 'bdmphoto', 'joshhanson1530', 'micahflee', 'alexeyaorlov', 'justinjaffe'}\n",
      "2009\n"
     ]
    }
   ],
   "source": [
    "missing = all_users - unique_users\n",
    "print(missing)\n",
    "print(len(missing))"
   ]
  },
  {
   "cell_type": "code",
   "execution_count": 29,
   "metadata": {},
   "outputs": [],
   "source": [
    "today = date.today()\n",
    "missing_profiles = open('../data/twitter_handles_missing_{}.txt'.format(today), 'w', encoding='utf-8')\n",
    "for handler in missing:\n",
    "    missing_profiles.write(\"{}\\n\".format(handler))\n",
    "missing_profiles.close()\n"
   ]
  },
  {
   "cell_type": "code",
   "execution_count": 5,
   "metadata": {},
   "outputs": [],
   "source": [
    "mastodon_topic = []\n",
    "for tweet in tweets:\n",
    "    text = tweet['text'].lower()\n",
    "    if 'mastodon' in text:\n",
    "        created_at = tweet['created_at']\n",
    "        user = tweet['user']\n",
    "        mastodon_topic.append((text, created_at, user))\n",
    "\n"
   ]
  },
  {
   "cell_type": "code",
   "execution_count": 6,
   "metadata": {},
   "outputs": [
    {
     "data": {
      "text/plain": [
       "3526"
      ]
     },
     "execution_count": 6,
     "metadata": {},
     "output_type": "execute_result"
    }
   ],
   "source": [
    "len(mastodon_topic)"
   ]
  },
  {
   "cell_type": "code",
   "execution_count": 20,
   "metadata": {},
   "outputs": [],
   "source": [
    "def to_datetime(datestring):\n",
    "    time_tuple = parsedate_tz(datestring.strip())\n",
    "    dt = datetime(*time_tuple[:6])\n",
    "    return dt - timedelta(seconds=time_tuple[-1])\n",
    "\n",
    "x = []\n",
    "for tweet in mastodon_topic:\n",
    "    d = to_datetime(tweet[1])\n",
    "    month = d.month \n",
    "    year = d.year\n",
    "    week = d.day // 7\n",
    "    x.append(\"{}-{}-{}\".format(year, month, week))\n"
   ]
  },
  {
   "cell_type": "code",
   "execution_count": 21,
   "metadata": {},
   "outputs": [
    {
     "data": {
      "text/plain": [
       "3526"
      ]
     },
     "execution_count": 21,
     "metadata": {},
     "output_type": "execute_result"
    }
   ],
   "source": [
    "len(x)"
   ]
  },
  {
   "cell_type": "code",
   "execution_count": 24,
   "metadata": {},
   "outputs": [
    {
     "data": {
      "image/png": "[encoded data removed]",
      "text/plain": [
       "<Figure size 640x480 with 1 Axes>"
      ]
     },
     "metadata": {},
     "output_type": "display_data"
    }
   ],
   "source": [
    "import numpy as np\n",
    "import matplotlib.pyplot as plt\n",
    "\n",
    "u, c = np.unique(x, return_counts=True)\n",
    "\n",
    "_ = plt.bar(u, c)\n",
    "_ = plt.xticks(rotation=90)"
   ]
  },
  {
   "cell_type": "code",
   "execution_count": null,
   "metadata": {},
   "outputs": [],
   "source": []
  }
 ],
 "metadata": {
  "kernelspec": {
   "display_name": ".venv",
   "language": "python",
   "name": "python3"
  },
  "language_info": {
   "codemirror_mode": {
    "name": "ipython",
    "version": 3
   },
   "file_extension": ".py",
   "mimetype": "text/x-python",
   "name": "python",
   "nbconvert_exporter": "python",
   "pygments_lexer": "ipython3",
   "version": "3.11.3"
  },
  "orig_nbformat": 4
 },
 "nbformat": 4,
 "nbformat_minor": 2
}
