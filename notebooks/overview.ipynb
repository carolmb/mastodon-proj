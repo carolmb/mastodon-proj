{
 "cells": [
  {
   "cell_type": "code",
   "execution_count": 2,
   "metadata": {},
   "outputs": [],
   "source": [
    "import glob\n",
    "import pandas as pd\n"
   ]
  },
  {
   "cell_type": "code",
   "execution_count": 3,
   "metadata": {},
   "outputs": [],
   "source": [
    "files = glob.glob('temp/users_toots_*.tsv')"
   ]
  },
  {
   "cell_type": "code",
   "execution_count": 4,
   "metadata": {},
   "outputs": [
    {
     "name": "stdout",
     "output_type": "stream",
     "text": [
      "   Unnamed: 0            id                created_at  in_reply_to_account_id   \n",
      "0           0  1.103978e+17  2023-05-19T22:42:34.411Z                     NaN  \\\n",
      "1           1  1.103531e+17  2023-05-12T01:26:51.899Z                     NaN   \n",
      "2           2  1.103020e+17  2023-05-03T00:57:39.933Z            1.093024e+17   \n",
      "3           3  1.102568e+17  2023-04-25T01:23:04.735Z                     NaN   \n",
      "4           4  1.102491e+17  2023-04-23T16:45:51.906Z                     NaN   \n",
      "\n",
      "                                                 uri  replies_count   \n",
      "0  https://mastodon.social/users/swh113/statuses/...            0.0  \\\n",
      "1  https://mastodon.social/users/swh113/statuses/...            0.0   \n",
      "2  https://mastodon.social/users/swh113/statuses/...            1.0   \n",
      "3  https://mastodon.social/users/swh113/statuses/...            0.0   \n",
      "4  https://mastodon.social/users/swh113/statuses/...            0.0   \n",
      "\n",
      "   reblogs_count  favourites_count   \n",
      "0            0.0               0.0  \\\n",
      "1            0.0               0.0   \n",
      "2            0.0               1.0   \n",
      "3            0.0               0.0   \n",
      "4            1.0               2.0   \n",
      "\n",
      "                                             content             user_id  \n",
      "0  <p>I loathe making new guide ropes for geophys...  109314731178859108  \n",
      "1  <p>Ah, tornado season. Hockey on the iPad, sto...  109314731178859108  \n",
      "2  <p><span class=\"h-card\"><a href=\"https://masto...  109314731178859108  \n",
      "3  <p>Congratulations to my student Raphael Schwa...  109314731178859108  \n",
      "4  <p>Author’s copies have arrived! Available May...  109314731178859108  \n"
     ]
    }
   ],
   "source": [
    "toots = []\n",
    "for file in files:\n",
    "    current_toots = pd.read_csv(file, sep='\\t')\n",
    "    toots.append(current_toots)\n",
    "\n",
    "toots = pd.concat(toots)\n",
    "print(toots.head())"
   ]
  },
  {
   "cell_type": "code",
   "execution_count": 5,
   "metadata": {},
   "outputs": [
    {
     "name": "stdout",
     "output_type": "stream",
     "text": [
      "1042585\n"
     ]
    }
   ],
   "source": [
    "print(len(toots))"
   ]
  },
  {
   "cell_type": "code",
   "execution_count": 6,
   "metadata": {},
   "outputs": [
    {
     "name": "stdout",
     "output_type": "stream",
     "text": [
      "4478\n"
     ]
    }
   ],
   "source": [
    "print(len(toots['user_id'].unique()))"
   ]
  },
  {
   "cell_type": "code",
   "execution_count": 7,
   "metadata": {},
   "outputs": [
    {
     "data": {
      "text/plain": [
       "Index(['Unnamed: 0', 'id', 'created_at', 'in_reply_to_account_id', 'uri',\n",
       "       'replies_count', 'reblogs_count', 'favourites_count', 'content',\n",
       "       'user_id'],\n",
       "      dtype='object')"
      ]
     },
     "execution_count": 7,
     "metadata": {},
     "output_type": "execute_result"
    }
   ],
   "source": [
    "toots.columns"
   ]
  },
  {
   "cell_type": "code",
   "execution_count": 8,
   "metadata": {},
   "outputs": [
    {
     "name": "stderr",
     "output_type": "stream",
     "text": [
      "Skipping line 50: expected 4 fields, saw 5\n",
      "\n"
     ]
    },
    {
     "name": "stdout",
     "output_type": "stream",
     "text": [
      "               user            instance   \n",
      "0           rheinze        assemblag.es  \\\n",
      "1          BrianJAP      mastodon.world   \n",
      "2       joelglasman     fediscience.org   \n",
      "3  brenton_peterson     sciences.social   \n",
      "4            keremd  social.anoxinon.de   \n",
      "\n",
      "                                           followers            field  \n",
      "0  [109417147220906349, 109243458234695495, 10924...  African Studies  \n",
      "1  [1302832, 110023631275744313, 1099309840163259...  African Studies  \n",
      "2                                                 []  African Studies  \n",
      "3  [107192220324249637, 109354941450990518, 10951...  African Studies  \n",
      "4  [1302832, 109212672053987101, 1092459114371518...  African Studies  \n",
      "12113\n"
     ]
    }
   ],
   "source": [
    "files = glob.glob('../data/users_followers_*_2023-05-02.csv')\n",
    "all_users = []\n",
    "for file in files:\n",
    "    users = pd.read_csv(file, sep='\\t', names=['user', 'instance', 'followers', 'field'], encoding_errors='replace', on_bad_lines='warn')\n",
    "    all_users.append(users)\n",
    "\n",
    "all_users = pd.concat(all_users)\n",
    "print(all_users.head())\n",
    "print(len(all_users))"
   ]
  },
  {
   "cell_type": "code",
   "execution_count": 29,
   "metadata": {},
   "outputs": [
    {
     "name": "stdout",
     "output_type": "stream",
     "text": [
      "   Unnamed: 0         user         instance             user_id   \n",
      "0           0      rheinze     assemblag.es  109287555889598271  \\\n",
      "1           0      rheinze     assemblag.es  109287555889598271   \n",
      "2           1     BrianJAP   mastodon.world  109376150646500709   \n",
      "3           2  joelglasman  fediscience.org  109285335069156233   \n",
      "4           2  joelglasman  fediscience.org  109285335069156233   \n",
      "\n",
      "                                           followers   \n",
      "0  [109417147220906349, 109243458234695495, 10924...  \\\n",
      "1  [109417147220906349, 109243458234695495, 10924...   \n",
      "2  [1302832, 110023631275744313, 1099309840163259...   \n",
      "3                                                 []   \n",
      "4                                                 []   \n",
      "\n",
      "                                             field  \n",
      "0                                  African Studies  \n",
      "1                                          History  \n",
      "2                                  African Studies  \n",
      "3                                  African Studies  \n",
      "4  Historians of Science, Medicine, and Technology  \n"
     ]
    }
   ],
   "source": [
    "user_id_map = pd.read_csv('user_id_list.tsv', sep='\\t')\n",
    "user_id_map = user_id_map.drop_duplicates(subset=['user', 'instance'])\n",
    "\n",
    "users = pd.merge(user_id_map, all_users, on=['user', 'instance'])\n",
    "print(users.head())"
   ]
  },
  {
   "cell_type": "code",
   "execution_count": 30,
   "metadata": {},
   "outputs": [
    {
     "data": {
      "text/html": [
       "<div>\n",
       "<style scoped>\n",
       "    .dataframe tbody tr th:only-of-type {\n",
       "        vertical-align: middle;\n",
       "    }\n",
       "\n",
       "    .dataframe tbody tr th {\n",
       "        vertical-align: top;\n",
       "    }\n",
       "\n",
       "    .dataframe thead th {\n",
       "        text-align: right;\n",
       "    }\n",
       "</style>\n",
       "<table border=\"1\" class=\"dataframe\">\n",
       "  <thead>\n",
       "    <tr style=\"text-align: right;\">\n",
       "      <th></th>\n",
       "      <th>Unnamed: 0</th>\n",
       "      <th>user</th>\n",
       "      <th>instance</th>\n",
       "      <th>user_id</th>\n",
       "    </tr>\n",
       "  </thead>\n",
       "  <tbody>\n",
       "    <tr>\n",
       "      <th>0</th>\n",
       "      <td>0</td>\n",
       "      <td>rheinze</td>\n",
       "      <td>assemblag.es</td>\n",
       "      <td>109287555889598271</td>\n",
       "    </tr>\n",
       "  </tbody>\n",
       "</table>\n",
       "</div>"
      ],
      "text/plain": [
       "   Unnamed: 0     user      instance             user_id\n",
       "0           0  rheinze  assemblag.es  109287555889598271"
      ]
     },
     "execution_count": 30,
     "metadata": {},
     "output_type": "execute_result"
    }
   ],
   "source": [
    "user_id_map[user_id_map['user_id'] == '109287555889598271']"
   ]
  },
  {
   "cell_type": "code",
   "execution_count": 31,
   "metadata": {},
   "outputs": [],
   "source": [
    "users = users.astype({'user_id': 'object'})\n",
    "toots = toots.astype({'user_id': str})"
   ]
  },
  {
   "cell_type": "code",
   "execution_count": 24,
   "metadata": {},
   "outputs": [
    {
     "data": {
      "text/html": [
       "<div>\n",
       "<style scoped>\n",
       "    .dataframe tbody tr th:only-of-type {\n",
       "        vertical-align: middle;\n",
       "    }\n",
       "\n",
       "    .dataframe tbody tr th {\n",
       "        vertical-align: top;\n",
       "    }\n",
       "\n",
       "    .dataframe thead th {\n",
       "        text-align: right;\n",
       "    }\n",
       "</style>\n",
       "<table border=\"1\" class=\"dataframe\">\n",
       "  <thead>\n",
       "    <tr style=\"text-align: right;\">\n",
       "      <th></th>\n",
       "      <th>Unnamed: 0</th>\n",
       "      <th>id</th>\n",
       "      <th>created_at</th>\n",
       "      <th>in_reply_to_account_id</th>\n",
       "      <th>uri</th>\n",
       "      <th>replies_count</th>\n",
       "      <th>reblogs_count</th>\n",
       "      <th>favourites_count</th>\n",
       "      <th>content</th>\n",
       "      <th>user_id</th>\n",
       "    </tr>\n",
       "  </thead>\n",
       "  <tbody>\n",
       "    <tr>\n",
       "      <th>0</th>\n",
       "      <td>0</td>\n",
       "      <td>1.103978e+17</td>\n",
       "      <td>2023-05-19T22:42:34.411Z</td>\n",
       "      <td>NaN</td>\n",
       "      <td>https://mastodon.social/users/swh113/statuses/...</td>\n",
       "      <td>0.0</td>\n",
       "      <td>0.0</td>\n",
       "      <td>0.0</td>\n",
       "      <td>&lt;p&gt;I loathe making new guide ropes for geophys...</td>\n",
       "      <td>109314731178859108</td>\n",
       "    </tr>\n",
       "    <tr>\n",
       "      <th>1</th>\n",
       "      <td>1</td>\n",
       "      <td>1.103531e+17</td>\n",
       "      <td>2023-05-12T01:26:51.899Z</td>\n",
       "      <td>NaN</td>\n",
       "      <td>https://mastodon.social/users/swh113/statuses/...</td>\n",
       "      <td>0.0</td>\n",
       "      <td>0.0</td>\n",
       "      <td>0.0</td>\n",
       "      <td>&lt;p&gt;Ah, tornado season. Hockey on the iPad, sto...</td>\n",
       "      <td>109314731178859108</td>\n",
       "    </tr>\n",
       "    <tr>\n",
       "      <th>2</th>\n",
       "      <td>2</td>\n",
       "      <td>1.103020e+17</td>\n",
       "      <td>2023-05-03T00:57:39.933Z</td>\n",
       "      <td>1.093024e+17</td>\n",
       "      <td>https://mastodon.social/users/swh113/statuses/...</td>\n",
       "      <td>1.0</td>\n",
       "      <td>0.0</td>\n",
       "      <td>1.0</td>\n",
       "      <td>&lt;p&gt;&lt;span class=\"h-card\"&gt;&lt;a href=\"https://masto...</td>\n",
       "      <td>109314731178859108</td>\n",
       "    </tr>\n",
       "    <tr>\n",
       "      <th>3</th>\n",
       "      <td>3</td>\n",
       "      <td>1.102568e+17</td>\n",
       "      <td>2023-04-25T01:23:04.735Z</td>\n",
       "      <td>NaN</td>\n",
       "      <td>https://mastodon.social/users/swh113/statuses/...</td>\n",
       "      <td>0.0</td>\n",
       "      <td>0.0</td>\n",
       "      <td>0.0</td>\n",
       "      <td>&lt;p&gt;Congratulations to my student Raphael Schwa...</td>\n",
       "      <td>109314731178859108</td>\n",
       "    </tr>\n",
       "    <tr>\n",
       "      <th>4</th>\n",
       "      <td>4</td>\n",
       "      <td>1.102491e+17</td>\n",
       "      <td>2023-04-23T16:45:51.906Z</td>\n",
       "      <td>NaN</td>\n",
       "      <td>https://mastodon.social/users/swh113/statuses/...</td>\n",
       "      <td>0.0</td>\n",
       "      <td>1.0</td>\n",
       "      <td>2.0</td>\n",
       "      <td>&lt;p&gt;Author’s copies have arrived! Available May...</td>\n",
       "      <td>109314731178859108</td>\n",
       "    </tr>\n",
       "  </tbody>\n",
       "</table>\n",
       "</div>"
      ],
      "text/plain": [
       "   Unnamed: 0            id                created_at  in_reply_to_account_id   \n",
       "0           0  1.103978e+17  2023-05-19T22:42:34.411Z                     NaN  \\\n",
       "1           1  1.103531e+17  2023-05-12T01:26:51.899Z                     NaN   \n",
       "2           2  1.103020e+17  2023-05-03T00:57:39.933Z            1.093024e+17   \n",
       "3           3  1.102568e+17  2023-04-25T01:23:04.735Z                     NaN   \n",
       "4           4  1.102491e+17  2023-04-23T16:45:51.906Z                     NaN   \n",
       "\n",
       "                                                 uri  replies_count   \n",
       "0  https://mastodon.social/users/swh113/statuses/...            0.0  \\\n",
       "1  https://mastodon.social/users/swh113/statuses/...            0.0   \n",
       "2  https://mastodon.social/users/swh113/statuses/...            1.0   \n",
       "3  https://mastodon.social/users/swh113/statuses/...            0.0   \n",
       "4  https://mastodon.social/users/swh113/statuses/...            0.0   \n",
       "\n",
       "   reblogs_count  favourites_count   \n",
       "0            0.0               0.0  \\\n",
       "1            0.0               0.0   \n",
       "2            0.0               1.0   \n",
       "3            0.0               0.0   \n",
       "4            1.0               2.0   \n",
       "\n",
       "                                             content             user_id  \n",
       "0  <p>I loathe making new guide ropes for geophys...  109314731178859108  \n",
       "1  <p>Ah, tornado season. Hockey on the iPad, sto...  109314731178859108  \n",
       "2  <p><span class=\"h-card\"><a href=\"https://masto...  109314731178859108  \n",
       "3  <p>Congratulations to my student Raphael Schwa...  109314731178859108  \n",
       "4  <p>Author’s copies have arrived! Available May...  109314731178859108  "
      ]
     },
     "execution_count": 24,
     "metadata": {},
     "output_type": "execute_result"
    }
   ],
   "source": [
    "toots.head()"
   ]
  },
  {
   "cell_type": "code",
   "execution_count": 32,
   "metadata": {},
   "outputs": [
    {
     "name": "stdout",
     "output_type": "stream",
     "text": [
      "   Unnamed: 0_x     user      instance             user_id   \n",
      "0             0  rheinze  assemblag.es  109287555889598271  \\\n",
      "1             0  rheinze  assemblag.es  109287555889598271   \n",
      "2             0  rheinze  assemblag.es  109287555889598271   \n",
      "3             0  rheinze  assemblag.es  109287555889598271   \n",
      "4             0  rheinze  assemblag.es  109287555889598271   \n",
      "\n",
      "                                           followers            field   \n",
      "0  [109417147220906349, 109243458234695495, 10924...  African Studies  \\\n",
      "1  [109417147220906349, 109243458234695495, 10924...  African Studies   \n",
      "2  [109417147220906349, 109243458234695495, 10924...  African Studies   \n",
      "3  [109417147220906349, 109243458234695495, 10924...  African Studies   \n",
      "4  [109417147220906349, 109243458234695495, 10924...  African Studies   \n",
      "\n",
      "   Unnamed: 0_y            id                created_at   \n",
      "0             0  1.104198e+17  2023-05-23T20:15:11.179Z  \\\n",
      "1             1  1.104197e+17  2023-05-23T19:51:40.149Z   \n",
      "2             2  1.104197e+17  2023-05-23T19:50:20.431Z   \n",
      "3             3  1.104197e+17  2023-05-23T19:45:50.886Z   \n",
      "4             4  1.104196e+17  2023-05-23T19:08:13.371Z   \n",
      "\n",
      "   in_reply_to_account_id                                                uri   \n",
      "0            1.092876e+17  https://assemblag.es/users/rheinze/statuses/11...  \\\n",
      "1            1.092876e+17  https://assemblag.es/users/rheinze/statuses/11...   \n",
      "2            1.092876e+17  https://assemblag.es/users/rheinze/statuses/11...   \n",
      "3            1.092876e+17  https://assemblag.es/users/rheinze/statuses/11...   \n",
      "4            1.092876e+17  https://assemblag.es/users/rheinze/statuses/11...   \n",
      "\n",
      "   replies_count  reblogs_count  favourites_count   \n",
      "0            0.0            0.0               0.0  \\\n",
      "1            1.0            0.0               0.0   \n",
      "2            1.0            0.0               1.0   \n",
      "3            1.0            0.0               0.0   \n",
      "4            1.0            0.0               0.0   \n",
      "\n",
      "                                             content  \n",
      "0  <p>Reading slightly older Anglo lit on Gramsci...  \n",
      "1  <p>Hall said we need to &quot;delicately disin...  \n",
      "2                          <p>Sundown over Paris</p>  \n",
      "3  <p>Reading different texts on Gramsci, racism ...  \n",
      "4  <p>One thing I’ll start with is this. I’m read...  \n"
     ]
    }
   ],
   "source": [
    "users_toots = pd.merge(users, toots, on=['user_id'])\n",
    "print(users_toots.head())"
   ]
  },
  {
   "cell_type": "code",
   "execution_count": 16,
   "metadata": {},
   "outputs": [
    {
     "data": {
      "text/plain": [
       "Unnamed: 0     int64\n",
       "user          object\n",
       "instance      object\n",
       "user_id       object\n",
       "followers     object\n",
       "field         object\n",
       "dtype: object"
      ]
     },
     "execution_count": 16,
     "metadata": {},
     "output_type": "execute_result"
    }
   ],
   "source": [
    "users_toots"
   ]
  },
  {
   "cell_type": "code",
   "execution_count": 20,
   "metadata": {},
   "outputs": [
    {
     "data": {
      "text/plain": [
       "Unnamed: 0                  int64\n",
       "id                        float64\n",
       "created_at                 object\n",
       "in_reply_to_account_id    float64\n",
       "uri                        object\n",
       "replies_count             float64\n",
       "reblogs_count             float64\n",
       "favourites_count          float64\n",
       "content                    object\n",
       "user_id                     int64\n",
       "dtype: object"
      ]
     },
     "execution_count": 20,
     "metadata": {},
     "output_type": "execute_result"
    }
   ],
   "source": [
    "toots.dtypes"
   ]
  },
  {
   "cell_type": "code",
   "execution_count": 41,
   "metadata": {},
   "outputs": [
    {
     "data": {
      "text/plain": [
       "field\n",
       "Journalism                                                                    163346\n",
       "History                                                                       129359\n",
       "Law                                                                           118266\n",
       "Psychology                                                                     90791\n",
       "Neuroscience                                                                   68789\n",
       "Political Scientists                                                           63389\n",
       "Philosophers and Philosophy Teachers                                           62502\n",
       "Sociology                                                                      61807\n",
       "Open Science                                                                   56570\n",
       "Digital Humanities                                                             47939\n",
       "Geographers                                                                    45250\n",
       "Literary Studies                                                               44570\n",
       "Education                                                                      40169\n",
       "Qualitative Researchers                                                        37542\n",
       "Science and Technology Studies (STS)                                           30556\n",
       "Religion                                                                       27659\n",
       "Chemistry                                                                      27131\n",
       "Tech Policy                                                                    24259\n",
       "Public Policy                                                                  24216\n",
       "GLAMS                                                                          23865\n",
       "Asian Studies                                                                  22994\n",
       "Archaeology                                                                    20136\n",
       "Genealogy                                                                      19035\n",
       "History and Philosophy of Science                                              18149\n",
       "Criminology                                                                    15612\n",
       "Astrophysicists                                                                14582\n",
       "Medieval History (Medievodons)                                                 14222\n",
       "Meteorology & Weather                                                          13570\n",
       "Information Security                                                           13103\n",
       "Historians of Science, Medicine, and Technology                                12990\n",
       "Book History (BookHistodons)                                                   12989\n",
       "Atmospheric science and air quality                                            12774\n",
       "Plant Science & Botany                                                          9846\n",
       "Anthropology                                                                    8769\n",
       "Theologidons                                                                    8466\n",
       "Marketing and Consumer Research                                                 7283\n",
       "Cheminformaticians and Computational Chemists                                   7242\n",
       "African Studies                                                                 5173\n",
       "Crowdsourcing in Cultural Heritage Citizen Science                              4346\n",
       "Operations research                                                             4112\n",
       "Biblical Studies                                                                3152\n",
       "Semantic Web+                                                                   2917\n",
       "Social Workers on Mastodon                                                      2780\n",
       "Biophysicists                                                                   2731\n",
       "Planetary Science                                                               2200\n",
       "Health Psychologists                                                            1914\n",
       "Organization & Management                                                       1420\n",
       "International Image Interoperability Framework                                  1205\n",
       "Medical AI                                                                      1067\n",
       "Art and Design Teachers                                                          902\n",
       "Bioinformatics                                                                   900\n",
       "Nuclear Fusion                                                                   669\n",
       "Dendrochronology                                                                 589\n",
       "Islamic Studies Middle Eastern Studies Islamicate Studies Oriental Studies       452\n",
       "Gender Studies                                                                   154\n",
       "Palaeogenomicists                                                                 15\n",
       "Name: id, dtype: int64"
      ]
     },
     "execution_count": 41,
     "metadata": {},
     "output_type": "execute_result"
    }
   ],
   "source": [
    "users_toots.groupby('field')['id'].count().sort_values(ascending=False)"
   ]
  },
  {
   "cell_type": "code",
   "execution_count": null,
   "metadata": {},
   "outputs": [],
   "source": []
  }
 ],
 "metadata": {
  "kernelspec": {
   "display_name": ".venv",
   "language": "python",
   "name": "python3"
  },
  "language_info": {
   "codemirror_mode": {
    "name": "ipython",
    "version": 3
   },
   "file_extension": ".py",
   "mimetype": "text/x-python",
   "name": "python",
   "nbconvert_exporter": "python",
   "pygments_lexer": "ipython3",
   "version": "3.11.3"
  },
  "orig_nbformat": 4
 },
 "nbformat": 4,
 "nbformat_minor": 2
}
