{
 "cells": [
  {
   "cell_type": "code",
   "execution_count": 2,
   "metadata": {},
   "outputs": [],
   "source": [
    "import datetime\n",
    "import numpy as np\n",
    "import pandas as pd\n",
    "import matplotlib.pyplot as plt\n",
    "from matplotlib.dates import MonthLocator"
   ]
  },
  {
   "cell_type": "code",
   "execution_count": 3,
   "metadata": {},
   "outputs": [
    {
     "name": "stdout",
     "output_type": "stream",
     "text": [
      "   index         username        instance      displayname  \\\n",
      "0      0  HelmutBuergmann   mstdn.science  Helmut Bürgmann   \n",
      "1      1           boshek   fosstodon.org       Sam Albers   \n",
      "2      2     DenisDuboule          mas.to    Denis Duboule   \n",
      "3      3        paulgkeil  mastodon.world        PaulGKeil   \n",
      "4      4        rider_jon         zirk.us       Jon Hughes   \n",
      "\n",
      "                                      twitterhandler  followers  following  \\\n",
      "0                                                NaN         74         74   \n",
      "1                                                NaN         59         45   \n",
      "2                                                NaN        342         66   \n",
      "3                                                NaN         12         10   \n",
      "4  <span class=\"h-card\"><a href=\"https://zirk.us/...        402        842   \n",
      "\n",
      "                    created  \\\n",
      "0  2022-11-05T00:00:00.000Z   \n",
      "1  2022-11-09T00:00:00.000Z   \n",
      "2  2022-10-30T00:00:00.000Z   \n",
      "3  2022-12-12T00:00:00.000Z   \n",
      "4  2022-11-18T00:00:00.000Z   \n",
      "\n",
      "                                                 bio  \\\n",
      "0  <p>Aquatic Microbial Ecologist at Eawag - Surf...   \n",
      "1  <p>Data Scientist with VoltronData<br />. Used...   \n",
      "2  <p>Geneticist in transit. Collège de France/EP...   \n",
      "3                                                NaN   \n",
      "4  <p>Academic (Reader in German/Cultural Studies...   \n",
      "\n",
      "                   mastodon_name created_datetime  \n",
      "0  HelmutBuergmann@mstdn.science       2022-11-05  \n",
      "1           boshek@fosstodon.org       2022-11-09  \n",
      "2            DenisDuboule@mas.to       2022-10-30  \n",
      "3       paulgkeil@mastodon.world       2022-12-12  \n",
      "4              rider_jon@zirk.us       2022-11-18  \n"
     ]
    }
   ],
   "source": [
    "kuni_users_profiles = pd.read_csv('user_profiles_kuni_07-11-2023.tsv', sep='\\t')\n",
    "kuni_users_profiles.columns = ['index', 'username', 'instance', 'displayname', 'twitterhandler', 'followers', 'following', 'created', 'bio']\n",
    "kuni_users_profiles.head()\n",
    "\n",
    "kuni_users_profiles['mastodon_name'] = kuni_users_profiles.apply(lambda row: \"{}@{}\".format(row['username'], row['instance']), axis=1)\n",
    "\n",
    "datetime_str = '%Y-%m-%dT%H:%M:%S.000Z'\n",
    "\n",
    "datetime_created = []\n",
    "for str_date in kuni_users_profiles['created'].values:\n",
    "    obj = datetime.datetime.strptime(str_date, datetime_str)\n",
    "    datetime_created.append(obj)\n",
    "kuni_users_profiles['created_datetime'] = datetime_created\n",
    "\n",
    "print(kuni_users_profiles.head())"
   ]
  },
  {
   "cell_type": "code",
   "execution_count": 4,
   "metadata": {},
   "outputs": [
    {
     "data": {
      "text/html": [
       "<div>\n",
       "<style scoped>\n",
       "    .dataframe tbody tr th:only-of-type {\n",
       "        vertical-align: middle;\n",
       "    }\n",
       "\n",
       "    .dataframe tbody tr th {\n",
       "        vertical-align: top;\n",
       "    }\n",
       "\n",
       "    .dataframe thead th {\n",
       "        text-align: right;\n",
       "    }\n",
       "</style>\n",
       "<table border=\"1\" class=\"dataframe\">\n",
       "  <thead>\n",
       "    <tr style=\"text-align: right;\">\n",
       "      <th></th>\n",
       "      <th>index</th>\n",
       "      <th>username</th>\n",
       "      <th>instance</th>\n",
       "      <th>displayname</th>\n",
       "      <th>twitterhandler</th>\n",
       "      <th>followers</th>\n",
       "      <th>following</th>\n",
       "      <th>created</th>\n",
       "      <th>bio</th>\n",
       "      <th>mastodon_name</th>\n",
       "      <th>created_datetime</th>\n",
       "    </tr>\n",
       "  </thead>\n",
       "  <tbody>\n",
       "    <tr>\n",
       "      <th>803</th>\n",
       "      <td>803</td>\n",
       "      <td>pluralistic</td>\n",
       "      <td>mamot.fr</td>\n",
       "      <td>Cory Doctorow's linkblog</td>\n",
       "      <td>NaN</td>\n",
       "      <td>44105</td>\n",
       "      <td>758</td>\n",
       "      <td>2020-03-12T00:00:00.000Z</td>\n",
       "      <td>&lt;p&gt;By Cory Doctorow&lt;br /&gt;&lt;span class=\"h-card\"&gt;...</td>\n",
       "      <td>pluralistic@mamot.fr</td>\n",
       "      <td>2020-03-12</td>\n",
       "    </tr>\n",
       "    <tr>\n",
       "      <th>2705</th>\n",
       "      <td>2705</td>\n",
       "      <td>PeterGleick</td>\n",
       "      <td>fediscience.org</td>\n",
       "      <td>Peter Gleick</td>\n",
       "      <td>&lt;a href=\"https://fedified.com/@petergleick\" ta...</td>\n",
       "      <td>12508</td>\n",
       "      <td>187</td>\n",
       "      <td>2022-11-05T00:00:00.000Z</td>\n",
       "      <td>&lt;p&gt;Climate and water scientist and communicato...</td>\n",
       "      <td>PeterGleick@fediscience.org</td>\n",
       "      <td>2022-11-05</td>\n",
       "    </tr>\n",
       "    <tr>\n",
       "      <th>1748</th>\n",
       "      <td>1748</td>\n",
       "      <td>cfiesler</td>\n",
       "      <td>hci.social</td>\n",
       "      <td>Dr. Casey Fiesler</td>\n",
       "      <td>NaN</td>\n",
       "      <td>10942</td>\n",
       "      <td>408</td>\n",
       "      <td>2022-10-28T00:00:00.000Z</td>\n",
       "      <td>&lt;p&gt;information science prof at university of c...</td>\n",
       "      <td>cfiesler@hci.social</td>\n",
       "      <td>2022-10-28</td>\n",
       "    </tr>\n",
       "    <tr>\n",
       "      <th>1825</th>\n",
       "      <td>1825</td>\n",
       "      <td>mer__edith</td>\n",
       "      <td>mastodon.world</td>\n",
       "      <td>Meredith Whittaker</td>\n",
       "      <td>NaN</td>\n",
       "      <td>10085</td>\n",
       "      <td>270</td>\n",
       "      <td>2022-11-26T00:00:00.000Z</td>\n",
       "      <td>&lt;p&gt;President of &lt;span class=\"h-card\" translate...</td>\n",
       "      <td>mer__edith@mastodon.world</td>\n",
       "      <td>2022-11-26</td>\n",
       "    </tr>\n",
       "    <tr>\n",
       "      <th>2598</th>\n",
       "      <td>2598</td>\n",
       "      <td>maxroser</td>\n",
       "      <td>mas.to</td>\n",
       "      <td>Max Roser</td>\n",
       "      <td>NaN</td>\n",
       "      <td>8252</td>\n",
       "      <td>98</td>\n",
       "      <td>2022-12-11T00:00:00.000Z</td>\n",
       "      <td>&lt;p&gt;• Founder of OurWorldInData.org&lt;br /&gt;• Rese...</td>\n",
       "      <td>maxroser@mas.to</td>\n",
       "      <td>2022-12-11</td>\n",
       "    </tr>\n",
       "    <tr>\n",
       "      <th>1758</th>\n",
       "      <td>1758</td>\n",
       "      <td>georgelakoff</td>\n",
       "      <td>sfba.social</td>\n",
       "      <td>George Lakoff</td>\n",
       "      <td>NaN</td>\n",
       "      <td>7920</td>\n",
       "      <td>176</td>\n",
       "      <td>2022-11-20T00:00:00.000Z</td>\n",
       "      <td>&lt;p&gt;Professor Emeritus  at UC Berkeley. &lt;br /&gt;B...</td>\n",
       "      <td>georgelakoff@sfba.social</td>\n",
       "      <td>2022-11-20</td>\n",
       "    </tr>\n",
       "    <tr>\n",
       "      <th>765</th>\n",
       "      <td>765</td>\n",
       "      <td>riedl</td>\n",
       "      <td>sigmoid.social</td>\n",
       "      <td>Mark Riedl</td>\n",
       "      <td>&lt;a href=\"https://twitter.com/mark_riedl\" targe...</td>\n",
       "      <td>7761</td>\n",
       "      <td>433</td>\n",
       "      <td>2022-11-05T00:00:00.000Z</td>\n",
       "      <td>&lt;p&gt;AI for storytelling, games, explainability,...</td>\n",
       "      <td>riedl@sigmoid.social</td>\n",
       "      <td>2022-11-05</td>\n",
       "    </tr>\n",
       "    <tr>\n",
       "      <th>702</th>\n",
       "      <td>702</td>\n",
       "      <td>rodhilton</td>\n",
       "      <td>mastodon.social</td>\n",
       "      <td>Rod Hilton</td>\n",
       "      <td>NaN</td>\n",
       "      <td>7389</td>\n",
       "      <td>633</td>\n",
       "      <td>2019-11-13T00:00:00.000Z</td>\n",
       "      <td>&lt;p&gt;backend services engineering • Twitter alum...</td>\n",
       "      <td>rodhilton@mastodon.social</td>\n",
       "      <td>2019-11-13</td>\n",
       "    </tr>\n",
       "    <tr>\n",
       "      <th>357</th>\n",
       "      <td>357</td>\n",
       "      <td>katestarbird</td>\n",
       "      <td>mstdn.social</td>\n",
       "      <td>Kate Starbird</td>\n",
       "      <td>NaN</td>\n",
       "      <td>6675</td>\n",
       "      <td>528</td>\n",
       "      <td>2022-11-04T00:00:00.000Z</td>\n",
       "      <td>&lt;p&gt;Associate Professor (HCDE) at the Universit...</td>\n",
       "      <td>katestarbird@mstdn.social</td>\n",
       "      <td>2022-11-04</td>\n",
       "    </tr>\n",
       "    <tr>\n",
       "      <th>503</th>\n",
       "      <td>503</td>\n",
       "      <td>elakdawalla</td>\n",
       "      <td>wandering.shop</td>\n",
       "      <td>Emily Lakdawalla</td>\n",
       "      <td>NaN</td>\n",
       "      <td>6430</td>\n",
       "      <td>400</td>\n",
       "      <td>2017-11-14T00:00:00.000Z</td>\n",
       "      <td>&lt;p&gt;Planetary scientist, space boffin, captain ...</td>\n",
       "      <td>elakdawalla@wandering.shop</td>\n",
       "      <td>2017-11-14</td>\n",
       "    </tr>\n",
       "    <tr>\n",
       "      <th>1485</th>\n",
       "      <td>1485</td>\n",
       "      <td>rickhasen</td>\n",
       "      <td>mastodon.online</td>\n",
       "      <td>Rick Hasen</td>\n",
       "      <td>NaN</td>\n",
       "      <td>5966</td>\n",
       "      <td>40</td>\n",
       "      <td>2022-11-06T00:00:00.000Z</td>\n",
       "      <td>&lt;p&gt;Professor of Law @UCLA_Law; ",
       " Director, Safe...</td>\n",
       "      <td>rickhasen@mastodon.online</td>\n",
       "      <td>2022-11-06</td>\n",
       "    </tr>\n",
       "    <tr>\n",
       "      <th>4129</th>\n",
       "      <td>4129</td>\n",
       "      <td>amydiehl</td>\n",
       "      <td>mstdn.social</td>\n",
       "      <td>Amy Diehl, Ph.D.</td>\n",
       "      <td>&lt;a href=\"https://twitter.com/amydiehl\" target=...</td>\n",
       "      <td>5916</td>\n",
       "      <td>2602</td>\n",
       "      <td>2022-11-05T00:00:00.000Z</td>\n",
       "      <td>&lt;p&gt;📖 GLASS WALLS (Rowman &amp;amp; Littlefield, Ju...</td>\n",
       "      <td>amydiehl@mstdn.social</td>\n",
       "      <td>2022-11-05</td>\n",
       "    </tr>\n",
       "    <tr>\n",
       "      <th>3574</th>\n",
       "      <td>3574</td>\n",
       "      <td>zephoria</td>\n",
       "      <td>mastodon.social</td>\n",
       "      <td>danah boyd</td>\n",
       "      <td>NaN</td>\n",
       "      <td>5710</td>\n",
       "      <td>205</td>\n",
       "      <td>2022-05-09T00:00:00.000Z</td>\n",
       "      <td>&lt;p&gt;Researcher who once upon a time joined ever...</td>\n",
       "      <td>zephoria@mastodon.social</td>\n",
       "      <td>2022-05-09</td>\n",
       "    </tr>\n",
       "    <tr>\n",
       "      <th>1207</th>\n",
       "      <td>1207</td>\n",
       "      <td>gregeganSF</td>\n",
       "      <td>mathstodon.xyz</td>\n",
       "      <td>Greg Egan</td>\n",
       "      <td>NaN</td>\n",
       "      <td>5263</td>\n",
       "      <td>304</td>\n",
       "      <td>2022-10-28T00:00:00.000Z</td>\n",
       "      <td>&lt;p&gt;I am a science fiction writer and computer ...</td>\n",
       "      <td>gregeganSF@mathstodon.xyz</td>\n",
       "      <td>2022-10-28</td>\n",
       "    </tr>\n",
       "    <tr>\n",
       "      <th>3121</th>\n",
       "      <td>3121</td>\n",
       "      <td>estebanmoro</td>\n",
       "      <td>datasci.social</td>\n",
       "      <td>Esteban Moro</td>\n",
       "      <td>NaN</td>\n",
       "      <td>5083</td>\n",
       "      <td>298</td>\n",
       "      <td>2022-11-17T00:00:00.000Z</td>\n",
       "      <td>&lt;p&gt;Researcher, scientist. Associate professor ...</td>\n",
       "      <td>estebanmoro@datasci.social</td>\n",
       "      <td>2022-11-17</td>\n",
       "    </tr>\n",
       "    <tr>\n",
       "      <th>4198</th>\n",
       "      <td>4198</td>\n",
       "      <td>mikarv</td>\n",
       "      <td>someone.elses.computer</td>\n",
       "      <td>Michael Veale</td>\n",
       "      <td>NaN</td>\n",
       "      <td>5025</td>\n",
       "      <td>1190</td>\n",
       "      <td>2022-10-28T00:00:00.000Z</td>\n",
       "      <td>&lt;p&gt;Associate Professor in Digital Rights &amp;amp;...</td>\n",
       "      <td>mikarv@someone.elses.computer</td>\n",
       "      <td>2022-10-28</td>\n",
       "    </tr>\n",
       "    <tr>\n",
       "      <th>3376</th>\n",
       "      <td>3376</td>\n",
       "      <td>mikamckinnon</td>\n",
       "      <td>mastodon.social</td>\n",
       "      <td>Mika McKinnon</td>\n",
       "      <td>NaN</td>\n",
       "      <td>4797</td>\n",
       "      <td>180</td>\n",
       "      <td>2022-11-07T00:00:00.000Z</td>\n",
       "      <td>&lt;p&gt;Field geophysicist, disaster researcher, sc...</td>\n",
       "      <td>mikamckinnon@mastodon.social</td>\n",
       "      <td>2022-11-07</td>\n",
       "    </tr>\n",
       "    <tr>\n",
       "      <th>176</th>\n",
       "      <td>176</td>\n",
       "      <td>tess_machling</td>\n",
       "      <td>mastodonapp.uk</td>\n",
       "      <td>Dr Tess Machling</td>\n",
       "      <td>NaN</td>\n",
       "      <td>4671</td>\n",
       "      <td>1869</td>\n",
       "      <td>2022-11-05T00:00:00.000Z</td>\n",
       "      <td>&lt;p&gt;&lt;a href=\"https://mastodonapp.uk/tags/Archae...</td>\n",
       "      <td>tess_machling@mastodonapp.uk</td>\n",
       "      <td>2022-11-05</td>\n",
       "    </tr>\n",
       "    <tr>\n",
       "      <th>3247</th>\n",
       "      <td>3247</td>\n",
       "      <td>vicgrinberg</td>\n",
       "      <td>mastodon.social</td>\n",
       "      <td>Dr. Victoria Grinberg</td>\n",
       "      <td>NaN</td>\n",
       "      <td>4052</td>\n",
       "      <td>495</td>\n",
       "      <td>2022-10-30T00:00:00.000Z</td>\n",
       "      <td>&lt;p&gt;Me:&lt;br /&gt;- she/her&lt;br /&gt;- professional PhD ...</td>\n",
       "      <td>vicgrinberg@mastodon.social</td>\n",
       "      <td>2022-10-30</td>\n",
       "    </tr>\n",
       "    <tr>\n",
       "      <th>2523</th>\n",
       "      <td>2523</td>\n",
       "      <td>leahstokes</td>\n",
       "      <td>mstdn.social</td>\n",
       "      <td>Leah Stokes</td>\n",
       "      <td>NaN</td>\n",
       "      <td>3892</td>\n",
       "      <td>369</td>\n",
       "      <td>2022-12-16T00:00:00.000Z</td>\n",
       "      <td>&lt;p&gt;Prof climate + energy policy at UC Santa Ba...</td>\n",
       "      <td>leahstokes@mstdn.social</td>\n",
       "      <td>2022-12-16</td>\n",
       "    </tr>\n",
       "  </tbody>\n",
       "</table>\n",
       "</div>"
      ],
      "text/plain": [
       "      index       username                instance               displayname  \\\n",
       "803     803    pluralistic                mamot.fr  Cory Doctorow's linkblog   \n",
       "2705   2705    PeterGleick         fediscience.org              Peter Gleick   \n",
       "1748   1748       cfiesler              hci.social         Dr. Casey Fiesler   \n",
       "1825   1825     mer__edith          mastodon.world        Meredith Whittaker   \n",
       "2598   2598       maxroser                  mas.to                 Max Roser   \n",
       "1758   1758   georgelakoff             sfba.social             George Lakoff   \n",
       "765     765          riedl          sigmoid.social                Mark Riedl   \n",
       "702     702      rodhilton         mastodon.social                Rod Hilton   \n",
       "357     357   katestarbird            mstdn.social             Kate Starbird   \n",
       "503     503    elakdawalla          wandering.shop          Emily Lakdawalla   \n",
       "1485   1485      rickhasen         mastodon.online                Rick Hasen   \n",
       "4129   4129       amydiehl            mstdn.social          Amy Diehl, Ph.D.   \n",
       "3574   3574       zephoria         mastodon.social                danah boyd   \n",
       "1207   1207     gregeganSF          mathstodon.xyz                 Greg Egan   \n",
       "3121   3121    estebanmoro          datasci.social              Esteban Moro   \n",
       "4198   4198         mikarv  someone.elses.computer             Michael Veale   \n",
       "3376   3376   mikamckinnon         mastodon.social             Mika McKinnon   \n",
       "176     176  tess_machling          mastodonapp.uk          Dr Tess Machling   \n",
       "3247   3247    vicgrinberg         mastodon.social     Dr. Victoria Grinberg   \n",
       "2523   2523     leahstokes            mstdn.social               Leah Stokes   \n",
       "\n",
       "                                         twitterhandler  followers  following  \\\n",
       "803                                                 NaN      44105        758   \n",
       "2705  <a href=\"https://fedified.com/@petergleick\" ta...      12508        187   \n",
       "1748                                                NaN      10942        408   \n",
       "1825                                                NaN      10085        270   \n",
       "2598                                                NaN       8252         98   \n",
       "1758                                                NaN       7920        176   \n",
       "765   <a href=\"https://twitter.com/mark_riedl\" targe...       7761        433   \n",
       "702                                                 NaN       7389        633   \n",
       "357                                                 NaN       6675        528   \n",
       "503                                                 NaN       6430        400   \n",
       "1485                                                NaN       5966         40   \n",
       "4129  <a href=\"https://twitter.com/amydiehl\" target=...       5916       2602   \n",
       "3574                                                NaN       5710        205   \n",
       "1207                                                NaN       5263        304   \n",
       "3121                                                NaN       5083        298   \n",
       "4198                                                NaN       5025       1190   \n",
       "3376                                                NaN       4797        180   \n",
       "176                                                 NaN       4671       1869   \n",
       "3247                                                NaN       4052        495   \n",
       "2523                                                NaN       3892        369   \n",
       "\n",
       "                       created  \\\n",
       "803   2020-03-12T00:00:00.000Z   \n",
       "2705  2022-11-05T00:00:00.000Z   \n",
       "1748  2022-10-28T00:00:00.000Z   \n",
       "1825  2022-11-26T00:00:00.000Z   \n",
       "2598  2022-12-11T00:00:00.000Z   \n",
       "1758  2022-11-20T00:00:00.000Z   \n",
       "765   2022-11-05T00:00:00.000Z   \n",
       "702   2019-11-13T00:00:00.000Z   \n",
       "357   2022-11-04T00:00:00.000Z   \n",
       "503   2017-11-14T00:00:00.000Z   \n",
       "1485  2022-11-06T00:00:00.000Z   \n",
       "4129  2022-11-05T00:00:00.000Z   \n",
       "3574  2022-05-09T00:00:00.000Z   \n",
       "1207  2022-10-28T00:00:00.000Z   \n",
       "3121  2022-11-17T00:00:00.000Z   \n",
       "4198  2022-10-28T00:00:00.000Z   \n",
       "3376  2022-11-07T00:00:00.000Z   \n",
       "176   2022-11-05T00:00:00.000Z   \n",
       "3247  2022-10-30T00:00:00.000Z   \n",
       "2523  2022-12-16T00:00:00.000Z   \n",
       "\n",
       "                                                    bio  \\\n",
       "803   <p>By Cory Doctorow<br /><span class=\"h-card\">...   \n",
       "2705  <p>Climate and water scientist and communicato...   \n",
       "1748  <p>information science prof at university of c...   \n",
       "1825  <p>President of <span class=\"h-card\" translate...   \n",
       "2598  <p>• Founder of OurWorldInData.org<br />• Rese...   \n",
       "1758  <p>Professor Emeritus  at UC Berkeley. <br />B...   \n",
       "765   <p>AI for storytelling, games, explainability,...   \n",
       "702   <p>backend services engineering • Twitter alum...   \n",
       "357   <p>Associate Professor (HCDE) at the Universit...   \n",
       "503   <p>Planetary scientist, space boffin, captain ...   \n",
       "1485  <p>Professor of Law @UCLA_Law;\n",
       " Director, Safe...   \n",
       "4129  <p>📖 GLASS WALLS (Rowman &amp; Littlefield, Ju...   \n",
       "3574  <p>Researcher who once upon a time joined ever...   \n",
       "1207  <p>I am a science fiction writer and computer ...   \n",
       "3121  <p>Researcher, scientist. Associate professor ...   \n",
       "4198  <p>Associate Professor in Digital Rights &amp;...   \n",
       "3376  <p>Field geophysicist, disaster researcher, sc...   \n",
       "176   <p><a href=\"https://mastodonapp.uk/tags/Archae...   \n",
       "3247  <p>Me:<br />- she/her<br />- professional PhD ...   \n",
       "2523  <p>Prof climate + energy policy at UC Santa Ba...   \n",
       "\n",
       "                      mastodon_name created_datetime  \n",
       "803            pluralistic@mamot.fr       2020-03-12  \n",
       "2705    PeterGleick@fediscience.org       2022-11-05  \n",
       "1748            cfiesler@hci.social       2022-10-28  \n",
       "1825      mer__edith@mastodon.world       2022-11-26  \n",
       "2598                maxroser@mas.to       2022-12-11  \n",
       "1758       georgelakoff@sfba.social       2022-11-20  \n",
       "765            riedl@sigmoid.social       2022-11-05  \n",
       "702       rodhilton@mastodon.social       2019-11-13  \n",
       "357       katestarbird@mstdn.social       2022-11-04  \n",
       "503      elakdawalla@wandering.shop       2017-11-14  \n",
       "1485      rickhasen@mastodon.online       2022-11-06  \n",
       "4129          amydiehl@mstdn.social       2022-11-05  \n",
       "3574       zephoria@mastodon.social       2022-05-09  \n",
       "1207      gregeganSF@mathstodon.xyz       2022-10-28  \n",
       "3121     estebanmoro@datasci.social       2022-11-17  \n",
       "4198  mikarv@someone.elses.computer       2022-10-28  \n",
       "3376   mikamckinnon@mastodon.social       2022-11-07  \n",
       "176    tess_machling@mastodonapp.uk       2022-11-05  \n",
       "3247    vicgrinberg@mastodon.social       2022-10-30  \n",
       "2523        leahstokes@mstdn.social       2022-12-16  "
      ]
     },
     "execution_count": 4,
     "metadata": {},
     "output_type": "execute_result"
    }
   ],
   "source": [
    "kuni_users_profiles.sort_values('followers', ascending=False).head(20)"
   ]
  },
  {
   "cell_type": "code",
   "execution_count": 5,
   "metadata": {},
   "outputs": [
    {
     "name": "stderr",
     "output_type": "stream",
     "text": [
      "/mnt/d/temporary/ipykernel_21829/1781589121.py:14: MatplotlibDeprecationWarning: savefig() got unexpected keyword argument \"tight_layout\" which is no longer supported as of 3.3 and will become an error two minor releases later\n",
      "  plt.savefig('mastodon_accounts_created_at.png', tight_layout=True)\n"
     ]
    },
    {
     "data": {
      "image/png": "[encoded data removed]",
      "text/plain": [
       "<Figure size 1500x400 with 1 Axes>"
      ]
     },
     "metadata": {},
     "output_type": "display_data"
    }
   ],
   "source": [
    "x = kuni_users_profiles['created_datetime']\n",
    "\n",
    "plt.figure(figsize=(15, 4))\n",
    "unique, count = np.unique(x, return_counts=True)\n",
    "plt.hist(x, bins=60)\n",
    "plt.axvline(x=datetime.date(2022, 10, 22), color='red')\n",
    "\n",
    "ax = plt.gca()\n",
    "ax.xaxis_date()\n",
    "ax.xaxis.set_major_locator(MonthLocator())\n",
    "plt.xticks(rotation=90)\n",
    "plt.yscale('log')\n",
    "plt.title('mastodon accounts created at')\n",
    "plt.savefig('mastodon_accounts_created_at.png', tight_layout=True)"
   ]
  },
  {
   "cell_type": "code",
   "execution_count": 6,
   "metadata": {},
   "outputs": [
    {
     "name": "stdout",
     "output_type": "stream",
     "text": [
      "155031\n",
      "154949\n"
     ]
    }
   ],
   "source": [
    "toots = pd.read_csv('toots_kuni_list.tsv', sep='\\t', dtype=object) ## 10/07/2023\n",
    "print(len(toots))\n",
    "toots = toots.dropna(subset='id')\n",
    "print(len(toots))\n",
    "\n",
    "toot_created = []\n",
    "i = 0\n",
    "datetime_str = ''\n",
    "for str_date in toots['created_at'].values:\n",
    "    obj = datetime.datetime.strptime(str_date[:-4], '%Y-%m-%dT%H:%M:%S.')\n",
    "    toot_created.append(obj)\n",
    "toots['created_datetime'] = toot_created\n",
    "toots = toots.drop(columns = ['created_at', 'in_reply_to_account_id', 'Unnamed: 0'], axis=1)"
   ]
  },
  {
   "cell_type": "code",
   "execution_count": 7,
   "metadata": {},
   "outputs": [
    {
     "data": {
      "text/html": [
       "<div>\n",
       "<style scoped>\n",
       "    .dataframe tbody tr th:only-of-type {\n",
       "        vertical-align: middle;\n",
       "    }\n",
       "\n",
       "    .dataframe tbody tr th {\n",
       "        vertical-align: top;\n",
       "    }\n",
       "\n",
       "    .dataframe thead th {\n",
       "        text-align: right;\n",
       "    }\n",
       "</style>\n",
       "<table border=\"1\" class=\"dataframe\">\n",
       "  <thead>\n",
       "    <tr style=\"text-align: right;\">\n",
       "      <th></th>\n",
       "      <th>id</th>\n",
       "      <th>uri</th>\n",
       "      <th>replies_count</th>\n",
       "      <th>reblogs_count</th>\n",
       "      <th>favourites_count</th>\n",
       "      <th>content</th>\n",
       "      <th>mastodon_name</th>\n",
       "      <th>created_datetime</th>\n",
       "    </tr>\n",
       "  </thead>\n",
       "  <tbody>\n",
       "    <tr>\n",
       "      <th>0</th>\n",
       "      <td>110547928364675842</td>\n",
       "      <td>https://mastodon.green/users/DrAnaQueiros/stat...</td>\n",
       "      <td>0.0</td>\n",
       "      <td>0.0</td>\n",
       "      <td>0.0</td>\n",
       "      <td>NaN</td>\n",
       "      <td>DrAnaQueiros@mastodon.green</td>\n",
       "      <td>2023-06-15 11:12:00</td>\n",
       "    </tr>\n",
       "    <tr>\n",
       "      <th>1</th>\n",
       "      <td>109865077222212213</td>\n",
       "      <td>https://mastodon.green/users/DrAnaQueiros/stat...</td>\n",
       "      <td>0.0</td>\n",
       "      <td>0.0</td>\n",
       "      <td>0.0</td>\n",
       "      <td>NaN</td>\n",
       "      <td>DrAnaQueiros@mastodon.green</td>\n",
       "      <td>2023-02-14 20:53:58</td>\n",
       "    </tr>\n",
       "    <tr>\n",
       "      <th>2</th>\n",
       "      <td>109865065540782373</td>\n",
       "      <td>https://mastodon.green/users/DrAnaQueiros/stat...</td>\n",
       "      <td>0.0</td>\n",
       "      <td>0.0</td>\n",
       "      <td>0.0</td>\n",
       "      <td>NaN</td>\n",
       "      <td>DrAnaQueiros@mastodon.green</td>\n",
       "      <td>2023-02-14 20:51:00</td>\n",
       "    </tr>\n",
       "    <tr>\n",
       "      <th>3</th>\n",
       "      <td>109822086288418991</td>\n",
       "      <td>https://mastodon.green/users/DrAnaQueiros/stat...</td>\n",
       "      <td>0.0</td>\n",
       "      <td>0.0</td>\n",
       "      <td>0.0</td>\n",
       "      <td>NaN</td>\n",
       "      <td>DrAnaQueiros@mastodon.green</td>\n",
       "      <td>2023-02-07 06:40:49</td>\n",
       "    </tr>\n",
       "    <tr>\n",
       "      <th>4</th>\n",
       "      <td>109806613521430505</td>\n",
       "      <td>https://mastodon.green/users/DrAnaQueiros/stat...</td>\n",
       "      <td>0.0</td>\n",
       "      <td>0.0</td>\n",
       "      <td>0.0</td>\n",
       "      <td>NaN</td>\n",
       "      <td>DrAnaQueiros@mastodon.green</td>\n",
       "      <td>2023-02-04 13:05:53</td>\n",
       "    </tr>\n",
       "  </tbody>\n",
       "</table>\n",
       "</div>"
      ],
      "text/plain": [
       "                   id                                                uri  \\\n",
       "0  110547928364675842  https://mastodon.green/users/DrAnaQueiros/stat...   \n",
       "1  109865077222212213  https://mastodon.green/users/DrAnaQueiros/stat...   \n",
       "2  109865065540782373  https://mastodon.green/users/DrAnaQueiros/stat...   \n",
       "3  109822086288418991  https://mastodon.green/users/DrAnaQueiros/stat...   \n",
       "4  109806613521430505  https://mastodon.green/users/DrAnaQueiros/stat...   \n",
       "\n",
       "  replies_count reblogs_count favourites_count content  \\\n",
       "0           0.0           0.0              0.0     NaN   \n",
       "1           0.0           0.0              0.0     NaN   \n",
       "2           0.0           0.0              0.0     NaN   \n",
       "3           0.0           0.0              0.0     NaN   \n",
       "4           0.0           0.0              0.0     NaN   \n",
       "\n",
       "                 mastodon_name    created_datetime  \n",
       "0  DrAnaQueiros@mastodon.green 2023-06-15 11:12:00  \n",
       "1  DrAnaQueiros@mastodon.green 2023-02-14 20:53:58  \n",
       "2  DrAnaQueiros@mastodon.green 2023-02-14 20:51:00  \n",
       "3  DrAnaQueiros@mastodon.green 2023-02-07 06:40:49  \n",
       "4  DrAnaQueiros@mastodon.green 2023-02-04 13:05:53  "
      ]
     },
     "execution_count": 7,
     "metadata": {},
     "output_type": "execute_result"
    }
   ],
   "source": [
    "toots.head()"
   ]
  },
  {
   "cell_type": "code",
   "execution_count": 8,
   "metadata": {},
   "outputs": [
    {
     "data": {
      "image/png": "[encoded data removed]",
      "text/plain": [
       "<Figure size 1500x400 with 1 Axes>"
      ]
     },
     "metadata": {},
     "output_type": "display_data"
    }
   ],
   "source": [
    "x = toots['created_datetime']\n",
    "\n",
    "plt.figure(figsize=(15, 4))\n",
    "unique, count = np.unique(x, return_counts=True)\n",
    "plt.hist(x, bins=60)\n",
    "plt.axvline(x=datetime.date(2022, 10, 22), color='red')\n",
    "\n",
    "ax = plt.gca()\n",
    "ax.xaxis_date()\n",
    "# ax.xaxis.set_major_locator(MonthLocator())\n",
    "plt.xticks(rotation=90)\n",
    "plt.yscale('log')\n",
    "plt.title(\"toots created at\")\n",
    "plt.show()"
   ]
  },
  {
   "cell_type": "code",
   "execution_count": 9,
   "metadata": {},
   "outputs": [
    {
     "name": "stdout",
     "output_type": "stream",
     "text": [
      "   index         username        instance      displayname  \\\n",
      "0      0  HelmutBuergmann   mstdn.science  Helmut Bürgmann   \n",
      "1      1           boshek   fosstodon.org       Sam Albers   \n",
      "2      2     DenisDuboule          mas.to    Denis Duboule   \n",
      "3      3        paulgkeil  mastodon.world        PaulGKeil   \n",
      "4      4        rider_jon         zirk.us       Jon Hughes   \n",
      "\n",
      "                                      twitterhandler  followers  following  \\\n",
      "0                                                NaN         74         74   \n",
      "1                                                NaN         59         45   \n",
      "2                                                NaN        342         66   \n",
      "3                                                NaN         12         10   \n",
      "4  <span class=\"h-card\"><a href=\"https://zirk.us/...        402        842   \n",
      "\n",
      "                    created  \\\n",
      "0  2022-11-05T00:00:00.000Z   \n",
      "1  2022-11-09T00:00:00.000Z   \n",
      "2  2022-10-30T00:00:00.000Z   \n",
      "3  2022-12-12T00:00:00.000Z   \n",
      "4  2022-11-18T00:00:00.000Z   \n",
      "\n",
      "                                                 bio  \\\n",
      "0  <p>Aquatic Microbial Ecologist at Eawag - Surf...   \n",
      "1  <p>Data Scientist with VoltronData<br />. Used...   \n",
      "2  <p>Geneticist in transit. Collège de France/EP...   \n",
      "3                                                NaN   \n",
      "4  <p>Academic (Reader in German/Cultural Studies...   \n",
      "\n",
      "                   mastodon_name created_datetime profile_created_at  \n",
      "0  HelmutBuergmann@mstdn.science       2022-11-05         2022-11-05  \n",
      "1           boshek@fosstodon.org       2022-11-09         2022-11-09  \n",
      "2            DenisDuboule@mas.to       2022-10-30         2022-10-30  \n",
      "3       paulgkeil@mastodon.world       2022-12-12         2022-12-12  \n",
      "4              rider_jon@zirk.us       2022-11-18         2022-11-18  \n",
      "3939\n"
     ]
    }
   ],
   "source": [
    "## selecionar o subconjunto de autores que criaram a conta quando o elon musk anunciou a compra do twitter (efetivada)\n",
    "\n",
    "## verificar as séries temporais de números de toots\n",
    "\n",
    "kuni_users_profiles['profile_created_at'] = pd.to_datetime(kuni_users_profiles[\"created_datetime\"]).dt.date\n",
    "print(kuni_users_profiles.head())\n",
    "\n",
    "after_elon = kuni_users_profiles[kuni_users_profiles['profile_created_at'] >= datetime.date(2022, 9, 1)]\n",
    "print(len(after_elon))"
   ]
  },
  {
   "cell_type": "code",
   "execution_count": 10,
   "metadata": {},
   "outputs": [
    {
     "data": {
      "text/plain": [
       "4309"
      ]
     },
     "execution_count": 10,
     "metadata": {},
     "output_type": "execute_result"
    }
   ],
   "source": [
    "len(kuni_users_profiles)"
   ]
  },
  {
   "cell_type": "code",
   "execution_count": 11,
   "metadata": {},
   "outputs": [
    {
     "data": {
      "text/plain": [
       "Index(['index', 'username', 'instance', 'displayname', 'twitterhandler',\n",
       "       'followers', 'following', 'created', 'bio', 'mastodon_name',\n",
       "       'created_datetime', 'profile_created_at'],\n",
       "      dtype='object')"
      ]
     },
     "execution_count": 11,
     "metadata": {},
     "output_type": "execute_result"
    }
   ],
   "source": [
    "after_elon.columns"
   ]
  },
  {
   "cell_type": "code",
   "execution_count": 12,
   "metadata": {},
   "outputs": [],
   "source": [
    "after_elon = after_elon.merge(toots, on='mastodon_name')"
   ]
  },
  {
   "cell_type": "code",
   "execution_count": 13,
   "metadata": {},
   "outputs": [
    {
     "data": {
      "text/plain": [
       "Index(['index', 'username', 'instance', 'displayname', 'twitterhandler',\n",
       "       'followers', 'following', 'created', 'bio', 'mastodon_name',\n",
       "       'created_datetime_x', 'profile_created_at', 'id', 'uri',\n",
       "       'replies_count', 'reblogs_count', 'favourites_count', 'content',\n",
       "       'created_datetime_y'],\n",
       "      dtype='object')"
      ]
     },
     "execution_count": 13,
     "metadata": {},
     "output_type": "execute_result"
    }
   ],
   "source": [
    "after_elon.columns"
   ]
  },
  {
   "cell_type": "code",
   "execution_count": 29,
   "metadata": {},
   "outputs": [],
   "source": [
    "def frequency(toots):\n",
    "    if len(toots) >= 5:\n",
    "        diffs = []\n",
    "        for idx,row in toots.iterrows():\n",
    "            diff = row['created_datetime_y'].to_pydatetime().date() - row['profile_created_at']\n",
    "            diffs.append(diff.days//7)    \n",
    "        return diffs\n",
    "    else:\n",
    "        return []\n",
    "    \n",
    "after_elon_freq = after_elon.groupby('mastodon_name').apply(frequency)"
   ]
  },
  {
   "cell_type": "code",
   "execution_count": 30,
   "metadata": {},
   "outputs": [
    {
     "data": {
      "text/plain": [
       "mastodon_name\n",
       "4heilig@mas.to                        [16, 10, 10, 9, 7, 6, 6, 6, 5, 3, 2, 2, 1]\n",
       "AJBarth@fediscience.org        [34, 33, 33, 33, 32, 31, 31, 30, 30, 30, 30, 3...\n",
       "ALuisaPinho@fediscience.org                         [28, 27, 19, 16, 1, 0, 0, 0]\n",
       "AWarb@mastodon.world           [29, 28, 28, 28, 27, 27, 27, 25, 25, 25, 25, 2...\n",
       "A_Ferry@mas.to                 [10, 5, 5, 4, 4, 4, 4, 4, 3, 3, 3, 3, 3, 3, 3,...\n",
       "                                                     ...                        \n",
       "yuhkitajima@mstdn.social                                                      []\n",
       "zbjornson@mastodon.world                                                      []\n",
       "zgtcooper@mastodon.social      [30, 30, 27, 25, 25, 24, 24, 24, 24, 24, 23, 1...\n",
       "zizip@mastodon.social          [15, 14, 13, 10, 10, 10, 8, 8, 8, 8, 8, 8, 8, ...\n",
       "zpneal@mastodon.social         [36, 36, 36, 35, 35, 35, 35, 35, 35, 35, 35, 3...\n",
       "Length: 1182, dtype: object"
      ]
     },
     "execution_count": 30,
     "metadata": {},
     "output_type": "execute_result"
    }
   ],
   "source": [
    "after_elon_freq"
   ]
  },
  {
   "cell_type": "code",
   "execution_count": 34,
   "metadata": {},
   "outputs": [
    {
     "data": {
      "text/plain": [
       "1182"
      ]
     },
     "execution_count": 34,
     "metadata": {},
     "output_type": "execute_result"
    }
   ],
   "source": [
    "len(after_elon_freq)"
   ]
  },
  {
   "cell_type": "code",
   "execution_count": 31,
   "metadata": {},
   "outputs": [],
   "source": [
    "X = []\n",
    "Y = []\n",
    "for row in after_elon_freq:\n",
    "    unique, count = np.unique(row, return_counts=True)\n",
    "    X.append(unique)\n",
    "    Y.append(count)\n",
    "\n",
    "X = np.concatenate(X)\n",
    "Y = np.concatenate(Y)"
   ]
  },
  {
   "cell_type": "code",
   "execution_count": 32,
   "metadata": {},
   "outputs": [
    {
     "data": {
      "text/plain": [
       "12629"
      ]
     },
     "execution_count": 32,
     "metadata": {},
     "output_type": "execute_result"
    }
   ],
   "source": [
    "len(X)"
   ]
  },
  {
   "cell_type": "code",
   "execution_count": 33,
   "metadata": {},
   "outputs": [
    {
     "name": "stdout",
     "output_type": "stream",
     "text": [
      "429\n",
      "38.0\n"
     ]
    },
    {
     "data": {
      "image/png": "[encoded data removed]",
      "text/plain": [
       "<Figure size 640x480 with 2 Axes>"
      ]
     },
     "metadata": {},
     "output_type": "display_data"
    }
   ],
   "source": [
    "print(max(Y))\n",
    "print(max(X))\n",
    "xbins = np.linspace(min(X), max(X), 38)\n",
    "ybins = np.linspace(min(Y), 14, 14)\n",
    "\n",
    "ax = plt.gca()\n",
    "ax.set_facecolor(\"black\")\n",
    "im = ax.hist2d(X, Y, bins=(xbins, ybins), cmap='inferno') #vmin=1,vmax=10000))\n",
    "# ax.set_xscale('log')\n",
    "# ax.set_yscale('log')\n",
    "ax.set_xlabel('number of weeks')\n",
    "ax.set_ylabel('number of toots')\n",
    "plt.title('openalex (kuni)')\n",
    "plt.colorbar(im[3], ax=ax)\n",
    "plt.savefig('mastodon_toots_freq_kuni.png')"
   ]
  },
  {
   "cell_type": "code",
   "execution_count": null,
   "metadata": {},
   "outputs": [],
   "source": []
  },
  {
   "cell_type": "code",
   "execution_count": 200,
   "metadata": {},
   "outputs": [
    {
     "name": "stdout",
     "output_type": "stream",
     "text": [
      "97\n"
     ]
    }
   ],
   "source": [
    "import glob\n",
    "\n",
    "files = glob.glob('temp/users_toots_2023-05*') + glob.glob('temp/users_toots_2023-06-01*')\n",
    "toots_git = []\n",
    "for file in files: \n",
    "    toots_git.append(pd.read_csv(file, sep='\\t'))\n",
    "print(len(toots_git))\n",
    "all_toots = pd.concat(toots_git)"
   ]
  },
  {
   "cell_type": "code",
   "execution_count": 201,
   "metadata": {},
   "outputs": [
    {
     "data": {
      "text/plain": [
       "1042585"
      ]
     },
     "execution_count": 201,
     "metadata": {},
     "output_type": "execute_result"
    }
   ],
   "source": [
    "len(all_toots)"
   ]
  },
  {
   "cell_type": "code",
   "execution_count": 27,
   "metadata": {},
   "outputs": [
    {
     "name": "stdout",
     "output_type": "stream",
     "text": [
      "1425\n",
      "9\n"
     ]
    },
    {
     "data": {
      "image/png": "[encoded data removed]",
      "text/plain": [
       "<Figure size 640x480 with 2 Axes>"
      ]
     },
     "metadata": {},
     "output_type": "display_data"
    }
   ],
   "source": [
    "def frequency(toots):\n",
    "    if len(toots) >= 5:\n",
    "        diffs = []\n",
    "        for idx,row in toots.iterrows():\n",
    "            diff = datetime.date(2023, 7, 30) - row['created_datetime_y'].to_pydatetime().date()\n",
    "            diffs.append(diff.days//30)    \n",
    "        return diffs\n",
    "    else:\n",
    "        return []\n",
    "    \n",
    "after_elon_freq = after_elon.groupby('mastodon_name').apply(frequency)\n",
    "\n",
    "X_weeks = 10\n",
    "X = []\n",
    "Y = []\n",
    "to_plot = []\n",
    "for row in after_elon_freq:\n",
    "    unique, count = np.unique(row, return_counts=True)\n",
    "    week_hist = []\n",
    "    for week in range(X_weeks):\n",
    "        temp = count[unique == week]\n",
    "        if len(temp) == 0:\n",
    "#             Y.append(0)\n",
    "            pass\n",
    "        else:\n",
    "            Y.append(temp[0])\n",
    "            X.append(week)\n",
    "    \n",
    "print(max(Y))\n",
    "print(max(X))\n",
    "xbins = np.linspace(min(X), 9, 10)\n",
    "ybins = np.linspace(min(Y), 30, 30)\n",
    "\n",
    "ax = plt.gca()\n",
    "ax.set_facecolor(\"black\")\n",
    "im = ax.hist2d(X, Y, bins=(xbins, ybins), cmap='inferno') #vmin=1,vmax=10000))\n",
    "ax.set_xlabel('number of weeks')\n",
    "ax.set_ylabel('number of toots')\n",
    "plt.xticks(xbins, ['july/2023', 'june/2023', 'may/2023', 'april/2023', 'march/2023', 'feb/2023', 'jan/2023', 'dec/2022', 'nov/2022', 'oct/2022'], rotation=45)\n",
    "plt.title('openalex (kuni)')\n",
    "plt.subplots_adjust(bottom=0.3)\n",
    "plt.colorbar(im[3], ax=ax)\n",
    "plt.savefig('mastodon_toots_freq_last_months_kuni.png')"
   ]
  },
  {
   "cell_type": "code",
   "execution_count": null,
   "metadata": {},
   "outputs": [],
   "source": []
  }
 ],
 "metadata": {
  "kernelspec": {
   "display_name": "Python 3 (ipykernel)",
   "language": "python",
   "name": "python3"
  },
  "language_info": {
   "codemirror_mode": {
    "name": "ipython",
    "version": 3
   },
   "file_extension": ".py",
   "mimetype": "text/x-python",
   "name": "python",
   "nbconvert_exporter": "python",
   "pygments_lexer": "ipython3",
   "version": "3.8.3"
  }
 },
 "nbformat": 4,
 "nbformat_minor": 4
}
