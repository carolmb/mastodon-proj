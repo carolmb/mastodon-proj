{
  "nbformat": 4,
  "nbformat_minor": 0,
  "metadata": {
    "colab": {
      "provenance": [],
      "gpuType": "T4"
    },
    "kernelspec": {
      "name": "python3",
      "display_name": "Python 3"
    },
    "language_info": {
      "name": "python"
    },
    "accelerator": "GPU"
  },
  "cells": [
    {
      "cell_type": "code",
      "source": [
        "\n",
        "!pip install Mastodon.py"
      ],
      "metadata": {
        "colab": {
          "base_uri": "https://localhost:8080/"
        },
        "id": "cEiD_9CwDDPv",
        "outputId": "1a3f688b-053f-46fa-e759-a79765061f51"
      },
      "execution_count": 4,
      "outputs": [
        {
          "output_type": "stream",
          "name": "stdout",
          "text": [
            "Looking in indexes: https://pypi.org/simple, https://us-python.pkg.dev/colab-wheels/public/simple/\n",
            "Requirement already satisfied: Mastodon.py in /usr/local/lib/python3.10/dist-packages (1.8.1)\n",
            "Requirement already satisfied: requests>=2.4.2 in /usr/local/lib/python3.10/dist-packages (from Mastodon.py) (2.27.1)\n",
            "Requirement already satisfied: python-dateutil in /usr/local/lib/python3.10/dist-packages (from Mastodon.py) (2.8.2)\n",
            "Requirement already satisfied: six in /usr/local/lib/python3.10/dist-packages (from Mastodon.py) (1.16.0)\n",
            "Requirement already satisfied: decorator>=4.0.0 in /usr/local/lib/python3.10/dist-packages (from Mastodon.py) (4.4.2)\n",
            "Requirement already satisfied: blurhash>=1.1.4 in /usr/local/lib/python3.10/dist-packages (from Mastodon.py) (1.1.4)\n",
            "Requirement already satisfied: python-magic in /usr/local/lib/python3.10/dist-packages (from Mastodon.py) (0.4.27)\n",
            "Requirement already satisfied: urllib3<1.27,>=1.21.1 in /usr/local/lib/python3.10/dist-packages (from requests>=2.4.2->Mastodon.py) (1.26.15)\n",
            "Requirement already satisfied: certifi>=2017.4.17 in /usr/local/lib/python3.10/dist-packages (from requests>=2.4.2->Mastodon.py) (2022.12.7)\n",
            "Requirement already satisfied: charset-normalizer~=2.0.0 in /usr/local/lib/python3.10/dist-packages (from requests>=2.4.2->Mastodon.py) (2.0.12)\n",
            "Requirement already satisfied: idna<4,>=2.5 in /usr/local/lib/python3.10/dist-packages (from requests>=2.4.2->Mastodon.py) (3.4)\n"
          ]
        }
      ]
    },
    {
      "cell_type": "code",
      "execution_count": 2,
      "metadata": {
        "id": "ONxfhCNwCTiF"
      },
      "outputs": [],
      "source": [
        "import numpy as np \n",
        "import pandas as pd \n",
        "from matplotlib import pyplot as plt \n",
        "import networkx as nx \n"
      ]
    },
    {
      "cell_type": "code",
      "source": [
        "\n",
        "import mastodon \n",
        "from mastodon import Mastodon \n"
      ],
      "metadata": {
        "id": "mQBH2K-QDWB1"
      },
      "execution_count": 3,
      "outputs": []
    },
    {
      "cell_type": "code",
      "source": [
        "m= Mastodon(access_token = \t'eTunZVjjC8_2N3bkcF0OMOYgPfqEOHzdg3UJ7msQjnA',\n",
        "    api_base_url = 'https://mastodon.social')"
      ],
      "metadata": {
        "id": "xJYmKNOZDeYj"
      },
      "execution_count": 5,
      "outputs": []
    },
    {
      "cell_type": "code",
      "source": [
        "file = pd.read_csv('instance_list.tsv', sep='\\t', header = None)"
      ],
      "metadata": {
        "id": "wCw2eX-YDrGj"
      },
      "execution_count": 6,
      "outputs": []
    },
    {
      "cell_type": "code",
      "source": [
        "file.head()"
      ],
      "metadata": {
        "colab": {
          "base_uri": "https://localhost:8080/",
          "height": 206
        },
        "id": "byP3eqJ1DrJ_",
        "outputId": "16cfaf41-de8a-47a0-c277-b940911cf9e8"
      },
      "execution_count": 7,
      "outputs": [
        {
          "output_type": "execute_result",
          "data": {
            "text/plain": [
              "                          0                      1\n",
              "0  637b2363ad72ace2dcf16aaf      live.nobigtech.es\n",
              "1  637b2364ad72ace2dcf16ab4  broadcast.looplab.net\n",
              "2  637b2365ad72ace2dcf16ab5         crypto-don.net\n",
              "3  637b2366ad72ace2dcf16abd   fediverse.keithzg.ca\n",
              "4  637b2368ad72ace2dcf16acb        nakamoto.social"
            ],
            "text/html": [
              "\n",
              "  <div id=\"df-6181bf8e-61bf-4bfa-ae26-9138fda47313\">\n",
              "    <div class=\"colab-df-container\">\n",
              "      <div>\n",
              "<style scoped>\n",
              "    .dataframe tbody tr th:only-of-type {\n",
              "        vertical-align: middle;\n",
              "    }\n",
              "\n",
              "    .dataframe tbody tr th {\n",
              "        vertical-align: top;\n",
              "    }\n",
              "\n",
              "    .dataframe thead th {\n",
              "        text-align: right;\n",
              "    }\n",
              "</style>\n",
              "<table border=\"1\" class=\"dataframe\">\n",
              "  <thead>\n",
              "    <tr style=\"text-align: right;\">\n",
              "      <th></th>\n",
              "      <th>0</th>\n",
              "      <th>1</th>\n",
              "    </tr>\n",
              "  </thead>\n",
              "  <tbody>\n",
              "    <tr>\n",
              "      <th>0</th>\n",
              "      <td>637b2363ad72ace2dcf16aaf</td>\n",
              "      <td>live.nobigtech.es</td>\n",
              "    </tr>\n",
              "    <tr>\n",
              "      <th>1</th>\n",
              "      <td>637b2364ad72ace2dcf16ab4</td>\n",
              "      <td>broadcast.looplab.net</td>\n",
              "    </tr>\n",
              "    <tr>\n",
              "      <th>2</th>\n",
              "      <td>637b2365ad72ace2dcf16ab5</td>\n",
              "      <td>crypto-don.net</td>\n",
              "    </tr>\n",
              "    <tr>\n",
              "      <th>3</th>\n",
              "      <td>637b2366ad72ace2dcf16abd</td>\n",
              "      <td>fediverse.keithzg.ca</td>\n",
              "    </tr>\n",
              "    <tr>\n",
              "      <th>4</th>\n",
              "      <td>637b2368ad72ace2dcf16acb</td>\n",
              "      <td>nakamoto.social</td>\n",
              "    </tr>\n",
              "  </tbody>\n",
              "</table>\n",
              "</div>\n",
              "      <button class=\"colab-df-convert\" onclick=\"convertToInteractive('df-6181bf8e-61bf-4bfa-ae26-9138fda47313')\"\n",
              "              title=\"Convert this dataframe to an interactive table.\"\n",
              "              style=\"display:none;\">\n",
              "        \n",
              "  <svg xmlns=\"http://www.w3.org/2000/svg\" height=\"24px\"viewBox=\"0 0 24 24\"\n",
              "       width=\"24px\">\n",
              "    <path d=\"M0 0h24v24H0V0z\" fill=\"none\"/>\n",
              "    <path d=\"M18.56 5.44l.94 2.06.94-2.06 2.06-.94-2.06-.94-.94-2.06-.94 2.06-2.06.94zm-11 1L8.5 8.5l.94-2.06 2.06-.94-2.06-.94L8.5 2.5l-.94 2.06-2.06.94zm10 10l.94 2.06.94-2.06 2.06-.94-2.06-.94-.94-2.06-.94 2.06-2.06.94z\"/><path d=\"M17.41 7.96l-1.37-1.37c-.4-.4-.92-.59-1.43-.59-.52 0-1.04.2-1.43.59L10.3 9.45l-7.72 7.72c-.78.78-.78 2.05 0 2.83L4 21.41c.39.39.9.59 1.41.59.51 0 1.02-.2 1.41-.59l7.78-7.78 2.81-2.81c.8-.78.8-2.07 0-2.86zM5.41 20L4 18.59l7.72-7.72 1.47 1.35L5.41 20z\"/>\n",
              "  </svg>\n",
              "      </button>\n",
              "      \n",
              "  <style>\n",
              "    .colab-df-container {\n",
              "      display:flex;\n",
              "      flex-wrap:wrap;\n",
              "      gap: 12px;\n",
              "    }\n",
              "\n",
              "    .colab-df-convert {\n",
              "      background-color: #E8F0FE;\n",
              "      border: none;\n",
              "      border-radius: 50%;\n",
              "      cursor: pointer;\n",
              "      display: none;\n",
              "      fill: #1967D2;\n",
              "      height: 32px;\n",
              "      padding: 0 0 0 0;\n",
              "      width: 32px;\n",
              "    }\n",
              "\n",
              "    .colab-df-convert:hover {\n",
              "      background-color: #E2EBFA;\n",
              "      box-shadow: 0px 1px 2px rgba(60, 64, 67, 0.3), 0px 1px 3px 1px rgba(60, 64, 67, 0.15);\n",
              "      fill: #174EA6;\n",
              "    }\n",
              "\n",
              "    [theme=dark] .colab-df-convert {\n",
              "      background-color: #3B4455;\n",
              "      fill: #D2E3FC;\n",
              "    }\n",
              "\n",
              "    [theme=dark] .colab-df-convert:hover {\n",
              "      background-color: #434B5C;\n",
              "      box-shadow: 0px 1px 3px 1px rgba(0, 0, 0, 0.15);\n",
              "      filter: drop-shadow(0px 1px 2px rgba(0, 0, 0, 0.3));\n",
              "      fill: #FFFFFF;\n",
              "    }\n",
              "  </style>\n",
              "\n",
              "      <script>\n",
              "        const buttonEl =\n",
              "          document.querySelector('#df-6181bf8e-61bf-4bfa-ae26-9138fda47313 button.colab-df-convert');\n",
              "        buttonEl.style.display =\n",
              "          google.colab.kernel.accessAllowed ? 'block' : 'none';\n",
              "\n",
              "        async function convertToInteractive(key) {\n",
              "          const element = document.querySelector('#df-6181bf8e-61bf-4bfa-ae26-9138fda47313');\n",
              "          const dataTable =\n",
              "            await google.colab.kernel.invokeFunction('convertToInteractive',\n",
              "                                                     [key], {});\n",
              "          if (!dataTable) return;\n",
              "\n",
              "          const docLinkHtml = 'Like what you see? Visit the ' +\n",
              "            '<a target=\"_blank\" href=https://colab.research.google.com/notebooks/data_table.ipynb>data table notebook</a>'\n",
              "            + ' to learn more about interactive tables.';\n",
              "          element.innerHTML = '';\n",
              "          dataTable['output_type'] = 'display_data';\n",
              "          await google.colab.output.renderOutput(dataTable, element);\n",
              "          const docLink = document.createElement('div');\n",
              "          docLink.innerHTML = docLinkHtml;\n",
              "          element.appendChild(docLink);\n",
              "        }\n",
              "      </script>\n",
              "    </div>\n",
              "  </div>\n",
              "  "
            ]
          },
          "metadata": {},
          "execution_count": 7
        }
      ]
    },
    {
      "cell_type": "code",
      "source": [
        "import requests"
      ],
      "metadata": {
        "id": "68qiOGo5E4bU"
      },
      "execution_count": 8,
      "outputs": []
    },
    {
      "cell_type": "code",
      "source": [
        "def check_instance(instance): \n",
        "  api_url = f\"https://{instance}/api/v1/instance\"\n",
        "\n",
        "  try: \n",
        "    response = requests.get(api_url)\n",
        "    response.raise_for_status() \n",
        "    final = \"yes\"\n",
        "  except requests.exceptions.RequestException as e:\n",
        "        final =\"No\"\n",
        "  return final"
      ],
      "metadata": {
        "id": "RNwAx54MFL-P"
      },
      "execution_count": 9,
      "outputs": []
    },
    {
      "cell_type": "code",
      "source": [
        "instances = list(file[1])"
      ],
      "metadata": {
        "id": "O7fLnoYrFMLN"
      },
      "execution_count": 10,
      "outputs": []
    },
    {
      "cell_type": "code",
      "source": [
        "print(len(instances))"
      ],
      "metadata": {
        "id": "tzPzjHTZwCdp",
        "colab": {
          "base_uri": "https://localhost:8080/"
        },
        "outputId": "3ee3f18d-6771-4b4e-bf55-7dcc6bc1c51f"
      },
      "execution_count": 11,
      "outputs": [
        {
          "output_type": "stream",
          "name": "stdout",
          "text": [
            "14682\n"
          ]
        }
      ]
    },
    {
      "cell_type": "code",
      "source": [
        "valid =[]\n",
        "for i in instances: \n",
        "  valid.append(check_instance(i))\n"
      ],
      "metadata": {
        "colab": {
          "base_uri": "https://localhost:8080/"
        },
        "id": "o62GAGXaFMSZ",
        "outputId": "0e0f3c71-f9fe-46f5-d32a-12286a09a72a"
      },
      "execution_count": null,
      "outputs": [
        {
          "output_type": "stream",
          "name": "stderr",
          "text": [
            "WARNING:urllib3.connection:Certificate did not match expected hostname: flyaway.city. Certificate: {'subject': ((('commonName', 'lp.solutions-medical.com.br'),),), 'issuer': ((('countryName', 'US'),), (('organizationName', \"Let's Encrypt\"),), (('commonName', 'R3'),)), 'version': 3, 'serialNumber': '04F7E4577E75D4FB04BCABEB7E53A40A246E', 'notBefore': 'May 29 21:14:09 2023 GMT', 'notAfter': 'Aug 27 21:14:08 2023 GMT', 'subjectAltName': (('DNS', 'lp.solutions-medical.com.br'),), 'OCSP': ('http://r3.o.lencr.org',), 'caIssuers': ('http://r3.i.lencr.org/',)}\n",
            "WARNING:urllib3.connection:Certificate did not match expected hostname: fedi.inzeiten.de. Certificate: {'subject': ((('commonName', 'social.inzeiten.de'),),), 'issuer': ((('countryName', 'US'),), (('organizationName', \"Let's Encrypt\"),), (('commonName', 'R3'),)), 'version': 3, 'serialNumber': '038324FDE4AB4F6E6E144B5CD6CFD4245E9C', 'notBefore': 'Apr 27 03:58:19 2023 GMT', 'notAfter': 'Jul 26 03:58:18 2023 GMT', 'subjectAltName': (('DNS', 'social.inzeiten.de'),), 'OCSP': ('http://r3.o.lencr.org',), 'caIssuers': ('http://r3.i.lencr.org/',)}\n",
            "WARNING:urllib3.connection:Certificate did not match expected hostname: ukese.me. Certificate: {'subject': ((('commonName', 'zzz.grtsk.com'),),), 'issuer': ((('countryName', 'US'),), (('organizationName', \"Let's Encrypt\"),), (('commonName', 'R3'),)), 'version': 3, 'serialNumber': '03E0CFE4511B207CF6972F0133B4A7B63DA1', 'notBefore': 'Apr 23 16:09:53 2023 GMT', 'notAfter': 'Jul 22 16:09:52 2023 GMT', 'subjectAltName': (('DNS', 'zzz.grtsk.com'),), 'OCSP': ('http://r3.o.lencr.org',), 'caIssuers': ('http://r3.i.lencr.org/',)}\n",
            "WARNING:urllib3.connection:Certificate did not match expected hostname: pleroma.atyh.cc. Certificate: {'subject': ((('commonName', 'mail.atyh.cc'),),), 'issuer': ((('countryName', 'US'),), (('organizationName', \"Let's Encrypt\"),), (('commonName', 'R3'),)), 'version': 3, 'serialNumber': '04E68E84FD46E3EEF54EBB9EB6703FCBA629', 'notBefore': 'Apr 18 18:47:13 2023 GMT', 'notAfter': 'Jul 17 18:47:12 2023 GMT', 'subjectAltName': (('DNS', 'mail.atyh.cc'),), 'OCSP': ('http://r3.o.lencr.org',), 'caIssuers': ('http://r3.i.lencr.org/',)}\n",
            "WARNING:urllib3.connection:Certificate did not match expected hostname: social.mjd.id.au. Certificate: {'subject': ((('commonName', 'microblog.mjd.id.au'),),), 'issuer': ((('countryName', 'US'),), (('organizationName', \"Let's Encrypt\"),), (('commonName', 'R3'),)), 'version': 3, 'serialNumber': '040C910ADC8867C591B916DE3FF5E459333A', 'notBefore': 'Apr 26 14:00:35 2023 GMT', 'notAfter': 'Jul 25 14:00:34 2023 GMT', 'subjectAltName': (('DNS', 'microblog.mjd.id.au'),), 'OCSP': ('http://r3.o.lencr.org',), 'caIssuers': ('http://r3.i.lencr.org/',)}\n",
            "WARNING:urllib3.connection:Certificate did not match expected hostname: social.lelehier.de. Certificate: {'subject': ((('commonName', '*.dynadot.com'),),), 'issuer': ((('countryName', 'BE'),), (('organizationName', 'GlobalSign nv-sa'),), (('commonName', 'AlphaSSL CA - SHA256 - G2'),)), 'version': 3, 'serialNumber': '4C8E42C044ED8B86217DF363', 'notBefore': 'Aug 25 16:22:02 2022 GMT', 'notAfter': 'Sep 26 16:05:17 2023 GMT', 'subjectAltName': (('DNS', '*.dynadot.com'), ('DNS', 'dynadot.com')), 'OCSP': ('http://ocsp2.globalsign.com/gsalphasha2g2',), 'caIssuers': ('http://secure.globalsign.com/cacert/gsalphasha2g2r1.crt',), 'crlDistributionPoints': ('http://crl.globalsign.com/gs/gsalphasha2g2.crl',)}\n",
            "WARNING:urllib3.connection:Certificate did not match expected hostname: social.kjv.online. Certificate: {'subject': ((('commonName', 'opalstack.com'),),), 'issuer': ((('countryName', 'US'),), (('organizationName', \"Let's Encrypt\"),), (('commonName', 'R3'),)), 'version': 3, 'serialNumber': '03CA8310055C9AEA71A22F5A9FE981A91580', 'notBefore': 'May 26 06:37:09 2023 GMT', 'notAfter': 'Aug 24 06:37:08 2023 GMT', 'subjectAltName': (('DNS', '*.opalstack.com'), ('DNS', 'opalstack.com')), 'OCSP': ('http://r3.o.lencr.org',), 'caIssuers': ('http://r3.i.lencr.org/',)}\n"
          ]
        }
      ]
    },
    {
      "cell_type": "code",
      "source": [
        "df = pd.DataFrame()\n",
        "df[\"instances\"] = valid "
      ],
      "metadata": {
        "id": "kq9pyNG-wO-A"
      },
      "execution_count": null,
      "outputs": []
    }
  ]
}