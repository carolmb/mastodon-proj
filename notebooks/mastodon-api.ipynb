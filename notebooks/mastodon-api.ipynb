{
 "cells": [
  {
   "cell_type": "code",
   "execution_count": 1,
   "metadata": {},
   "outputs": [
    {
     "name": "stdout",
     "output_type": "stream",
     "text": [
      "Requirement already satisfied: Mastodon.py in d:\\documentos\\yy-projects\\mastodon-proj\\.venv\\lib\\site-packages (1.8.1)\n",
      "Requirement already satisfied: requests>=2.4.2 in d:\\documentos\\yy-projects\\mastodon-proj\\.venv\\lib\\site-packages (from Mastodon.py) (2.28.2)\n",
      "Requirement already satisfied: python-dateutil in d:\\documentos\\yy-projects\\mastodon-proj\\.venv\\lib\\site-packages (from Mastodon.py) (2.8.2)\n",
      "Requirement already satisfied: six in d:\\documentos\\yy-projects\\mastodon-proj\\.venv\\lib\\site-packages (from Mastodon.py) (1.16.0)\n",
      "Requirement already satisfied: decorator>=4.0.0 in d:\\documentos\\yy-projects\\mastodon-proj\\.venv\\lib\\site-packages (from Mastodon.py) (5.1.1)\n",
      "Requirement already satisfied: blurhash>=1.1.4 in d:\\documentos\\yy-projects\\mastodon-proj\\.venv\\lib\\site-packages (from Mastodon.py) (1.1.4)\n",
      "Requirement already satisfied: python-magic-bin in d:\\documentos\\yy-projects\\mastodon-proj\\.venv\\lib\\site-packages (from Mastodon.py) (0.4.14)\n",
      "Requirement already satisfied: charset-normalizer<4,>=2 in d:\\documentos\\yy-projects\\mastodon-proj\\.venv\\lib\\site-packages (from requests>=2.4.2->Mastodon.py) (3.1.0)\n",
      "Requirement already satisfied: idna<4,>=2.5 in d:\\documentos\\yy-projects\\mastodon-proj\\.venv\\lib\\site-packages (from requests>=2.4.2->Mastodon.py) (3.4)\n",
      "Requirement already satisfied: urllib3<1.27,>=1.21.1 in d:\\documentos\\yy-projects\\mastodon-proj\\.venv\\lib\\site-packages (from requests>=2.4.2->Mastodon.py) (1.26.15)\n",
      "Requirement already satisfied: certifi>=2017.4.17 in d:\\documentos\\yy-projects\\mastodon-proj\\.venv\\lib\\site-packages (from requests>=2.4.2->Mastodon.py) (2022.12.7)\n",
      "Note: you may need to restart the kernel to use updated packages.\n"
     ]
    }
   ],
   "source": [
    "%pip install Mastodon.py --upgrade"
   ]
  },
  {
   "attachments": {},
   "cell_type": "markdown",
   "metadata": {},
   "source": [
    "## mastodon api access\n",
    "\n",
    "- Create an app to access mastodon data \n",
    "- Collect followers given a user\n",
    "- Collect profile information (if available, Twitter user) given a user\n"
   ]
  },
  {
   "cell_type": "code",
   "execution_count": 1,
   "metadata": {},
   "outputs": [],
   "source": [
    "import os\n",
    "import glob\n",
    "import parse\n",
    "import numpy as np\n",
    "import pandas as pd\n",
    "import datetime\n",
    "\n",
    "today = datetime.date.today()"
   ]
  },
  {
   "attachments": {},
   "cell_type": "markdown",
   "metadata": {},
   "source": [
    "https://github.com/mastodon/mastodon/\n",
    "\n",
    "https://mastodonpy.readthedocs.io/en/stable/02_return_values.html#user-account-dicts\n"
   ]
  },
  {
   "cell_type": "code",
   "execution_count": 2,
   "metadata": {},
   "outputs": [],
   "source": [
    "from mastodon import Mastodon\n",
    "\n",
    "mastodon_app = \"acmbrito_app_python_secret\"\n",
    "client_id, client_secret, access_token, api_base_url = open(mastodon_app).read().split()\n",
    "api1 = Mastodon(\n",
    "    client_id=client_id,\n",
    "    client_secret=client_secret,\n",
    "    access_token=access_token,\n",
    "    api_base_url=api_base_url\n",
    ")"
   ]
  },
  {
   "attachments": {},
   "cell_type": "markdown",
   "metadata": {},
   "source": [
    "tutorial: https://gist.github.com/aparrish/661fca5ce7b4882a8c6823db12d42d26"
   ]
  },
  {
   "cell_type": "code",
   "execution_count": 5,
   "metadata": {},
   "outputs": [],
   "source": [
    "def get_userid(user_name, user_server):\n",
    "    try:\n",
    "        user_profile = api1.account_lookup(\"{}@{}\".format(user_name, user_server))\n",
    "        return user_profile[\"id\"]\n",
    "    except Exception as error:\n",
    "        print(error)\n",
    "        return None\n",
    "\n",
    "\n",
    "def get_userprofile(user_name, user_server):\n",
    "    user_profile = api1.account_lookup(\"{}@{}\".format(user_name, user_server))\n",
    "\n",
    "    tt_user = \"\"\n",
    "    for field in user_profile[\"fields\"]:\n",
    "        if field[\"name\"] == \"Twitter\":\n",
    "            tt_user = field[\"value\"]\n",
    "\n",
    "    bio = user_profile[\"note\"]\n",
    "    created = user_profile[\"created_at\"]\n",
    "    display_name = user_profile[\"display_name\"]\n",
    "    followers = user_profile[\"followers_count\"]\n",
    "    following = user_profile[\"following_count\"]\n",
    "\n",
    "    return (\n",
    "        user_name,\n",
    "        user_server,\n",
    "        display_name,\n",
    "        tt_user,\n",
    "        followers,\n",
    "        following,\n",
    "        created,\n",
    "        bio.replace(\"\\t\", \" \"),\n",
    "    )\n"
   ]
  },
  {
   "cell_type": "code",
   "execution_count": 6,
   "metadata": {},
   "outputs": [],
   "source": [
    "def get_userfollowers(user_id):\n",
    "    followers = api1.account_followers(user_id)\n",
    "    followers_id = []\n",
    "    count = 0\n",
    "    while followers:\n",
    "        count += 1\n",
    "        if count > 5:\n",
    "            break\n",
    "        for f in followers:\n",
    "            followers_id.append(f['id'])\n",
    "        followers = api1.fetch_next(followers)\n",
    "\n",
    "    return followers_id\n"
   ]
  },
  {
   "cell_type": "code",
   "execution_count": 7,
   "metadata": {},
   "outputs": [
    {
     "name": "stdout",
     "output_type": "stream",
     "text": [
      "csv\\others\\Astrophysicists.csv\n",
      "csv\\others\\Biophysicists.csv\n",
      "csv\\others\\Cheminformaticians and Computational Chemists.csv\n",
      "csv\\others\\Communication, Media Studies, and Adjacent Fields.csv\n",
      "csv\\others\\Geographers.csv\n",
      "csv\\others\\GLAMS.csv\n",
      "csv\\others\\Health Psychologists.csv\n",
      "csv\\others\\International Image Interoperability Framework.csv\n",
      "csv\\others\\Palaeogenomicists.csv\n",
      "csv\\others\\Planetary Science.csv\n",
      "csv\\others\\Social Workers on Mastodon.csv\n",
      "csv\\others\\Tech Policy.csv\n"
     ]
    },
    {
     "name": "stderr",
     "output_type": "stream",
     "text": [
      "Skipping line 487: expected 2 fields, saw 3\n",
      "Skipping line 503: expected 2 fields, saw 3\n",
      "Skipping line 506: expected 2 fields, saw 3\n",
      "Skipping line 511: expected 2 fields, saw 3\n",
      "Skipping line 515: expected 2 fields, saw 3\n",
      "Skipping line 518: expected 2 fields, saw 3\n",
      "Skipping line 520: expected 2 fields, saw 3\n",
      "Skipping line 523: expected 2 fields, saw 3\n",
      "Skipping line 525: expected 2 fields, saw 3\n",
      "Skipping line 533: expected 2 fields, saw 3\n",
      "Skipping line 537: expected 2 fields, saw 3\n",
      "Skipping line 538: expected 2 fields, saw 3\n",
      "Skipping line 541: expected 2 fields, saw 3\n",
      "Skipping line 547: expected 2 fields, saw 3\n",
      "Skipping line 548: expected 2 fields, saw 3\n",
      "Skipping line 550: expected 2 fields, saw 3\n",
      "Skipping line 551: expected 2 fields, saw 3\n",
      "Skipping line 552: expected 2 fields, saw 3\n",
      "Skipping line 553: expected 2 fields, saw 3\n",
      "Skipping line 560: expected 2 fields, saw 3\n",
      "Skipping line 562: expected 2 fields, saw 3\n",
      "Skipping line 564: expected 2 fields, saw 3\n",
      "\n"
     ]
    }
   ],
   "source": [
    "\n",
    "handle = [\"mastodon\", \"account\"]\n",
    "\n",
    "def get_scholars_handles(files, str_format):\n",
    "    mastodon_users = dict()\n",
    "    for file in files:\n",
    "        print(file)\n",
    "        df = pd.read_csv(file, on_bad_lines=\"warn\")\n",
    "        for col in df.columns:\n",
    "            if handle[0] in col.lower() or handle[1] in col.lower():\n",
    "                scholars = df[col].values\n",
    "                parsed = parse.parse(str_format, file)\n",
    "                mastodon_users[parsed[0]] = scholars\n",
    "                break\n",
    "\n",
    "    return mastodon_users\n",
    "\n",
    "# files = glob.glob(\"csv\\\\*.csv\")\n",
    "# mastodon_users = get_scholars_handles(files, \"csv\\scholars_{}.csv\")\n",
    "\n",
    "files = glob.glob('csv\\\\others\\\\*.csv')\n",
    "mastodon_users = get_scholars_handles(files, \"csv\\others\\{}.csv\")"
   ]
  },
  {
   "cell_type": "code",
   "execution_count": 15,
   "metadata": {},
   "outputs": [
    {
     "name": "stdout",
     "output_type": "stream",
     "text": [
      "Astrophysicists\n",
      "Biophysicists\n",
      "Cheminformaticians and Computational Chemists\n",
      "Communication, Media Studies, and Adjacent Fields\n",
      "Geographers\n",
      "GLAMS\n",
      "Health Psychologists\n",
      "International Image Interoperability Framework\n",
      "Palaeogenomicists\n",
      "Planetary Science\n",
      "Social Workers on Mastodon\n",
      "Tech Policy\n"
     ]
    }
   ],
   "source": [
    "for field, scholars in mastodon_users.items():\n",
    "    print(field)"
   ]
  },
  {
   "cell_type": "code",
   "execution_count": 8,
   "metadata": {},
   "outputs": [
    {
     "name": "stdout",
     "output_type": "stream",
     "text": [
      "already done Astrophysicists\n",
      "already done Biophysicists\n",
      "already done Cheminformaticians and Computational Chemists\n",
      "already done Communication, Media Studies, and Adjacent Fields\n",
      "already done Geographers\n",
      "already done GLAMS\n",
      "already done Health Psychologists\n",
      "already done International Image Interoperability Framework\n",
      "already done Palaeogenomicists\n",
      "already done Planetary Science\n",
      "already done Social Workers on Mastodon\n",
      "('Mastodon API returned error', 404, 'Not Found', 'Record not found')\n",
      "('Mastodon API returned error', 404, 'Not Found', 'Record not found')\n",
      "('Mastodon API returned error', 404, 'Not Found', 'Record not found')\n",
      "('Mastodon API returned error', 404, 'Not Found', 'Record not found')\n",
      "('Mastodon API returned error', 404, 'Not Found', 'Record not found')\n",
      "('Mastodon API returned error', 404, 'Not Found', 'Record not found')\n",
      "('Mastodon API returned error', 404, 'Not Found', 'Record not found')\n",
      "('Mastodon API returned error', 404, 'Not Found', 'Record not found')\n",
      "('Mastodon API returned error', 404, 'Not Found', 'Record not found')\n",
      "('Mastodon API returned error', 404, 'Not Found', 'Record not found')\n",
      "('Mastodon API returned error', 404, 'Not Found', 'Record not found')\n",
      "('Mastodon API returned error', 404, 'Not Found', 'Record not found')\n",
      "('Mastodon API returned error', 404, 'Not Found', 'Record not found')\n",
      "('Mastodon API returned error', 404, 'Not Found', 'Record not found')\n",
      "finished Tech Policy\n"
     ]
    }
   ],
   "source": [
    "\n",
    "today = '2023-05-02'\n",
    "for field, scholars in s.items():\n",
    "    output = []\n",
    "    output_filename = \"../data/users_followers_{}_{}.csv\".format(field, today)\n",
    "    if os.path.exists(output_filename):\n",
    "        print('already done {}'.format(field))\n",
    "        continue\n",
    "\n",
    "    for handle in scholars:\n",
    "        if isinstance(handle, float) and np.isnan(handle):\n",
    "            continue\n",
    "\n",
    "        str_format = \"{}@{}\"\n",
    "        if handle.startswith(\"@\"):\n",
    "            handle = handle[1:]\n",
    "        parsed = parse.parse(str_format, handle)\n",
    "        if parsed:\n",
    "            user_name = parsed[0]\n",
    "            user_server = parsed[1]\n",
    "\n",
    "            user_id = get_userid(user_name, user_server)\n",
    "            if user_id:\n",
    "                followers = get_userfollowers(user_id)\n",
    "\n",
    "                output.append((user_name, user_server, followers, field))\n",
    "\n",
    "    print(\"finished {}\".format(field))\n",
    "    outfile = open(output_filename, \"w\")\n",
    "    for line in output:\n",
    "        outfile.write(\"{}\\t{}\\t{}\\t{}\\n\".format(*line))\n",
    "    outfile.close()\n"
   ]
  },
  {
   "attachments": {},
   "cell_type": "markdown",
   "metadata": {},
   "source": [
    "Other approach to select users on mastodon using seeds and DFS"
   ]
  },
  {
   "cell_type": "code",
   "execution_count": null,
   "metadata": {},
   "outputs": [],
   "source": [
    "seeds = ['@Nature@mstdn.social', '@PNASNews@fediscience.org', '@sciencemagazine@sciencemastodon.com']\n",
    "seed_ids = []\n",
    "for seed in seeds:\n",
    "    parsed = parse.parse('@{}@{}', seed)\n",
    "    user_id = get_userid(parsed[0], parsed[1])\n",
    "    seed_ids.append(user_id)\n",
    "\n",
    "\n",
    "def get_users(user_id, deep):\n",
    "    if deep == 0:\n",
    "        return set()\n",
    "    else:\n",
    "        followers = get_userfollowers(user_id)\n",
    "        if followers:\n",
    "            followers = set(followers)\n",
    "            new_followers = set()\n",
    "            for follower in followers:\n",
    "                new_followers |= get_users(follower, deep - 1)\n",
    "            return followers | new_followers\n",
    "        else:\n",
    "            return set()\n",
    "    \n",
    "test = get_users(seed_ids[0], 2)     "
   ]
  },
  {
   "cell_type": "code",
   "execution_count": null,
   "metadata": {},
   "outputs": [],
   "source": [
    "out = open('mastodon_users.txt', 'w')\n",
    "for row in test:\n",
    "    out.write(\"{}\\n\".format(row))\n",
    "out.close()"
   ]
  },
  {
   "cell_type": "code",
   "execution_count": null,
   "metadata": {},
   "outputs": [],
   "source": [
    "twitter mastodon scholars fields of study?????\n",
    "uptade plot twitter mentioning mastodon\n",
    "collect profile data\n",
    "comments about finding followers"
   ]
  }
 ],
 "metadata": {
  "kernelspec": {
   "display_name": ".venv",
   "language": "python",
   "name": "python3"
  },
  "language_info": {
   "codemirror_mode": {
    "name": "ipython",
    "version": 3
   },
   "file_extension": ".py",
   "mimetype": "text/x-python",
   "name": "python",
   "nbconvert_exporter": "python",
   "pygments_lexer": "ipython3",
   "version": "3.11.3"
  },
  "orig_nbformat": 4
 },
 "nbformat": 4,
 "nbformat_minor": 2
}
