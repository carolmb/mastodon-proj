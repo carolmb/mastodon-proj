{
 "cells": [
  {
   "cell_type": "code",
   "execution_count": 1,
   "metadata": {},
   "outputs": [
    {
     "name": "stdout",
     "output_type": "stream",
     "text": [
      "Collecting Mastodon.py\n",
      "  Downloading Mastodon.py-1.8.0-py2.py3-none-any.whl (64 kB)\n",
      "                                              0.0/64.5 kB ? eta -:--:--\n",
      "     ---------------------------------------- 64.5/64.5 kB 1.8 MB/s eta 0:00:00\n",
      "Requirement already satisfied: requests>=2.4.2 in d:\\documentos\\yy-projects\\mastodon-proj\\.venv\\lib\\site-packages (from Mastodon.py) (2.28.2)\n",
      "Requirement already satisfied: python-dateutil in d:\\documentos\\yy-projects\\mastodon-proj\\.venv\\lib\\site-packages (from Mastodon.py) (2.8.2)\n",
      "Requirement already satisfied: six in d:\\documentos\\yy-projects\\mastodon-proj\\.venv\\lib\\site-packages (from Mastodon.py) (1.16.0)\n",
      "Collecting python-magic (from Mastodon.py)\n",
      "  Downloading python_magic-0.4.27-py2.py3-none-any.whl (13 kB)\n",
      "Requirement already satisfied: decorator>=4.0.0 in d:\\documentos\\yy-projects\\mastodon-proj\\.venv\\lib\\site-packages (from Mastodon.py) (5.1.1)\n",
      "Collecting blurhash>=1.1.4 (from Mastodon.py)\n",
      "  Downloading blurhash-1.1.4-py2.py3-none-any.whl (5.3 kB)\n",
      "Requirement already satisfied: charset-normalizer<4,>=2 in d:\\documentos\\yy-projects\\mastodon-proj\\.venv\\lib\\site-packages (from requests>=2.4.2->Mastodon.py) (3.1.0)\n",
      "Requirement already satisfied: idna<4,>=2.5 in d:\\documentos\\yy-projects\\mastodon-proj\\.venv\\lib\\site-packages (from requests>=2.4.2->Mastodon.py) (3.4)\n",
      "Requirement already satisfied: urllib3<1.27,>=1.21.1 in d:\\documentos\\yy-projects\\mastodon-proj\\.venv\\lib\\site-packages (from requests>=2.4.2->Mastodon.py) (1.26.15)\n",
      "Requirement already satisfied: certifi>=2017.4.17 in d:\\documentos\\yy-projects\\mastodon-proj\\.venv\\lib\\site-packages (from requests>=2.4.2->Mastodon.py) (2022.12.7)\n",
      "Installing collected packages: blurhash, python-magic, Mastodon.py\n",
      "Successfully installed Mastodon.py-1.8.0 blurhash-1.1.4 python-magic-0.4.27\n",
      "Note: you may need to restart the kernel to use updated packages.\n"
     ]
    }
   ],
   "source": [
    "%pip install Mastodon.py"
   ]
  },
  {
   "attachments": {},
   "cell_type": "markdown",
   "metadata": {},
   "source": [
    "https://github.com/mastodon/mastodon/\n",
    "\n",
    "https://mastodonpy.readthedocs.io/en/stable/02_return_values.html#user-account-dicts\n"
   ]
  },
  {
   "cell_type": "code",
   "execution_count": 1,
   "metadata": {},
   "outputs": [
    {
     "data": {
      "text/plain": [
       "\"\\nMastodon.create_app(\\n    'acmbrito_app',\\n    api_base_url = api_base_url,\\n    to_file = 'acmbrito_app_python_secret'\\n)\""
      ]
     },
     "execution_count": 1,
     "metadata": {},
     "output_type": "execute_result"
    }
   ],
   "source": [
    "from mastodon import Mastodon\n",
    "\n",
    "\n",
    "api_base_url = 'https://mastodon.social'\n",
    "\n",
    "'''\n",
    "Mastodon.create_app(\n",
    "    'acmbrito_app',\n",
    "    api_base_url = api_base_url,\n",
    "    to_file = 'acmbrito_app_python_secret'\n",
    ")'''\n"
   ]
  },
  {
   "cell_type": "code",
   "execution_count": 2,
   "metadata": {},
   "outputs": [],
   "source": [
    "mastodon_app = open('acmbrito_app_python_secret').readlines()\n",
    "client_id = mastodon_app[0]\n",
    "client_secret = mastodon_app[1]\n",
    "mastodon = Mastodon(client_id = client_id, client_secret = client_secret, api_base_url = api_base_url)\n"
   ]
  },
  {
   "cell_type": "code",
   "execution_count": 6,
   "metadata": {},
   "outputs": [
    {
     "data": {
      "text/plain": [
       "{'id': 309470,\n",
       " 'username': 'Alex_Golub',\n",
       " 'acct': 'Alex_Golub@scholar.social',\n",
       " 'display_name': 'Alex Golub',\n",
       " 'locked': False,\n",
       " 'bot': False,\n",
       " 'discoverable': True,\n",
       " 'group': False,\n",
       " 'created_at': datetime.datetime(2018, 3, 28, 0, 0, tzinfo=tzutc()),\n",
       " 'note': '<p>Professor of <a href=\"https://scholar.social/tags/Anthropology\" class=\"mention hashtag\" rel=\"nofollow noopener noreferrer\" target=\"_blank\">#<span>Anthropology</span></a> at the University of Hawai‘i at Mānoa. <a href=\"https://scholar.social/tags/PNG\" class=\"mention hashtag\" rel=\"nofollow noopener noreferrer\" target=\"_blank\">#<span>PNG</span></a> <a href=\"https://scholar.social/tags/PapuaNewGuinea\" class=\"mention hashtag\" rel=\"nofollow noopener noreferrer\" target=\"_blank\">#<span>PapuaNewGuinea</span></a> <a href=\"https://scholar.social/tags/Mining\" class=\"mention hashtag\" rel=\"nofollow noopener noreferrer\" target=\"_blank\">#<span>Mining</span></a> <a href=\"https://scholar.social/tags/HIstoryofAnthropology\" class=\"mention hashtag\" rel=\"nofollow noopener noreferrer\" target=\"_blank\">#<span>HIstoryofAnthropology</span></a></p>',\n",
       " 'url': 'https://scholar.social/@Alex_Golub',\n",
       " 'avatar': 'https://files.mastodon.social/cache/accounts/avatars/000/309/470/original/3d72b4a25d85a279.jpg',\n",
       " 'avatar_static': 'https://files.mastodon.social/cache/accounts/avatars/000/309/470/original/3d72b4a25d85a279.jpg',\n",
       " 'header': 'https://files.mastodon.social/cache/accounts/headers/000/309/470/original/bd85458303d75c74.png',\n",
       " 'header_static': 'https://files.mastodon.social/cache/accounts/headers/000/309/470/original/bd85458303d75c74.png',\n",
       " 'followers_count': 255,\n",
       " 'following_count': 116,\n",
       " 'statuses_count': 357,\n",
       " 'last_status_at': datetime.datetime(2023, 4, 20, 0, 0),\n",
       " 'emojis': [],\n",
       " 'fields': [{'name': 'Anthropology', 'value': '', 'verified_at': None},\n",
       "  {'name': 'Hawai‘i', 'value': '', 'verified_at': None},\n",
       "  {'name': 'Pacific', 'value': '', 'verified_at': None}]}"
      ]
     },
     "execution_count": 6,
     "metadata": {},
     "output_type": "execute_result"
    }
   ],
   "source": [
    "user_server = \"scholar.social\"\n",
    "user_name = \"Alex_Golub\"\n",
    "\n",
    "# profile_json = 'https://{}/api/v1/accounts/lookup?acct={}'.format(user_server, user_name)\n",
    "\n",
    "mastodon.account_lookup(\"{}@{}\".format(user_name, user_server))\n",
    "# para conseguir os seguidores: GET /api/v1/accounts/:id/followers HTTP/1.1"
   ]
  },
  {
   "cell_type": "code",
   "execution_count": null,
   "metadata": {},
   "outputs": [],
   "source": []
  }
 ],
 "metadata": {
  "kernelspec": {
   "display_name": ".venv",
   "language": "python",
   "name": "python3"
  },
  "language_info": {
   "codemirror_mode": {
    "name": "ipython",
    "version": 3
   },
   "file_extension": ".py",
   "mimetype": "text/x-python",
   "name": "python",
   "nbconvert_exporter": "python",
   "pygments_lexer": "ipython3",
   "version": "3.11.3"
  },
  "orig_nbformat": 4
 },
 "nbformat": 4,
 "nbformat_minor": 2
}
