{
 "cells": [
  {
   "cell_type": "code",
   "execution_count": 1,
   "metadata": {},
   "outputs": [
    {
     "name": "stdout",
     "output_type": "stream",
     "text": [
      "Requirement already satisfied: Mastodon.py in d:\\documentos\\yy-projects\\mastodon-proj\\.venv\\lib\\site-packages (1.8.0)\n",
      "Collecting Mastodon.py\n",
      "  Downloading Mastodon.py-1.8.1-py2.py3-none-any.whl (65 kB)\n",
      "                                              0.0/65.9 kB ? eta -:--:--\n",
      "     ---------------------------------------- 65.9/65.9 kB 1.7 MB/s eta 0:00:00\n",
      "Requirement already satisfied: requests>=2.4.2 in d:\\documentos\\yy-projects\\mastodon-proj\\.venv\\lib\\site-packages (from Mastodon.py) (2.28.2)\n",
      "Requirement already satisfied: python-dateutil in d:\\documentos\\yy-projects\\mastodon-proj\\.venv\\lib\\site-packages (from Mastodon.py) (2.8.2)\n",
      "Requirement already satisfied: six in d:\\documentos\\yy-projects\\mastodon-proj\\.venv\\lib\\site-packages (from Mastodon.py) (1.16.0)\n",
      "Requirement already satisfied: decorator>=4.0.0 in d:\\documentos\\yy-projects\\mastodon-proj\\.venv\\lib\\site-packages (from Mastodon.py) (5.1.1)\n",
      "Requirement already satisfied: blurhash>=1.1.4 in d:\\documentos\\yy-projects\\mastodon-proj\\.venv\\lib\\site-packages (from Mastodon.py) (1.1.4)\n",
      "Collecting python-magic-bin (from Mastodon.py)\n",
      "  Downloading python_magic_bin-0.4.14-py2.py3-none-win_amd64.whl (409 kB)\n",
      "                                              0.0/409.3 kB ? eta -:--:--\n",
      "     -----------------------                256.0/409.3 kB 7.9 MB/s eta 0:00:01\n",
      "     -------------------------------------- 409.3/409.3 kB 8.7 MB/s eta 0:00:00\n",
      "Requirement already satisfied: charset-normalizer<4,>=2 in d:\\documentos\\yy-projects\\mastodon-proj\\.venv\\lib\\site-packages (from requests>=2.4.2->Mastodon.py) (3.1.0)\n",
      "Requirement already satisfied: idna<4,>=2.5 in d:\\documentos\\yy-projects\\mastodon-proj\\.venv\\lib\\site-packages (from requests>=2.4.2->Mastodon.py) (3.4)\n",
      "Requirement already satisfied: urllib3<1.27,>=1.21.1 in d:\\documentos\\yy-projects\\mastodon-proj\\.venv\\lib\\site-packages (from requests>=2.4.2->Mastodon.py) (1.26.15)\n",
      "Requirement already satisfied: certifi>=2017.4.17 in d:\\documentos\\yy-projects\\mastodon-proj\\.venv\\lib\\site-packages (from requests>=2.4.2->Mastodon.py) (2022.12.7)\n",
      "Installing collected packages: python-magic-bin, Mastodon.py\n",
      "  Attempting uninstall: Mastodon.py\n",
      "    Found existing installation: Mastodon.py 1.8.0\n",
      "    Uninstalling Mastodon.py-1.8.0:\n",
      "      Successfully uninstalled Mastodon.py-1.8.0\n",
      "Successfully installed Mastodon.py-1.8.1 python-magic-bin-0.4.14\n",
      "Note: you may need to restart the kernel to use updated packages.\n"
     ]
    },
    {
     "name": "stderr",
     "output_type": "stream",
     "text": [
      "\n",
      "[notice] A new release of pip is available: 23.1 -> 23.1.2\n",
      "[notice] To update, run: python.exe -m pip install --upgrade pip\n"
     ]
    }
   ],
   "source": [
    "%pip install Mastodon.py --upgrade"
   ]
  },
  {
   "attachments": {},
   "cell_type": "markdown",
   "metadata": {},
   "source": [
    "## mastodon api access\n",
    "\n",
    "- Create an app to access mastodon data \n",
    "- Collect followers given a user\n",
    "- Collect profile information (if available, Twitter user) given a user\n"
   ]
  },
  {
   "cell_type": "code",
   "execution_count": 1,
   "metadata": {},
   "outputs": [],
   "source": [
    "import glob\n",
    "import parse\n",
    "import pandas as pd\n"
   ]
  },
  {
   "attachments": {},
   "cell_type": "markdown",
   "metadata": {},
   "source": [
    "https://github.com/mastodon/mastodon/\n",
    "\n",
    "https://mastodonpy.readthedocs.io/en/stable/02_return_values.html#user-account-dicts\n"
   ]
  },
  {
   "cell_type": "code",
   "execution_count": 5,
   "metadata": {},
   "outputs": [],
   "source": [
    "from mastodon import Mastodon\n",
    "\n",
    "mastodon_app = open(\"acmbrito_app_python_secret\").readlines()\n",
    "client_id, client_secret, token, api_base_url = mastodon_app\n",
    "api1 = Mastodon(\n",
    "    client_id=client_id, \n",
    "    client_secret=client_secret, \n",
    "    access_token=token,\n",
    "    api_base_url=api_base_url\n",
    ")"
   ]
  },
  {
   "attachments": {},
   "cell_type": "markdown",
   "metadata": {},
   "source": [
    "tutorial: https://gist.github.com/aparrish/661fca5ce7b4882a8c6823db12d42d26"
   ]
  },
  {
   "cell_type": "code",
   "execution_count": 6,
   "metadata": {},
   "outputs": [],
   "source": [
    "def get_userid(user_name, user_server):\n",
    "    try:\n",
    "        user_profile = api1.account_lookup(\"{}@{}\".format(user_name, user_server))\n",
    "        return user_profile[\"id\"]\n",
    "    except Exception as error:\n",
    "        print(error)\n",
    "        return None\n",
    "\n",
    "\n",
    "def get_userprofile(user_name, user_server):\n",
    "    user_profile = api1.account_lookup(\"{}@{}\".format(user_name, user_server))\n",
    "\n",
    "    tt_user = \"\"\n",
    "    for field in user_profile[\"fields\"]:\n",
    "        if field[\"name\"] == \"Twitter\":\n",
    "            tt_user = field[\"value\"]\n",
    "\n",
    "    bio = user_profile[\"note\"]\n",
    "    display_name = user_profile[\"display_name\"]\n",
    "    followers = user_profile[\"followers_count\"]\n",
    "    following = user_profile[\"following_count\"]\n",
    "\n",
    "    return (\n",
    "        user_name,\n",
    "        user_server,\n",
    "        display_name,\n",
    "        tt_user,\n",
    "        followers,\n",
    "        following,\n",
    "        bio.replace(\"\\t\", \" \"),\n",
    "    )\n"
   ]
  },
  {
   "cell_type": "code",
   "execution_count": null,
   "metadata": {},
   "outputs": [],
   "source": [
    "def get_userfollowers(user_id):\n",
    "    followers = api1.account_followers(user_id)\n",
    "    followers_id = []\n",
    "    count = 0\n",
    "    while followers:\n",
    "        count += 1\n",
    "        if count > 3:\n",
    "            break\n",
    "        for f in followers:\n",
    "            followers_id.append(f['id'])\n",
    "        followers = api1.fetch_next(followers)\n",
    "\n",
    "    return followers_id\n",
    "\n",
    "user_name = \"oseymour\"\n",
    "user_server = \"sigmoid.social\"\n",
    "user_profile = api1.account_lookup(\"{}@{}\".format(user_name, user_server))"
   ]
  },
  {
   "cell_type": "code",
   "execution_count": null,
   "metadata": {},
   "outputs": [],
   "source": [
    "handle = [\"mastodon\", \"account\"]\n",
    "\n",
    "files = glob.glob(\"csv/*.csv\")\n",
    "mastodon_users = dict()\n",
    "for file in files:\n",
    "    df = pd.read_csv(file, on_bad_lines=\"warn\")\n",
    "    for col in df.columns:\n",
    "        if handle[0] in col.lower() or handle[1] in col.lower():\n",
    "            scholars = df[col].values\n",
    "            str_format = \"csv\\scholars_{}.csv\"\n",
    "            parsed = parse.parse(str_format, file)\n",
    "            mastodon_users[parsed[0]] = scholars\n"
   ]
  },
  {
   "cell_type": "code",
   "execution_count": null,
   "metadata": {},
   "outputs": [],
   "source": [
    "output = []\n",
    "for field, scholars in mastodon_users.items():\n",
    "    for handle in scholars:\n",
    "        str_format = \"{}@{}\"\n",
    "        if handle.startswith(\"@\"):\n",
    "            handle = handle[1:]\n",
    "        parsed = parse.parse(str_format, handle)\n",
    "        if parsed:\n",
    "            user_name = parsed[0]\n",
    "            user_server = parsed[1]\n",
    "\n",
    "            user_id = get_userid(user_server, user_name)\n",
    "            if user_id:\n",
    "                followers = get_userfollowers(user_id)\n",
    "\n",
    "                output.append((user_name, user_server, followers, field))\n",
    "\n",
    "\n",
    "outfile = open(\"users_followers.csv\", \"w\")\n",
    "for line in output:\n",
    "    outfile.write(\"{}\\t{}\\t{}\\t{}\\n\".format(*line))\n",
    "outfile.close()\n"
   ]
  },
  {
   "cell_type": "code",
   "execution_count": 8,
   "metadata": {},
   "outputs": [],
   "source": [
    "seeds = ['@Nature@mstdn.social', '@PNASNews@fediscience.org', '@sciencemagazine@sciencemastodon.com']\n",
    "seed_ids = []\n",
    "for seed in seeds:\n",
    "    parsed = parse.parse('@{}@{}', seed)\n",
    "    user_id = get_userid(parsed[1], parsed[0])\n",
    "    seed_ids.append(user_id)\n",
    "\n",
    "\n",
    "def get_users(user_id, deep):\n",
    "    if deep == 0:\n",
    "        return set()\n",
    "    else:\n",
    "        followers = set(get_userfollowers(user_id))\n",
    "        new_followers = set()\n",
    "        for follower in followers:\n",
    "            new_followers |= get_users(follower, deep - 1)\n",
    "        return followers | new_followers\n",
    "    \n",
    "test = get_users(seed_ids[0], 2)"
   ]
  },
  {
   "cell_type": "code",
   "execution_count": 9,
   "metadata": {},
   "outputs": [
    {
     "data": {
      "text/plain": [
       "1096"
      ]
     },
     "execution_count": 9,
     "metadata": {},
     "output_type": "execute_result"
    }
   ],
   "source": [
    "len(test)"
   ]
  },
  {
   "cell_type": "code",
   "execution_count": null,
   "metadata": {},
   "outputs": [],
   "source": []
  }
 ],
 "metadata": {
  "kernelspec": {
   "display_name": ".venv",
   "language": "python",
   "name": "python3"
  },
  "language_info": {
   "codemirror_mode": {
    "name": "ipython",
    "version": 3
   },
   "file_extension": ".py",
   "mimetype": "text/x-python",
   "name": "python",
   "nbconvert_exporter": "python",
   "pygments_lexer": "ipython3",
   "version": "3.11.3"
  },
  "orig_nbformat": 4
 },
 "nbformat": 4,
 "nbformat_minor": 2
}
