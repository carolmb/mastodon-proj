{
 "cells": [
  {
   "cell_type": "code",
   "execution_count": 9,
   "metadata": {},
   "outputs": [
    {
     "name": "stdout",
     "output_type": "stream",
     "text": [
      "Requirement already satisfied: Mastodon.py in d:\\documentos\\yy-projects\\mastodon-proj\\.venv\\lib\\site-packages (1.8.0)\n",
      "Requirement already satisfied: requests>=2.4.2 in d:\\documentos\\yy-projects\\mastodon-proj\\.venv\\lib\\site-packages (from Mastodon.py) (2.28.2)\n",
      "Requirement already satisfied: python-dateutil in d:\\documentos\\yy-projects\\mastodon-proj\\.venv\\lib\\site-packages (from Mastodon.py) (2.8.2)\n",
      "Requirement already satisfied: six in d:\\documentos\\yy-projects\\mastodon-proj\\.venv\\lib\\site-packages (from Mastodon.py) (1.16.0)\n",
      "Requirement already satisfied: python-magic in d:\\documentos\\yy-projects\\mastodon-proj\\.venv\\lib\\site-packages (from Mastodon.py) (0.4.27)\n",
      "Requirement already satisfied: decorator>=4.0.0 in d:\\documentos\\yy-projects\\mastodon-proj\\.venv\\lib\\site-packages (from Mastodon.py) (5.1.1)\n",
      "Requirement already satisfied: blurhash>=1.1.4 in d:\\documentos\\yy-projects\\mastodon-proj\\.venv\\lib\\site-packages (from Mastodon.py) (1.1.4)\n",
      "Requirement already satisfied: charset-normalizer<4,>=2 in d:\\documentos\\yy-projects\\mastodon-proj\\.venv\\lib\\site-packages (from requests>=2.4.2->Mastodon.py) (3.1.0)\n",
      "Requirement already satisfied: idna<4,>=2.5 in d:\\documentos\\yy-projects\\mastodon-proj\\.venv\\lib\\site-packages (from requests>=2.4.2->Mastodon.py) (3.4)\n",
      "Requirement already satisfied: urllib3<1.27,>=1.21.1 in d:\\documentos\\yy-projects\\mastodon-proj\\.venv\\lib\\site-packages (from requests>=2.4.2->Mastodon.py) (1.26.15)\n",
      "Requirement already satisfied: certifi>=2017.4.17 in d:\\documentos\\yy-projects\\mastodon-proj\\.venv\\lib\\site-packages (from requests>=2.4.2->Mastodon.py) (2022.12.7)\n",
      "Note: you may need to restart the kernel to use updated packages.\n"
     ]
    }
   ],
   "source": [
    "%pip install Mastodon.py"
   ]
  },
  {
   "attachments": {},
   "cell_type": "markdown",
   "metadata": {},
   "source": [
    "## mastodon api access\n",
    "\n",
    "- Create an app to access mastodon data \n",
    "- Collect followers given a user\n",
    "- Collect profile information (if available, Twitter user) given a user\n"
   ]
  },
  {
   "cell_type": "code",
   "execution_count": 1,
   "metadata": {},
   "outputs": [],
   "source": [
    "import glob\n",
    "import parse\n",
    "import pandas as pd\n"
   ]
  },
  {
   "attachments": {},
   "cell_type": "markdown",
   "metadata": {},
   "source": [
    "https://github.com/mastodon/mastodon/\n",
    "\n",
    "https://mastodonpy.readthedocs.io/en/stable/02_return_values.html#user-account-dicts\n"
   ]
  },
  {
   "cell_type": "code",
   "execution_count": 2,
   "metadata": {},
   "outputs": [
    {
     "data": {
      "text/plain": [
       "\"\\nMastodon.create_app(\\n    'acmbrito_app',\\n    api_base_url = api_base_url,\\n    to_file = 'acmbrito_app_python_secret'\\n)\\n\""
      ]
     },
     "execution_count": 2,
     "metadata": {},
     "output_type": "execute_result"
    }
   ],
   "source": [
    "from mastodon import Mastodon\n",
    "\n",
    "\n",
    "api_base_url = \"https://mastodon.social\"\n",
    "\n",
    "'''\n",
    "Mastodon.create_app(\n",
    "    'acmbrito_app',\n",
    "    api_base_url = api_base_url,\n",
    "    to_file = 'acmbrito_app_python_secret'\n",
    ")\n",
    "'''\n"
   ]
  },
  {
   "attachments": {},
   "cell_type": "markdown",
   "metadata": {},
   "source": [
    "tutorial: https://gist.github.com/aparrish/661fca5ce7b4882a8c6823db12d42d26"
   ]
  },
  {
   "cell_type": "code",
   "execution_count": 3,
   "metadata": {},
   "outputs": [],
   "source": [
    "# mastodon_app = open(\"acmbrito_app_python_secret\").readlines()\n",
    "# client_id = mastodon_app[0]\n",
    "# client_secret = mastodon_app[1]\n",
    "api = Mastodon(\n",
    "    client_id='PIoEZNgM2eAyUYCkXl5lNbKt5fM7zrub2GQ7XJfJawU', \n",
    "    client_secret='0BniBMKdgVt0N-HThFI55NWOsKbJwdgJ0CrivXQ-r3A', \n",
    "    access_token='V6DDBMCvpe-WfyqVI98fUVulBhaTOFGJEbb51QfJcH8',\n",
    "    api_base_url=api_base_url\n",
    ")\n"
   ]
  },
  {
   "cell_type": "code",
   "execution_count": 4,
   "metadata": {},
   "outputs": [],
   "source": [
    "user_server = \"scholar.social\"\n",
    "user_name = \"Alex_Golub\"\n",
    "\n",
    "user_profile = api.account_lookup(\"{}@{}\".format(user_name, user_server))\n",
    "for field in user_profile[\"fields\"]:\n",
    "    if field[\"name\"] == \"Twitter\":\n",
    "        value = field[\"value\"]\n",
    "\n",
    "\n",
    "def get_userid(user_server, user_name):\n",
    "    try:\n",
    "        user_profile = api.account_lookup(\"{}@{}\".format(user_name, user_server))\n",
    "        return user_profile[\"id\"]\n",
    "    except Exception as error:\n",
    "        print(error)\n",
    "        return None\n",
    "\n",
    "\n",
    "def get_userprofile(user_server, user_name):\n",
    "    user_profile = api.account_lookup(\"{}@{}\".format(user_name, user_server))\n",
    "\n",
    "    tt_user = \"\"\n",
    "    for field in user_profile[\"fields\"]:\n",
    "        if field[\"name\"] == \"Twitter\":\n",
    "            tt_user = field[\"value\"]\n",
    "\n",
    "    bio = user_profile[\"note\"]\n",
    "    display_name = user_profile[\"display_name\"]\n",
    "    followers = user_profile[\"followers_count\"]\n",
    "    following = user_profile[\"following_count\"]\n",
    "\n",
    "    return (\n",
    "        user_name,\n",
    "        user_server,\n",
    "        display_name,\n",
    "        tt_user,\n",
    "        followers,\n",
    "        following,\n",
    "        bio.replace(\"\\t\", \" \"),\n",
    "    )\n"
   ]
  },
  {
   "cell_type": "code",
   "execution_count": 67,
   "metadata": {},
   "outputs": [],
   "source": [
    "user_name = \"oseymour\"\n",
    "user_server = \"sigmoid.social\"\n",
    "\n",
    "\n",
    "def get_userfollowers(user_id):\n",
    "    followers = api.account_followers(user_id)\n",
    "    followers_id = []\n",
    "    count = 0\n",
    "    while followers:\n",
    "        count += 1\n",
    "        if count > 2:\n",
    "            break\n",
    "        for f in followers:\n",
    "            followers_id.append(f['id'])\n",
    "        followers = api.fetch_next(followers)\n",
    "\n",
    "    return followers_id"
   ]
  },
  {
   "cell_type": "code",
   "execution_count": 16,
   "metadata": {},
   "outputs": [
    {
     "name": "stderr",
     "output_type": "stream",
     "text": [
      "Skipping line 16: expected 5 fields, saw 6\n",
      "Skipping line 126: expected 5 fields, saw 6\n",
      "\n",
      "Skipping line 971: expected 2 fields, saw 3\n",
      "Skipping line 1003: expected 2 fields, saw 3\n",
      "Skipping line 1009: expected 2 fields, saw 3\n",
      "Skipping line 1023: expected 2 fields, saw 3\n",
      "Skipping line 1031: expected 2 fields, saw 3\n",
      "Skipping line 1037: expected 2 fields, saw 3\n",
      "Skipping line 1041: expected 2 fields, saw 3\n",
      "Skipping line 1047: expected 2 fields, saw 3\n",
      "Skipping line 1051: expected 2 fields, saw 3\n",
      "Skipping line 1067: expected 2 fields, saw 3\n",
      "Skipping line 1075: expected 2 fields, saw 3\n",
      "Skipping line 1077: expected 2 fields, saw 3\n",
      "Skipping line 1083: expected 2 fields, saw 3\n",
      "Skipping line 1095: expected 2 fields, saw 3\n",
      "Skipping line 1097: expected 2 fields, saw 3\n",
      "Skipping line 1101: expected 2 fields, saw 3\n",
      "Skipping line 1103: expected 2 fields, saw 3\n",
      "Skipping line 1105: expected 2 fields, saw 3\n",
      "Skipping line 1107: expected 2 fields, saw 3\n",
      "Skipping line 1121: expected 2 fields, saw 3\n",
      "Skipping line 1125: expected 2 fields, saw 3\n",
      "Skipping line 1129: expected 2 fields, saw 3\n",
      "\n",
      "Skipping line 95: expected 5 fields, saw 6\n",
      "\n",
      "Skipping line 35: expected 5 fields, saw 6\n",
      "\n"
     ]
    }
   ],
   "source": [
    "handle = [\"mastodon\", \"account\"]\n",
    "\n",
    "files = glob.glob(\"csv/*.csv\")\n",
    "mastodon_users = dict()\n",
    "for file in files:\n",
    "    df = pd.read_csv(file, on_bad_lines=\"warn\")\n",
    "    for col in df.columns:\n",
    "        if handle[0] in col.lower() or handle[1] in col.lower():\n",
    "            scholars = df[col].values\n",
    "            str_format = \"csv\\scholars_{}.csv\"\n",
    "            parsed = parse.parse(str_format, file)\n",
    "            mastodon_users[parsed[0]] = scholars\n"
   ]
  },
  {
   "cell_type": "code",
   "execution_count": 10,
   "metadata": {},
   "outputs": [
    {
     "name": "stdout",
     "output_type": "stream",
     "text": [
      "('Mastodon API returned error', 404, 'Not Found', 'Record not found')\n",
      "('Mastodon API returned error', 404, 'Not Found', 'Record not found')\n",
      "('Mastodon API returned error', 404, 'Not Found', 'Record not found')\n",
      "('Mastodon API returned error', 404, 'Not Found', 'Record not found')\n",
      "('Mastodon API returned error', 404, 'Not Found', 'Record not found')\n",
      "('Mastodon API returned error', 404, 'Not Found', 'Record not found')\n",
      "('Mastodon API returned error', 404, 'Not Found', 'Record not found')\n",
      "('Mastodon API returned error', 404, 'Not Found', 'Record not found')\n",
      "('Mastodon API returned error', 404, 'Not Found', 'Record not found')\n",
      "('Mastodon API returned error', 404, 'Not Found', 'Record not found')\n",
      "('Mastodon API returned error', 404, 'Not Found', 'Record not found')\n",
      "('Mastodon API returned error', 404, 'Not Found', 'Record not found')\n",
      "('Mastodon API returned error', 404, 'Not Found', 'Record not found')\n",
      "('Mastodon API returned error', 404, 'Not Found', 'Record not found')\n",
      "('Mastodon API returned error', 404, 'Not Found', 'Record not found')\n",
      "('Mastodon API returned error', 404, 'Not Found', 'Record not found')\n",
      "('Mastodon API returned error', 404, 'Not Found', 'Record not found')\n",
      "('Mastodon API returned error', 404, 'Not Found', 'Record not found')\n",
      "('Mastodon API returned error', 404, 'Not Found', 'Record not found')\n",
      "('Mastodon API returned error', 404, 'Not Found', 'Record not found')\n",
      "('Mastodon API returned error', 404, 'Not Found', 'Record not found')\n",
      "('Mastodon API returned error', 404, 'Not Found', 'Record not found')\n",
      "('Mastodon API returned error', 404, 'Not Found', 'Record not found')\n",
      "('Mastodon API returned error', 404, 'Not Found', 'Record not found')\n",
      "('Mastodon API returned error', 404, 'Not Found', 'Record not found')\n",
      "('Mastodon API returned error', 404, 'Not Found', 'Record not found')\n",
      "('Mastodon API returned error', 404, 'Not Found', 'Record not found')\n",
      "('Mastodon API returned error', 404, 'Not Found', 'Record not found')\n",
      "('Mastodon API returned error', 404, 'Not Found', 'Record not found')\n",
      "('Mastodon API returned error', 404, 'Not Found', 'Record not found')\n",
      "('Mastodon API returned error', 404, 'Not Found', 'Record not found')\n",
      "('Mastodon API returned error', 404, 'Not Found', 'Record not found')\n",
      "('Mastodon API returned error', 404, 'Not Found', 'Record not found')\n",
      "('Mastodon API returned error', 404, 'Not Found', 'Record not found')\n",
      "('Mastodon API returned error', 404, 'Not Found', 'Record not found')\n",
      "('Mastodon API returned error', 404, 'Not Found', 'Record not found')\n",
      "('Mastodon API returned error', 404, 'Not Found', 'Record not found')\n",
      "('Mastodon API returned error', 404, 'Not Found', 'Record not found')\n",
      "('Mastodon API returned error', 404, 'Not Found', 'Record not found')\n",
      "('Mastodon API returned error', 404, 'Not Found', 'Record not found')\n",
      "('Mastodon API returned error', 404, 'Not Found', 'Record not found')\n",
      "('Mastodon API returned error', 404, 'Not Found', 'Record not found')\n",
      "('Mastodon API returned error', 404, 'Not Found', 'Record not found')\n",
      "('Mastodon API returned error', 404, 'Not Found', 'Record not found')\n",
      "('Mastodon API returned error', 404, 'Not Found', 'Record not found')\n",
      "('Mastodon API returned error', 404, 'Not Found', 'Record not found')\n",
      "('Mastodon API returned error', 404, 'Not Found', 'Record not found')\n",
      "('Mastodon API returned error', 404, 'Not Found', 'Record not found')\n",
      "('Mastodon API returned error', 404, 'Not Found', 'Record not found')\n",
      "('Mastodon API returned error', 404, 'Not Found', 'Record not found')\n",
      "('Mastodon API returned error', 404, 'Not Found', 'Record not found')\n",
      "('Mastodon API returned error', 404, 'Not Found', 'Record not found')\n",
      "('Mastodon API returned error', 404, 'Not Found', 'Record not found')\n",
      "('Mastodon API returned error', 404, 'Not Found', 'Record not found')\n",
      "('Mastodon API returned error', 404, 'Not Found', 'Record not found')\n",
      "('Mastodon API returned error', 404, 'Not Found', 'Record not found')\n",
      "('Mastodon API returned error', 404, 'Not Found', 'Record not found')\n",
      "('Mastodon API returned error', 404, 'Not Found', 'Record not found')\n",
      "('Mastodon API returned error', 404, 'Not Found', 'Record not found')\n",
      "('Mastodon API returned error', 404, 'Not Found', 'Record not found')\n",
      "('Mastodon API returned error', 404, 'Not Found', 'Record not found')\n",
      "('Mastodon API returned error', 404, 'Not Found', 'Record not found')\n",
      "('Mastodon API returned error', 404, 'Not Found', 'Record not found')\n",
      "('Mastodon API returned error', 404, 'Not Found', 'Record not found')\n",
      "('Mastodon API returned error', 404, 'Not Found', 'Record not found')\n",
      "('Mastodon API returned error', 404, 'Not Found', 'Record not found')\n",
      "('Mastodon API returned error', 404, 'Not Found', 'Record not found')\n",
      "('Mastodon API returned error', 404, 'Not Found', 'Record not found')\n",
      "('Mastodon API returned error', 404, 'Not Found', 'Record not found')\n",
      "('Mastodon API returned error', 404, 'Not Found', 'Record not found')\n",
      "('Mastodon API returned error', 404, 'Not Found', 'Record not found')\n",
      "('Mastodon API returned error', 404, 'Not Found', 'Record not found')\n",
      "('Mastodon API returned error', 404, 'Not Found', 'Record not found')\n",
      "('Mastodon API returned error', 404, 'Not Found', 'Record not found')\n",
      "('Mastodon API returned error', 404, 'Not Found', 'Record not found')\n",
      "('Mastodon API returned error', 404, 'Not Found', 'Record not found')\n",
      "('Mastodon API returned error', 404, 'Not Found', 'Record not found')\n",
      "('Mastodon API returned error', 404, 'Not Found', 'Record not found')\n",
      "('Mastodon API returned error', 404, 'Not Found', 'Record not found')\n",
      "('Mastodon API returned error', 404, 'Not Found', 'Record not found')\n",
      "('Mastodon API returned error', 404, 'Not Found', 'Record not found')\n",
      "('Mastodon API returned error', 404, 'Not Found', 'Record not found')\n",
      "('Mastodon API returned error', 404, 'Not Found', 'Record not found')\n",
      "('Mastodon API returned error', 404, 'Not Found', 'Record not found')\n",
      "('Mastodon API returned error', 404, 'Not Found', 'Record not found')\n"
     ]
    }
   ],
   "source": [
    "output = []\n",
    "for field, scholars in mastodon_users.items():\n",
    "    for handle in scholars:\n",
    "        str_format = \"{}@{}\"\n",
    "        if handle.startswith(\"@\"):\n",
    "            handle = handle[1:]\n",
    "        parsed = parse.parse(str_format, handle)\n",
    "        if parsed:\n",
    "            user_name = parsed[0]\n",
    "            user_server = parsed[1]\n",
    "\n",
    "            user_id = get_userid(user_server, user_name)\n",
    "            if user_id:\n",
    "                followers = get_userfollowers(user_id)\n",
    "\n",
    "                output.append((user_name, user_server, followers, field))\n",
    "\n",
    "\n",
    "outfile = open(\"users_followers.csv\", \"w\")\n",
    "for line in output:\n",
    "    outfile.write(\"{}\\t{}\\t{}\\t{}\\n\".format(*line))\n",
    "outfile.close()\n"
   ]
  },
  {
   "cell_type": "code",
   "execution_count": 68,
   "metadata": {},
   "outputs": [],
   "source": [
    "seeds = ['@Nature@mstdn.social', '@PNASNews@fediscience.org', '@sciencemagazine@sciencemastodon.com']\n",
    "seed_ids = []\n",
    "for seed in seeds:\n",
    "    parsed = parse.parse('@{}@{}', seed)\n",
    "    user_id = get_userid(parsed[1], parsed[0])\n",
    "    seed_ids.append(user_id)\n",
    "\n",
    "\n",
    "def get_users(user_id, deep):\n",
    "    if deep == 0:\n",
    "        return set()\n",
    "    else:\n",
    "        followers = set(get_userfollowers(user_id))\n",
    "        new_followers = set()\n",
    "        for follower in followers:\n",
    "            new_followers |= get_users(follower, deep - 1)\n",
    "        return followers | new_followers\n",
    "    \n",
    "test = get_users(seed_ids[0], 2)"
   ]
  },
  {
   "cell_type": "code",
   "execution_count": 64,
   "metadata": {},
   "outputs": [
    {
     "data": {
      "text/plain": [
       "221"
      ]
     },
     "execution_count": 64,
     "metadata": {},
     "output_type": "execute_result"
    }
   ],
   "source": [
    "len(test)"
   ]
  },
  {
   "cell_type": "code",
   "execution_count": null,
   "metadata": {},
   "outputs": [],
   "source": []
  }
 ],
 "metadata": {
  "kernelspec": {
   "display_name": ".venv",
   "language": "python",
   "name": "python3"
  },
  "language_info": {
   "codemirror_mode": {
    "name": "ipython",
    "version": 3
   },
   "file_extension": ".py",
   "mimetype": "text/x-python",
   "name": "python",
   "nbconvert_exporter": "python",
   "pygments_lexer": "ipython3",
   "version": "3.11.3"
  },
  "orig_nbformat": 4
 },
 "nbformat": 4,
 "nbformat_minor": 2
}
