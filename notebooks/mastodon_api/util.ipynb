{
 "cells": [
  {
   "cell_type": "code",
   "execution_count": 14,
   "metadata": {},
   "outputs": [],
   "source": [
    "import glob\n",
    "import json\n",
    "import pandas as pd"
   ]
  },
  {
   "cell_type": "code",
   "execution_count": 3,
   "metadata": {},
   "outputs": [],
   "source": [
    "files = glob.glob('kuni_scholars_followers_*.json')"
   ]
  },
  {
   "cell_type": "markdown",
   "metadata": {},
   "source": [
    "## formating the data | list of followers of scholars"
   ]
  },
  {
   "cell_type": "code",
   "execution_count": 38,
   "metadata": {},
   "outputs": [],
   "source": [
    "table = []\n",
    "merged_users = json.loads(open(files[1]).read())\n",
    "for file in files[2:]:\n",
    "    for k,v in json.loads(open(file).read()).items():\n",
    "        if k in merged_users:\n",
    "            print(\"???????\")\n",
    "        merged_users[k] = v\n",
    "    "
   ]
  },
  {
   "cell_type": "code",
   "execution_count": 39,
   "metadata": {},
   "outputs": [
    {
     "data": {
      "text/plain": [
       "1927065599"
      ]
     },
     "execution_count": 39,
     "metadata": {},
     "output_type": "execute_result"
    }
   ],
   "source": [
    "open('kuni_scholars_followers_merged_07-09.json', 'w').write(json.dumps(merged_users))"
   ]
  },
  {
   "cell_type": "code",
   "execution_count": 57,
   "metadata": {},
   "outputs": [],
   "source": [
    "columns = ['id', 'username', 'acct', 'display_name', 'locked', 'bot', 'created_at', 'note', 'url', 'followers_count', 'following_count', 'statuses_count', 'last_status_at', 'fields']\n",
    "table_csv = []\n",
    "pairs = []\n",
    "for k,v in merged_users.items():\n",
    "    for follower in v:\n",
    "        row = []\n",
    "        for col in columns:\n",
    "            row.append(follower[col])\n",
    "        table_csv.append(row)\n",
    "        pairs.append((k, follower['url']))"
   ]
  },
  {
   "cell_type": "code",
   "execution_count": 68,
   "metadata": {},
   "outputs": [
    {
     "name": "stdout",
     "output_type": "stream",
     "text": [
      "1072266\n",
      "                   id             username  \\\n",
      "0  109512157288290342                  trj   \n",
      "1  110029405082136655  Rumpelstilzchen_666   \n",
      "2  109321353559113983                 kirt   \n",
      "3  109297413592868536         roman_alther   \n",
      "4  109618885256348438           mgabrielli   \n",
      "\n",
      "                                  acct     display_name  locked    bot  \\\n",
      "0                                  trj       Tim Julian   False  False   \n",
      "1  Rumpelstilzchen_666@mastodon.social  Rumpelstilzchen   False  False   \n",
      "2                                 kirt       Micro Kirt   False  False   \n",
      "3          roman_alther@scholar.social     Rᴏᴍᴀɴ Aʟᴛʜᴇʀ   False  False   \n",
      "4                           mgabrielli  Marco Gabrielli   False  False   \n",
      "\n",
      "                 created_at  \\\n",
      "0  2022-12-14T00:00:00.000Z   \n",
      "1  2023-03-15T00:00:00.000Z   \n",
      "2  2022-11-10T00:00:00.000Z   \n",
      "3  2022-05-05T00:00:00.000Z   \n",
      "4  2023-01-02T00:00:00.000Z   \n",
      "\n",
      "                                                note  \\\n",
      "0  <p>Scientist working at Eawag.  Views my own. ...   \n",
      "1                                                      \n",
      "2  <p>🦘 Australian<br />💿 generation Y<br />🥄 Loo...   \n",
      "3  <p>Researcher at <a href=\"https://scholar.soci...   \n",
      "4  <p>Environmental Engineering (<a href=\"https:/...   \n",
      "\n",
      "                                            url  followers_count  \\\n",
      "0                    https://mstdn.science/@trj               27   \n",
      "1  https://mastodon.social/@Rumpelstilzchen_666                0   \n",
      "2                   https://mstdn.science/@kirt              259   \n",
      "3          https://scholar.social/@roman_alther               64   \n",
      "4             https://mstdn.science/@mgabrielli                9   \n",
      "\n",
      "   following_count  statuses_count last_status_at  \\\n",
      "0               18               5     2023-07-07   \n",
      "1                9               0           None   \n",
      "2             1684             175     2023-07-28   \n",
      "3              109             169     2023-09-04   \n",
      "4               42               3     2023-04-22   \n",
      "\n",
      "                                              fields  \n",
      "0                                                 []  \n",
      "1                                                 []  \n",
      "2  [{'name': 'twitter', 'value': '<a href=\"https:...  \n",
      "3  [{'name': 'Website', 'value': '<a href=\"https:...  \n",
      "4                                                 []  \n",
      "1072266\n"
     ]
    }
   ],
   "source": [
    "data = pd.DataFrame(table_csv, columns=columns)\n",
    "print(len(data))\n",
    "data = data.astype({'fields': 'str'})\n",
    "print(data.head())\n",
    "print(len(data))\n",
    "data.drop_duplicates().to_csv('kuni_scholars_followers_merged_07-09_profiles.tsv', sep='\\t')"
   ]
  },
  {
   "cell_type": "code",
   "execution_count": 69,
   "metadata": {},
   "outputs": [
    {
     "name": "stdout",
     "output_type": "stream",
     "text": [
      "738452 kuni_scholars_followers_merged_07-09_profiles.tsv\n"
     ]
    }
   ],
   "source": [
    "!wc -l kuni_scholars_followers_merged_07-09_profiles.tsv"
   ]
  },
  {
   "cell_type": "code",
   "execution_count": 72,
   "metadata": {},
   "outputs": [],
   "source": [
    "pd.DataFrame(pairs, columns=['followed', 'following']).to_csv('followed_following_pairs_07-09.tsv', sep='\\t')"
   ]
  },
  {
   "cell_type": "code",
   "execution_count": 73,
   "metadata": {},
   "outputs": [
    {
     "name": "stdout",
     "output_type": "stream",
     "text": [
      "1072267 followed_following_pairs_07-09.tsv\n"
     ]
    }
   ],
   "source": [
    "!wc -l followed_following_pairs_07-09.tsv"
   ]
  },
  {
   "cell_type": "code",
   "execution_count": 74,
   "metadata": {},
   "outputs": [
    {
     "data": {
      "text/plain": [
       "4289"
      ]
     },
     "execution_count": 74,
     "metadata": {},
     "output_type": "execute_result"
    }
   ],
   "source": [
    "len(merged_users)"
   ]
  },
  {
   "cell_type": "code",
   "execution_count": null,
   "metadata": {},
   "outputs": [],
   "source": []
  }
 ],
 "metadata": {
  "kernelspec": {
   "display_name": "Python 3 (ipykernel)",
   "language": "python",
   "name": "python3"
  },
  "language_info": {
   "codemirror_mode": {
    "name": "ipython",
    "version": 3
   },
   "file_extension": ".py",
   "mimetype": "text/x-python",
   "name": "python",
   "nbconvert_exporter": "python",
   "pygments_lexer": "ipython3",
   "version": "3.8.3"
  }
 },
 "nbformat": 4,
 "nbformat_minor": 4
}
