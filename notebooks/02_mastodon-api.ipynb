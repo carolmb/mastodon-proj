{
 "cells": [
  {
   "cell_type": "code",
   "execution_count": 1,
   "metadata": {},
   "outputs": [
    {
     "name": "stdout",
     "output_type": "stream",
     "text": [
      "Requirement already satisfied: Mastodon.py in d:\\documentos\\yy-projects\\mastodon-proj\\.venv\\lib\\site-packages (1.8.1)\n",
      "Requirement already satisfied: requests>=2.4.2 in d:\\documentos\\yy-projects\\mastodon-proj\\.venv\\lib\\site-packages (from Mastodon.py) (2.28.2)\n",
      "Requirement already satisfied: python-dateutil in d:\\documentos\\yy-projects\\mastodon-proj\\.venv\\lib\\site-packages (from Mastodon.py) (2.8.2)\n",
      "Requirement already satisfied: six in d:\\documentos\\yy-projects\\mastodon-proj\\.venv\\lib\\site-packages (from Mastodon.py) (1.16.0)\n",
      "Requirement already satisfied: decorator>=4.0.0 in d:\\documentos\\yy-projects\\mastodon-proj\\.venv\\lib\\site-packages (from Mastodon.py) (5.1.1)\n",
      "Requirement already satisfied: blurhash>=1.1.4 in d:\\documentos\\yy-projects\\mastodon-proj\\.venv\\lib\\site-packages (from Mastodon.py) (1.1.4)\n",
      "Requirement already satisfied: python-magic-bin in d:\\documentos\\yy-projects\\mastodon-proj\\.venv\\lib\\site-packages (from Mastodon.py) (0.4.14)\n",
      "Requirement already satisfied: charset-normalizer<4,>=2 in d:\\documentos\\yy-projects\\mastodon-proj\\.venv\\lib\\site-packages (from requests>=2.4.2->Mastodon.py) (3.1.0)\n",
      "Requirement already satisfied: idna<4,>=2.5 in d:\\documentos\\yy-projects\\mastodon-proj\\.venv\\lib\\site-packages (from requests>=2.4.2->Mastodon.py) (3.4)\n",
      "Requirement already satisfied: urllib3<1.27,>=1.21.1 in d:\\documentos\\yy-projects\\mastodon-proj\\.venv\\lib\\site-packages (from requests>=2.4.2->Mastodon.py) (1.26.15)\n",
      "Requirement already satisfied: certifi>=2017.4.17 in d:\\documentos\\yy-projects\\mastodon-proj\\.venv\\lib\\site-packages (from requests>=2.4.2->Mastodon.py) (2022.12.7)\n",
      "Note: you may need to restart the kernel to use updated packages.\n"
     ]
    }
   ],
   "source": [
    "%pip install Mastodon.py --upgrade"
   ]
  },
  {
   "cell_type": "markdown",
   "metadata": {},
   "source": [
    "## mastodon api access\n",
    "\n",
    "- Create an app to access mastodon data \n",
    "- Collect followers given a user\n",
    "- Collect profile information (if available, Twitter user) given a user\n"
   ]
  },
  {
   "cell_type": "code",
   "execution_count": 1,
   "metadata": {},
   "outputs": [],
   "source": [
    "import os\n",
    "import glob\n",
    "import parse\n",
    "import numpy as np\n",
    "import pandas as pd\n",
    "import datetime\n",
    "\n",
    "today = datetime.date.today()"
   ]
  },
  {
   "cell_type": "markdown",
   "metadata": {},
   "source": [
    "https://github.com/mastodon/mastodon/\n",
    "\n",
    "https://mastodonpy.readthedocs.io/en/stable/02_return_values.html#user-account-dicts\n"
   ]
  },
  {
   "cell_type": "code",
   "execution_count": 2,
   "metadata": {},
   "outputs": [],
   "source": [
    "from mastodon import Mastodon\n",
    "\n",
    "mastodon_app = \"acmbrito_app_python_secret\"\n",
    "client_id, client_secret, access_token, api_base_url = open(mastodon_app).read().split()\n",
    "api1 = Mastodon(\n",
    "    client_id=client_id,\n",
    "    client_secret=client_secret,\n",
    "    access_token=access_token,\n",
    "    api_base_url=api_base_url\n",
    ")"
   ]
  },
  {
   "cell_type": "markdown",
   "metadata": {},
   "source": [
    "tutorial: https://gist.github.com/aparrish/661fca5ce7b4882a8c6823db12d42d26"
   ]
  },
  {
   "cell_type": "code",
   "execution_count": 5,
   "metadata": {},
   "outputs": [],
   "source": [
    "def get_userid(user_name, user_server):\n",
    "    try:\n",
    "        user_profile = api1.account_lookup(\"{}@{}\".format(user_name, user_server))\n",
    "        return user_profile[\"id\"]\n",
    "    except Exception as error:\n",
    "        print(error)\n",
    "        return None\n",
    "\n",
    "\n",
    "def get_userprofile(user_name, user_server):\n",
    "    user_profile = api1.account_lookup(\"{}@{}\".format(user_name, user_server))\n",
    "\n",
    "    tt_user = \"\"\n",
    "    for field in user_profile[\"fields\"]:\n",
    "        if field[\"name\"] == \"Twitter\":\n",
    "            tt_user = field[\"value\"]\n",
    "\n",
    "    bio = user_profile[\"note\"]\n",
    "    created = user_profile[\"created_at\"]\n",
    "    display_name = user_profile[\"display_name\"]\n",
    "    followers = user_profile[\"followers_count\"]\n",
    "    following = user_profile[\"following_count\"]\n",
    "\n",
    "    return (\n",
    "        user_name,\n",
    "        user_server,\n",
    "        display_name,\n",
    "        tt_user,\n",
    "        followers,\n",
    "        following,\n",
    "        created,\n",
    "        bio.replace(\"\\t\", \" \"),\n",
    "    )\n"
   ]
  },
  {
   "cell_type": "code",
   "execution_count": 6,
   "metadata": {},
   "outputs": [],
   "source": [
    "def get_userfollowers(user_id):\n",
    "    followers = api1.account_followers(user_id)\n",
    "    followers_id = []\n",
    "    count = 0\n",
    "    while followers:\n",
    "        count += 1\n",
    "        if count > 5:\n",
    "            break\n",
    "        for f in followers:\n",
    "            followers_id.append(f['id'])\n",
    "        followers = api1.fetch_next(followers)\n",
    "\n",
    "    return followers_id\n"
   ]
  },
  {
   "cell_type": "code",
   "execution_count": 7,
   "metadata": {},
   "outputs": [
    {
     "name": "stdout",
     "output_type": "stream",
     "text": [
      "csv\\others\\Astrophysicists.csv\n",
      "csv\\others\\Biophysicists.csv\n",
      "csv\\others\\Cheminformaticians and Computational Chemists.csv\n",
      "csv\\others\\Communication, Media Studies, and Adjacent Fields.csv\n",
      "csv\\others\\Geographers.csv\n",
      "csv\\others\\GLAMS.csv\n",
      "csv\\others\\Health Psychologists.csv\n",
      "csv\\others\\International Image Interoperability Framework.csv\n",
      "csv\\others\\Palaeogenomicists.csv\n",
      "csv\\others\\Planetary Science.csv\n",
      "csv\\others\\Social Workers on Mastodon.csv\n",
      "csv\\others\\Tech Policy.csv\n"
     ]
    },
    {
     "name": "stderr",
     "output_type": "stream",
     "text": [
      "Skipping line 487: expected 2 fields, saw 3\n",
      "Skipping line 503: expected 2 fields, saw 3\n",
      "Skipping line 506: expected 2 fields, saw 3\n",
      "Skipping line 511: expected 2 fields, saw 3\n",
      "Skipping line 515: expected 2 fields, saw 3\n",
      "Skipping line 518: expected 2 fields, saw 3\n",
      "Skipping line 520: expected 2 fields, saw 3\n",
      "Skipping line 523: expected 2 fields, saw 3\n",
      "Skipping line 525: expected 2 fields, saw 3\n",
      "Skipping line 533: expected 2 fields, saw 3\n",
      "Skipping line 537: expected 2 fields, saw 3\n",
      "Skipping line 538: expected 2 fields, saw 3\n",
      "Skipping line 541: expected 2 fields, saw 3\n",
      "Skipping line 547: expected 2 fields, saw 3\n",
      "Skipping line 548: expected 2 fields, saw 3\n",
      "Skipping line 550: expected 2 fields, saw 3\n",
      "Skipping line 551: expected 2 fields, saw 3\n",
      "Skipping line 552: expected 2 fields, saw 3\n",
      "Skipping line 553: expected 2 fields, saw 3\n",
      "Skipping line 560: expected 2 fields, saw 3\n",
      "Skipping line 562: expected 2 fields, saw 3\n",
      "Skipping line 564: expected 2 fields, saw 3\n",
      "\n"
     ]
    }
   ],
   "source": [
    "\n",
    "handle = [\"mastodon\", \"account\"]\n",
    "\n",
    "def get_scholars_handles(files, str_format):\n",
    "    mastodon_users = dict()\n",
    "    for file in files:\n",
    "        print(file)\n",
    "        df = pd.read_csv(file, on_bad_lines=\"warn\")\n",
    "        for col in df.columns:\n",
    "            if handle[0] in col.lower() or handle[1] in col.lower():\n",
    "                scholars = df[col].values\n",
    "                parsed = parse.parse(str_format, file)\n",
    "                mastodon_users[parsed[0]] = scholars\n",
    "                break\n",
    "\n",
    "    return mastodon_users\n",
    "\n",
    "# files = glob.glob(\"csv\\\\*.csv\")\n",
    "# mastodon_users = get_scholars_handles(files, \"csv\\scholars_{}.csv\")\n",
    "\n",
    "files = glob.glob('csv\\\\others\\\\*.csv')\n",
    "mastodon_users = get_scholars_handles(files, \"csv\\others\\{}.csv\")"
   ]
  },
  {
   "cell_type": "code",
   "execution_count": 15,
   "metadata": {},
   "outputs": [
    {
     "name": "stdout",
     "output_type": "stream",
     "text": [
      "Astrophysicists\n",
      "Biophysicists\n",
      "Cheminformaticians and Computational Chemists\n",
      "Communication, Media Studies, and Adjacent Fields\n",
      "Geographers\n",
      "GLAMS\n",
      "Health Psychologists\n",
      "International Image Interoperability Framework\n",
      "Palaeogenomicists\n",
      "Planetary Science\n",
      "Social Workers on Mastodon\n",
      "Tech Policy\n"
     ]
    }
   ],
   "source": [
    "for field, scholars in mastodon_users.items():\n",
    "    print(field)"
   ]
  },
  {
   "cell_type": "markdown",
   "metadata": {},
   "source": [
    "Other approach to select users on mastodon using seeds and DFS"
   ]
  }
 ],
 "metadata": {
  "kernelspec": {
   "display_name": "Python 3 (ipykernel)",
   "language": "python",
   "name": "python3"
  },
  "language_info": {
   "codemirror_mode": {
    "name": "ipython",
    "version": 3
   },
   "file_extension": ".py",
   "mimetype": "text/x-python",
   "name": "python",
   "nbconvert_exporter": "python",
   "pygments_lexer": "ipython3",
   "version": "3.8.10"
  }
 },
 "nbformat": 4,
 "nbformat_minor": 4
}
