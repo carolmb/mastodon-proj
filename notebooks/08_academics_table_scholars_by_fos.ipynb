{
 "cells": [
  {
   "cell_type": "code",
   "execution_count": 2,
   "metadata": {},
   "outputs": [],
   "source": [
    "# TODO table about the users collected and their labels (instances)\n",
    "\n",
    "import glob\n",
    "import pandas as pd"
   ]
  },
  {
   "cell_type": "code",
   "execution_count": 19,
   "metadata": {},
   "outputs": [
    {
     "name": "stdout",
     "output_type": "stream",
     "text": [
      "Collecting Jinja2\n",
      "  Downloading Jinja2-3.1.2-py3-none-any.whl (133 kB)\n",
      "                                              0.0/133.1 kB ? eta -:--:--\n",
      "     -------------------------------------- 133.1/133.1 kB 3.8 MB/s eta 0:00:00\n",
      "Collecting MarkupSafe>=2.0 (from Jinja2)\n",
      "  Downloading MarkupSafe-2.1.2-cp311-cp311-win_amd64.whl (16 kB)\n",
      "Installing collected packages: MarkupSafe, Jinja2\n",
      "Successfully installed Jinja2-3.1.2 MarkupSafe-2.1.2\n"
     ]
    }
   ],
   "source": [
    "!pip install Jinja2"
   ]
  },
  {
   "cell_type": "code",
   "execution_count": 5,
   "metadata": {},
   "outputs": [
    {
     "name": "stdout",
     "output_type": "stream",
     "text": [
      "../data\\users_followers_African Studies_2023-05-02.csv\n",
      "../data\\users_followers_Anthropology_2023-05-02.csv\n",
      "../data\\users_followers_Archaeology_2023-05-02.csv\n",
      "../data\\users_followers_Art and Design Teachers_2023-05-02.csv\n",
      "../data\\users_followers_Asian Studies_2023-05-02.csv\n",
      "../data\\users_followers_Astrophysicists_2023-05-02.csv\n",
      "../data\\users_followers_Atmospheric science and air quality_2023-05-02.csv\n",
      "../data\\users_followers_Biblical Studies_2023-05-02.csv\n",
      "../data\\users_followers_Bioinformatics_2023-05-02.csv\n",
      "../data\\users_followers_Biophysicists_2023-05-02.csv\n",
      "../data\\users_followers_Book History (BookHistodons)_2023-05-02.csv\n",
      "../data\\users_followers_Cheminformaticians and Computational Chemists_2023-05-02.csv\n",
      "../data\\users_followers_Chemistry_2023-05-02.csv\n",
      "../data\\users_followers_Criminology_2023-05-02.csv\n",
      "../data\\users_followers_Crowdsourcing in Cultural Heritage Citizen Science_2023-05-02.csv\n",
      "../data\\users_followers_Dendrochronology_2023-05-02.csv\n",
      "../data\\users_followers_Digital Humanities_2023-05-02.csv\n",
      "../data\\users_followers_Education_2023-05-02.csv\n",
      "../data\\users_followers_Gender Studies_2023-05-02.csv\n",
      "../data\\users_followers_Genealogy_2023-05-02.csv\n",
      "../data\\users_followers_Geographers_2023-05-02.csv\n",
      "../data\\users_followers_GLAMS_2023-05-02.csv\n",
      "../data\\users_followers_Health Psychologists_2023-05-02.csv\n",
      "../data\\users_followers_Historians of Science, Medicine, and Technology_2023-05-02.csv\n",
      "../data\\users_followers_History and Philosophy of Science_2023-05-02.csv\n",
      "../data\\users_followers_History_2023-05-02.csv\n",
      "../data\\users_followers_Information Security_2023-05-02.csv\n",
      "../data\\users_followers_International Image Interoperability Framework_2023-05-02.csv\n",
      "../data\\users_followers_Islamic Studies Middle Eastern Studies Islamicate Studies Oriental Studies_2023-05-02.csv\n",
      "../data\\users_followers_Journalism_2023-05-02.csv\n",
      "../data\\users_followers_Law_2023-05-02.csv\n",
      "../data\\users_followers_Literary Studies_2023-05-02.csv\n",
      "../data\\users_followers_Marketing and Consumer Research_2023-05-02.csv\n",
      "../data\\users_followers_Medical AI_2023-05-02.csv\n",
      "../data\\users_followers_Medieval History (Medievodons)_2023-05-02.csv\n",
      "../data\\users_followers_Meteorology & Weather_2023-05-02.csv\n",
      "../data\\users_followers_Neuroscience_2023-05-02.csv\n",
      "../data\\users_followers_Nuclear Fusion_2023-05-02.csv\n",
      "../data\\users_followers_Open Science_2023-05-02.csv\n",
      "../data\\users_followers_Operations research_2023-05-02.csv\n",
      "../data\\users_followers_Organization & Management_2023-05-02.csv\n",
      "../data\\users_followers_Palaeogenomicists_2023-05-02.csv\n",
      "../data\\users_followers_Philosophers and Philosophy Teachers_2023-05-02.csv\n",
      "../data\\users_followers_Planetary Science_2023-05-02.csv\n",
      "../data\\users_followers_Plant Science & Botany_2023-05-02.csv\n",
      "../data\\users_followers_Political Scientists_2023-05-02.csv\n",
      "../data\\users_followers_Psychology_2023-05-02.csv\n",
      "../data\\users_followers_Public Policy_2023-05-02.csv\n",
      "../data\\users_followers_Qualitative Researchers_2023-05-02.csv\n",
      "../data\\users_followers_Religion_2023-05-02.csv\n",
      "../data\\users_followers_Science and Technology Studies (STS)_2023-05-02.csv\n",
      "../data\\users_followers_Semantic Web+_2023-05-02.csv\n",
      "../data\\users_followers_Social Workers on Mastodon_2023-05-02.csv\n",
      "../data\\users_followers_Sociology_2023-05-02.csv\n",
      "../data\\users_followers_Tech Policy_2023-05-02.csv\n",
      "../data\\users_followers_Theologidons_2023-05-02.csv\n"
     ]
    }
   ],
   "source": [
    "user_followers = glob.glob('../data/users_followers_*2023-05-02.csv')\n",
    "full_data = []\n",
    "for file in user_followers:\n",
    "    print(file)\n",
    "    data = pd.read_csv(file, sep='\\t', header=None, encoding=\"utf8\", encoding_errors='ignore', on_bad_lines='skip')\n",
    "    data.columns = ['user', 'instance', 'followers', 'field']\n",
    "    full_data.append(data)\n"
   ]
  },
  {
   "cell_type": "code",
   "execution_count": 6,
   "metadata": {},
   "outputs": [],
   "source": [
    "full_data = pd.concat(full_data)"
   ]
  },
  {
   "cell_type": "code",
   "execution_count": 6,
   "metadata": {},
   "outputs": [],
   "source": [
    "str_table = full_data.groupby('field')['field'].count().to_latex()\n",
    "output = open('str_table_fields', 'w')\n",
    "output.write(str_table)\n",
    "output.close()"
   ]
  },
  {
   "cell_type": "code",
   "execution_count": 7,
   "metadata": {},
   "outputs": [
    {
     "data": {
      "text/plain": [
       "12113"
      ]
     },
     "execution_count": 7,
     "metadata": {},
     "output_type": "execute_result"
    }
   ],
   "source": [
    "len(full_data)"
   ]
  },
  {
   "cell_type": "code",
   "execution_count": null,
   "metadata": {},
   "outputs": [],
   "source": []
  }
 ],
 "metadata": {
  "kernelspec": {
   "display_name": "Python 3 (ipykernel)",
   "language": "python",
   "name": "python3"
  },
  "language_info": {
   "codemirror_mode": {
    "name": "ipython",
    "version": 3
   },
   "file_extension": ".py",
   "mimetype": "text/x-python",
   "name": "python",
   "nbconvert_exporter": "python",
   "pygments_lexer": "ipython3",
   "version": "3.8.10"
  }
 },
 "nbformat": 4,
 "nbformat_minor": 4
}
